{
 "cells": [
  {
   "cell_type": "markdown",
   "id": "745ae52b",
   "metadata": {},
   "source": [
    "# Fake News Detector"
   ]
  },
  {
   "cell_type": "markdown",
   "id": "1d7e5bef",
   "metadata": {},
   "source": [
    "### 1. Introduction & Goal\n",
    "\n",
    "A lot of people get misguided by \"fake news\" online and it poses a significant challenge to active engagement online. This project aims to develop a machine learning model capable of classifying news articles as either **Real** or **Fake** based on their content.\n",
    "\n",
    "We will use Natural Language Processing (NLP) techniques to analyze the text of news headlines and articles. The primary goal is to build a robust classifier that achieves high accuracy and to understand which features (headlines vs. full text) are most predictive.\n",
    "\n",
    "We will build and evaluate two primary models:\n",
    "*   **Model v1:** A baseline model using only the article **headlines**.\n",
    "*   **Model v2:** An enhanced model using both the **headlines and the full article text**.\n",
    "\n",
    "The final enhanced model (`v2`) achieved an accuracy of **99.21%** on the held-out test data. (which to be honest feels too ideal)\n",
    "\n",
    "### 2. The Dataset\n",
    "\n",
    "The data for this project is provided in two separate CSV files: `True.csv` and `Fake.csv` from [Kaggle](https://www.kaggle.com/datasets/razanaqvi14/real-and-fake-news/data).\n",
    "\n",
    "**Original Features:**\n",
    "*   `title`: The headline of the news article.\n",
    "*   `text`: The full body of the article.\n",
    "*   `subject`: Thematic category (e.g., politics, worldnews).\n",
    "*   `date`: The publication date.\n",
    "\n",
    "**Key Data Cleaning Step:**\n",
    "During Exploratory Data Analysis (EDA), we discovered a critical **data leak** in the `subject` column. The subjects for real and fake news had no overlap, meaning this feature would act as a \"cheat sheet\" for the model. To ensure the model learns from the text itself, both the `subject` and `date` columns were dropped.\n",
    "\n",
    "### 3. Project Workflow\n",
    "\n",
    "This notebook follows a structured machine learning workflow:\n",
    "\n",
    "1.  **Data Ingestion & Combination:** Loading the two datasets, adding a `label` (0 for Real, 1 for Fake), and combining them into a single, shuffled DataFrame.\n",
    "2.  **Exploratory Data Analysis (EDA):** Investigating the data for missing values, class balance, and potential data leaks.\n",
    "3.  **Text Pre-processing:** Using **SpaCy** to clean and normalize the text data by converting it to lowercase, lemmatizing words, and removing stop words and punctuation.\n",
    "4.  **Feature Engineering:** Converting the cleaned text into numerical vectors using the **TF-IDF (Term Frequency-Inverse Document Frequency)** method.\n",
    "5.  **Model Training:** Building and training `Logistic Regression` classifiers on the engineered features.\n",
    "6.  **Model Evaluation:** Assessing model performance using metrics like accuracy, precision, recall, and the confusion matrix.\n",
    "7.  **Interactive Prediction:** Creating a function to test the final model with new, unseen article text.\n",
    "\n",
    "### 4. Key Technologies Used\n",
    "\n",
    "*   **Core Libraries:** Pandas, Scikit-learn, SpaCy, Matplotlib, Seaborn\n"
   ]
  },
  {
   "cell_type": "code",
   "execution_count": 2,
   "id": "7fabe0ae",
   "metadata": {},
   "outputs": [],
   "source": [
    "import pandas as pd\n",
    "import numpy as np\n",
    "import statistics\n",
    "import time\n",
    "import spacy\n",
    "import string\n",
    "import matplotlib.pyplot as plt\n",
    "import seaborn as sns\n",
    "from tqdm import tqdm\n",
    "from scipy.sparse import hstack\n",
    "from sklearn.linear_model import LogisticRegression\n",
    "from sklearn.model_selection import train_test_split\n",
    "from sklearn.feature_extraction.text import TfidfVectorizer\n",
    "from sklearn.metrics import accuracy_score, confusion_matrix, classification_report\n",
    "\n",
    "sns.set_style(\"darkgrid\")"
   ]
  },
  {
   "cell_type": "code",
   "execution_count": 3,
   "id": "2f3e4658",
   "metadata": {},
   "outputs": [
    {
     "data": {
      "application/vnd.microsoft.datawrangler.viewer.v0+json": {
       "columns": [
        {
         "name": "index",
         "rawType": "int64",
         "type": "integer"
        },
        {
         "name": "title",
         "rawType": "object",
         "type": "string"
        },
        {
         "name": "text",
         "rawType": "object",
         "type": "string"
        },
        {
         "name": "subject",
         "rawType": "object",
         "type": "string"
        },
        {
         "name": "date",
         "rawType": "object",
         "type": "string"
        }
       ],
       "ref": "c68f3468-86d0-4121-a397-6f25e6266fb2",
       "rows": [
        [
         "0",
         "As U.S. budget fight looms, Republicans flip their fiscal script",
         "WASHINGTON (Reuters) - The head of a conservative Republican faction in the U.S. Congress, who voted this month for a huge expansion of the national debt to pay for tax cuts, called himself a “fiscal conservative” on Sunday and urged budget restraint in 2018. In keeping with a sharp pivot under way among Republicans, U.S. Representative Mark Meadows, speaking on CBS’ “Face the Nation,” drew a hard line on federal spending, which lawmakers are bracing to do battle over in January. When they return from the holidays on Wednesday, lawmakers will begin trying to pass a federal budget in a fight likely to be linked to other issues, such as immigration policy, even as the November congressional election campaigns approach in which Republicans will seek to keep control of Congress. President Donald Trump and his Republicans want a big budget increase in military spending, while Democrats also want proportional increases for non-defense “discretionary” spending on programs that support education, scientific research, infrastructure, public health and environmental protection. “The (Trump) administration has already been willing to say: ‘We’re going to increase non-defense discretionary spending ... by about 7 percent,’” Meadows, chairman of the small but influential House Freedom Caucus, said on the program. “Now, Democrats are saying that’s not enough, we need to give the government a pay raise of 10 to 11 percent. For a fiscal conservative, I don’t see where the rationale is. ... Eventually you run out of other people’s money,” he said. Meadows was among Republicans who voted in late December for their party’s debt-financed tax overhaul, which is expected to balloon the federal budget deficit and add about $1.5 trillion over 10 years to the $20 trillion national debt. “It’s interesting to hear Mark talk about fiscal responsibility,” Democratic U.S. Representative Joseph Crowley said on CBS. Crowley said the Republican tax bill would require the  United States to borrow $1.5 trillion, to be paid off by future generations, to finance tax cuts for corporations and the rich. “This is one of the least ... fiscally responsible bills we’ve ever seen passed in the history of the House of Representatives. I think we’re going to be paying for this for many, many years to come,” Crowley said. Republicans insist the tax package, the biggest U.S. tax overhaul in more than 30 years,  will boost the economy and job growth. House Speaker Paul Ryan, who also supported the tax bill, recently went further than Meadows, making clear in a radio interview that welfare or “entitlement reform,” as the party often calls it, would be a top Republican priority in 2018. In Republican parlance, “entitlement” programs mean food stamps, housing assistance, Medicare and Medicaid health insurance for the elderly, poor and disabled, as well as other programs created by Washington to assist the needy. Democrats seized on Ryan’s early December remarks, saying they showed Republicans would try to pay for their tax overhaul by seeking spending cuts for social programs. But the goals of House Republicans may have to take a back seat to the Senate, where the votes of some Democrats will be needed to approve a budget and prevent a government shutdown. Democrats will use their leverage in the Senate, which Republicans narrowly control, to defend both discretionary non-defense programs and social spending, while tackling the issue of the “Dreamers,” people brought illegally to the country as children. Trump in September put a March 2018 expiration date on the Deferred Action for Childhood Arrivals, or DACA, program, which protects the young immigrants from deportation and provides them with work permits. The president has said in recent Twitter messages he wants funding for his proposed Mexican border wall and other immigration law changes in exchange for agreeing to help the Dreamers. Representative Debbie Dingell told CBS she did not favor linking that issue to other policy objectives, such as wall funding. “We need to do DACA clean,” she said.  On Wednesday, Trump aides will meet with congressional leaders to discuss those issues. That will be followed by a weekend of strategy sessions for Trump and Republican leaders on Jan. 6 and 7, the White House said. Trump was also scheduled to meet on Sunday with Florida Republican Governor Rick Scott, who wants more emergency aid. The House has passed an $81 billion aid package after hurricanes in Florida, Texas and Puerto Rico, and wildfires in California. The package far exceeded the $44 billion requested by the Trump administration. The Senate has not yet voted on the aid. ",
         "politicsNews",
         "December 31, 2017 "
        ],
        [
         "1",
         "U.S. military to accept transgender recruits on Monday: Pentagon",
         "WASHINGTON (Reuters) - Transgender people will be allowed for the first time to enlist in the U.S. military starting on Monday as ordered by federal courts, the Pentagon said on Friday, after President Donald Trump’s administration decided not to appeal rulings that blocked his transgender ban. Two federal appeals courts, one in Washington and one in Virginia, last week rejected the administration’s request to put on hold orders by lower court judges requiring the military to begin accepting transgender recruits on Jan. 1. A Justice Department official said the administration will not challenge those rulings. “The Department of Defense has announced that it will be releasing an independent study of these issues in the coming weeks. So rather than litigate this interim appeal before that occurs, the administration has decided to wait for DOD’s study and will continue to defend the president’s lawful authority in District Court in the meantime,” the official said, speaking on condition of anonymity. In September, the Pentagon said it had created a panel of senior officials to study how to implement a directive by Trump to prohibit transgender individuals from serving. The Defense Department has until Feb. 21 to submit a plan to Trump. Lawyers representing currently-serving transgender service members and aspiring recruits said they had expected the administration to appeal the rulings to the conservative-majority Supreme Court, but were hoping that would not happen. Pentagon spokeswoman Heather Babb said in a statement: “As mandated by court order, the Department of Defense is prepared to begin accessing transgender applicants for military service Jan. 1. All applicants must meet all accession standards.” Jennifer Levi, a lawyer with gay, lesbian and transgender advocacy group GLAD, called the decision not to appeal “great news.” “I’m hoping it means the government has come to see that there is no way to justify a ban and that it’s not good for the military or our country,” Levi said. Both GLAD and the American Civil Liberties Union represent plaintiffs in the lawsuits filed against the administration. In a move that appealed to his hard-line conservative supporters, Trump announced in July that he would prohibit transgender people from serving in the military, reversing Democratic President Barack Obama’s policy of accepting them. Trump said on Twitter at the time that the military “cannot be burdened with the tremendous medical costs and disruption that transgender in the military would entail.” Four federal judges - in Baltimore, Washington, D.C., Seattle and Riverside, California - have issued rulings blocking Trump’s ban while legal challenges to the Republican president’s policy proceed. The judges said the ban would likely violate the right under the U.S. Constitution to equal protection under the law. The Pentagon on Dec. 8 issued guidelines to recruitment personnel in order to enlist transgender applicants by Jan. 1. The memo outlined medical requirements and specified how the applicants’ sex would be identified and even which undergarments they would wear. The Trump administration previously said in legal papers that the armed forces were not prepared to train thousands of personnel on the medical standards needed to process transgender applicants and might have to accept “some individuals who are not medically fit for service.” The Obama administration had set a deadline of July 1, 2017, to begin accepting transgender recruits. But Trump’s defense secretary, James Mattis, postponed that date to Jan. 1, 2018, which the president’s ban then put off indefinitely. Trump has taken other steps aimed at rolling back transgender rights. In October, his administration said a federal law banning gender-based workplace discrimination does not protect transgender employees, reversing another Obama-era position. In February, Trump rescinded guidance issued by the Obama administration saying that public schools should allow transgender students to use the restroom that corresponds to their gender identity. ",
         "politicsNews",
         "December 29, 2017 "
        ],
        [
         "2",
         "Senior U.S. Republican senator: 'Let Mr. Mueller do his job'",
         "WASHINGTON (Reuters) - The special counsel investigation of links between Russia and President Trump’s 2016 election campaign should continue without interference in 2018, despite calls from some Trump administration allies and Republican lawmakers to shut it down, a prominent Republican senator said on Sunday. Lindsey Graham, who serves on the Senate armed forces and judiciary committees, said Department of Justice Special Counsel Robert Mueller needs to carry on with his Russia investigation without political interference. “This investigation will go forward. It will be an investigation conducted without political influence,” Graham said on CBS’s Face the Nation news program. “And we all need to let Mr. Mueller do his job. I think he’s the right guy at the right time.”  The question of how Russia may have interfered in the election, and how Trump’s campaign may have had links with or co-ordinated any such effort, has loomed over the White House since Trump took office in January. It shows no sign of receding as Trump prepares for his second year in power, despite intensified rhetoric from some Trump allies in recent weeks accusing Mueller’s team of bias against the Republican president. Trump himself seemed to undercut his supporters in an interview last week with the New York Times in which he said he expected Mueller was “going to be fair.”    Russia’s role in the election and the question of possible links to the Trump campaign are the focus of multiple inquiries in Washington. Three committees of the Senate and the House of Representatives are investigating, as well as Mueller, whose team in May took over an earlier probe launched by the U.S. Federal Bureau of Investigation (FBI). Several members of the Trump campaign and administration have been convicted or indicted in the investigation.  Trump and his allies deny any collusion with Russia during the campaign, and the Kremlin has denied meddling in the election. Graham said he still wants an examination of the FBI’s use of a dossier on links between Trump and Russia that was compiled by a former British spy, Christopher Steele, which prompted Trump allies and some Republicans to question Mueller’s inquiry.   On Saturday, the New York Times reported that it was not that dossier that triggered an early FBI probe, but a tip from former Trump campaign foreign policy adviser George Papadopoulos to an Australian diplomat that Russia had damaging information about former Trump rival Hillary Clinton.  “I want somebody to look at the way the Department of Justice used this dossier. It bothers me greatly the way they used it, and I want somebody to look at it,” Graham said. But he said the Russia investigation must continue. “As a matter of fact, it would hurt us if we ignored it,” he said. ",
         "politicsNews",
         "December 31, 2017 "
        ],
        [
         "3",
         "FBI Russia probe helped by Australian diplomat tip-off: NYT",
         "WASHINGTON (Reuters) - Trump campaign adviser George Papadopoulos told an Australian diplomat in May 2016 that Russia had political dirt on Democratic presidential candidate Hillary Clinton, the New York Times reported on Saturday. The conversation between Papadopoulos and the diplomat, Alexander Downer, in London was a driving factor behind the FBI’s decision to open a counter-intelligence investigation of Moscow’s contacts with the Trump campaign, the Times reported. Two months after the meeting, Australian officials passed the information that came from Papadopoulos to their American counterparts when leaked Democratic emails began appearing online, according to the newspaper, which cited four current and former U.S. and foreign officials. Besides the information from the Australians, the probe by the Federal Bureau of Investigation was also propelled by intelligence from other friendly governments, including the British and Dutch, the Times said. Papadopoulos, a Chicago-based international energy lawyer, pleaded guilty on Oct. 30 to lying to FBI agents about contacts with people who claimed to have ties to top Russian officials. It was the first criminal charge alleging links between the Trump campaign and Russia. The White House has played down the former aide’s campaign role, saying it was “extremely limited” and that any actions he took would have been on his own. The New York Times, however, reported that Papadopoulos helped set up a meeting between then-candidate Donald Trump and Egyptian President Abdel Fattah al-Sisi and edited the outline of Trump’s first major foreign policy speech in April 2016. The federal investigation, which is now being led by Special Counsel Robert Mueller, has hung over Trump’s White House since he took office almost a year ago. Some Trump allies have recently accused Mueller’s team of being biased against the Republican president. Lawyers for Papadopoulos did not immediately respond to requests by Reuters for comment. Mueller’s office declined to comment. Trump’s White House attorney, Ty Cobb, declined to comment on the New York Times report. “Out of respect for the special counsel and his process, we are not commenting on matters such as this,” he said in a statement. Mueller has charged four Trump associates, including Papadopoulos, in his investigation. Russia has denied interfering in the U.S. election and Trump has said there was no collusion between his campaign and Moscow. ",
         "politicsNews",
         "December 30, 2017 "
        ],
        [
         "4",
         "Trump wants Postal Service to charge 'much more' for Amazon shipments",
         "SEATTLE/WASHINGTON (Reuters) - President Donald Trump called on the U.S. Postal Service on Friday to charge “much more” to ship packages for Amazon (AMZN.O), picking another fight with an online retail giant he has criticized in the past.     “Why is the United States Post Office, which is losing many billions of dollars a year, while charging Amazon and others so little to deliver their packages, making Amazon richer and the Post Office dumber and poorer? Should be charging MUCH MORE!” Trump wrote on Twitter.  The president’s tweet drew fresh attention to the fragile finances of the Postal Service at a time when tens of millions of parcels have just been shipped all over the country for the holiday season.  The U.S. Postal Service, which runs at a big loss, is an independent agency within the federal government and does not receive tax dollars for operating expenses, according to its website.  Package delivery has become an increasingly important part of its business as the Internet has led to a sharp decline in the amount of first-class letters. The president does not determine postal rates. They are set by the Postal Regulatory Commission, an independent government agency with commissioners selected by the president from both political parties. That panel raised prices on packages by almost 2 percent in November.  Amazon was founded by Jeff Bezos, who remains the chief executive officer of the retail company and is the richest person in the world, according to Bloomberg News. Bezos also owns The Washington Post, a newspaper Trump has repeatedly railed against in his criticisms of the news media. In tweets over the past year, Trump has said the “Amazon Washington Post” fabricated stories. He has said Amazon does not pay sales tax, which is not true, and so hurts other retailers, part of a pattern by the former businessman and reality television host of periodically turning his ire on big American companies since he took office in January. Daniel Ives, a research analyst at GBH Insights, said Trump’s comment could be taken as a warning to the retail giant. However, he said he was not concerned for Amazon. “We do not see any price hikes in the future. However, that is a risk that Amazon is clearly aware of and (it) is building out its distribution (system) aggressively,” he said. Amazon has shown interest in the past in shifting into its own delivery service, including testing drones for deliveries. In 2015, the company spent $11.5 billion on shipping, 46 percent of its total operating expenses that year.  Amazon shares were down 0.86 percent to $1,175.90 by early afternoon. Overall, U.S. stock prices were down slightly on Friday.  Satish Jindel, president of ShipMatrix Inc, which analyzes shipping data, disputed the idea that the Postal Service charges less than United Parcel Service Inc (UPS.N) and FedEx Corp (FDX.N), the other biggest players in the parcel delivery business in the United States. Many customers get lower rates from UPS and FedEx than they would get from the post office for comparable services, he said. The Postal Service delivers about 62 percent of Amazon packages, for about 3.5 to 4 million a day during the current peak year-end holiday shipping season, Jindel said. The Seattle-based company and the post office have an agreement in which mail carriers take Amazon packages on the last leg of their journeys, from post offices to customers’ doorsteps. Amazon’s No. 2 carrier is UPS, at 21 percent, and FedEx is third, with 8 percent or so, according to Jindel. Trump’s comment tapped into a debate over whether Postal Service pricing has kept pace with the rise of e-commerce, which has flooded the mail with small packages.Private companies like UPS have long claimed the current system unfairly undercuts their business. Steve Gaut, a spokesman for UPS, noted that the company values its “productive relationship” with the postal service, but that it has filed with the Postal Regulatory Commission its concerns about the postal service’s methods for covering costs. Representatives for Amazon, the White House, the U.S. Postal Service and FedEx declined comment or were not immediately available for comment on Trump’s tweet. According to its annual report, the Postal Service lost $2.74 billion this year, and its deficit has ballooned to $61.86 billion.  While the Postal Service’s revenue for first class mail, marketing mail and periodicals is flat or declining, revenue from package delivery is up 44 percent since 2014 to $19.5 billion in the fiscal year ended Sept. 30, 2017. But it also lost about $2 billion in revenue when a temporary surcharge expired in April 2016. According to a Government Accountability Office report in February, the service is facing growing personnel expenses, particularly $73.4 billion in unfunded pension and benefits liabilities. The Postal Service has not announced any plans to cut costs. By law, the Postal Service has to set prices for package delivery to cover the costs attributable to that service. But the postal service allocates only 5.5 percent of its total costs to its business of shipping packages even though that line of business is 28 percent of its total revenue. ",
         "politicsNews",
         "December 29, 2017 "
        ],
        [
         "5",
         "White House, Congress prepare for talks on spending, immigration",
         "WEST PALM BEACH, Fla./WASHINGTON (Reuters) - The White House said on Friday it was set to kick off talks next week with Republican and Democratic congressional leaders on immigration policy, government spending and other issues that need to be wrapped up early in the new year. The expected flurry of legislative activity comes as Republicans and Democrats begin to set the stage for midterm congressional elections in November. President Donald Trump’s Republican Party is eager to maintain control of Congress while Democrats look for openings to wrest seats away in the Senate and the House of Representatives. On Wednesday, Trump’s budget chief Mick Mulvaney and legislative affairs director Marc Short will meet with Senate Majority Leader Mitch McConnell and House Speaker Paul Ryan - both Republicans - and their Democratic counterparts, Senator Chuck Schumer and Representative Nancy Pelosi, the White House said. That will be followed up with a weekend of strategy sessions for Trump, McConnell and Ryan on Jan. 6 and 7 at the Camp David presidential retreat in Maryland, according to the White House. The Senate returns to work on Jan. 3 and the House on Jan. 8. Congress passed a short-term government funding bill last week before taking its Christmas break, but needs to come to an agreement on defense spending and various domestic programs by Jan. 19, or the government will shut down. Also on the agenda for lawmakers is disaster aid for people hit by hurricanes in Puerto Rico, Texas and Florida, and by wildfires in California. The House passed an $81 billion package in December, which the Senate did not take up. The White House has asked for a smaller figure, $44 billion. Deadlines also loom for soon-to-expire protections for young adult immigrants who entered the country illegally as children, known as “Dreamers.” In September, Trump ended Democratic former President Barack Obama’s Deferred Action for Childhood Arrivals (DACA) program, which protected Dreamers from deportation and provided work permits, effective in March, giving Congress until then to devise a long-term solution. Democrats, some Republicans and a number of large companies have pushed for DACA protections to continue. Trump and other Republicans have said that will not happen without Congress approving broader immigration policy changes and tougher border security. Democrats oppose funding for a wall promised by Trump along the U.S.-Mexican border.  “The Democrats have been told, and fully understand, that there can be no DACA without the desperately needed WALL at the Southern Border and an END to the horrible Chain Migration & ridiculous Lottery System of Immigration etc,” Trump said in a Twitter post on Friday. Trump wants to overhaul immigration rules for extended families and others seeking to live in the United States. Republican U.S. Senator Jeff Flake, a frequent critic of the president, said he would work with Trump to protect Dreamers. “We can fix DACA in a way that beefs up border security, stops chain migration for the DREAMers, and addresses the unfairness of the diversity lottery. If POTUS (Trump) wants to protect these kids, we want to help him keep that promise,” Flake wrote on Twitter. Congress in early 2018 also must raise the U.S. debt ceiling to avoid a government default. The U.S. Treasury would exhaust all of its borrowing options and run dry of cash to pay its bills by late March or early April if Congress does not raise the debt ceiling before then, according to the nonpartisan Congressional Budget Office. Trump, who won his first major legislative victory with the passage of a major tax overhaul this month, has also promised a major infrastructure plan. ",
         "politicsNews",
         "December 29, 2017 "
        ],
        [
         "6",
         "Trump says Russia probe will be fair, but timeline unclear: NYT",
         "WEST PALM BEACH, Fla (Reuters) - President Donald Trump said on Thursday he believes he will be fairly treated in a special counsel investigation into Russian meddling in the U.S. presidential election, but said he did not know how long the probe would last. The federal investigation has hung over Trump’s White House since he took office almost a year ago, and some Trump allies have in recent weeks accused the team of Justice Department Special Counsel Robert Mueller of being biased against the Republican president. But in an interview with the New York Times, Trump appeared to shrug off concerns about the investigation, which was prompted by U.S. intelligence agencies’ conclusion that Russia tried to help Trump defeat Democrat Hillary Clinton by hacking and releasing embarrassing emails and disseminating propaganda. “There’s been no collusion. But I think he’s going to be fair,” Trump said in what the Times described as a 30-minute impromptu interview at his golf club in West Palm Beach, Florida. Mueller has charged four Trump associates in his investigation. Russia has denied interfering in the U.S. election. U.S. Deputy Attorney General Rod Rosenstein said this month that he was not aware of any impropriety by Mueller’s team. Trump’s lawyers have been saying for weeks that they had expected the Mueller investigation to wrap up quickly, possibly by the end of 2017. Mueller has not commented on how long it will last. Trump told the Times that he did not know how long the investigation would take. “Timing-wise, I can’t tell you. I just don’t know,” he said. Trump said he thought a prolonged probe “makes the country look bad” but said it has energized his core supporters. “What it’s done is, it’s really angered the base and made the base stronger. My base is strong than it’s ever been,” he said. The interview was a rare break in Trump’s Christmas vacation in Florida. He has golfed each day aside from Christmas Day, and mainly kept a low profile, apart from the occasional flurry of tweets. He spent one day golfing with Republican Senator David Perdue from Georgia, who has pushed legislation to cap immigration numbers, and had dinner on Thursday with Commerce Secretary Wilbur Ross, an international trade hawk. Trump told the Times he hoped to work with Democrats in the U.S. Congress on a spending plan to fix roads and other infrastructure, and on protections for a group of undocumented immigrants who were brought to the United States as children. Trump spoke about trade issues, saying he had backed off his hard line on Chinese trade practices in the hope that Beijing would do more to pressure North Korea to end its nuclear and missile testing program. He said he had been disappointed in the results. He also complained about the North American Free Trade Agreement (NAFTA), which his administration is attempting to renegotiate in talks with Mexico and Canada. Trump said Canadian Prime Minister Justin Trudeau had played down the importance of Canadian oil and lumber exports to the United States when looking at the balance of trade between the two countries. “If I don’t make the right deal, I’ll terminate NAFTA in two seconds. But we’re doing pretty good,” Trump said. ",
         "politicsNews",
         "December 29, 2017 "
        ],
        [
         "7",
         "Factbox: Trump on Twitter (Dec 29) - Approval rating, Amazon",
         "The following statements were posted to the verified Twitter accounts of U.S. President Donald Trump, @realDonaldTrump and @POTUS.  The opinions expressed are his own. Reuters has not edited the statements or confirmed their accuracy.  @realDonaldTrump : - While the Fake News loves to talk about my so-called low approval rating, @foxandfriends just showed that my rating on Dec. 28, 2017, was approximately the same as President Obama on Dec. 28, 2009, which was 47%...and this despite massive negative Trump coverage & Russia hoax! [0746 EST] - Why is the United States Post Office, which is losing many billions of dollars a year, while charging Amazon and others so little to deliver their packages, making Amazon richer and the Post Office dumber and poorer? Should be charging MUCH MORE! [0804 EST] -- Source link: (bit.ly/2jBh4LU) (bit.ly/2jpEXYR) ",
         "politicsNews",
         "December 29, 2017 "
        ],
        [
         "8",
         "Trump on Twitter (Dec 28) - Global Warming",
         "The following statements were posted to the verified Twitter accounts of U.S. President Donald Trump, @realDonaldTrump and @POTUS.  The opinions expressed are his own. Reuters has not edited the statements or confirmed their accuracy.  @realDonaldTrump : - Together, we are MAKING AMERICA GREAT AGAIN! bit.ly/2lnpKaq [1814 EST] - In the East, it could be the COLDEST New Year’s Eve on record. Perhaps we could use a little bit of that good old Global Warming that our Country, but not other countries, was going to pay TRILLIONS OF DOLLARS to protect against. Bundle up! [1901 EST] -- Source link: (bit.ly/2jBh4LU) (bit.ly/2jpEXYR) ",
         "politicsNews",
         "December 29, 2017 "
        ],
        [
         "9",
         "Alabama official to certify Senator-elect Jones today despite challenge: CNN",
         "WASHINGTON (Reuters) - Alabama Secretary of State John Merrill said he will certify Democratic Senator-elect Doug Jones as winner on Thursday despite opponent Roy Moore’s challenge, in a phone call on CNN. Moore, a conservative who had faced allegations of groping teenage girls when he was in his 30s, filed a court challenge late on Wednesday to the outcome of a U.S. Senate election he unexpectedly lost. ",
         "politicsNews",
         "December 28, 2017 "
        ],
        [
         "10",
         "Jones certified U.S. Senate winner despite Moore challenge",
         "(Reuters) - Alabama officials on Thursday certified Democrat Doug Jones the winner of the state’s U.S. Senate race, after a state judge denied a challenge by Republican Roy Moore, whose campaign was derailed by accusations of sexual misconduct with teenage girls. Jones won the vacant seat by about 22,000 votes, or 1.6 percentage points, election officials said. That made him the first Democrat in a quarter of a century to win a Senate seat in Alabama.  The seat was previously held by Republican Jeff Sessions, who was tapped by U.S. President Donald Trump as attorney general. A state canvassing board composed of Alabama Secretary of State John Merrill, Governor Kay Ivey and Attorney General Steve Marshall certified the election results. Seating Jones will narrow the Republican majority in the Senate to 51 of 100 seats. In a statement, Jones called his victory “a new chapter” and pledged to work with both parties. Moore declined to concede defeat even after Trump urged him to do so. He stood by claims of a fraudulent election in a statement released after the certification and said he had no regrets, media outlets reported. An Alabama judge denied Moore’s request to block certification of the results of the Dec. 12 election in a decision shortly before the canvassing board met. Moore’s challenge alleged there had been potential voter fraud that denied him a chance of victory. His filing on Wednesday in the Montgomery Circuit Court sought to halt the meeting scheduled to ratify Jones’ win on Thursday. Moore could ask for a recount, in addition to possible other court challenges, Merrill said in an interview with Fox News Channel. He would have to complete paperwork “within a timed period” and show he has the money for a challenge, Merrill said. “We’ve not been notified yet of their intention to do that,” Merrill said. Regarding the claim of voter fraud, Merrill told CNN that more than 100 cases had been reported. “We’ve adjudicated more than 60 of those. We will continue to do that,” he said.  Republican lawmakers in Washington had distanced themselves from Moore and called for him to drop out of the race after several women accused him of sexual assault or misconduct dating back to when they were teenagers and he was in his early 30s.  Moore has denied wrongdoing and Reuters has not been able to independently verify the allegations. ",
         "politicsNews",
         "December 28, 2017 "
        ],
        [
         "11",
         "New York governor questions the constitutionality of federal tax overhaul",
         "NEW YORK/WASHINGTON (Reuters) - The new U.S. tax code targets high-tax states and may be unconstitutional, New York Governor Andrew Cuomo said on Thursday, saying that the bill may violate New York residents’ rights to due process and equal protection.  The sweeping Republican tax bill signed into law by U.S. President Donald Trump on Friday introduces a cap, of $10,000,  on deductions of state and local income and property taxes, known as SALT. The tax overhaul was the party’s first major legislative victory since Trump took office in January.  The SALT provision will hit many taxpayers in states with high incomes, high property values and high taxes, like New York, New Jersey and California. Those states are generally Democratic leaning.  “I’m not even sure what they did is legally constitutional and that’s something we’re looking at now,” Cuomo said in an interview with CNN. In an interview with CNBC, Cuomo suggested why the bill may be unconstitutional.  “Politics does not trump the law,” Cuomo said on CNBC. “You have the constitution, you have the law, you have due process, you have equal protection. You can’t use politics just because the majority controls to override the law.” The Fifth Amendment of the Constitution, better known for its protection against self-incrimination, also protects individuals from seizure of life, liberty or property without due process and has been interpreted by the Supreme Court as guaranteeing equal protection by the law.  Cuomo and California Governor Jerry Brown, both Democrats, have previously said they were exploring legal challenges to SALT deduction limits.  Law professors have said legal challenges would likely rest on arguing that the provision interferes with the protection of states’ rights under the U.S. Constitution’s 10th Amendment. Tax attorneys said Cuomo’s legal argument against the tax bill could be that it discriminates and places an unjust tax burden on states that heavily voted for Democrats in the past - known as “blue states.” “The de facto effect of this legislation is to discriminate against blue states and particularly from (Cuomo’s) perspective the state of New York,” said Joseph Callahan, an attorney with the law firm Mackay, Caswell & Callahan in New York.  But some tax experts noted the U.S. Supreme Court has interpreted the 16th Amendment to give Congress broad latitude to tax as it sees fit. In a frequently cited 1934 decision, the Supreme Court called tax deductions a “legislative grace” rather than a vested right. “I don’t understand how they think they have a valid lawsuit here,” David Gamage, a professor of tax law at Indiana University’s Maurer School of Law, told Reuters last week, speaking generally about governors in blue states that could challenge the tax bill.  Cuomo also said on Thursday that New York is proposing a restructuring of its tax code. He provided no details.  A group of 13 law professors on Dec. 18 published a paper suggesting ways that high-tax states could minimize the effects of the SALT deduction cap.  Their suggestions included shifting more of the tax burden onto businesses in the form of higher employer-side payroll taxes, since the federal tax bill’s cap on SALT deductions only applies to individuals and not businesses. States also could raise taxes on pass-through entities, which the federal tax bill specifically benefits with a lower rate on a portion of their income. On Friday, Cuomo said he would allow state residents to make a partial or full pre-payment on their property tax bill before Jan. 1, allowing taxpapyers to deduct such payments for 2017 before the cap kicks in, prompting a wave of residents to pay early.  However, the U.S. Internal Revenue Service on Wednesday advised homeowners that the pre-payment of 2018 property taxes may not be deductible. ",
         "politicsNews",
         "December 28, 2017 "
        ],
        [
         "12",
         "Factbox: Trump on Twitter (Dec 28) - Vanity Fair, Hillary Clinton",
         "The following statements were posted to the verified Twitter accounts of U.S. President Donald Trump, @realDonaldTrump and @POTUS.  The opinions expressed are his own. Reuters has not edited the statements or confirmed their accuracy.  @realDonaldTrump : - Vanity Fair, which looks like it is on its last legs, is bending over backwards in apologizing for the minor hit they took at Crooked H. Anna Wintour, who was all set to be Amb to Court of St James’s & a big fundraiser for CH, is beside herself in grief & begging for forgiveness! [1024 EST] -- Source link: (bit.ly/2jBh4LU) (bit.ly/2jpEXYR) ",
         "politicsNews",
         "December 28, 2017 "
        ],
        [
         "13",
         "Trump on Twitter (Dec 27) - Trump, Iraq, Syria",
         "The following statements were posted to the verified Twitter accounts of U.S. President Donald Trump, @realDonaldTrump and @POTUS.  The opinions expressed are his own. Reuters has not edited the statements or confirmed their accuracy.  @realDonaldTrump : - “On 1/20 - the day Trump was inaugurated - an estimated 35,000 ISIS fighters held approx 17,500 square miles of territory in both Iraq and Syria. As of 12/21, the U.S. military estimates the remaining 1,000 or so fighters occupy roughly 1,900 square miles...” via @jamiejmcintyre  [1749 EST] - Just left West Palm Beach Fire & Rescue #2. Met with great men and women as representatives of those who do so much for all of us. Firefighters, paramedics, first responders - what amazing people they are! [1811 EST] - “On 1/20 - the day Trump was inaugurated - an estimated 35,000 ISIS fighters held approx 17,500 square miles of territory in both Iraq and Syria. As of 12/21, the U.S. military est the remaining 1,000 or so fighters occupy roughly 1,900 square miles..” @jamiejmcintyre @dcexaminer [2109 EST] - \"Arrests of MS-13 Members, Associates Up 83% Under Trump\" bit.ly/2liRH3b [2146 EST] -- Source link: (bit.ly/2jBh4LU) (bit.ly/2jpEXYR) ",
         "politicsNews",
         "December 28, 2017 "
        ],
        [
         "14",
         "Man says he delivered manure to Mnuchin to protest new U.S. tax law",
         " (In Dec. 25 story, in second paragraph, corrects name of Strong’s employer to Mental Health Department, not Public Health Department.) By Bernie Woodall (Reuters) - A man claiming to be the person who delivered a gift-wrapped package of horse manure at the Los Angeles home of U.S. Treasury Secretary Steven Mnuchin said on Monday he did it to protest the federal tax overhaul signed into law last week by President Donald Trump. Robert Strong, 45, a psychologist for the Los Angeles County Mental Health Department, said by telephone he left the poop-filled parcel addressed to Mnuchin and Trump in the driveway outside Mnuchin’s home in the posh Bel Air community.  KNBC-TV, an NBC television affiliate in Los Angeles, reported Mnuchin was not home at the time. The package was found by Mnuchin’s neighbor.    “Protest really should be funny,” Strong told Reuters. “People’s eyes glaze over when they just see angry people in the streets.” He believes the new tax law will hurt poor people. Neither the U.S. Secret Service nor the Los Angeles Police Department, both of which investigated the incident, would confirm Strong was responsible. The Secret Service interviewed an individual who admitted delivering the package, but no charges had been filed against him as of Monday afternoon. LAPD Lieutenant Rob Weise said it was possible whoever left the package did not break any criminal laws. While he is not assigned to investigate the incident, Weise said if the box did not present any danger, it would not be illegal. The LAPD bomb squad X-rayed the box before opening it on Saturday. In a photo of the card Strong posted on Twitter, he wrote “Misters Mnuchin & Trump, We’re returning the ‘gift’ of the Christmas tax bill” and signed it “Warmest wishes, The American people.”      Strong said a Secret Service agent, accompanied by six police officers, showed up at his house to question him on Sunday night, and the agent chided him, asking, “‘Are you ashamed of your behavior?’”     The White House declined to comment on Monday and officials with the Treasury Department could not be reached.         ",
         "politicsNews",
         "December 25, 2017 "
        ],
        [
         "15",
         "Virginia officials postpone lottery drawing to decide tied statehouse election",
         "(Reuters) - A lottery drawing to settle a tied Virginia legislative race that could shift the statehouse balance of power has been indefinitely postponed, state election officials said on Tuesday, after the Democratic candidate mounted a legal fight. The decision to put off the high-stakes lotto, originally scheduled for Wednesday, marks the latest twist in a dramatic election recount that at one point showed Democrat Shelly Simonds beating Republican incumbent David Yancey by a single vote.  A victory by Simonds would shift Republicans’ slim control of the 100-member House of Delegates to an even 50-50 split with the Democrats, forcing the two parties into a rare power-sharing arrangement. A day after Simonds emerged as the victor of a recount, a three-judge panel ruled that a disputed ballot should be counted for Yancey. That decision left the two candidates tied with 11,608 votes each in a district that encompasses the shipping hub of Newport News in southeastern Virginia, setting the stage for the equivalent of a coin toss to pick a final winner. Simonds asked a state court to reconsider on Tuesday, arguing that the disputed ballot was wrongly included. An image filed in court showed that the ballot had bubbles filled in beside both names, with a slash mark by Simonds’ name. The voter selected Republicans for other offices. Simonds told reporters that the case had implications not only for her contest but for the integrity of state elections as a whole, saying that without a court ruling in her favor, “recounts would become a never-ending spiral of courtroom challenges.” The chairman of the Virginia Board of Elections, James Alcorn, said in a statement that while holding a lottery would be in keeping with state law, such a move should be considered “an action of last resort.” He added: “Any substantive concerns regarding the election or recount should be resolved before a random drawing is conducted.”    Yancey’s campaign did not immediately respond to requests for comment. The Virginia House Republican Caucus said in a statement that it was reviewing the new court filings. “We believe the court acted appropriately and that the integrity of the process is without question,” spokesman Parker Slaybaugh said. Virginia Department of Elections spokeswoman Andrea Gaines said in an email that no new date for a drawing has been set. Democrats notched historic gains in Virginia’s statehouse elections last month, part of the party’s first big wave of political victories since Republican Donald Trump won the White House last year. Before the Nov. 7 general election, Virginia Republicans held 66 seats to the Democrats’ 34 in the House of Delegates, along with a majority in the state Senate. ",
         "politicsNews",
         "December 27, 2017 "
        ],
        [
         "16",
         "U.S. lawmakers question businessman at 2016 Trump Tower meeting: sources",
         "WASHINGTON (Reuters) - A Georgian-American businessman who met then-Miss Universe pageant owner Donald Trump in 2013, has been questioned by congressional investigators about whether he helped organize a meeting between Russians and Trump’s eldest son during the 2016 election campaign, four sources familiar with the matter said. The meeting at Trump Tower in New York involving Donald Trump Jr. and other campaign advisers is a focus of probes by Congress and Special Counsel Robert Mueller on whether campaign officials colluded with Russia when it sought to interfere in the U.S. election, the sources said. Russia denies allegations by U.S. intelligence agencies that it meddled in the election and President Donald Trump denies any collusion. The Senate and House of Representatives intelligence committees recently questioned behind closed doors Irakly Kaveladze, a U.S. citizen born in the former Soviet republic of Georgia, the sources said. He is a U.S.-based representative of Azerbaijani oligarch Aras Agalarov’s real estate firm, the Crocus Group. The panels knew Kaveladze was at the June 9, 2016 meeting but became more interested in him after learning he also attended a private dinner in Las Vegas in 2013 with Trump and Agalarov as they celebrated an agreement to hold that year’s Miss Universe pageant in Moscow, the sources said.  Committee members now want to know more about the extent of Kaveladze’s contacts with the Trump family and whether he had a bigger role than previously believed in setting up the Trump Tower meeting when Trump was a Republican candidate for president. The White House declined to comment. Mueller’s office also declined to comment. Scott Balber, a New York lawyer who represents Kaveladze, confirmed that his client attended both the dinner in Las Vegas and the Trump Tower meeting but said he did not set up the second meeting. Trump’s son-in-law Jared Kushner, other Trump campaign aides, and Russian lawyer Natalia Veselnitskaya were also at that meeting. Lawyer Balber also said the committees were only seeking Kaveladze’s input as a witness and were not targeting him for investigation. “No-one has ever told me that they have any interest in him other than as a witness,” Balber said. Lawyers for Trump Jr. and Kushner did not respond to requests for comment about their contacts with Kaveladze. A lawyer for President Trump declined to comment. One photograph from the 2013 dinner, when Trump still owned the Miss Universe pageant, shows Agalarov and his pop singer son Emin along with Trump, two Trump aides and several other people at the dining table. Another shows Kaveladze standing behind Trump and Emin Agalarov as they speak. The pictures were found by a University of California at Irvine student and blogger Scott Stedman, who posted them on Nov. 22. Aras Agalarov is a billionaire property developer in Russia who was awarded the Order of Honor by Russian President Vladimir Putin. Several U.S. officials who spoke on condition of anonymity said Mueller’s team and the committees are looking for any evidence of a link between the Trump Tower meeting and the release six weeks later of emails stolen from Democratic Party organizations. They are also trying to determine whether there was any discussion at the New York meeting of lifting U.S. economic sanctions on Russia, a top priority for Putin, the officials said. Rob Goldstone, a British publicist, told Trump Jr. ahead of the New York meeting that Russian lawyer Veselnitskaya would be bringing damaging information about donations to a charity linked to Trump’s Democratic rival Hillary Clinton, according to emails later released by Trump Jr. Trump Jr. initially said the meeting was about Russian adoptions but later said it also included Veselnitskaya’s promises of information on the donations to the Clinton charity. He said he ultimately never received the information, although it was later posted on the Internet. In a statement issued after meeting with the Senate Judiciary Committee on Sept. 7, Trump, Jr. said Goldstone and Veselnitskaya were in a conference room with him as well as Kaveladze and a translator. Balber said Kaveladze attended expecting to serve as a translator, although he did not do so in the end because Veselnitskaya brought her own. ",
         "politicsNews",
         "December 27, 2017 "
        ],
        [
         "17",
         "Trump on Twitter (Dec 26) - Hillary Clinton, Tax Cut Bill",
         "The following statements were posted to the verified Twitter accounts of U.S. President Donald Trump, @realDonaldTrump and @POTUS.  The opinions expressed are his own. Reuters has not edited the statements or confirmed their accuracy.  @realDonaldTrump : - Based on the fact that the very unfair and unpopular Individual Mandate has been terminated as part of our Tax Cut Bill, which essentially Repeals (over time) ObamaCare, the Democrats & Republicans will eventually come together and develop a great new HealthCare plan! [0658 EST] - WOW, @foxandfrlends “Dossier is bogus. Clinton Campaign, DNC funded Dossier. FBI CANNOT (after all of this time) VERIFY CLAIMS IN DOSSIER OF RUSSIA/TRUMP COLLUSION. FBI TAINTED.” And they used this Crooked Hillary pile of garbage as the basis for going after the Trump Campaign! [0824 EST] - All signs are that business is looking really good for next year, only to be helped further by our Tax Cut Bill. Will be a great year for Companies and JOBS! Stock Market is poised for another year of SUCCESS! [17:17 EST] -- Source link: (bit.ly/2jBh4LU) (bit.ly/2jpEXYR) ",
         "politicsNews",
         "December 26, 2017 "
        ],
        [
         "18",
         "U.S. appeals court rejects challenge to Trump voter fraud panel",
         "(Reuters) - A U.S. appeals court in Washington on Tuesday upheld a lower court’s decision to allow President Donald Trump’s commission investigating voter fraud to request data on voter rolls from U.S. states. The U.S. Court of Appeals for the District of Columbia Circuit said the Electronic Privacy Information Center (EPIC) watchdog group, which filed the lawsuit, did not have legal standing to seek to force the presidential commission to review privacy concerns before collecting individuals’ voter data. EPIC had argued that under federal law, the commission was required to conduct a privacy-impact assessment before gathering personal data. But the three-judge appeals court panel ruled unanimously that the privacy law at issue was intended to protect individuals, not groups like EPIC. “EPIC is not a voter,” Judge Karen Henderson wrote in the ruling.  Washington-based U.S. District Judge Colleen Kollar-Kotelly first denied EPIC’s injunction request in July, in part because the collection of data by the commission was not technically an action by a government agency so was not bound by laws that govern what such entities can do.  Kollar-Kotelly noted that the commission, headed by Vice President Mike Pence, was an advisory body that lacks legal authority to compel states to hand over the data. Most state officials who oversee elections and election law experts say that voter fraud is rare in the United States. Trump, a Republican, set up the commission in May after charging, without evidence, that millions of people voted unlawfully in the 2016 presidential election in which he defeated Democratic opponent Hillary Clinton despite losing the popular vote.  The commission’s vice chair, Kris Kobach, the Republican secretary of state for Kansas and an advocate of tougher laws on immigration and voter identification, asked states in June to turn over voter information. The data requested by Kobach included names, the last four digits of Social Security numbers, addresses, birth dates, political affiliation, felony convictions and voting histories.  More than 20 states refused outright and others said they needed to study whether they could provide the data. Civil rights groups and Democratic lawmakers have said the commission’s eventual findings could lead to new ID requirements and other measures making it harder for groups that tend to favor Democratic candidates to cast ballots. EPIC executive director Marc Rotenberg could not immediately be reached for comment. ",
         "politicsNews",
         "December 26, 2017 "
        ],
        [
         "19",
         "Treasury Secretary Mnuchin was sent gift-wrapped box of horse manure: reports",
         "(Reuters) - A gift-wrapped package addressed to U.S. Treasury Secretary Steven Mnuchin’s home in a posh Los Angeles neighborhood that was suspected of being a bomb was instead filled with horse manure, police told local media. The package was found Saturday evening in a next-door neighbor’s driveway in Bel Air, the Los Angeles Police Department told the Los Angeles Times and KNBC television, the NBC affiliate in Los Angeles. The package also included a Christmas card with negative comments about President Donald Trump and the new U.S. tax law signed by Trump last week. Reuters could not reach LAPD officials for comment on Sunday. An LAPD bomb squad X-rayed the package before opening it and found the horse manure inside, police told local media. Aerial footage from KNBC showed officers investigating a large box in wrapping paper, then dumping a large amount of what they later identified as the manure and opening the card that was included inside.  Mnuchin, who KNBC said was not home when the package was discovered, is a former Goldman Sachs Group Inc executive and Hollywood film financier. A road in Bel Air was closed for about two hours, KNBC reported. The U.S. Secret Service is also investigating the incident, according to the TV station. ",
         "politicsNews",
         "December 24, 2017 "
        ],
        [
         "20",
         "Federal judge partially lifts Trump's latest refugee restrictions",
         "WASHINGTON (Reuters) - A federal judge in Seattle partially blocked U.S. President Donald Trump’s newest restrictions on refugee admissions on Saturday, the latest legal defeat for his efforts to curtail immigration and travel to the United States. The decision by U.S. District Judge James Robart is the first judicial curb on rules the Trump administration put into place in late October that have contributed significantly to a precipitous drop in the number of refugees being admitted into the country. Refugees and groups that assist them argued in court that the administration’s policies violated the Constitution and federal rulemaking procedures, among other claims. Department of Justice attorneys argued in part that U.S. law grants the executive branch the authority to limit refugee admissions in the way that it had done so. On Oct. 24, the Trump administration effectively paused refugee admissions from 11 countries mostly in the Middle East and Africa, pending a 90-day security review, which was set to expire in late January. The countries subject to the review are Egypt, Iran, Iraq, Libya, Mali, North Korea, Somalia, South Sudan, Sudan, Syria and Yemen. For each of the last three years, refugees from the 11 countries made up more than 40 percent of U.S. admissions. A Reuters review of State Department data showed that as the review went into effect, refugee admissions from the 11 countries plummeted. Robart ruled that the administration could carry out the security review, but that it could not stop processing or admitting refugees from the 11 countries in the meantime, as long as those refugees have a “bona fide” connection to the United States. As part of its new restrictions, the Trump administration had also paused a program that allowed for family reunification for refugees, pending further security screening procedures being put into place. Robart ordered the government to re-start the program, known as “follow-to-join”. Approximately 2,000 refugees were admitted into the United States in fiscal year 2015 under the program, according to Department of Homeland Security data. Refugee advocacy groups praised Robart’s decision.  “This ruling brings relief to thousands of refugees in precarious situations in the Middle East and East Africa, as well as to refugees already in the U.S. who are trying to reunite with their spouses and children,” said Mariko Hirose, litigation director for the International Refugee Assistance Project, one of the plaintiffs in the case. A Justice Department spokeswoman, Lauren Ehrsam, said the department disagrees with Robart’s ruling and is “currently evaluating the next steps”. Robart, who was appointed to the bench by Republican former President George W. Bush, emerged from relative obscurity in February, when he issued a temporary order to lift the first version of Trump’s travel ban. On Twitter, Trump called him a “so-called judge” whose “ridiculous” opinion “essentially takes law-enforcement away from our country”. Robart’s ruling represented the second legal defeat in two days for the Trump administration. On Friday, a U.S. appeals court said Trump’s travel ban targeting six Muslim-majority countries should not be applied to people with strong U.S. ties, but said its ruling would be put on hold pending a decision by the U.S. Supreme Court. ",
         "politicsNews",
         "December 24, 2017 "
        ],
        [
         "21",
         "Exclusive: U.S. memo weakens guidelines for protecting immigrant children in court",
         "NEW YORK (Reuters) - The U.S. Justice Department has issued new guidelines for immigration judges that remove some instructions for how to protect unaccompanied juveniles appearing in their courtrooms. A Dec. 20 memo, issued by the Executive Office for Immigration Review (EOIR) replaces 2007 guidelines, spelling out policies and procedures judges should follow in dealing with children who crossed the border illegally alone and face possible deportation.  The new memo removes suggestions contained in the 2007 memo for how to conduct “child-sensitive questioning” and adds reminders to judges to maintain “impartiality” even though “juvenile cases may present sympathetic allegations.” The new document also changes the word “child” to “unmarried individual under the age of 18” in many instances. (Link to comparison: tmsnrt.rs/2BlT0VK May 2007 document: tmsnrt.rs/2BBR8wj December 2017 document: tmsnrt.rs/2C2sWCs)  An EOIR official said the new memo contained “clarifications and updates” to 10-year-old guidance “in order to be consistent with the laws as they’ve been passed by Congress.” The new memo was posted on the Justice Department website but has not been previously reported.  Immigration advocates said they worry the new guidelines could make court appearances for children more difficult, and a spokeswoman for the union representing immigration judges said judges are concerned about the tone of the memo. President Donald Trump has made tougher immigration enforcement a key policy goal of his administration, and has focused particularly on trying to curb the illegal entry of children. The administration says it wants to prevent vulnerable juveniles from making perilous journeys to the United States and eliminate fraud from programs for young immigrants.  One changed section of the memo focuses on how to make children comfortable in the court in advance of hearings. The old guidance says they “should be permitted to explore” courtrooms and allowed to “sit in all locations, (including, especially, the judge’s bench and the witness stand).”  The new guidance says such explorations should take place only “to the extent that resources and time permit” and specifically puts the judge’s bench off limits. The new memo also warns judges to be skeptical, since an unaccompanied minor “generally receives more favorable treatment under the law than other categories of illegal aliens,” which creates “an incentive to misrepresent accompaniment status or age in order to attempt to qualify for the benefits.” It also says to be on the lookout for “fraud and abuse,” language that was not in the previous memo. Immigration judges are appointed by the U.S. Attorney General and courts are part of the Department of Justice, not an independent branch. The only sitting immigration judges routinely allowed to speak to the media are representatives of their union, the National Association of Immigration Judges.  Dana Marks, a sitting judge and spokeswoman for the union, said the “overall tone” of the memo “is very distressing and concerning to immigration judges.”  “There is a feeling that the immigration courts are just being demoted into immigration enforcement offices, rather than neutral arbiters,” Marks said. “There has been a relentless beating of the drum toward enforcement rather than due process.”   Former immigration judge Andrew Arthur, who now works at the Center for Immigration Studies, which promotes lower levels of immigration overall, said the new guidelines were needed.  In their previous form, he said, “so much emphasis was placed on the potential inability of the alien to understand the proceedings ... that it almost put the judge into the position of being an advocate.”   The courts have had to handle a surge in cases for unaccompanied minors, mostly from Central America, after their numbers sky-rocketed in 2014 as violence in the region caused residents to flee north.  While illegal crossings initially fell after Trump took office, U.S. Customs and Border Protection said that since May, each month has seen an increase in children being apprehended either alone or with family members.  Attorney General Jeff Sessions said in a speech in Boston in September that the special accommodations for unaccompanied minors had been exploited by “gang members who come to this country as wolves in sheep clothing.” Echoing some of these concerns, the new memo notes in a preamble that not all child cases involve innocents, and that the courts might see “an adolescent gang member” or “a teenager convicted as an adult for serious criminal activity.”  Jennifer Podkul, policy director of Kids in Need of Defense (KIND) said Congress included special procedural protections for immigrant children in a 2008 anti-trafficking bill to “make sure that a kid gets a fair shot in the courtroom.” “These kids are by themselves telling a very complicated and oftentimes very traumatic story,” said Podkul. “The approach of this memo, which is much more suspicious, is not going to help get to the truth of a child’s story.”  In cases where children are called to testify, the old guidance instructed judges to “seek to limit the amount of time the child is on the stand.” The new guidance says that judges should “consider” limiting the child’s time on the stand “without compromising due process for the opposing party,” which is generally a government prosecutor. The memo leaves in a range of special accommodations made for children, including allowing them to bring a pillow or booster seat or a “toy, book, or other personal item.” It also maintains that cases involving unaccompanied minors should be heard on a separate docket when possible and that children should not be detained or transported with adults. ",
         "politicsNews",
         "December 23, 2017 "
        ],
        [
         "22",
         "Trump travel ban should not apply to people with strong U.S. ties: court",
         "(Reuters) - A U.S. appeals court on Friday said President Donald Trump’s hotly contested travel ban targeting people from six Muslim-majority countries should not be applied to people with strong U.S. ties. The 9th U.S. Circuit Court of Appeals, which covers several West Coast states, also said its ruling would be put on hold pending a decision on the latest version of the travel ban from the Trump administration by the U.S. Supreme Court. Since taking office in January, Trump has been struggling to enact a ban that passes court muster. A three-judge panel from the 9th Circuit narrowed a previous injunction from a lower federal court to those people “with a credible bona fide relationship with the United States.” It also said that while the U.S. president has broad powers to regulate the entry of immigrants into the United States, those powers are not without limits. “We conclude that the President’s issuance of the Proclamation once again exceeds the scope of his delegated authority,” the panel said. The ban targets people from Chad, Iran, Libya, Somalia, Syria and Yemen seeking to enter the United States. Trump, a Republican, has said the travel ban is needed to protect the United States from terrorism. The state of Hawaii, however, challenged it in court, and a Honolulu federal judge said it exceeded Trump’s powers under immigration law. Trump’s ban also covers people from North Korea and certain government officials from Venezuela, but the lower courts had already allowed those provisions to go into effect. The same three-judge 9th Circuit panel, which limited a previous version of Trump’s ban, heard arguments earlier this month. Trump issued his first travel ban targeting several Muslim-majority countries in January, which caused chaos at airports and mass protests. He issued a revised one in March after the first was blocked by federal courts. That expired in September after a court fight and was replaced with the current version. The ban has some exceptions. Certain people from each targeted country can still apply for a visa for tourism, business or education purposes, and applicants can ask for an individual waiver. “We are pleased that the Supreme Court has already allowed the government to implement the proclamation and keep all Americans safe while this matter is litigated. We continue to believe that the order should be allowed to take effect in its entirety,” U.S. Justice Department spokeswoman Lauren Ehrsam said in a statement. ",
         "politicsNews",
         "December 23, 2017 "
        ],
        [
         "23",
         "Second court rejects Trump bid to stop transgender military recruits",
         "WASHINGTON (Reuters) - A federal appeals court in Washington on Friday rejected a bid by President Donald Trump’s administration to prevent the U.S. military from accepting transgender recruits starting Jan. 1, the second court to issue such a ruling this week. Four federal judges around the country have issued injunctions blocking Trump’s ban on transgender people from the military, including one that was also handed down on Friday. The administration has appealed the previous three rulings. In a six-page order, the three-judge-panel of the U.S. Court of Appeals for the District of Columbia Circuit said the administration had “not shown a strong likelihood that they will succeed on the merits of their challenge” to a district court’s order blocking the ban. On Thursday the Richmond, Virginia-based 4th U.S. Circuit Court of Appeals said it was denying the administration’s request while the appeal proceeds. The two courts’ actions could prompt the administration to ask the conservative-majority U.S. Supreme Court to intervene. Also on Friday, a federal trial court in Riverside, California, blocked the ban while the case proceeds, making it the fourth to do so, after similar rulings in Baltimore, Seattle and Washington, D.C. U.S. District Judge Jesus Bernal said without the injunction the plaintiffs, including current and aspiring service members, would suffer irreparable harm. “There is nothing any court can do to remedy a government-sent message that some citizens are not worthy of the military uniform simply because of their gender,” he added. The administration had argued that the Jan. 1 deadline for accepting transgender recruits was problematic because tens of thousands of personnel would have to be trained on the medical standards needed to process transgender applicants, and the military was not ready for that. The Obama administration had set a deadline of July 1, 2017, to begin accepting transgender recruits, but Trump’s defense secretary, James Mattis, postponed that date to Jan. 1. In an August memorandum, Trump gave the military until March 2018 to revert to a policy prohibiting openly transgender individuals from joining the military and authorizing their discharge. The memo also halted the use of government funds for sex-reassignment surgery for active-duty personnel. ",
         "politicsNews",
         "December 23, 2017 "
        ],
        [
         "24",
         "Failed vote to oust president shakes up Peru's politics",
         "LIMA (Reuters) - Peru’s President Pedro Pablo Kuczynski could end up the surprise winner of an attempt to oust him from power this week, after some opposition lawmakers broke ranks with party leaders to support him, opening a divide that might strengthen his hand. Despite having a Congressional majority, the rightwing opposition party Popular Force was unable to push through a motion to remove Kuczynski from office on Thursday, after 10 of its own lawmakers broke ranks to save the president. The vote cemented a growing divide in the opposition and looked to threaten its control over Congress, potentially aiding Kuczynski as he tries to restore political stability and revive investments in one of Latin America’s most robust economies. The surprise defection was the result of a deal struck between Kuczynski and Popular Force rebel lawmaker Kenji Fujimori to get his father and ex-president Alberto Fujimori out of prison, alleged Popular Force secretary general, Jose Chlimper. Over the past year, Kenji has courted Kuczynski’s center-right government while challenging his sister Keiko’s leadership of the rightwing populist movement that their father formed in the 1990s. In defiance of his sister, Kenji threw his support behind Kuczynski ahead of the vote on whether to remove him from office over unproven graft allegations. Nine other Popular Force lawmakers followed his lead. “This is the birth of a serious and formal split (in the Fujimori movement),” said Guillermo Loli, the head of political research for pollster Ipsos Peru. “Everything points to a pardon,” he added.     Kuczynski’s government denied that a pardon for Fujimori was part of its political negotiations. In an address to the nation late on Friday, Kuczynski said he would spend the coming days reflecting on his year and a half in office. “I’ll be announcing to you changes to make sure 2018 is not just a year of greater growth, but politically different,” Kuczynski said. Efforts to reach the Popular Force lawmakers who defected were not successful. One, Clayton Galvan, said on local TV channel Canal N that Alberto Fujimori called them from prison to ask them to help Kuczynski stay in power.     Alberto Fujimori, who is serving a 25-year sentence for graft and human rights crimes, is a deeply divisive figure in Peru. While many consider him a corrupt dictator, others credit him with ending an economic crisis and bloody leftist insurgency during his 1990-2000 term. Freeing him would likely anger the well-organized foes of the Fujimori clan - a mix of technocrats, leftists, human rights activists and academics. “The day (Kuczynski) signs a pardon, he loses all of those guys. Permanently,” said Harvard University political scientist Steve Levitsky. Support from the anti-Fujimori crowd was key to Kuczynski’s razor-thin victory over Keiko in last year’s presidential election, and to keeping the motion to oust him from succeeding. “Kuczynski was saved by two diametrically opposed political groups: Kenji’s group and the left, which opposes a pardon. He can’t please both of them,” said Levitsky. Kuczynski, a 79-year-old former investment banker, took office amid hopes he would usher in cleaner government and faster economic growth. Instead, a graft scandal roiling Latin America has stalled investments and ensnared him in allegations of wrongdoing. Before the vote on Thursday, Kuczynski fanned fears of a return to Peru’s authoritarian past and described the motion as part of a legislative “coup” attempt by Keiko’s supporters. Popular Force denies the charge and says the bid to remove him was part of its fight against corruption and within the bounds of the constitution. A hardline Popular Force lawmaker loyal to Keiko, Hector Becerril, said the Kenji faction represented “traitors.”  “If they have any sense of decency after this vote, the least they could do is present their resignations,” Becerril told journalists on Friday. “Hopefully today.” With 10 votes fewer, Popular Force would command 61 seats in the 130-member, single-chamber Congress, less than an absolute majority, though it would still be the biggest voting bloc. The political crisis has cost Kuczynski his interior minister, Carlos Basombrio, who announced his resignation on Friday. Kuczynski could make a decision about other Cabinet changes in coming days, his government said.             ",
         "politicsNews",
         "December 23, 2017 "
        ],
        [
         "25",
         "Trump signs tax, government spending bills into law",
         "WASHINGTON (Reuters) - U.S. President Donald Trump signed Republicans’ massive $1.5 trillion tax overhaul into law on Friday, cementing the biggest legislative victory of his first year in office, and also approved a short-term spending bill that averts a possible government shutdown. Trump said he wanted to sign the tax bill before leaving Washington on Friday for his Mar-a-Lago estate in Florida, rather than stage a more formal ceremony in January, so he could keep his promise to finish work before Christmas. “I didn’t want you folks to say I wasn’t keeping my promise. I’m keeping my promise,” he told reporters in the White House. The two pieces of legislation represent Trump’s most significant accomplishment with Congress since taking office in January, as well as a sign of what awaits when he returns from Florida after the Christmas holiday. The tax package, the largest such overhaul since the 1980s, slashes the corporate rate from 35 percent to 21 percent and temporarily reduces the tax burden for most individuals as well. Trump praised several companies that have announced employee bonuses in the wake of the bill’s passage, naming AT&T, Boeing, Wells Fargo, Comcast  and Sinclair Broadcast Group. “Corporations are literally going wild over this,” he said.      Democrats had opposed the bill as a giveaway to the wealthy that would add $1.5 trillion to the $20 trillion national debt during the next decade. The spending bill extends federal funding through Jan. 19, largely at current levels. It does nothing to resolve broader disputes over immigration, healthcare and military spending. Republicans also are divided over whether to follow up their sweeping overhaul of the U.S. tax code with a dramatic restructuring of federal benefit programs. House Speaker Paul Ryan has said he would like to revamp welfare and health programs but Senate Republican Leader Mitch McConnell told National Public Radio on Monday that he was not interested in cutting those programs without Democratic support. Trump’s year also closes with significant turnover of many top staffers who had been in the White House since early in his term. On Friday, the White House confirmed Deputy Chief of Staff Rick Dearborn and Jeremy Katz, who worked under White House economic adviser Gary Cohn, were leaving. ",
         "politicsNews",
         "December 22, 2017 "
        ],
        [
         "26",
         "Companies have up to a year for new U.S. tax bill reporting: SEC",
         "WASHINGTON (Reuters) - U.S. financial regulators said on Friday that because the new tax bill could make timely financial reporting difficult, public companies can make reasonable estimates when uncertain of the impact of the new tax law in financial reports, and will have up to a year to report final numbers.               The Securities and Exchange Commission bulletin comes after the U.S. Chamber of Commerce warned on Thursday that some U.S. listed companies may struggle to file their annual financial reports on time because the Republican-led overhaul of the country’s tax system may prompt a raft of additional disclosures. In a statement on the Tax Cuts and Jobs Act (TJCA) issued on Friday, SEC Chairman Jay Clayton and Commissioners Kara Stein and Michael Piwowar said guidance was similar to that given in the past when tax law changes affected financial reporting. The $1.5 trillion tax bill, signed into law on Friday by U.S. President Donald Trump, will significantly affect many companies’ year-end financial statements because listing rules oblige them to flag any potential material risks or changes to their operations and financial outlook to shareholders. The bill significantly lowers the income tax rate for U.S. companies - to 21 percent from 35 percent - allows them to repatriate cash from overseas, and modifies numerous deductions, among other changes.  Public companies have been given a “measurement period” to study the changes created by a new law. During the measurement period, the SEC expects companies to complete their accounting and that “in no circumstances should the measurement period extend beyond one year from the enactment date,” of the TJCA. Companies will also need to make disclosures during the measurement period, including any updates to provisional amounts given earlier, or newly discovered reporting implications from tax bill. For companies with fiscal years ending Dec. 31, getting the necessary analysis done in time could be tough, the Chamber said. The tax bill It is the largest such overhaul since the 1980. In addition to slashing the corporate rate, it temporarily reduces the tax burden for most individuals.     ",
         "politicsNews",
         "December 23, 2017 "
        ],
        [
         "27",
         "Trump on Twitter (Dec 22) - Tax cut, Missile defense bill",
         "The following statements were posted to the verified Twitter accounts of U.S. President Donald Trump, @realDonaldTrump and @POTUS.  The opinions expressed are his own. Reuters has not edited the statements or confirmed their accuracy.  @realDonaldTrump : - Our big and very popular Tax Cut and Reform Bill has taken on an unexpected new source of “love” - that is big companies and corporations showering their workers with bonuses. This is a phenomenon that nobody even thought of, and now it is the rage. Merry Christmas! [0747 EST] - At some point, and for the good of the country, I predict we will start working with the Democrats in a Bipartisan fashion. Infrastructure would be a perfect place to start. After having foolishly spent $7 trillion in the Middle East, it is time to start rebuilding our country! [0805 EST] - “The President has accomplished some absolutely historic things during this past year.” Thank you Charlie Kirk of Turning Points USA. Sadly, the Fake Mainstream Media will NEVER talk about our accomplishments in their end of year reviews. We are compiling a long & beautiful list. [0917 EST] - With all my Administration has done on Legislative Approvals (broke Harry Truman’s Record), Regulation Cutting, Judicial Appointments, Building Military, VA, TAX CUTS & REFORM, Record Economy/Stock Market and so much more, I am sure great credit will be given by mainstream news? [1004 EST] - Will be signing the biggest ever Tax Cut and Reform Bill in 30 minutes in Oval Office. Will also be signing a much needed 4 billion dollar missile defense bill. [1007 EST] -- Source link: (bit.ly/2jBh4LU) (bit.ly/2jpEXYR) ",
         "politicsNews",
         "December 22, 2017 "
        ],
        [
         "28",
         "Mexico to review need for tax changes after U.S. reform-document",
         "MEXICO CITY (Reuters) - Mexico’s finance ministry will evaluate whether to make fiscal changes in response to the U.S. tax reform, according to a document seen by Reuters on Friday. In the document, the ministry said Mexico would not make changes that left it with a higher public sector deficit. “Nevertheless, there will be an assessment of whether modifications should be made to Mexico’s fiscal framework,” the document said. ",
         "politicsNews",
         "December 22, 2017 "
        ],
        [
         "29",
         "Senate leader McConnell sees a more collegial 2018",
         "WASHINGTON (Reuters) - U.S. Senate Majority Leader Mitch McConnell on Friday said a shifting landscape will lead him to work with Democrats on immigration and financial regulation early in the new year, following a year of acrimony and partisan legislation. In an end-of-year news conference, McConnell touted a list of Republican accomplishments since President Donald Trump took office in January. It started with the confirmation of Neil Gorsuch to the Supreme Court and ended with an overhaul of the  U.S. tax code. But in January, McConnell’s already razor-thin 52-48 Republican majority will shrink to 51-49 with the swearing in of Senator-elect Doug Jones, the Democrat who surprised the political world with a win in a special election in the deeply Republican state of Alabama. Adding to McConnell’s difficulties, special Senate procedures are fading that allowed him to pass a tax bill and try to repeal the Affordable Care Act this year without any Democratic support. That means that McConnell’s victories - if he has them - will require more collaboration and less confrontation. The pivot was the centerpiece of his news conference remarks.  “There are areas where I think we can get bipartisan agreement,” McConnell said. First on his list was legislation to change Dodd-Frank banking regulations that he said would help smaller financial institutions. The Kentucky senator noted that Senate Banking Committee Chairman Mike Crapo has advanced legislation that is co-sponsored by several Democrats. McConnell also pointed to bipartisan efforts to help undocumented immigrants, known as “Dreamers,” who were brought into the United States when they were children. If negotiators from both parties can come to a deal for the Dreamers that Trump’s administration can support, “we’ll spend floor time on that in January,” McConnell said. On Thursday, Senate Democratic Leader Chuck Schumer complained that throughout 2017 Republicans “have been hell-bent on pursuing a partisan agenda.” When asked by a reporter of possible bipartisan successes in 2018, Schumer pointed to the need for infrastructure improvements but said that Trump has been “all over the lot” on how to accomplish road, airport and other construction projects. With the November 2018 congressional elections approaching, Democrats might have less incentive to cooperate with Republicans, especially after Schumer’s party won decisive victories in special elections this month and last in Alabama and Virginia. McConnell hinted it would be tougher to find agreement with Democrats on some other legislative issues, including welfare reform, which Trump says he wants to push ahead with in 2018. McConnell said he would consult with Trump and House of Representatives Speaker Paul Ryan in January over prospects for welfare reform.  ",
         "politicsNews",
         "December 22, 2017 "
        ],
        [
         "30",
         "Alabama to certify Democrat Jones winner of Senate election",
         "(Reuters) - Democrat Doug Jones’ surprise victory over Republican Roy Moore in this month’s special U.S. Senate election will be certified on Dec. 28, Alabama state officials said on Friday. Jones will be the first Democrat sent to the Senate from Republican stronghold Alabama in a quarter century. When he takes office, Republicans’ majority in the chamber will narrow to 51 of the 100 seats. Alabama Governor Kay Ivey, Attorney General Steve Marshall and Secretary of State John Merrill will meet to certify Jones’ win, Merrill’s office said in a statement. Jones’ margin of victory was 1.5 percentage points. Moore has not conceded defeat in the Dec. 12 vote, despite being urged by President Donald Trump to do so. Calls and emails to Moore’s campaign spokeswomen were not immediately returned on Friday. Moore was a controversial candidate whose campaign was beset by allegations that he sexually assaulted or pursued teenage girls while he was in his 30s. He denied the misconduct allegations, saying they were a result of “dirty politics.” ",
         "politicsNews",
         "December 22, 2017 "
        ],
        [
         "31",
         "McConnell happier with Trump tweets after tax victory",
         "WASHINGTON (Reuters) - A summer spat between President Donald Trump and Senate Majority Leader Mitch McConnell has turned into a warm embrace - and all it took was a sweeping rewrite of the U.S. tax code.     For months, McConnell urged the president to lock his cell phone in a drawer and retire his signature tweets that have Washington abuzz on a daily basis. He even chided Trump for having “excessive expectations” of Congress. For his part, Trump scorched McConnell in August for failing to repeal Obamacare, sidestepped reporters’ questions over whether the senator should retire and tweeted, “Mitch, get to work.” But with Congress’ passage of the tax bill this week, giving Trump his first major legislative victory, the president tweeted on Wednesday, “I would like to congratulate @SenateMajLdr on having done a fantastic job.” McConnell joined in the love fest on Friday, or at least what constitutes a love fest for the understated senator. “With regard to the president’s tweeting habits, I haven’t been a fan until this week. I’m warming up to it,” McConnell quipped. Still, he reined in reporters who asked whether he might visit Trump in Mar-a-Lago, the president’s Florida resort, over the Christmas and New Year holidays. McConnell laughed and said he would instead be attending a Dec. 30 football game in Jacksonville, Fla. “That’s the closest I’ll get.” ",
         "politicsNews",
         "December 22, 2017 "
        ],
        [
         "32",
         "House panel asks Trump ex-top aide Bannon to testify: Bloomberg",
         "WASHINGTON (Reuters) - Steve Bannon, a former top White House strategist and a former chief campaign aide to Donald Trump, has been asked to testify before the U.S. House of Representatives intelligence panel next month, Bloomberg News reported. Corey Lewandowski, Trump’s former campaign manager, was also asked to testify in early January, Bloomberg reported on Friday, citing an official familiar with the committee’s schedule.  Representatives for the committee did not immediately respond to inquiries for comment. The panel is probing alleged Russian meddling into the 2016 U.S. election. ",
         "politicsNews",
         "December 22, 2017 "
        ],
        [
         "33",
         "Callista Gingrich becomes Trump's envoy to pope as differences mount",
         "VATICAN CITY (Reuters) - Callista Gingrich, wife of the former speaker of the U.S. House of Representatives, on Friday became U.S. ambassador to the Vatican, which is at odds with Washington over immigration, climate change and Jerusalem. Callista Gingrich, 51, an author, documentary filmmaker and former congressional aide, presented her credentials to Pope Francis at the Vatican to officially assume her role. Her husband Newt Gingrich was an early supporter and vocal ally of U.S. President Donald Trump. Newt Gingrich is expected to continue his role as a political contributor to Fox News from his new base in Rome. Trump’s nomination of Callista Gingrich to the post at the Holy See in May caused some controversy because of her marriage to Gingrich, with whom she became involved when he was still married to his second wife. Both are Roman Catholic. On Thursday they attended the funeral at the Vatican of Cardinal Bernard Law, who resigned as Archbishop of Boston 15 years ago after covering up years of sexual abuse of children by priests.  The pope has implicitly criticized Trump’s decision to pull out of the Paris accord on climate change. He said last month that denying climate change or being indifferent to its effects were “perverse attitudes” that blocked research and dialogue aimed at protecting the future of the planet. Francis is also opposed to Trump’s decision to recognize Jerusalem as Israel’s capital. The pontiff has called for respect for the city’s “status quo,” saying new tension in the Middle East would further inflame world conflicts.. On Thursday at the United Nations, where the Vatican has permanent observer status, more than 120 countries defied Trump and voted in favor of a resolution calling for the United States to drop its recent recognition. The U.S. embassy said in a statement that the new ambassador “looks forward to working with the Holy See to defend human rights, advance religious freedom, combat human trafficking, and to seek peaceful solutions to crises around the world”.    ",
         "politicsNews",
         "December 22, 2017 "
        ],
        [
         "34",
         "As Republicans aim to ride economy to election victory, a warning from voters in key district",
         " KING OF PRUSSIA, Pennsylvania/WASHINGTON (Reuters) - In the Fox & Hound sports bar, next to a shopping mall in suburban Philadelphia, four Democrats are giving speeches to potential voters as they begin their journey to try to unseat Republican congressman Pat Meehan in next year’s elections. Winning this congressional district - Pennsylvania’s 7th - is key to Democrats’ hopes of gaining the 24 seats they need to retake the U.S. House of Representatives next November. The stakes are high - control of the House would allow them to block President Donald Trump’s legislative agenda. On the surface, Democrats face a significant hurdle. In nearly two-thirds of 34 Republican-held districts that are top of the party’s target list, household income or job growth, and often both, have risen faster than state and national averages over the past two years, according to a Reuters analysis of census data. (Graphic: tmsnrt.rs/2Bgq29K) That is potentially vote-winning news for Republican incumbents, who in speeches and television ads can trumpet a strengthening economy as a product of Republican control of Washington, even though incomes and job growth began improving under former Democratic President Barack Obama. “The good economy is really the only positive keeping Republicans afloat,” said David Wasserman, a congressional analyst with the non-partisan Cook Political Report. Still, trumpeting the good economy may have limited impact among voters in competitive districts like this mostly white southeast region of Pennsylvania bordering Delaware and New Jersey, which has switched between both parties twice in the past 15 years. Many of the two dozen voters that Reuters interviewed in the 6th and 7th districts agreed the economy was strong, that jobs were returning and wages were growing. A handful were committed Republicans and Democrats who always vote the party line. About half voted for Meehan last year, but most of those said they were unsure whether they would vote for him again in 2018. Some said they were disappointed with the Republican Party’s handling of healthcare and tax reform as well as Trump’s erratic performance. About half also felt that despite an improving economy, living costs are squeezing the middle class. Drew McGinty, one of the Democratic hopefuls at the Fox & Hound bar hoping to unseat Meehan, said the good economic numbers were misleading. “When I talk to people across the district, I hear about stagnant wages. I hear about massive debt young people are getting when they finish college. There’s a lot out there not being told by the numbers,” he said. Still, Meehan, who won by 19 points in last November’s general election, is confident the strong economy will help him next year. He plans to run as a job creator and a champion of the middle class. “The first thing people look at is whether they have got a job and income,” Meehan said in a telephone interview. Democratic presidential candidate Hillary Clinton carried the district by more than two points in the White House race, giving Democrats some hope that they can peel it away from Republicans next November. Kyle Kondik, a political analyst at the University of Virginia Center for Politics, said the election will essentially be a referendum on Trump. The economy might help Republicans, he said, but other issues will likely be uppermost in voters’ minds, like the Republican tax overhaul - which is seen by some as favoring the rich over the middle class - and Trump’s dismantling of President Barack Obama’s initiative to expand healthcare to millions of Americans, popularly known as Obamacare. Indeed, healthcare is Americans’ top concern, according to a Reuters/Ipsos poll conducted earlier this month. Next is terrorism and then the economy. “Healthcare will be the No. 1 issue,” in the election, predicted Molly Sheehan, another Democrat running to unseat Meehan. Democrats have warned that dismantling Obamacare will leave millions of Americans without health coverage, and political analysts say Republicans in vulnerable districts could be punished by angry voters. Republicans argue that Obamacare drives up costs for consumers and interferes with personal medical decisions. In Broomall, a hamlet in the 7th District, local builder Greg Dulgerian, 55, said he voted for Trump and Meehan. He still likes Trump because of his image as a political outsider, but he is less certain about Meehan. “I’m busy, which is good,” Dulgerian said. “But I actually make less than I did 10 years ago, because my living costs and costs of materials have gone up.” Dulgerian said he was not sure what Meehan was doing to address this, and he was open to a Democratic candidate with a plan to help the middle class. Ida McCausland, 65, is a registered Republican but said she is disappointed with the party. She views the overhaul of the tax system as a giveaway to the rich that will hit the middle class. “I will probably just go Democrat,” she said. Still, others interviewed said the good economy was the most important issue for them and would vote for Meehan.     Mike Allard, 35, a stocks day trader, voted for Clinton last year but did not cast a ballot in the congressional vote. He thinks the economy will help Meehan next year and is leaning toward voting for him. “Local businesses like the way the economy is going right now,” he said. In the 7th district median household income jumped more than 10 percent from 2014 to 2016, from $78,000 to around $86,000, above the national average increase of 7.3 percent, while job growth held steady, the analysis of the census data shows. Overall, the U.S. economy has grown 3 percent in recent quarters, and some forecasters now think the stimulus from the Republican tax cuts will sustain that rate of growth through next year. Unemployment has dropped to 4.1 percent, a 17-year low. In midterm congressional elections, history shows that voters often focus on issues other than the economy. In 1966 the economy was thriving, but President Lyndon B. Johnson’s Democrats suffered a net loss of 47 seats, partly because of growing unhappiness with the Vietnam War. In 2006, again the economy was humming, but Republicans lost a net 31 seats in the House, as voters focused on the Iraq war and the unpopularity of Republican President George W. Bush. In 2010, despite pulling the economy out of a major recession, Democrats lost control of the House to Republicans, mainly because of the passage of Obamacare, which at the time was highly unpopular with many voters. “When times are bad, the election is almost always about the economy. When the economy is good, people have the freedom and the ability to worry about other issues,” said Stu Rothenberg, a veteran political analyst. ",
         "politicsNews",
         "December 22, 2017 "
        ],
        [
         "35",
         "Exclusive: State Department tells refugee agencies to downsize U.S. operations",
         "(Reuters) - The U.S. State Department has told refugee agencies it will sharply pare back the number of offices across the country authorized to resettle people in 2018 as President Donald Trump cuts the number of refugees allowed into the United States. The announcement was made at a Dec. 1 meeting in Washington with State Department officials and representatives from nine major refugee agencies, several executives of the agencies said. Advocates said the decision is likely to lead to the closure of dozens of resettlement offices around the country, potentially leaving some refugees without access to services that help them integrate into American life. Several state refugee coordinators said they had also been made aware of the closures.     Refugee resettlement in the United States is handled by nine non-profit agencies that receive funding from the federal government for some of their refugee work. They partner with, or oversee, hundreds of local offices in nearly every state that help new arrivals with basic tasks like enrolling children in school, arranging doctors’ visits and applying for Social Security cards and other documents.  Though the agencies are independent, they must get government approval for where they will resettle new refugees.  Aid workers and state officials involved in refugee resettlement said the agencies were informed by the State Department in the Dec. 1 meeting that offices expected to handle fewer than 100 refugees in fiscal year 2018 will no longer be authorized to resettle new arrivals, which means many of them will have to close. There are about 300 resettlement offices spread across 49 states, and advocates estimate several dozen are at risk, though shuttering plans will not be finalized until next year. The Trump administration has said it wants refugees to assimilate quickly, both to promote national security and so that they can become self-sufficient. Refugee advocates say the closure of local offices will undermine that goal. They say the offices play a crucial role in helping newcomers traumatized from having fled conflict or persecution. Even if no new refugees are resettled by the offices they still have an obligation to help those already here, they say.  If refugees lose access to “services to help them navigate the processes of registering for school, and English classes and finding a job, that will mean that it will take longer for them to navigate life in the United States and contribute to our economy,” said Robert Carey, who directed the Office of Refugee Resettlement under former President Barack Obama.  A State Department official confirmed the Dec. 1 meeting and said the agency is looking to “reduce costs and simplify management structures to help the U.S. Refugee Admissions Program run in a way that is fiscally responsible and sustainable.”  Some conservative groups that favor lower immigration said they would welcome curbs on the agencies’ activities. “These organizations have to adapt when their services are no longer needed as much,” said Jessica Vaughan, director of policy studies at the Center for Immigration Studies. “There is no reason to keep funneling money to them.” Joshua Meservey, a senior policy analyst at the conservative Heritage Foundation who formerly worked in refugee resettlement, said that costs need to be balanced against benefits. “It is unclear to me if the assimilation gains are great enough to justify the extra expense” of funding the smaller agencies, he said. The nine agencies are now trying to coordinate closures so that they can maintain at least one resettlement agency in as many states as possible, several agency executives said. “We’re hoping that they (the State Department) only close sites where there is possible duplication,” said Mark Hetfield, president of HIAS, one of the nine agencies. “This is going to have to be a negotiation and a process.” Since taking office in January, Trump has moved to sharply reduce refugee admissions to the United States, because of national security concerns and a belief that money could be better spent resettling people closer to their original homes. Soon after taking office, he slashed the 2017 U.S. refugee cap to 50,000 from the 110,000 ceiling set by Obama. In September, he announced a cap of 45,000 for 2018, the lowest number since the modern U.S. refugee program was established in 1980. The resettlement office in Chattanooga, Tennessee is at risk of shutting down, because it is only projected to receive about 85 refugees, said Holly Johnson, the state’s refugee coordinator. “Small doesn’t necessarily mean weak or subpar,” Johnson said. “They spend more time with folks, they have really well-established connections to the community, so people feel welcomed, which really helps.” Until this year, Idaho had four resettlement offices - three in Boise and one in Twin Falls, said Jan Reeves, director of the Idaho Office for Refugees, a non-profit which administers resettlement in the state. Earlier this year one of the sites in Boise shut down, he said. “It was disruptive, and we’ve lost a really valuable partner and we’ve lost some capacity to do the job,” he said. ",
         "politicsNews",
         "December 21, 2017 "
        ],
        [
         "36",
         "Congress votes to avert shutdown, sends Trump stopgap spending bill",
         "WASHINGTON (Reuters) - The U.S. Congress on Thursday averted a government shutdown just one day before federal funding was due to expire, sending President Donald Trump a bill to provide just enough money to keep agencies operating through Jan. 19. With lawmakers eager to begin a holiday recess until Jan. 3, the House of Representatives and Senate scurried to pass the hastily written bill by votes of 231-188 and 66-32, respectively. When Congress returns, lawmakers will immediately have to get back to work on appropriating more money for a fiscal year that already will be three months old. They will try to pass an “omnibus” spending bill to fund the government from Jan. 19 through Sept. 30. Negotiators have been struggling for months over thorny issues such as the amount of defense-spending increases versus increases for other domestic programs, including medical research, opioid treatment and “anti-terrorism” activities. Fiscal hawks, meanwhile, are angry that Congress is again moving to bust through spending caps that had been designed to tamp down mounting federal debt. But some of those same lawmakers in the Republican-controlled Congress earlier in the week voted for a sweeping tax bill that will add $1.5 trillion over the next 10 years to a national debt that already stands at $20 trillion. With the clock ticking toward a deadline of midnight on Friday when government funding would run out, Democrats in the House and Senate made a strong pitch for including protections for young immigrants who entered the country illegally as children, popularly known as “Dreamers.” In the end, the Congressional Hispanic Caucus and immigration advocacy groups failed. But nearly all of the House’s 193 Democrats and 29 of the Senate’s 46 Democrats voted no, in part to protest the lack of action on the immigration measure. Shortly before the House and Senate votes, Democratic Representative Luis Gutierrez told reporters, “We’re really tired of tomorrow,” referring to years of failed attempts in Congress to protect Dreamers from deportation, allow them to legally work in the United States and get on a path to citizenship. They will resume their fight in January, aiming to win on the next spending bill or a separate measure. Trump has eliminated Obama-era temporary protections for Dreamers, but has asked Congress to come up with a permanent solution by March. In the meantime, about 122 Dreamers a day are becoming vulnerable to deportation while Congress bickers. Also on Thursday, the Senate put the brakes on another bill that passed the House, which would provide $81 billion in new disaster aid to help Puerto Rico, the U.S. Virgin Islands and several states hit by this year’s hurricanes or wildfires. The temporary spending bill did, however, give Trump a modest increase of $4.7 billion for the Department of Defense to be used for missile defense and ship repair. The bill includes $2.85 billion to fund the Children’s Health Insurance Program through March and funding for community health centers and the Indian Health Service. The plan also would extend the National Security Agency’s expiring internet surveillance program, known as Section 702 of the Foreign Intelligence Surveillance Act, through Jan. 19. Other provisions address funding for veterans, the Coast Guard and flood insurance. Most government programs would be temporarily extended until Jan. 19 at fiscal 2017 levels. ",
         "politicsNews",
         "December 21, 2017 "
        ],
        [
         "37",
         "Factbox: Big-ticket items at center of Congress spending bill",
         "(Reuters) - The U.S. Congress on Thursday approved a temporary funding bill to prevent federal agencies from shutting down at midnight Friday when existing money was set to expire. The following are the major items that were debated on the legislation that President Donald Trump is expected to sign into law: The Friday midnight deadline for action was the result of the Republican-controlled Congress failing to pass any of the regular appropriations bills for the fiscal year that began Oct. 1. Instead, the government has been operating on a series of temporary measures. This newest stopgap bill continues funding for government operations through Jan. 19, giving lawmakers several weeks to work out a spending bill that would pay for agency activities through Sept. 30, the end of the current fiscal year.  House of Representatives conservatives failed in their bid to attach a major defense spending increase that would fund the Pentagon through September. Instead, Congress agreed to fund the military through Jan. 19, like most other programs. But in a move to attract support, a $4.7 billion increase was included to be used for missile defense and ship repair. Democrats and Republicans will continue negotiations on higher funding for both military and non-military programs. An $81 billion disaster aid bill was going to be attached to the government funding bill. Instead, the House approved it as a stand-alone bill, only to see the Senate put off action until at least next month. It would build on about $52 billion already provided to Puerto Rico, the U.S. Virgin Islands and several states hit by severe hurricanes, wildfires or other natural disasters. Democrats want to do more for Puerto Rico and some Republicans worry about the mounting costs of disaster aid. The Children’s Health Insurance Program, which helps provide medical care to nearly 9 million children in low-income families, will get $2.85 billion to cover expenses through March as lawmakers seek a more permanent solution. Senators put off until early next year their bid to maintain healthcare subsidies for low-income people participating in the Affordable Care Act, also known as Obamacare. Many House Republican lawmakers dislike the idea. The National Security Agency’s warrantless internet surveillance program under the Foreign Intelligence Surveillance Act will be extended through Jan. 19 as lawmakers try to reconcile competing versions of such legislation in the House and Senate.  Legislation to protect “Dreamers” from deportation was not included, despite Democrats’ push to resolve the issue by year’s end. It was a major disappointment for the Congressional Hispanic Caucus and immigration advocacy groups. But negotiators are still trying to reach a deal on helping immigrants, many from Mexico and Central America, brought to the United States illegally as children. The issue is expected to come back to life in early 2018.   ",
         "politicsNews",
         "December 21, 2017 "
        ],
        [
         "38",
         "In victory for Trump, judge tosses suit on foreign payments",
         "NEW YORK (Reuters) - A federal judge in New York on Thursday threw out a lawsuit that had accused President Donald Trump of violating the U.S. Constitution by accepting foreign payments through his hotels and other businesses, handing him a major victory on an issue that has dogged him since even before he took office in January. Though other lawsuits remain pending that make similar claims, the ruling by U.S. District Judge George Daniels is the first to weigh the merits of the U.S. Constitution’s anti-corruption provisions as they apply to Trump, a wealthy businessman who as president regularly visits his own hotels, resorts and golf clubs. In a 29-page opinion granting the Trump administration’s request to toss the suit, Daniels said the plaintiffs did not have legal standing to bring the suit. The plaintiffs included the nonprofit watchdog group Citizens for Responsibility and Ethics in Washington (CREW), a hotel owner, a hotel events booker and a restaurant trade group. The lawsuit, filed after the Republican president took office in January, accused Trump of running afoul of the Constitution’s “emoluments” clause by maintaining ownership of his business empire while in office.  The emoluments clause, designed to prevent corruption and foreign influence, bars U.S. officials from accepting gifts from foreign governments without congressional approval. Trump has ceded day-to-day control of his businesses to his sons. Critics have said that is not a sufficient safeguard. The plaintiffs said they are legally injured when foreign governments try to “curry favor” with Trump by paying to use his businesses, such as the Trump International Hotel in Washington or a high-end restaurant at a Trump hotel in New York City. The plaintiffs said this leads them to have lost patronage, wages and commissions. U.S. Department of Justice spokeswoman Lauren Ehrsam said the Trump administration “appreciates the court’s ruling.” Daniels, appointed to the bench by Democratic former President Bill Clinton, said in his decision that the plaintiffs’ claims were speculative. Daniels said Trump had amassed wealth and fame even before taking office and was competing in the hospitality industry.  “It is only natural that interest in his properties has generally increased since he became president,” the judge wrote. The judge also said that if Congress wanted to do something about the president’s actions, it could. “Congress is not a potted plant,” Daniels said. “It is a co-equal branch of the federal government with the power to act.” CREW Executive Director Noah Bookbinder said that his legal team is weighing options on how to proceed. “While today’s ruling is a setback, we will not walk away from this serious and ongoing constitutional violation,” Bookbinder added. Some legal experts had raised concerns even before his inauguration on Jan. 20 that Trump would violate the emoluments clause as president.  ",
         "politicsNews",
         "December 21, 2017 "
        ],
        [
         "39",
         "Senate shelves disaster aid bill until next month",
         "WASHINGTON (Reuters) - Legislation to provide $81 billion in new disaster aid for U.S. states, Puerto Rico and the U.S. Virgin Islands was put on hold by the Senate on Thursday amid attacks from both Republicans and Democrats. The Republican-controlled House of Representatives passed the legislation earlier on Thursday to help recovery efforts stemming from hurricanes and wildfires. But the Senate put off a vote until at least January, according to some lawmakers and aides, after Democrats complained Puerto Rico was not getting enough help and some fiscal hawks fretted about the overall cost. ",
         "politicsNews",
         "December 22, 2017 "
        ],
        [
         "40",
         "Trump on Twitter (Dec 21) - Tax Cuts, Home sales",
         "The following statements were posted to the verified Twitter accounts of U.S. President Donald Trump, @realDonaldTrump and @POTUS.  The opinions expressed are his own. Reuters has not edited the statements or confirmed their accuracy.  @realDonaldTrump : - The Massive Tax Cuts, which the Fake News Media is desperate to write badly about so as to please their Democrat bosses, will soon be kicking in and will speak for themselves. Companies are already making big payments to workers. Dems want to raise taxes, hate these big Cuts! [0724 EST] - Was @foxandfriends just named the most influential show in news? You deserve it - three great people! The many Fake News Hate Shows should study your formula for success! [0745 EST] - Home Sales hit BEST numbers in 10 years! MAKE AMERICA GREAT AGAIN [0856 EST] - House Democrats want a SHUTDOWN for the holidays in order to distract from the very popular, just passed, Tax Cuts. House Republicans, don’t let this happen. Pass the C.R. TODAY and keep our Government OPEN! [0952 EST] -- Source link: (bit.ly/2jBh4LU) (bit.ly/2jpEXYR) ",
         "politicsNews",
         "December 21, 2017 "
        ],
        [
         "41",
         "House widens ethics probe to include Farenthold campaign work",
         "WASHINGTON (Reuters) - The ethics probe into U.S. Representative Blake Farenthold, who is already under a cloud for alleged sexual misconduct, is being expanded to look into whether he mixed his political campaign with congressional work and lied to the House Ethics Committee, the panel said on Thursday. Last week, Farenthold said he would not seek re-election next year after accounts surfaced that he created a hostile work environment. The Texas Republican denied allegations of sexual harassment but admitted allowing an unprofessional culture in his Capitol Hill office. On Thursday the ethics committee voted unanimously to investigate whether Farenthold used his congressional staff and other resources of the House of Representatives to further his political campaign, and if he had made false statements or omissions to the committee. The panel was already looking into whether he committed sexual harassment, discrimination and retaliation against a former staff member and if he made inappropriate statements to other members of his staff.  The committee said the announcement should not be read as an indication that it had found any rule violations. Farenthold’s office did not immediately respond to a request for comment. Congress strictly divides lawmakers’ work on Capitol Hill and their runs for re-election so that taxpayers do not end up subsidizing political campaigns. In August, the committee went so far as to warn Representatives, who face elections every two years, they should not even send texts or forward emails related to their campaigns while in House buildings. Congress is reviewing its workplace policies on sexual harassment after a number of lawmakers have been accused of sexual misconduct in recent weeks amid a wave of such allegations against powerful men in entertainment, politics and the media. A bipartisan group of lawmakers in the House said on Thursday intends to introduce legislation in January reforming a 20-year-old law that covers sexual harassment in Congress, which it hopes will pass soon after. ",
         "politicsNews",
         "December 21, 2017 "
        ],
        [
         "42",
         "U.S. court rejects Trump bid to stop transgender military recruits on Jan. 1",
         "NEW YORK (Reuters) - A federal appeals court in Virginia on Thursday rejected a bid by President Donald Trump’s administration to prevent the U.S. military from accepting transgender recruits starting Jan. 1. The administration had urged the appeals court to suspend an order by a federal judge in Baltimore for the armed forces to begin accepting transgender recruits on that date. The administration has said the Jan. 1 start date was causing the armed forces to scramble to revise their policies at the risk of harming military readiness.  In a brief two-paragraph order, the three-judge panel of the Richmond-based 4th U.S. Circuit Court of Appeals said it was denying the administration’s request while the appeal proceeds. All three judges are Democratic appointees.  The court’s action could prompt the administration to ask the conservative-majority U.S. Supreme Court to intervene. “We disagree with the court’s ruling and are currently evaluating the next steps,” U.S. Justice Department spokeswoman Lauren Ehrsam said in a statement. Several transgender service members, backed by the American Civil Liberties Union, filed suit in Maryland after Trump said in July he would ban transgender people from the military, a move that would reverse a policy of the Republican president’s Democratic predecessor Barack Obama to accept them. Trump cited concern over military focus and medical costs. So far, three federal judges around the country have issued injunctions blocking Trump’s ban. His administration has appealed all three rulings.  Joshua Block, an ACLU attorney who represents the plaintiffs in the Maryland case, said he was happy the appeals court saw through the government’s “smokescreen” to further delay enlistment.  Thursday’s action was in response to the administration’s appeal of a Nov. 21 ruling by U.S. District Judge Marvin Garbis, who said that the transgender prohibition likely violates the plaintiffs’ constitutional right to equal protection under the law. The Garbis ruling followed a similar one on Oct. 30 by another federal judge in Washington, D.C. A third judge in Seattle also ruled against the administration on Dec. 11. In an August memorandum, Trump gave the military until March 2018 to revert to a policy prohibiting openly transgender people from joining the military and authorizing their discharge. The memo also halted the use of government funds for sex-reassignment surgery for active-duty military personnel. The Obama administration had set a deadline of July 1 of this year to begin accepting transgender recruits. But Trump’s defense secretary, James Mattis, postponed that date to Jan. 1, which the president’s ban then put off indefinitely. The Trump administration said in legal papers that the armed forces are not prepared to train thousands of personnel on the medical standards needed to process transgender applicants and might have to accept “some individuals who are not medically fit for service.” The Pentagon on Dec. 8 issued guidelines to recruitment personnel in order to enlist transgender applicants by Jan. 1. The memo outlined medical requirements and specified how the applicants’ sex would be identified and even which undergarments they would wear. The ban’s challengers said the memo contradicted the claim that the military was not ready.  The Justice Department disagreed, telling the court on Wednesday that “all this memorandum shows is that the military is scrambling to comply with the injunction.” The lawsuit’s lead plaintiff Brock Stone, 34, has served in the U.S. Navy for 11 years, including a nine-month deployment to Afghanistan, and wants to remain for at least 20 years, according to court papers.  ",
         "politicsNews",
         "December 21, 2017 "
        ],
        [
         "43",
         "U.S. House approves $81 billion for disaster aid",
         "WASHINGTON (Reuters) - The U.S. House of Representatives on Thursday approved an $81 billion bill to help widespread recovery efforts from hurricanes and wildfires this year. By a vote of 251-169, the House passed the measure to help Puerto Rico, the U.S. Virgin Islands and states rebuild following the natural disasters. The bill now goes to the Senate where it is expected to be approved this week. ",
         "politicsNews",
         "December 21, 2017 "
        ],
        [
         "44",
         "House Democrats rally to protect Special Counsel Mueller",
         "WASHINGTON (Reuters) - Democrats in the U.S. House of Representatives rallied behind Special Counsel Robert Mueller on Thursday, after recent attempts by Republicans and conservative news outlets to discredit him and his probe into Russian interference in the 2016 presidential election. In a letter sent to Justice Department Deputy Attorney General Rod Rosenstein, 171 of the 193 Democrats in the House said they support Mueller’s probe, and urged Rosenstein to let it continue “unfettered by political influence or threats to his authority.”  “We will not stand by and allow Fox News and right-wing Republicans to defy the rule of law and create their own rules to interfere with the legitimate investigation under the Constitution of the United States,” California Democrat Maxine Waters said during a press conference Thursday. “There is an organized effort by Republicans ... to spin a false narrative and conjure up outrageous scenarios to accuse Special Counsel Mueller of being biased,” she added. Rosenstein appointed Mueller as Special Counsel in May, after President Donald Trump fired former FBI Director James Comey for what Trump later said was “this Russia thing.” Critics promptly accused the president of trying to obstruct the probe. Mueller is investigating whether Trump’s presidential campaign colluded with Russia to interfere with the election. Russia has denied meddling and Trump has said there was no collusion.  Republican criticism of Mueller, himself a member of their party, has intensified in recent months since he charged four of Trump’s close associates, including former campaign manager Paul Manafort and former National Security Adviser Michael Flynn. Republicans and talk show hosts on Fox News have accused Mueller’s team and the Federal Bureau of Investigation of bias, citing issues including anti-Trump text messages exchanged between two FBI staffers who previously worked on Mueller’s team. House Republicans have launched their own investigation into the FBI’s handling of Hillary Clinton’s emails, and questioned whether she received favorable treatment after no charges were brought. Recently, rumors have flown around Washington that Trump may be seeking to have Mueller fired. Trump’s lawyers have said that is not true. Rosenstein, also a Republican, oversees Mueller’s team. He can only fire Mueller for good cause, and he told Congress last week he sees no legitimate basis for doing so. “This investigation must continue unimpeded,” House Judiciary Committee Ranking Democrat Jerrold Nadler said Thursday. Nadler said Republicans were trying to “provide cover for the President as the walls close in on him.” ",
         "politicsNews",
         "December 21, 2017 "
        ],
        [
         "45",
         "Second U.S. judge blocks Trump administration birth control rules",
         "SAN FRANCISCO (Reuters) - A second U.S. judge on Thursday blocked President Donald Trump’s administration from enforcing new rules that undermine an Obamacare requirement for employers to provide insurance that covers women’s birth control. U.S. District Judge Haywood Gilliam Jr. in Oakland, California, said the federal government likely did not follow proper administrative procedures in promulgating the new rules, and put them on hold while a lawsuit challenging their legality proceeds. The decision followed a similar ruling from a federal judge in Philadelphia last Friday that blocked the administration from enforcing rules it announced in October allowing businesses or nonprofits to obtain exemptions on moral or religious grounds. Gilliam ruled on a lawsuit pursued by Democratic attorneys general in California, Delaware, Maryland, New York and Virginia. He said that a preliminary injunction was necessary given the “dire public health and fiscal consequences” that could result as a result of the administration adopting the rules without the input of interested parties. “If the Court ultimately finds in favor of Plaintiffs on the merits, any harm caused in the interim by rescinded contraceptive coverage would not be susceptible to remedy,” he wrote. California Attorney General Xavier Becerra said in a statement that, given last week’s decision in Pennsylvania, “today’s ruling amounts to a one-two punch against the Trump administration’s unlawful overreach.” The U.S. Justice Department defended the rules in court.  Lauren Ehrsam, a department spokeswoman, said the agency disagreed with the ruling and was evaluating its next steps. “This administration is committed to defending the religious liberty of all Americans and we look forward to doing so in court,” Ehrsam said in a statement. The lawsuit is among several that Democratic state attorneys general filed after the Republican Trump administration revealed the new rules on Oct. 6, which targeted the contraceptive mandate implemented as part of 2010’s Affordable Care Act, popularly known as Obamacare. The rules will let businesses or nonprofits lodge religious or moral objections to obtain an exemption from the law’s mandate that employers provide contraceptive coverage in health insurance with no co-payment. Conservative Christian activists and congressional Republicans praised the move, while reproductive rights advocates and Democrats criticized it. ",
         "politicsNews",
         "December 21, 2017 "
        ],
        [
         "46",
         "Senators seek to stop expansion of airport facial scans",
         "WASHINGTON (Reuters) - Two U.S. senators on Thursday urged federal authorities to halt the planned expansion of a $1 billion airport facial scanning program, saying the technology used to identify travelers on some flights departing from nine U.S. airports for international destinations may not be not accurate enough and raises privacy concerns. Congress has approved the use of the program for non-U.S. citizens, but never expressly authorized its use for Americans. The Department of Homeland Security has said the system is needed to prevent travelers from leaving the country using someone else’s identity and to prevent visitors to the United States from overstaying their visas. Senators Mike Lee, a Republican, and Edward Markey, a Democrat, in a letter to Department of Homeland Security Secretary Kirstjen Nielsen, raised concerns that too many travelers would be inconvenienced by faulty scan results and questioned why Americans are being subjected to the screens, known as biometric exit detection technology.  In the letter, they raised objections to expanding the program beyond the nine airports where it is already in use. “We request that DHS stop the expansion of this program and provide Congress with its explicit statutory authority to use and expand a biometric exit program on U.S. citizens,” the senators wrote. “If there is no specific authorization, then we request an explanation for why DHS believes it has the authority to proceed” They cited a report released Thursday by Georgetown University Law School’s Center on Privacy & Technology that found DHS is conducting the scans “without basic legal and technical safeguards - or any meaningful justification of its billion-dollar cost.” Congress in 2016 authorized spending up to $1 billion over 10 years on the facial scans. The U.S. Customs and Border Protection (CBP), on its website, says the program collects “facial images from all travelers from the United States” on a flight and uses the images to verify identities. It says the images are stored for no more than two weeks and says that “CBP is dedicated to protecting the privacy of all travelers.” The government said Thursday that U.S. citizens may opt out of the facial screening and instead have a separate review of their ID documents. A U.S. Customs and Border Protection spokeswoman said the government is working to establish the biometric exit program “in a way that’s most efficient and secure for the traveler and that is least disruptive for the travel industry.” Airports using the system include Boston, Las Vegas, Miami, New York’s John F. Kennedy, Washington Dulles, both Houston airports, Chicago O’Hare and Atlanta. The senators want DHS to provide data that the program will not unduly burden travelers. DHS said previously its goal is a 96 percent “true accept rate,” meaning the technology can positively identify 96 percent of the faces it scans. The senators, however, said this meant “there would still be a false denial for one in 25 travelers. Further there is evidence that certain face scans exhibit different error rate depending on the race or gender of the person being scanned.” DHS has said travelers who cannot be verified are escorted to another area where Customs and Border Patrol uses other methods to verify their identity. The Georgetown Law report also noted that DHS has not established any rules governing the program.  “It’s as if DHS has hired a billion-dollar bouncer to check IDs but never checked how good he is at spotting a fake,” said Laura Moy, deputy director of the center and co-author of the report. “They also don’t know if he’s biased against certain groups of people.” The senators said DHS also needed safeguards to ensure facial data is not shared with other U.S. agencies. ",
         "politicsNews",
         "December 21, 2017 "
        ],
        [
         "47",
         "U.S. launches effort to reduce reliance on imports or critical minerals",
         "WASHINGTON (Reuters) - U.S. Interior Secretary Ryan Zinke on Thursday launched an effort to reduce U.S. dependence on foreign supplies of critical minerals used in smartphones, computers and military equipment, which he said poses a national security and economic risk. Under a directive from President Donald Trump, Zinke will  work with Defense Secretary Jim Mattis to publish in 60 days a list of non-fuel minerals that are vulnerable to supply chain disruptions and necessary for manufacturing and will develop a strategy to lessen U.S. dependence on foreign suppliers. The policy would aim to identify new domestic sources of critical minerals; increase domestic exploration, mining and  recycling; giving miners and producers electronic access to better mapping and geological data; and streamlining leasing and permitting for new mines. “The United States must not remain reliant on foreign competitors like Russia and China for the critical minerals needed to keep our economy strong and our country safe,” Trump said. The order comes after the Interior Department and the U.S. Geological Survey published a report earlier this week that detailed U.S. dependence on foreign competitors for its supply of certain minerals. The report identified 23 out of 88 minerals that are priorities for U.S. national defense and the economy because they are components in products ranging from batteries to military equipment. The list included rare earths metals, lithium, graphite and other minerals.  That report did not offer policy recommendations, but Zinke said he would rely on the findings as he prioritizes research into certain mineral deposit areas on federal land and plans policies to promote mining. Twenty of the 23 critical minerals that the United States relies on are sourced from China. Much of the world’s lithium is produced in Australia and Chile, with the bulk of the world’s reserves straddling huge salt flats in the so-called lithium triangle of Chile, Bolivia and Argentina.  Lithium exports from Chile, for example, approached $600 million in 2016, or roughly 40 percent of the global market by volume, according to Chile development agency Corfo. Lithium producers SQM, Albemarle and FMC Lithium are among the region’s top producers. ",
         "politicsNews",
         "December 21, 2017 "
        ],
        [
         "48",
         "Short-term government funding, disaster aid bills advance in House",
         "WASHINGTON (Reuters) - The U.S. House of Representatives on Thursday took a step toward averting a partial government shutdown at the end of this week, approving rules to debate a bill that would fund federal agencies through Jan. 19. Also cleared for debate was an $81 billion disaster aid bill to help U.S. states, Puerto Rico and the U.S. Virgin Islands recover from a series of recent natural disasters. House votes on both bills were expected later on Thursday. ",
         "politicsNews",
         "December 21, 2017 "
        ],
        [
         "49",
         "Spy chiefs pressure Congress to renew expiring surveillance law",
         "WASHINGTON (Reuters) - The leaders of the U.S. intelligence community on Thursday pressed Congress to renew the National Security Agency’s expiring surveillance law, warning in a rare public statement that national security may be endangered if lawmakers let it lapse. The message from the intelligence chiefs sought to apply pressure on lawmakers who appeared to abandon an effort this week to pass legislation that would have reauthorized for several years the NSA’s warrantless internet spying program, which is due to expire on Dec. 31. That plan cratered late on Wednesday amid objections from a sizable coalition of Republicans and Democrats who want to have more privacy safeguards in the program, which chiefly targets foreigners but also collects communications from an unknown number of Americans. Instead, House Republicans unveiled a stopgap funding measure on Thursday that includes an extension of the surveillance law until Jan. 19. The law, known as Section 702 of the Foreign Intelligence Surveillance Act, is considered by U.S. intelligence agencies to be vital to national security. “There is no substitute for Section 702,” Director of National Intelligence Dan Coats, Attorney General Jeff Sessions, and the directors the NSA, FBI and CIA wrote in the joint statement, adding that failure to renew the authority would make it easier for foreign adversaries to “plan attacks against our citizens and allies without detection.” Section 702 allows the NSA to collect vast amounts of digital communications from foreign suspects living outside the United States. But the program incidentally gathers communications of Americans for a variety of technical reasons, including if they communicate with a foreign target living overseas. Those communications can then be subject to searches without a warrant, including by the Federal Bureau of Investigation. Some lawmakers in both parties want to eliminate or partially restrict the U.S. government’s ability to review data of Americans collected under Section 702 without first obtaining a warrant. The intelligence chiefs also criticized the current plan to temporarily extend the program, saying short-term extensions “fail to provide certainty and will create needless and wasteful operational complications.” U.S. officials recently acknowledged the end-year deadline may not matter much because of a belief the program can lawfully continue through April due to the way it is annually certified.  In their statement, however, the intelligence chiefs warned that the surveillance program would need to begin “winding down” well in advance of the April date. ",
         "politicsNews",
         "December 21, 2017 "
        ]
       ],
       "shape": {
        "columns": 4,
        "rows": 21417
       }
      },
      "text/html": [
       "<div>\n",
       "<style scoped>\n",
       "    .dataframe tbody tr th:only-of-type {\n",
       "        vertical-align: middle;\n",
       "    }\n",
       "\n",
       "    .dataframe tbody tr th {\n",
       "        vertical-align: top;\n",
       "    }\n",
       "\n",
       "    .dataframe thead th {\n",
       "        text-align: right;\n",
       "    }\n",
       "</style>\n",
       "<table border=\"1\" class=\"dataframe\">\n",
       "  <thead>\n",
       "    <tr style=\"text-align: right;\">\n",
       "      <th></th>\n",
       "      <th>title</th>\n",
       "      <th>text</th>\n",
       "      <th>subject</th>\n",
       "      <th>date</th>\n",
       "    </tr>\n",
       "  </thead>\n",
       "  <tbody>\n",
       "    <tr>\n",
       "      <th>0</th>\n",
       "      <td>As U.S. budget fight looms, Republicans flip t...</td>\n",
       "      <td>WASHINGTON (Reuters) - The head of a conservat...</td>\n",
       "      <td>politicsNews</td>\n",
       "      <td>December 31, 2017</td>\n",
       "    </tr>\n",
       "    <tr>\n",
       "      <th>1</th>\n",
       "      <td>U.S. military to accept transgender recruits o...</td>\n",
       "      <td>WASHINGTON (Reuters) - Transgender people will...</td>\n",
       "      <td>politicsNews</td>\n",
       "      <td>December 29, 2017</td>\n",
       "    </tr>\n",
       "    <tr>\n",
       "      <th>2</th>\n",
       "      <td>Senior U.S. Republican senator: 'Let Mr. Muell...</td>\n",
       "      <td>WASHINGTON (Reuters) - The special counsel inv...</td>\n",
       "      <td>politicsNews</td>\n",
       "      <td>December 31, 2017</td>\n",
       "    </tr>\n",
       "    <tr>\n",
       "      <th>3</th>\n",
       "      <td>FBI Russia probe helped by Australian diplomat...</td>\n",
       "      <td>WASHINGTON (Reuters) - Trump campaign adviser ...</td>\n",
       "      <td>politicsNews</td>\n",
       "      <td>December 30, 2017</td>\n",
       "    </tr>\n",
       "    <tr>\n",
       "      <th>4</th>\n",
       "      <td>Trump wants Postal Service to charge 'much mor...</td>\n",
       "      <td>SEATTLE/WASHINGTON (Reuters) - President Donal...</td>\n",
       "      <td>politicsNews</td>\n",
       "      <td>December 29, 2017</td>\n",
       "    </tr>\n",
       "    <tr>\n",
       "      <th>...</th>\n",
       "      <td>...</td>\n",
       "      <td>...</td>\n",
       "      <td>...</td>\n",
       "      <td>...</td>\n",
       "    </tr>\n",
       "    <tr>\n",
       "      <th>21412</th>\n",
       "      <td>'Fully committed' NATO backs new U.S. approach...</td>\n",
       "      <td>BRUSSELS (Reuters) - NATO allies on Tuesday we...</td>\n",
       "      <td>worldnews</td>\n",
       "      <td>August 22, 2017</td>\n",
       "    </tr>\n",
       "    <tr>\n",
       "      <th>21413</th>\n",
       "      <td>LexisNexis withdrew two products from Chinese ...</td>\n",
       "      <td>LONDON (Reuters) - LexisNexis, a provider of l...</td>\n",
       "      <td>worldnews</td>\n",
       "      <td>August 22, 2017</td>\n",
       "    </tr>\n",
       "    <tr>\n",
       "      <th>21414</th>\n",
       "      <td>Minsk cultural hub becomes haven from authorities</td>\n",
       "      <td>MINSK (Reuters) - In the shadow of disused Sov...</td>\n",
       "      <td>worldnews</td>\n",
       "      <td>August 22, 2017</td>\n",
       "    </tr>\n",
       "    <tr>\n",
       "      <th>21415</th>\n",
       "      <td>Vatican upbeat on possibility of Pope Francis ...</td>\n",
       "      <td>MOSCOW (Reuters) - Vatican Secretary of State ...</td>\n",
       "      <td>worldnews</td>\n",
       "      <td>August 22, 2017</td>\n",
       "    </tr>\n",
       "    <tr>\n",
       "      <th>21416</th>\n",
       "      <td>Indonesia to buy $1.14 billion worth of Russia...</td>\n",
       "      <td>JAKARTA (Reuters) - Indonesia will buy 11 Sukh...</td>\n",
       "      <td>worldnews</td>\n",
       "      <td>August 22, 2017</td>\n",
       "    </tr>\n",
       "  </tbody>\n",
       "</table>\n",
       "<p>21417 rows × 4 columns</p>\n",
       "</div>"
      ],
      "text/plain": [
       "                                                   title  \\\n",
       "0      As U.S. budget fight looms, Republicans flip t...   \n",
       "1      U.S. military to accept transgender recruits o...   \n",
       "2      Senior U.S. Republican senator: 'Let Mr. Muell...   \n",
       "3      FBI Russia probe helped by Australian diplomat...   \n",
       "4      Trump wants Postal Service to charge 'much mor...   \n",
       "...                                                  ...   \n",
       "21412  'Fully committed' NATO backs new U.S. approach...   \n",
       "21413  LexisNexis withdrew two products from Chinese ...   \n",
       "21414  Minsk cultural hub becomes haven from authorities   \n",
       "21415  Vatican upbeat on possibility of Pope Francis ...   \n",
       "21416  Indonesia to buy $1.14 billion worth of Russia...   \n",
       "\n",
       "                                                    text       subject  \\\n",
       "0      WASHINGTON (Reuters) - The head of a conservat...  politicsNews   \n",
       "1      WASHINGTON (Reuters) - Transgender people will...  politicsNews   \n",
       "2      WASHINGTON (Reuters) - The special counsel inv...  politicsNews   \n",
       "3      WASHINGTON (Reuters) - Trump campaign adviser ...  politicsNews   \n",
       "4      SEATTLE/WASHINGTON (Reuters) - President Donal...  politicsNews   \n",
       "...                                                  ...           ...   \n",
       "21412  BRUSSELS (Reuters) - NATO allies on Tuesday we...     worldnews   \n",
       "21413  LONDON (Reuters) - LexisNexis, a provider of l...     worldnews   \n",
       "21414  MINSK (Reuters) - In the shadow of disused Sov...     worldnews   \n",
       "21415  MOSCOW (Reuters) - Vatican Secretary of State ...     worldnews   \n",
       "21416  JAKARTA (Reuters) - Indonesia will buy 11 Sukh...     worldnews   \n",
       "\n",
       "                     date  \n",
       "0      December 31, 2017   \n",
       "1      December 29, 2017   \n",
       "2      December 31, 2017   \n",
       "3      December 30, 2017   \n",
       "4      December 29, 2017   \n",
       "...                   ...  \n",
       "21412    August 22, 2017   \n",
       "21413    August 22, 2017   \n",
       "21414    August 22, 2017   \n",
       "21415    August 22, 2017   \n",
       "21416    August 22, 2017   \n",
       "\n",
       "[21417 rows x 4 columns]"
      ]
     },
     "execution_count": 3,
     "metadata": {},
     "output_type": "execute_result"
    }
   ],
   "source": [
    "true_data = pd.read_csv(\"True.csv\")\n",
    "true_data"
   ]
  },
  {
   "cell_type": "code",
   "execution_count": 4,
   "id": "553c6844",
   "metadata": {},
   "outputs": [
    {
     "data": {
      "application/vnd.microsoft.datawrangler.viewer.v0+json": {
       "columns": [
        {
         "name": "index",
         "rawType": "int64",
         "type": "integer"
        },
        {
         "name": "title",
         "rawType": "object",
         "type": "string"
        },
        {
         "name": "text",
         "rawType": "object",
         "type": "string"
        },
        {
         "name": "subject",
         "rawType": "object",
         "type": "string"
        },
        {
         "name": "date",
         "rawType": "object",
         "type": "string"
        }
       ],
       "ref": "f1e876f3-fe2d-40f9-a4f4-b47bc9ba7b87",
       "rows": [
        [
         "0",
         " Donald Trump Sends Out Embarrassing New Year’s Eve Message; This is Disturbing",
         "Donald Trump just couldn t wish all Americans a Happy New Year and leave it at that. Instead, he had to give a shout out to his enemies, haters and  the very dishonest fake news media.  The former reality show star had just one job to do and he couldn t do it. As our Country rapidly grows stronger and smarter, I want to wish all of my friends, supporters, enemies, haters, and even the very dishonest Fake News Media, a Happy and Healthy New Year,  President Angry Pants tweeted.  2018 will be a great year for America! As our Country rapidly grows stronger and smarter, I want to wish all of my friends, supporters, enemies, haters, and even the very dishonest Fake News Media, a Happy and Healthy New Year. 2018 will be a great year for America!  Donald J. Trump (@realDonaldTrump) December 31, 2017Trump s tweet went down about as welll as you d expect.What kind of president sends a New Year s greeting like this despicable, petty, infantile gibberish? Only Trump! His lack of decency won t even allow him to rise above the gutter long enough to wish the American citizens a happy new year!  Bishop Talbert Swan (@TalbertSwan) December 31, 2017no one likes you  Calvin (@calvinstowell) December 31, 2017Your impeachment would make 2018 a great year for America, but I ll also accept regaining control of Congress.  Miranda Yaver (@mirandayaver) December 31, 2017Do you hear yourself talk? When you have to include that many people that hate you you have to wonder? Why do the they all hate me?  Alan Sandoval (@AlanSandoval13) December 31, 2017Who uses the word Haters in a New Years wish??  Marlene (@marlene399) December 31, 2017You can t just say happy new year?  Koren pollitt (@Korencarpenter) December 31, 2017Here s Trump s New Year s Eve tweet from 2016.Happy New Year to all, including to my many enemies and those who have fought me and lost so badly they just don t know what to do. Love!  Donald J. Trump (@realDonaldTrump) December 31, 2016This is nothing new for Trump. He s been doing this for years.Trump has directed messages to his  enemies  and  haters  for New Year s, Easter, Thanksgiving, and the anniversary of 9/11. pic.twitter.com/4FPAe2KypA  Daniel Dale (@ddale8) December 31, 2017Trump s holiday tweets are clearly not presidential.How long did he work at Hallmark before becoming President?  Steven Goodine (@SGoodine) December 31, 2017He s always been like this . . . the only difference is that in the last few years, his filter has been breaking down.  Roy Schulze (@thbthttt) December 31, 2017Who, apart from a teenager uses the term haters?  Wendy (@WendyWhistles) December 31, 2017he s a fucking 5 year old  Who Knows (@rainyday80) December 31, 2017So, to all the people who voted for this a hole thinking he would change once he got into power, you were wrong! 70-year-old men don t change and now he s a year older.Photo by Andrew Burton/Getty Images.",
         "News",
         "December 31, 2017"
        ],
        [
         "1",
         " Drunk Bragging Trump Staffer Started Russian Collusion Investigation",
         "House Intelligence Committee Chairman Devin Nunes is going to have a bad day. He s been under the assumption, like many of us, that the Christopher Steele-dossier was what prompted the Russia investigation so he s been lashing out at the Department of Justice and the FBI in order to protect Trump. As it happens, the dossier is not what started the investigation, according to documents obtained by the New York Times.Former Trump campaign adviser George Papadopoulos was drunk in a wine bar when he revealed knowledge of Russian opposition research on Hillary Clinton.On top of that, Papadopoulos wasn t just a covfefe boy for Trump, as his administration has alleged. He had a much larger role, but none so damning as being a drunken fool in a wine bar. Coffee boys  don t help to arrange a New York meeting between Trump and President Abdel Fattah el-Sisi of Egypt two months before the election. It was known before that the former aide set up meetings with world leaders for Trump, but team Trump ran with him being merely a coffee boy.In May 2016, Papadopoulos revealed to Australian diplomat Alexander Downer that Russian officials were shopping around possible dirt on then-Democratic presidential nominee Hillary Clinton. Exactly how much Mr. Papadopoulos said that night at the Kensington Wine Rooms with the Australian, Alexander Downer, is unclear,  the report states.  But two months later, when leaked Democratic emails began appearing online, Australian officials passed the information about Mr. Papadopoulos to their American counterparts, according to four current and former American and foreign officials with direct knowledge of the Australians  role. Papadopoulos pleaded guilty to lying to the F.B.I. and is now a cooperating witness with Special Counsel Robert Mueller s team.This isn t a presidency. It s a badly scripted reality TV show.Photo by Win McNamee/Getty Images.",
         "News",
         "December 31, 2017"
        ],
        [
         "2",
         " Sheriff David Clarke Becomes An Internet Joke For Threatening To Poke People ‘In The Eye’",
         "On Friday, it was revealed that former Milwaukee Sheriff David Clarke, who was being considered for Homeland Security Secretary in Donald Trump s administration, has an email scandal of his own.In January, there was a brief run-in on a plane between Clarke and fellow passenger Dan Black, who he later had detained by the police for no reason whatsoever, except that maybe his feelings were hurt. Clarke messaged the police to stop Black after he deplaned, and now, a search warrant has been executed by the FBI to see the exchanges.Clarke is calling it fake news even though copies of the search warrant are on the Internet. I am UNINTIMIDATED by lib media attempts to smear and discredit me with their FAKE NEWS reports designed to silence me,  the former sheriff tweeted.  I will continue to poke them in the eye with a sharp stick and bitch slap these scum bags til they get it. I have been attacked by better people than them #MAGA I am UNINTIMIDATED by lib media attempts to smear and discredit me with their FAKE NEWS reports designed to silence me. I will continue to poke them in the eye with a sharp stick and bitch slap these scum bags til they get it. I have been attacked by better people than them #MAGA pic.twitter.com/XtZW5PdU2b  David A. Clarke, Jr. (@SheriffClarke) December 30, 2017He didn t stop there.BREAKING NEWS! When LYING LIB MEDIA makes up FAKE NEWS to smear me, the ANTIDOTE is go right at them. Punch them in the nose & MAKE THEM TASTE THEIR OWN BLOOD. Nothing gets a bully like LYING LIB MEDIA S attention better than to give them a taste of their own blood #neverbackdown pic.twitter.com/T2NY2psHCR  David A. Clarke, Jr. (@SheriffClarke) December 30, 2017The internet called him out.This is your local newspaper and that search warrant isn t fake, and just because the chose not to file charges at the time doesn t mean they won t! Especially if you continue to lie. Months after decision not to charge Clarke, email search warrant filed https://t.co/zcbyc4Wp5b  KeithLeBlanc (@KeithLeBlanc63) December 30, 2017I just hope the rest of the Village People aren t implicated.  Kirk Ketchum (@kirkketchum) December 30, 2017Slaw, baked potatoes, or French fries? pic.twitter.com/fWfXsZupxy  ALT- Immigration   (@ALT_uscis) December 30, 2017pic.twitter.com/ymsOBLjfxU  Pendulum Swinger (@PendulumSwngr) December 30, 2017you called your police friends to stand up for you when someone made fun of your hat  Chris Jackson (@ChrisCJackson) December 30, 2017Is it me, with this masterful pshop of your hat, which I seem to never tire of. I think it s the steely resolve in your one visible eye pic.twitter.com/dWr5k8ZEZV  Chris Mohney (@chrismohney) December 30, 2017Are you indicating with your fingers how many people died in your jail? I think you re a few fingers short, dipshit  Ike Barinholtz (@ikebarinholtz) December 30, 2017ROFL. Internet tough guy with fake flair. pic.twitter.com/ulCFddhkdy  KellMeCrazy (@Kel_MoonFace) December 30, 2017You re so edgy, buddy.  Mrs. SMH (@MRSSMH2) December 30, 2017Is his break over at Applebees?  Aaron (@feltrrr2) December 30, 2017Are you trying to earn your  still relevant  badge?  CircusRebel (@CircusDrew) December 30, 2017make sure to hydrate, drink lots of water. It s rumored that prisoners can be denied water by prison officials.  Robert Klinc (@RobertKlinc1) December 30, 2017Terrill Thomas, the 38-year-old black man who died of thirst in Clarke s Milwaukee County Jail cell this April, was a victim of homicide. We just thought we should point that out. It can t be repeated enough.Photo by Spencer Platt/Getty Images.",
         "News",
         "December 30, 2017"
        ],
        [
         "3",
         " Trump Is So Obsessed He Even Has Obama’s Name Coded Into His Website (IMAGES)",
         "On Christmas day, Donald Trump announced that he would  be back to work  the following day, but he is golfing for the fourth day in a row. The former reality show star blasted former President Barack Obama for playing golf and now Trump is on track to outpace the number of golf games his predecessor played.Updated my tracker of Trump s appearances at Trump properties.71 rounds of golf including today s. At this pace, he ll pass Obama s first-term total by July 24 next year. https://t.co/Fg7VacxRtJ pic.twitter.com/5gEMcjQTbH  Philip Bump (@pbump) December 29, 2017 That makes what a Washington Post reporter discovered on Trump s website really weird, but everything about this administration is bizarre AF. The coding contained a reference to Obama and golf:  Unlike Obama, we are working to fix the problem   and not on the golf course.  However, the coding wasn t done correctly.The website of Donald Trump, who has spent several days in a row at the golf course, is coded to serve up the following message in the event of an internal server error: https://t.co/zrWpyMXRcz pic.twitter.com/wiQSQNNzw0  Christopher Ingraham (@_cingraham) December 28, 2017That snippet of code appears to be on all https://t.co/dkhw0AlHB4 pages, which the footer says is paid for by the RNC? pic.twitter.com/oaZDT126B3  Christopher Ingraham (@_cingraham) December 28, 2017It s also all over https://t.co/ayBlGmk65Z. As others have noted in this thread, this is weird code and it s not clear it would ever actually display, but who knows.  Christopher Ingraham (@_cingraham) December 28, 2017After the coding was called out, the reference to Obama was deleted.UPDATE: The golf error message has been removed from the Trump and GOP websites. They also fixed the javascript  =  vs  ==  problem. Still not clear when these messages would actually display, since the actual 404 (and presumably 500) page displays a different message pic.twitter.com/Z7dmyQ5smy  Christopher Ingraham (@_cingraham) December 29, 2017That suggests someone at either RNC or the Trump admin is sensitive enough to Trump s golf problem to make this issue go away quickly once people noticed. You have no idea how much I d love to see the email exchange that led us here.  Christopher Ingraham (@_cingraham) December 29, 2017 The code was f-cked up.The best part about this is that they are using the  =  (assignment) operator which means that bit of code will never get run. If you look a few lines up  errorCode  will always be  404          (@tw1trsux) December 28, 2017trump s coders can t code. Nobody is surprised.  Tim Peterson (@timrpeterson) December 28, 2017Donald Trump is obsessed with Obama that his name was even in the coding of his website while he played golf again.Photo by Joe Raedle/Getty Images.",
         "News",
         "December 29, 2017"
        ],
        [
         "4",
         " Pope Francis Just Called Out Donald Trump During His Christmas Speech",
         "Pope Francis used his annual Christmas Day message to rebuke Donald Trump without even mentioning his name. The Pope delivered his message just days after members of the United Nations condemned Trump s move to recognize Jerusalem as the capital of Israel. The Pontiff prayed on Monday for the  peaceful coexistence of two states within mutually agreed and internationally recognized borders. We see Jesus in the children of the Middle East who continue to suffer because of growing tensions between Israelis and Palestinians,  Francis said.  On this festive day, let us ask the Lord for peace for Jerusalem and for all the Holy Land. Let us pray that the will to resume dialogue may prevail between the parties and that a negotiated solution can finally be reached. The Pope went on to plead for acceptance of refugees who have been forced from their homes, and that is an issue Trump continues to fight against. Francis used Jesus for which there was  no place in the inn  as an analogy. Today, as the winds of war are blowing in our world and an outdated model of development continues to produce human, societal and environmental decline, Christmas invites us to focus on the sign of the Child and to recognize him in the faces of little children, especially those for whom, like Jesus,  there is no place in the inn,  he said. Jesus knows well the pain of not being welcomed and how hard it is not to have a place to lay one s head,  he added.  May our hearts not be closed as they were in the homes of Bethlehem. The Pope said that Mary and Joseph were immigrants who struggled to find a safe place to stay in Bethlehem. They had to leave their people, their home, and their land,  Francis said.  This was no comfortable or easy journey for a young couple about to have a child.   At heart, they were full of hope and expectation because of the child about to be born; yet their steps were weighed down by the uncertainties and dangers that attend those who have to leave their home behind. So many other footsteps are hidden in the footsteps of Joseph and Mary,  Francis said Sunday. We see the tracks of entire families forced to set out in our own day. We see the tracks of millions of persons who do not choose to go away, but driven from their land, leave behind their dear ones. Amen to that.Photo by Christopher Furlong/Getty Images.",
         "News",
         "December 25, 2017"
        ],
        [
         "5",
         " Racist Alabama Cops Brutalize Black Boy While He Is In Handcuffs (GRAPHIC IMAGES)",
         "The number of cases of cops brutalizing and killing people of color seems to see no end. Now, we have another case that needs to be shared far and wide. An Alabama woman by the name of Angela Williams shared a graphic photo of her son, lying in a hospital bed with a beaten and fractured face, on Facebook. It needs to be shared far and wide, because this is unacceptable.It is unclear why Williams  son was in police custody or what sort of altercation resulted in his arrest, but when you see the photo you will realize that these details matter not. Cops are not supposed to beat and brutalize those in their custody. In the post you are about to see, Ms. Williams expresses her hope that the cops had their body cameras on while they were beating her son, but I think we all know that there will be some kind of convenient  malfunction  to explain away the lack of existence of dash or body camera footage of what was clearly a brutal beating. Hell, it could even be described as attempted murder. Something tells me that this young man will never be the same. Without further ado, here is what Troy, Alabama s finest decided was appropriate treatment of Angela Williams  son:No matter what the perceived crime of this young man might be, this is completely unacceptable. The cops who did this need to rot in jail for a long, long time   but what you wanna bet they get a paid vacation while the force  investigates  itself, only to have the officers returned to duty posthaste?This, folks, is why we say BLACK LIVES MATTER. No way in hell would this have happened if Angela Williams  son had been white. Please share far and wide, and stay tuned to Addicting Info for further updates.Featured image via David McNew/Stringer/Getty Images",
         "News",
         "December 25, 2017"
        ],
        [
         "6",
         " Fresh Off The Golf Course, Trump Lashes Out At FBI Deputy Director And James Comey",
         "Donald Trump spent a good portion of his day at his golf club, marking the 84th day he s done so since taking the oath of office. It must have been a bad game because just after that, Trump lashed out at FBI Deputy Director Andrew McCabe on Twitter following a report saying McCabe plans to retire in a few months. The report follows McCabe s testimony in front of congressional committees this week, as well as mounting criticism from Republicans regarding the Russia probe.So, naturally, Trump attacked McCabe with a lie. How can FBI Deputy Director Andrew McCabe, the man in charge, along with leakin  James Comey, of the Phony Hillary Clinton investigation (including her 33,000 illegally deleted emails) be given $700,000 for wife s campaign by Clinton Puppets during investigation?  Trump tweeted.How can FBI Deputy Director Andrew McCabe, the man in charge, along with leakin  James Comey, of the Phony Hillary Clinton investigation (including her 33,000 illegally deleted emails) be given $700,000 for wife s campaign by Clinton Puppets during investigation?  Donald J. Trump (@realDonaldTrump) December 23, 2017He didn t stop there.FBI Deputy Director Andrew McCabe is racing the clock to retire with full benefits. 90 days to go?!!!  Donald J. Trump (@realDonaldTrump) December 23, 2017Wow,  FBI lawyer James Baker reassigned,  according to @FoxNews.  Donald J. Trump (@realDonaldTrump) December 23, 2017With all of the Intel at Trump s disposal, he s getting his information from Fox News. McCabe spent most of his career in the fight against terrorism and now he s being attacked by the so-called president. Trump has been fact-checked before on his claim of his wife receiving $700,000 for her campaign.Politifact noted in late July that Trump s  tweet about Andrew McCabe is a significant distortion of the facts. And the implication that McCabe got Clinton off as a political favor doesn t make much sense when we look at the evidence. His July tweet was rated  mostly false.  But Trump repeats these lies because he knows his supporters will believe them without bothering to Google. It s still a lie, though.Photo by Zach Gibson   Pool/Getty Images.",
         "News",
         "December 23, 2017"
        ],
        [
         "7",
         " Trump Said Some INSANELY Racist Stuff Inside The Oval Office, And Witnesses Back It Up",
         "In the wake of yet another court decision that derailed Donald Trump s plan to bar Muslims from entering the United States, the New York Times published a report on Saturday morning detailing the president s frustration at not getting his way   and how far back that frustration goes.According to the article, back in June, Trump stomped into the Oval Office, furious about the state of the travel ban, which he thought would be implemented and fully in place by then. Instead, he fumed, visas had already been issued to immigrants at such a rate that his  friends were calling to say he looked like a fool  after making his broad pronouncements.It was then that Trump began reading from a document that a top advisor, noted white supremacist Stephen Miller, had handed him just before the meeting with his Cabinet. The page listed how many visas had been issued this year, and included 2,500 from Afghanistan (a country not on the travel ban), 15,000 from Haiti (also not included), and 40,000 from Nigeria (sensing a pattern yet?), and Trump expressed his dismay at each.According to witnesses in the room who spoke to the Times on condition of anonymity, and who were interviewed along with three dozen others for the article, Trump called out each country for its faults as he read: Afghanistan was a  terrorist haven,  the people of Nigeria would  never go back to their huts once they saw the glory of America, and immigrants from Haiti  all have AIDS. Despite the extensive research done by the newspaper, the White House of course denies that any such language was used.But given Trump s racist history and his advisor Stephen Miller s blatant white nationalism, it would be no surprise if a Freedom of Information Act request turned up that the document in question had the statements printed inline as commentary for the president to punctuate his anger with. It was Miller, after all, who was responsible for the  American Carnage  speech that Trump delivered at his inauguration.This racist is a menace to America, and he doesn t represent anything that this country stands for. Let s hope that more indictments from Robert Mueller are on their way as we speak.Featured image via Chris Kleponis/Pool/Getty Images",
         "News",
         "December 23, 2017"
        ],
        [
         "8",
         " Former CIA Director Slams Trump Over UN Bullying, Openly Suggests He’s Acting Like A Dictator (TWEET)",
         "Many people have raised the alarm regarding the fact that Donald Trump is dangerously close to becoming an autocrat. The thing is, democracies become autocracies right under the people s noses, because they can often look like democracies in the beginning phases. This was explained by Republican David Frum just a couple of months into Donald Trump s presidency, in a piece in The Atlantic called  How to Build an Autocracy. In fact, if you really look critically at what is happening right now   the systematic discrediting of vital institutions such as the free press and the Federal Bureau of Investigation as well the direct weaponization of the Department of Justice in order to go after Trump s former political opponent, 2016 Democratic nominee Hillary Clinton, and you have the makings of an autocracy. We are more than well on our way. Further, one chamber of Congress, the House of Representatives, already has a rogue band of Republicans who are running a parallel investigation to the official Russian collusion investigation, with the explicit intent of undermining and discrediting the idea that Trump could have possibly done anything wrong with the Russians in order to swing the 2016 election in his favor.All of that is just for starters, too. Now, we have Trump making United Nations Ambassador Nikki Haley bully and threaten other countries in the United Nations who voted against Trump s decision to change U.S. policy when it comes to recognition of Jerusalem as the capital of the Jewish State. Well, one expert, who is usually quite measured, has had enough of Trump s autocratic antics: Former CIA Director John O. Brennan. The seasoned spy took to Trump s favorite platform, Twitter, and blasted the decision:Trump Admin threat to retaliate against nations that exercise sovereign right in UN to oppose US position on Jerusalem is beyond outrageous. Shows @realDonaldTrump expects blind loyalty and subservience from everyone qualities usually found in narcissistic, vengeful autocrats.  John O. Brennan (@JohnBrennan) December 21, 2017Director Brennan is correct, of course. Trump is behaving just like an autocrat, and so many people in the nation are asleep when it comes to this dangerous age, in which the greatest threat to democracy and the very fabric of the republic itself is the American president. Fellow Americans, we know the GOP-led Congress will not be the check on Trump that they are supposed to be. It s time to get out and flip the House and possibly the Senate in 2018, and resist in the meantime, if we want to save our country from devolving into something that looks more like Russia or North Korea than the America we have always know. We re already well on our way.Featured image via BRENDAN SMIALOWSKI/AFP/Getty Images",
         "News",
         "December 22, 2017"
        ],
        [
         "9",
         " WATCH: Brand-New Pro-Trump Ad Features So Much A** Kissing It Will Make You Sick",
         "Just when you might have thought we d get a break from watching people kiss Donald Trump s ass and stroke his ego ad nauseam, a pro-Trump group creates an ad that s nothing but people doing even more of those exact things. America First Policies is set to release this ad, called  Thank You, President Trump,  on Christmas Day and, well, we threw up a little in our mouths trying to watch this.Basically, the spot is nothing but people fawning all over Trump for all the stuff he hasn t actually done. The ad includes a scene with a little girl thanking Trump for bringing back  Merry Christmas,  which never went away (there are even videos of President Obama saying  Merry Christmas  himself). A man thanks him for cutting his taxes. And America First says that everyday Americans everywhere are thanking Trump for being such a great and awesome president.The best president.Nobody s ever done what he s done. He s breaking all kinds of records every day.Believe us.Anyway, the word  propaganda  comes to mind when watching this. That s what it is   literal propaganda promoting someone who shouldn t need this kind of promotion anymore. Watch this ad bullshit below:The way the MAGAs are kowtowing to Orange Hitler is both disgusting and frightening. The man has done nothing, and his policies will harm the very same Americans who are thanking him. Unfortunately, it will take an obscene amount of pain before they ll open their eyes and see they ve been duped by a con man with a bad hairdo.And his ongoing need for this kind of adoration is, at best, unbecoming of his office. This ad is vile.Featured image via Al Drago-Pool/Getty Images",
         "News",
         "December 21, 2017"
        ],
        [
         "10",
         " Papa John’s Founder Retires, Figures Out Racism Is Bad For Business",
         "A centerpiece of Donald Trump s campaign, and now his presidency, has been his white supremacist ways. That is why so many of the public feuds he gets into involve people of color. One of his favorite targets, is, of course, the players in the National Football League who dare to exercise their First Amendment rights by kneeling during the national anthem in protest of racist police brutality. Well, there is one person who has figured out that racism is bad for business, even if it did get the orange overlord elected: The founder of the pizza chain Papa John s.This is a man who has never been on the right side of history on any number of issues, and plus his pizza sucks. But, when he decided to complain about the players protesting, his sales really dropped. Turns out racism doesn t pay, and we all know that corporations are all about the bottom line. Therefore, Papa John Schnatter will no longer be CEO of the hack pizza chain.BREAKING: Papa John's founder John Schnatter to step down as CEO; announcement comes weeks after he criticized NFL over protests.  AP Business News (@APBusiness) December 21, 2017The thing is, while people are certainly allowed to have political opinions, they have to realize that those opinions can often come with dire consequences   especially if one is in the business of trying to garner sales and support from any and all people, which one would presume is the goal of all CEO s. No one knows whether or not the pressure from his shareholders, the public outcry or boycotts, or even the NFL itself had anything to do with his stepping down. As of right now, all we know is that he will be gone, and perhaps the future CEO will run a company that is inclusive of the diverse fabric that we call America. After all, the guiding symbol of this nation will always be the Statue of Liberty, and bigots like Trump and Schnatter are the past. The rest of us are the future. We just have to survive the present to get there.Featured image via Rob Kim/Getty Images",
         "News",
         "December 21, 2017"
        ],
        [
         "11",
         " WATCH: Paul Ryan Just Told Us He Doesn’t Care About Struggling Families Living In Blue States",
         "Republicans are working overtime trying to sell their scam of a tax bill to the public as something that directly targets middle-class and working-class families with financial relief. Nothing could be further from the truth, and they re getting hammered on that repeatedly. Speaking on CNBC, Paul Ryan was going full throttle, trying to convince us that the paltry savings we re getting is actually wait for it big money.But he didn t just go with the usual talking points. With a smug look that only someone who grew up in a wealthy family can muster when talking about that which he does not know, Ryan claimed that the $2,059 more per year that families living paycheck-to-paycheck will see is extremely significant. Then he decided he had to amend that to say such savings might be nothing to a family earning $600,000 per year (true), or for people living in New York or California (false).Those are the same two states that Trump s loyal subjects insist on stripping from the 2016 vote totals to claim that Trump actually won the popular vote. Watch Ryan completely dismiss all the struggling families living in blue states below:If you re living paycheck-to-paycheck which is more than half of the people in this country and you got #2059more from a tax cut next year, that s not nothing. pic.twitter.com/8TKtrMqRa1  Paul Ryan (@SpeakerRyan) December 21, 2017Someone needs to reach through their computer or television and wipe that smugness off his face. It is the height of arrogance and insult to imply that there are no struggling families in either of those two states.Featured image via Mark Wilson/Getty Images",
         "News",
         "December 21, 2017"
        ],
        [
         "12",
         " Bad News For Trump — Mitch McConnell Says No To Repealing Obamacare In 2018",
         "Republicans have had seven years to come up with a viable replacement for Obamacare but they failed miserably. After taking a victory lap for gifting the wealthy with a tax break on Wednesday, Donald Trump looked at the cameras and said,  We have essentially repealed Obamacare and we will come up with something that will be much better. Obamacare has been repealed in this bill,  he added. Well, like most things Trump says, that s just not true. But, if the former reality show star could have done that in order to eradicate former President Obama s signature legislation, he would have and without offering an alternative.Senate Majority Leader Mitch McConnell told NPR that  This has not been a very bipartisan year. I hope in the new year, we re going to pivot here and become more cooperative. An Obamacare repeal in 2018 is DOA. Well, we obviously were unable to completely repeal and replace with a 52-48 Senate,  the Kentucky Republican said.  We ll have to take a look at what that looks like with a 51-49 Senate. But I think we ll probably move on to other issues. NPR reports:McConnell hopes to focus instead on stabilizing the insurance marketplaces to keep premiums from skyrocketing in the early months of 2018, a promise he made to moderate Republican Sen. Susan Collins of Maine to get her support for the tax bill.On top of that McConnell broke with House Speaker Paul Ryan, R-Wis., on the approach to paring back spending on programs like Medicaid and food stamps. McConnell told NPR he is  not interested  in using Senate budget rules to allow Republicans to cut entitlements without consultation with Democrats. I think entitlement changes, to be sustained, almost always have to be bipartisan,  McConnell said.  The House may have a different agenda. If our Democratic friends in the Senate want to join us to tackle any kind of entitlement reform. I d be happy to take a look at it. This is coming from Mitch McConnell. He knows Donald Trump is destroying the GOP. It doesn t matter, Sen. McConnell. We still recall him saying that his  number one priority is making sure president Obama s a one-term president. Well, we re hoping that Trump doesn t last a full term. Funny how that works.Photo by Chip Somodevilla/Getty Images",
         "News",
         "December 21, 2017"
        ],
        [
         "13",
         " WATCH: Lindsey Graham Trashes Media For Portraying Trump As ‘Kooky,’ Forgets His Own Words",
         "The media has been talking all day about Trump and the Republican Party s scam of a tax bill; as well as the sheer obsequiousness of Trump s cabinet, and then members of Congress, after their tax scam was all but passed. But the media isn t quite saying what Trump wants. They ve been doing analysis and discussion all day long rather than praising it for the grand achievement Trump believes it is. The GOP has increasingly sounded exactly like Trump when it comes to media coverage, and coverage of the tax scam is no different. Coverage of Trump in general hasn t changed.Today, Lindsey Graham went after the media for portraying Trump as a  kook,  and unfit for office (they wouldn t be doing their job if they weren t telling the truth, though). Graham said: You know what concerns me about the American press is this endless, endless attempt to label the guy as some kind of kook; not fit to be president. Jake Tapper notes that he himself has never labeled Trump that way. But then he points out something rather odd about Graham s opinion. Take a look at the short video clip below:Lindsey Graham today: I m concerned by the media s attempt to label Trump as a kook or not fit to be President.Lindsey Graham in 2016:  I think he s a kook. I think he s crazy. I think he s unfit for office.  pic.twitter.com/hIxs3DciO8  Tomthunkit  (@TomthunkitsMind) December 17, 2017There it is, out of Graham s own mouth. He parroted himself. In 2016, he used the exact words to describe Trump that he said the media is using today. Freudian slip?Featured image via video screen capture",
         "News",
         "December 20, 2017"
        ],
        [
         "14",
         " Heiress To Disney Empire Knows GOP Scammed Us – SHREDS Them For Tax Bill",
         "Abigail Disney is an heiress with brass ovaries who will profit from the GOP tax scam bill but isn t into f-cking poor people over. Ms. Disney penned an op-ed for USA Today in which she rips the GOP a new one because she has  always been cognizant of income and wealth inequality.  In other words, she is not Donald Trump, Paul Ryan or Bob Corker. Or Mitch McConnell. She is Abigail Disney, dammit. Since the election of Ronald Reagan, the gap between rich and poor has grown dramatically and  trickle down  economics has turned out to cause more of a trickle up,  she writes.  But nothing has brought the problem of inequality into sharper focus for me than the current proposals by Republicans to overhaul the tax system. Disney says that this proposal will be burdensome to the middle class while decreasing  the responsibility of the wealthy to contribute to the common good. And then she dropped a truth bomb. (We like truth bombs.)Republicans insist this plan will cut taxes for the middle class, but the truth is that any meager savings will be offset by losses elsewhere   in deductions no longer allowed, loss of Medicaid and Medicare coverage, and less funding for education, all of which are on the chopping block in order to provide a tax cut for a few very wealthy people like me. There is even a tax break to private jet owners. This bill will give me this tax cut while also killing health insurance for over 13 million people,  Disney wrote.  It will let me pass over $20 million to my children, tax-free. And all my friends with private jets? They get a tax cut too. With a suffocating education system, a dying infrastructure and a national debt that will be at least $1.5 trillion bigger, that social mobility will be far out of reach for people like you,  Disney continued.  But I will be able to stay comfortably right where I am. Does that strike you as fair? No, it does not, thankyouverymuch. But given how this bill was written, I think it s looking a lot like a nightmare from Pirates of the Caribbean,  Disney wrote.  Have I made you angry yet? I really hope I ve made you angry. You should be. No one who votes for this tax bill will be voting with your life in mind. But you will pay for it. Watch:This Disney heiress is taking a stand against the GOP tax bill  even though she s going to benefit from it pic.twitter.com/E5bmcI83mU  NowThis (@nowthisnews) December 20, 2017 If democracy is just a bunch of people advocating for their own self-interest instead of the interests of the greater good, then we re not a democracy, we re anarchy,  Disney added.  We need to start voting and acting as citizens as though the common good matters more than our own personal well-being. This isn t tax reform. It s a heist.Photo by Ralph Orlowski/Getty Images for Burda Media.",
         "News",
         "December 20, 2017"
        ],
        [
         "15",
         " Tone Deaf Trump: Congrats Rep. Scalise On Losing Weight After You Almost Died",
         "Donald Trump just signed the GOP tax scam into law. Of course, that meant that he invited all of his craven, cruel GOP sycophants down from their perches on Capitol Hill to celebrate in the Rose Garden at the White House. Now, that part is bad enough   celebrating tax cuts for a bunch of rich hedge fund managers and huge corporations at the expense of everyday Americans. Of course, Trump is beside himself with glee, as this represents his first major legislative win since he started squatting in the White House almost a year ago. Thanks to said glee, in true Trumpian style, he gave a free-wheeling address, and a most curious subject came up as Trump was thanking the goons from the Hill. Somehow, Trump veered away from tax cuts, and started talking about the Congressional baseball shooting that happened over the summer.In that shooting, Rep. Steve Scalise, who is also the House Majority Whip, was shot and almost lost his life. Thanks to this tragic and stunning act of political violence, Scalise had a long recovery; in fact he is still in physical therapy. But, of course, vain and looks-obsessed Trump decided that he would congratulate Scalise, not on his survival and on his miraculous recovery, but on the massive amount of weight Scalise lost while he was practically dying. And make no mistake   Scalise is VERY lucky to be alive. According to doctors, when he arrived at the hospital, Scalise was actually, quote, in  imminent risk of death.  Here is the quote, via Twitter:How stunningly tone deaf does one have to be to say something like that? I never thought I d say this about a Republican that I, by all reasonable accounts, absolutely loathe, but I feel sorry for him. I am sorry he got shot, and I am even sorrier that he now has to stand there and listen to that orange buffoon talk about him like that.I am sure that Scalise is a much tougher man than Trump, though. I am equally sure that he also knows that Trump is an international embarrassment and a crazy man who never should have been allowed anywhere near the White House.Featured image via Alex Wong/Getty Images",
         "News",
         "December 20, 2017"
        ],
        [
         "16",
         " The Internet Brutally Mocks Disney’s New Trump Robot At Hall Of Presidents",
         "A new animatronic figure in the Hall of Presidents at Walt Disney World was added, where every former leader of the republic is depicted in an  audio-animatronics show.  The figure which supposedly resembles Jon Voight Donald Trump was added to the collection and it s absolutely horrifying. The internet noticed that, too.Here s a few more pictures of the Donald Trump animatronic. #HallOfPresidents pic.twitter.com/a45En9Jwys  WDW News Today (@WDWNT) December 19, 2017Trump robot in the Hall of Presidents looks like a 71-year-old Chucky doll. pic.twitter.com/yLCBmhpNvG  John Cohen (@JohnCohen1) December 19, 2017Breaking: 7 Disney Princesses and a Storm Trooper have come forward alleging Hall of Presidents Trump made lewd comments to them  Brohibition Now (@OhNoSheTwitnt) December 19, 2017Trump s animatronic figure for the Disney Hall of Presidents looks like it was carved out of Play-Doh and left out in the Florida heat, where it was discovered by a dying albino squirrel who settled atop its head and has been left there to decompose. pic.twitter.com/3vMZUTEylx  Elizabeth M. (@_ElizabethMay) December 19, 2017In a time w/ so many heavy items, thank you to Disney for the laugh. They did so much so well in the @realDonaldTrump animatronic.  Little hands, check   Absurdly long tie, check   Horrifying face, checkmateWhen Trump is impeached, can they move this to the Haunted Mansion? https://t.co/XrOvu32EV8  State of Resistance (@AltStateDpt) December 19, 2017all the other presidents in Disney s new Hall of Presidents look like they can t believe Donald Trump is president either pic.twitter.com/eMP9UX1bM8  Matt Binder (@MattBinder) December 18, 2017Disney unveiled Trump figure at the Hall of Presidents. To save production costs, they pulled the animated hands off of a retired figurine from the Its a Small World ride.  Tim Hanlon (@TimfromDa70s) December 19, 2017The best part of Donald Trump being in Disney s Hall of Presidents will be when they remove him from the Hall of Presidents and put him in the Pirates of the Caribbean ride s jail. pic.twitter.com/XViyKFQCET  Rex Huppke (@RexHuppke) December 19, 2017Comment today by local news channel anchor in Orlando:  Donald Trump robot just added to Disney s Hall of Presidents. I hope they programmed all the former presidents to not roll their eyes and shake their heads while he s talking.  Mark Hertling (@MarkHertling) December 19, 2017NPR: Disney World Adds Trump Animatronic Figure, But Likeness Is Lacking. But who REALLY wants to look at an accurate Donald? The man is about as presidential looking as a fucking Pokemon. https://t.co/HFYJRkefJ1  Stephen (@Harvest_This) December 19, 2017Could we put the animatronic version in the White House and the  real  one in Disney World? Asking for 7.6 billion people and the future of the planet. https://t.co/65FhbQHuV4 #Disney #Trump #JonVoight  David Schmid (@DavidSchmid1) December 19, 2017We re pretty sure Disney is trolling Trump.Image via Twitter.",
         "News",
         "December 19, 2017"
        ],
        [
         "17",
         " Mueller Spokesman Just F-cked Up Donald Trump’s Christmas",
         "Trump supporters and the so-called president s favorite network are lashing out at special counsel Robert Mueller and the FBI. The White House is in panic-mode after Mueller obtained tens of thousands of transition team emails as part of the Russian probe. Ironically, it will quite possibly be emails that brings Trump down.A lawyer for the Trump transition team is claiming that the emails had been illegally turned over by the General Services Administration because the account owners never received notification of the request and he s claiming that they were  privileged communications. In a letter, Trump s attorney requested that Congress  act immediately to protect future presidential transitions from having their private records misappropriated by government agencies, particularly in the context of sensitive investigations intersecting with political motives. Mueller spokesman Peter Carr defended the special counsel s work in a statement issued just past midnight on Sunday, several hours after claims of   unlawful conduct  by Trump s attorney were made, according to Politico. When we have obtained emails in the course of our ongoing criminal investigation, we have secured either the account owner s consent or appropriate criminal process,  he said.The words that pop out in the statement are  criminal investigation,  the  account owner s consent  and  criminal process. While on the campaign trail, Donald Trump asked Russians to hack Hillary Clinton s emails. After the election, Trump s team is claiming that Mueller obtained the transition teams  emails illegally, even though that s not the truth. We see a pattern here.Team Trump thought Mueller was on a fishing expedition. Turns out, he was actually reeling in the fish. The White House was not aware at the time that he had the emails. Mueller got them through GSA so that team Trump could not selectively leave any out if they were requested.Merry Christmas, Mr. Trump.Photo by Ann Heisenfelt/Getty Images.",
         "News",
         "December 17, 2017"
        ],
        [
         "18",
         " SNL Hilariously Mocks Accused Child Molester Roy Moore For Losing AL Senate Race (VIDEO)",
         "Right now, the whole world is looking at the shocking fact that Democrat Doug Jones beat Republican Roy Moore in the special election to replace Attorney General Jeff Sessions in the United States Senate. Of course, Moore s candidacy was rocked by allegations of sexually harassing and even molesting teenage girls   and being banned from the mall in his hometown of Gadsden, Alabama for doing so.Even before that, Moore was an incendiary character in Alabama politics, having been removed as Chief Justice of the Alabama Supreme Court not once but twice, and having made statements such as Muslims should not be allowed in Congress and homosexuality should be illegal. Hell, he even said that the last time America was great was when we had slavery. Therefore, he was an extraordinarily damaged candidate as it was. However, despite all of this, Alabama is a deep red state, with many voters agreeing with some of Moore s more extreme positions, and some even insisting that the allegations of sexual misconduct were simply not true. That is why it was such a shock that Doug Jones pulled out a win for that Senate seat.Well, there is one entity that could not resist going all in on the fact that Roy Moore lost this race: Saturday Night Live. While doing a caricature of the results, SNL began, with its Weekend Update host Colin Jost brutally mocking Moore s alleged proclivities fore teen girls: Congratulations to Alabama s newest Senator   not Roy Moore. Doug Jones has become the first Democrat to win a Senate seat in Alabama in over 20 years. Said Roy Moore:  gross, over 20 years? Jost then got in a dig at Trump, for whom Moore s loss was  a humiliating failure, remind everyone what Trump said of Jones  win: The Republicans will have another shot at this seat in a very short period of time. It never ends! Indeed. If the sane people of America have anything to say about it, it will be a very, very long time after 2018 before the GOP is allowed to control anything. Jost continued mocking Trump: That s it? You just went all in for an accused pedophile and when he lost, [you re] just like,  well, we had fun! He could be removed from office tonight and tweet:  Congratulations to Robert Mueller on a great investigation. Had a fun time being president. Catch you on the flippity-flop! #DietCokeTime . Oh, if only that could be our reality, to have Trump congratulating Mueller for removing him and his entire treasonous, criminal administration. Until then, we ll have to stick to  Weekend Update  and the rest of SNL, and hope for the best.Watch the video below:Featured image via Scott Olson/Getty Images",
         "News",
         "December 17, 2017"
        ],
        [
         "19",
         " Republican Senator Gets Dragged For Going After Robert Mueller",
         "Senate Majority Whip John Cornyn (R-TX) thought it would be a good idea to attack Special Counsel Robert Mueller over the Russia probe. As Mueller s noose tightens, Republicans are losing their sh-t and attacking Mueller and the FBI in order to protect probably the most corrupt  president  ever.Former Attorney General Eric Holder tweeted on Friday,  Speaking on behalf of the vast majority of the American people, Republicans in Congress be forewarned: any attempt to remove Bob Mueller will not be tolerated. Cornyn retweeted Holder to say,  You don t. You don t https://t.co/7lHYkIloyz  Senator JohnCornyn (@JohnCornyn) December 16, 2017Bloomberg s Steven Dennis tweeted on Saturday that  [Cornyn] s beef is with Holder, not Mueller,  but Cornyn responded to say,  But Mueller needs to clean house of partisans. But Mueller needs to clean house of partisans https://t.co/g8SwgAKtfH  Senator JohnCornyn (@JohnCornyn) December 16, 2017The Washington Post s Greg Sargent asked Cornyn,  Will you accept the findings of the Mueller probe as legitimate, @JohnCornyn? Makes sense to me to wait to see what they are first,  Cornyn responded.Makes sense to me to wait to see what they are first https://t.co/9lCqpYujKN  Senator JohnCornyn (@JohnCornyn) December 16, 2017Republicans are trying to discredit Mueller and Twitter users took notice.If you even THINK of firing Mueller I ll make it my life s mission to make sure this is your last term, buddy.  Mrs. SMH (@MRSSMH2) December 16, 2017Carrollton, TX here Ready and willing to help get Cruz and Cornyn out  Jules012 (@JulesLorey1) December 16, 2017Garland, TX here Same! Bye Bye   TDK (@ejkmom1998) December 16, 2017Austin, TX. #IStandWithMueller. Cronyn is a fake representative. He represents his own interests and anything to profit himself  Vj (@Tex92eye) December 16, 2017I stand with Mueller!   Kenneth Shipp (@shipp_kenneth) December 16, 2017He speaks for me Its BS how you cover up for a Russia pawn If Trump not gulity why would Mueller be fired to cover up  Ellen Reeher Morris (@EllenMorris1222) December 16, 2017@EricHolder speaks for 69% of Americans according to recent polling. That s  vast majority  in my book. You were around for the Saturday Night Massacre @JohnCornyn. Firing Mueller would be X100!  Lori Winters (@LoriW66) December 16, 2017Country over party. pic.twitter.com/NXEX9rGBgu  PittieBoo (@PittieBoo) December 16, 2017He speaks for me, @JohnCornyn , and he speaks for the vast majority of American citizens who, you should remember, vote. See you in 2018.  Andrew Silver (@standsagreenoak) December 16, 2017I might just move to Texas to get those cronies tossed out of office. Blue wave is coming for the corrupt.  Ollie (@marciebp) December 16, 2017Good try, John. History will not be kind to you.Photo by Ann Heisenfelt/Getty Images",
         "News",
         "December 16, 2017"
        ],
        [
         "20",
         " In A Heartless Rebuke To Victims, Trump Invites NRA To Xmas Party On Sandy Hook Anniversary",
         "It almost seems like Donald Trump is trolling America at this point. In the beginning, when he tried to gaslight the country by insisting that the crowd at his inauguration was the biggest ever   or that it was even close to the last couple of inaugurations   we all kind of scratched our heads and wondered what kind of bullshit he was playing at. Then when he started appointing people to positions they had no business being in, we started to worry that this was going to go much worse than we had expected.After 11 months of Donald Trump pulling the rhetorical equivalent of whipping his dick out and slapping it on every table he gets near, I think it s time we address what s happening: Dude is a straight-up troll. He gets pleasure out of making other people uncomfortable or even seeing them in distress. He actively thinks up ways to piss off people he doesn t like.Let s set aside just for a moment the fact that that s the least presidential  behavior anyone s ever heard of   it s dangerous.His latest stunt is one of the grossest yet.Everyone is, by now, used to Trump not talking about things he doesn t want to talk about, and making a huge deal out of things that not many people care about. So it wasn t a huge surprise when the president didn t discuss the Sandy Hook shooting of 2012 on the fifth anniversary of that tragic event. What was a huge surprise was that he not only consciously decided not to invite the victims  families to the White House Christmas party this year   as they have been invited every year since the massacre took place, along with others who share those concerns.In each of the past 4 years, President Obama invited gun violence prevention activists, gun violence survivors (including the Sandy Hook families) and supportive lawmakers to his Christmas party. Zero gun lobbyists were in attendance. pic.twitter.com/QePW9FtbSh  Shannon Watts (@shannonrwatts) December 15, 2017The last sentence of that tweet is important, because that s exactly who Donald Trump did invite to the White House Christmas party. Instead of victims. On the anniversary day.Yesterday was the 5 year mark of the mass shooting at Sandy Hook School, which went unacknowledged by the President. On the same day, he hosted a White House Christmas party to which he invited @NRA CEO Wayne LaPierre. Here he is at the party with @DanPatrick. pic.twitter.com/mUbKCIWGxB  Shannon Watts (@shannonrwatts) December 15, 2017Wayne LaPierre is the man who, in response to the Sandy Hook massacre, finally issued a statement that blamed gun violence on music, movies, and video games, and culminated with perhaps the greatest bit of irony any man has ever unintentionally conceived of: Isn t fantasizing about killing people as a way to get your kicks really the filthiest form of pornography? Yes. Yes, it is, Wayne.Anyway, Happy Holidays Merry Christmas from Donald Trump, everyone!Featured image via Alex Wong/Getty Images",
         "News",
         "December 16, 2017"
        ],
        [
         "21",
         " KY GOP State Rep. Commits Suicide Over Allegations He Molested A Teen Girl (DETAILS)",
         "In this #METOO moment, many powerful men are being toppled. It spans many industries, from entertainment, to journalism, to politics and beyond. Any man that ever dared to abuse his power to sexually harass, molest, or assault women better brace himself for being rooted out, publicly shamed, and forced into early retirement.Well, unfortunately, the latest bombshell story has actually resulted in the suicide of a lawmaker. Kentucky State Representative Dan Johnson left a suicide note on Facebook and then shot himself on a bridge, according to reports from local authorities. Bullitt County Sheriff Donnie Tinnell reported to local station WDRB that Johnson s body was found after his suicide note from Facebook was reported to the local police. Here is that note:Now, nobody wants to celebrate a suicide. This man should have resigned gracefully and faced his accuser, who was a friend of his daughter s, who says that Johnson molested her while she was passed out drunk in his home. Apparently, Johnson, who referred to himself as some kind of  pope,  routinely engaged in parties with plenty of alcohol with minors. Johnson s home was called the  Pope s House,  and he was the preacher at the Heart of Fire City Church, where the alleged molestation took place.Now, innocent until proven guilty and all of that, but if someone commits suicide, it s likely there could be some merit there. That s a rather extreme measure to take. Further, by all accounts, this guy was no saint. He was heavily pro-gun, opposed any and all abortion rights, and has referred to President Barack Obama and First Lady Michelle Obama as monkeys on his Facebook page, among other racist messages and images.Again, we re not glad the man is dead. But, it is important for people to remember him for exactly who he was. We grieve for the loss his children, wife, and grandchildren suffered, for nobody deserves such a loss. However, methinks the people of Kentucky are much better off. Sad to say, but true.Featured image via screen capture",
         "News",
         "December 13, 2017"
        ],
        [
         "22",
         " Meghan McCain Tweets The Most AMAZING Response To Doug Jones’ Win In Deep-Red Alabama",
         "As a Democrat won a Senate seat in deep-red Alabama, social media offered up everyone s opinion because that s what social media does. Democrat Doug Jones narrowly defeated accused pedophile and serial sexual assaulter Roy Moore in a special election for the Senate seat vacated by Jeff Sessions when he was appointed Attorney General. And some Republicans aren t exactly heartbroken about this.Take Meghan McCain   John McCain s daughter. She went right after one of Trump s biggest supporters Steve Bannon as soon as the election results were announced:Suck it, Bannon  Meghan McCain (@MeghanMcCain) December 13, 2017Three simple words. It s amazing what three simple words can say.Steve Bannon spoke at Moore s election night rally, which we assume was supposed to be a night of celebration. Bannon endorsed Moore early on, against Luther Strange, whom Donald Trump himself campaigned for earlier this year. Bannon s support for Moore remained steadfast even in the wake of multiple allegations surfaced against him of sexual assault, harassment and even pedophilia. Bannon even said,  There s a special place in hell  for those who refuse to support Moore.On Dec. 12, the people of Alabama rejected Roy Moore s penchant for pursuing, even assaulting, teenage girls. They rejected his hate and bigotry. They rejected an asshat who has been removed from Alabama s Supreme Court twice for violating federal court orders, thus demonstrating he has no respect for the rule of law. And they sent a message to the Republican Party that this bullshit will no longer be tolerated. If deep-red Alabama can elect a Democrat, then anyone can. And that should have Republicans scared out of their minds.Well, we re going there, along with Meghan McCain and anyone else who believed Moore shouldn t ever hold public office. Even Republicans have their limits, it seems.Featured image via Frederick M. Brown/Getty Images",
         "News",
         "December 12, 2017"
        ],
        [
         "23",
         " CNN CALLS IT: A Democrat Will Represent Alabama In The Senate For The First Time In 25 Years",
         "Alabama is a notoriously deep red state. It s a place where Democrats always think that we have zero chances of winning   especially in statewide federal elections. However, that is just what happened on Tuesday night in the Special Election to replace Senator Jeff Sessions. Doug Jones, the Democratic Senate candidate who is known in the state for prosecuting the Ku Klux Klan members who bombed a church during the Civil Rights Movement and killed four little African American girls, will be the next Senator from Alabama. CNN has just called the race, as there seems no more GOP-leaning counties out there.To contrast, Roy Moore had been twice removed from the Alabama Supreme Court as Chief Justice for violating the law, and was also credibly accused of being a sexual predator toward teen girls. Despite all of that, though, the race was a nail biter, because Moore has a long history and a deep base in Alabama. Of course, decent people   including Republicans   were horrified at the idea of a man like Roy Moore going to the Senate. Despite the allegations of sexual predation, Moore also had said many incendiary things, such as putting forth the idea that Muslims shouldn t be allowed in Congress, that homosexuality should be illegal, and that America was great when slavery was legal. And that s just for starters, too.Thank you Alabama, for letting sanity prevail in this race. Oh, and a message to Democrats   this is proof we can compete everywhere. Get a fifty state strategy going so we can blow the GOP outta the water in 2018.Featured image via Justin Sullivan/Getty Images",
         "News",
         "December 12, 2017"
        ],
        [
         "24",
         " White House: It Wasn’t Sexist For Trump To Slut-Shame Sen. Kirsten Gillibrand (VIDEO)",
         "A backlash ensued after Donald Trump launched a sexist rant against Kirsten Gillibrand Thursday morning, saying that the Democratic Senator  would do anything  for a campaign contribution. Trump was calling Gillibrand a whore.White House press secretary Sarah Huckabee Sanders somehow denied that Trump s tweet was sexist. There is no way that is sexist at all,  Sanders told reporters.Then Sanders tried to explain what Trump really meant (we all know what he really meant). According to Sanders, Trump was merely accusing Gillibrand of being  controlled by contributions,  and hammering home his pledge to  drain the swamp  in Washington, according to The Hill. I think that the president is very obvious,  she said.  This is the same sentiment the president has expressed many times before when he has exposed the corruption of the entire political system. Sanders claims that Trump does not owe Gillibrand an apology if his words were taken as sexist. I think only if your mind is in the gutter you would have read it that way, so no,  she said.Watch:Gillibrand called on Trump to resign after Trump s accusers came back into the spotlight by hosting a press conference in which they called for an investigation into his past behavior. Lightweight Senator Kirsten Gillibrand, a total flunky for Chuck Schumer and someone who would come to my office  begging  for campaign contributions not so long ago (and would do anything for them), is now in the ring fighting against Trump. Very disloyal to Bill & Crooked-USED!  Trump tweeted this morning.Gillibrand responded to Trump s attack, saying that she won t be silenced. You cannot silence me or the millions of women who have gotten off the sidelines to speak out about the unfitness and shame you have brought to the Oval Office,  she tweeted.Yeah, Trump, you called her a whore.Image via screen capture.",
         "News",
         "December 12, 2017"
        ],
        [
         "25",
         " Despicable Trump Suggests Female Senator Would ‘Do Anything’ With Him For Campaign Money (TWEET)",
         "Donald Trump is afraid of strong, powerful women. He is a horrific misogynist, and has shown himself to be so over and over again. That is nothing new. He has mocked the weight of a beauty queen, made repeated suggestions about women s menstrual cycles, and had repeatedly called women who accuse men   including himself   of sexual harassment and sexual assault of being liars and threatened to sue him. Now, he has gone even lower with an attack on Democratic Senator Kirsten Gillibrand (NY).In an early morning tweet, Trump actually suggested that Senator Gillibrand would have sex with him for campaign money. No, I m not kidding. Here is the tweet:Lightweight Senator Kirsten Gillibrand, a total flunky for Chuck Schumer and someone who would come to my office  begging  for campaign contributions not so long ago (and would do anything for them), is now in the ring fighting against Trump. Very disloyal to Bill & Crooked-USED!  Donald J. Trump (@realDonaldTrump) December 12, 2017For one thing, I don t think Kirsten Gillibrand has to beg the likes of Donald Trump for anything, and she certainly would not stoop anywhere near doing what Trump is suggesting for campaign money. Think about this, folks: the sitting  president  is actually saying that a sitting Senator offered him sex in exchange for campaign money. That is truly beyond the pale. We already knew that Donald Trump was a sexist asshole, but this is a new low, even for him.General Kelly, General McMaster, and whomever else is running that White House   DO SOMETHING about this fool s Twitter habit. It is way out of control, and he does great damage to the nation with ever 140 280 character outburst. This is outrageous. Forget the fact that the orange overlord is currently squatting in the Oval Office   no adult, period, should be acting like this.In this watershed  Me Too  moment in America, it is time to call out the Sexist-in-Chief for what he is   a complete misogynist who has no respect for women and never has. Ivanka, Melania, Sarah Huckabee Sanders, Hope Hicks, and all the other women in Trump s orbit need to step up and say that there s been more than enough. Curtail this man s sexist behavior, or turn in your woman card. Every last one of you.Featured image via Alex Wong/Getty Images",
         "News",
         "December 12, 2017"
        ],
        [
         "26",
         " Accused Child Molesting Senate Candidate Roy Moore Sides With Putin Over Reagan (VIDEO)",
         "Ronald Reagan is largely seen as the Messiah of the Republican Party. Despite how long it has been since the man was president, he has always remained the high standard of GOP morality for potential office holders. That is, until now. Reagan is likely rolling over in his grave at the idea of the state of his party with Donald Trump as its standard-bearer, and he s likely doing the same at the prospect of a bigoted accused child molester like Roy Moore (R-AL) being the next GOP Senator from Alabama. Well, now Reagan has another reason to hate Moore: He s clearly in the pocket of Russian autocrat Vladimir Putin just like Donald Trump is.During an interview where he s talking about Americans being the face of  evil  in the world right now, Moore indicates that Putin s harsh and murderous treatment of LGBTQ people in Russia is something he would like to see happen in the United States. Then, he does something most appalling, and goes on to give Putin a message in Russian. Now, no one knows where a bigoted, backwoods buffoon like Roy Moore would learn Russian. After all, he s barely left Alabama, where he has spent the last 40+ years wreacking havoc and just basically cementing Alabama s place as America s bigoted boil on the butt of humanity wherever and whenever he can. However, he managed to learn enough Russian to dog whistle to Putin in that interview. That should disturb us all. Not only is the man being a homophobe, a racist, a misogynist, and more than likely a child molester, he s also a Russian stooge.America, we can do better. We have enough Russian puppets at the highest levels of government. Lord knows we don t need one in the United States Senate.Watch the appalling video below:Please watch this until the end, Roy Moore sides with Putin over Reagan, says that America is the focus of evil in the world, and sends a nice message to Putin in Russian. pic.twitter.com/wFgDkvzEhT  The Reagan Battalion (@ReaganBattalion) December 10, 2017Featured image via Drew Angerer/Getty Images",
         "News",
         "December 11, 2017"
        ],
        [
         "27",
         " WATCH: Fox Host Calls For A ‘Cleansing’ Of The FBI, And To Arrest Everyone Investigating Trump",
         " Judge  Jeanine Pirro has continued her screamy ragey meltdown over special counsel Robert Mueller s investigation into any possible collusion between the Trump campaign and Russia during the 2016 election. The Fox host is trying to discredit the FBI and we re wondering where the  Blue Lives Matter  crowd is as she tries to take down law enforcement officials. On Saturday night, Pirro said there needs to be a  cleansing  at the FBI and the Department of Justice.Pirro claims that quite a few officials are protecting Hillary Clinton   who does not hold public office   or are destroying Donald Trump, and singled out Deputy Director of the FBI Andrew McCabe, FBI official Peter Strzok, former Associate Deputy Attorney General Bruce Ohr, former FBI Director James Comey and you guessed it: Special Counsel Robert Mueller   all of whom she says need to be arrested and placed in handcuffs. There have been times in our history where corruption and lawlessness were so pervasive, that examples had to be made,  she shrieked.  This is one of those times. There is a cleansing needed in our FBI and Department of Justice   it needs to be cleansed of individuals who should not just be fired. But who need to be taken out in cuffs,  Pirro declared.Watch:.@JudgeJeanine:  There have been times in our history where corruption and lawlessness were so pervasive, that examples had to be made. This is one of those times.  pic.twitter.com/I2a1Uz5DGK  Fox News (@FoxNews) December 10, 2017Pirro has been trying to work Trump up into a frenzy over Hillary Clinton by using conspiracy theories. She got so out of hand that even Trump became  visibly agitated  and walked out on her during her rant.Pirro s husband was convicted of conspiracy and tax evasion in 2000. For that, he was sentenced to spend over two years  locked up  in prison for improperly deducting $1.2 million of his personal expenses as business write-offs while living a lavish lifestyle. Mr. Pirro was convicted on all 34 counts.Pirro split with her hubby after he admitted to fathering a child with another woman. He told the press and Pirro failed to give him enough attention. I know! Maybe if he changed his name to Hillary Clinton then he d get all the attention he needs.Pirro s hatred for Hillary Clinton goes way back and it appears to stem from jealousy.Maybe Pirro should heed the advice from Pirro in 2016 when she said,  We cannot have a country run by a president subject to ongoing criminal investigations, potential indictments and never-ending hearings [W]hether she s indicted or even guilty, it doesn t matter. I ll just leave this here:When you re attacking FBI agents because you re under criminal investigation, you re losing https://t.co/SIoAxatCjp  Sarah Sanders (@SarahHuckabee) November 3, 2016Image via screen capture. ",
         "News",
         "December 10, 2017"
        ],
        [
         "28",
         " Liberal Group Trolls Trump At Roy Moore Rally In The Best Possible Way (VIDEO)",
         "Donald Trump held a rally for Alabama Senate candidate and alleged pedophile Roy Moore in Pensacola, Florida on Friday night which he later claimed was  packed to the rafters  but the venue was barely half-filled with supporters. Outside of the rally, a liberal group targeted the former reality show star and Moore by using Ivanka Trump s own words.American Bridge used a mobile billboard featuring Ivanka Trump s criticism of Moore.  The truck displayed,  There s a special place in hell for people who prey on children  along with Trump s daughter s picture emblazoned across it.Happening now at @realDonaldTrump s rally: we re driving a mobile billboard promoting @IvankaTrump s condemnation of Roy Moore. https://t.co/XpDJYFZjzn #alsen pic.twitter.com/exQIAjZJ05  American Bridge (@American_Bridge) December 9, 2017The group s site says that the quote above and  I have no reason to doubt the victims  accounts  by Ivanka were blasted over a loudspeaker outside of the rally.Watch:We re in Pensacola promoting @IvankaTrump s comments on Roy Moore   pic.twitter.com/NJ3evTw0mw  American Bridge (@American_Bridge) December 9, 2017 There is a special place in hell for people who prey on children,  Ivanka Trump told the Associated Press after Moore s scandal became public.  I ve yet to see a valid explanation, and I have no reason to doubt the victims  accounts. Trump has given Moore his full support despite the Alabama Senate candidate being accused by multilple women of targeting them when they were teenagers and he was in this thirties and working as a district attorney.The truck was reportedly parked across the street from the rally, and was eventually driven around the crowd by American Bridge staffers, The Hill reports.Donald Trump has been accused of sexual harassment or assault by 19 women and yet, conservatives rewarded him by electing him to the highest seat in the land. Right-wing Alabama evangelicals seem to take no issue with Moore s scandalous past, which includes hating Muslims, the LGBTQ community, and allegedly creeping up on young girls.Photo by Drew Angerer/Getty Images.",
         "News",
         "December 9, 2017"
        ],
        [
         "29",
         " Don Jr. Tries To Mock Al Franken’s Resignation, Backfires Immediately",
         "When Sen. Al Franken (D-MN) announced his plans to resign Thursday, he specifically called out Donald Trump over the Access Hollywood video and Roy Moore, an alleged pedophile who is running for the Senate seat in Alabama with the GOP s blessing. Donald Trump Jr., not known for being a brainiac, decided to mock Franken on Twitter as if he didn t listen to the Democrat s amazing speech. Junior invoked one of the former comedian s  Saturday Night Live  most well-known characters, writing,  because I m good enough, I m smart enough, and God-darnit people like me  and included the hashtag  #Franken. because I m good enough, I m smart enough, and God-darnit people like me. #Franken  Donald Trump Jr. (@DonaldJTrumpJr) December 7, 2017Twitter gave Junior a wake-up call:pic.twitter.com/NmuRm5MgMz  liberalgranny50 (@peppersandeggs) December 7, 2017I am sure daddy @realDonaldTrump can sympathize as he is a fellow sexual predator  pic.twitter.com/Qesftp1u28  Matt Slavin (@tHemAttsLavin) December 7, 2017 Grab  em by the pussy.  Donald Trump.  Mrs. SMH (@MRSSMH2) December 7, 2017Did you wear a diaper when you tweeted this?  Tony Posnanski (@tonyposnanski) December 7, 2017 And when you re a star, they let you do it. You can do anything. Grab  em by the pussy.    your dad  Aaron Rupar (@atrupar) December 7, 2017Your father is a rapist. Ask your mom if you don t believe me.Also: you ll be in prison this time next year, traitor.  Greg Olear (@gregolear) December 7, 2017This is coming from Donald  I do not recall  Trump Jr.  Rep. Jackie Sharp (@JackieSharp) December 7, 2017Can t wait to tweet joke about you when you go to prison. pic.twitter.com/JajOLBYqc6  American Dad   (@okiedokiepokey) December 7, 2017pic.twitter.com/zB2kijzXk1  Meghan Morris (@seaghost78) December 7, 2017 I moved on her actually. You know she was down on Palm Beach. I moved on her and I failed. I ll admit it. I did try and fuck her. She was married. Your Dad #Franken #25thAmendmentNow  Lesley Abravanel (@lesleyabravanel) December 7, 2017Calm down Fredo, go shoot a sedated animal or something, it s what you re good at.  Motive of Christmas Past (@Falsemotive) December 7, 2017Yes, Jr, your Father (Sexual Predator) such a shining example to your 2 daughters.  Nothing in the world like First Rate P*ssy  he said.  cantblameobamaanymor (@DrRev_Mustafa1) December 7, 2017Franken said during his speech, I, of all people, am aware that there is some irony in the fact that I am leaving while a man who has bragged on tape about his history of sexual assault sits in the Oval Office and a man who has repeatedly preyed on young girls campaigns for the Senate with the full support of his party. Trump and Moore support each other.Photo by Jeff Vinnick/Getty Images",
         "News",
         "December 7, 2017"
        ],
        [
         "30",
         " BREAKING: Cop Finally Gets His Due, Walter Scott’s Killer Sentenced To Prison (DETAILS)",
         "In America, we have been having a conversation about police brutality against black Americans. Despite the countless black people murdered unjustly by police, there is usually no justice. Sandra Bland, Philando Castile, Keith Lamont Scott, Michael Brown, Freddie Gray too many to mention here, really. All of those people were senselessly murdered by cops who chose to be their judges, juries, and executioners, and they did so with impunity and without consequence. However, there is hope, and it is coming out of South Carolina, of all places.North Charleston police officer Michael Slager murdered Walter Scott, a black man who was fleeing after a routine traffic stop in cold blood in 2015. He would have gotten away with it, too, had it not been for a citizen who was brave enough to tape the murder. The tape showed that Slager had lied about his life being in danger, and it showed him cuffing Scott s lifeless body, and then planting a taser as  evidence.  Here is the news report of that damning tape:Thanks to that tape, Slager was arrested and charged with murder. Now, fast forward two years later, and Slager has been convicted of murder. U.S. District Judge David Norton decided to throw the book at Slager, and sentenced the murdering ex-cop to 19-24 years in prison.The original case ended in a mistrial, but the state of South Carolina seemed determined to get justice for Walter Scott, and that happened on December 7, 2017.  Of course, Slager s family begged for mercy from the judge, but luckily those calls were ignored. Michael Slager is a murderer, and he deserves the sentence he got.So many times, these cases end with the murderous cops back on the force, out in the streets after what amounts to nothing more than a paid vacation, free to murder another black person at will again. Thankfully, for once, the system worked as it should. For once, I am proud to be a South Carolinian. Hopefully this sets a precedent, and helps us turn a corner toward the arc of justice.Watch the video of the remarks of the Scott family below: Featured image via Grace Beahm-Pool/Getty Images",
         "News",
         "December 7, 2017"
        ],
        [
         "31",
         " Watch: Is This Proof Trump Is Unfit for Service?",
         "New questions are being asked about President Donald Trump s ability to lead after he slurred his words during a speech about his Jerusalem decision. Possible reasons for this include: fatigue, a dry mouth (the White House explanation), the use of drugs or alcohol, a problem with his dentures or more troubling issues dealing with his mental or physical health. Morning Joe reported this morning that, unlike other presidents, Trump has opted not to get his physicals at the Walter Reed Army Medical Center.Questions about Trump s mental stability have been growing over the last few months. While he has never been viewed as a stable person in the traditional sense, his tweets and comments have gotten more erratic. He was widely criticized recently when he retweeted several anti-Muslim videos that were posted by radicals in the United Kingdom.One psychiatrist talk to MSNBC s Lawrence O Donnel about his impressions of Trump s state of mind.Many think that any degradation in Trump s mental state may be due to the increased pressure he is feeling from Robert Mueller s investigations into collusion between his campaign and the Russian government. This has increased since former National Security Advisor Michael Flynn pleaded guilty to lying to the FBI.All of this talk is leading to more people to ask if Trump should be removed from office, citing the 25th Amendment to the U.S. Constitution. Rep. Jamie D. Raskin (D-MD) has circulated a  dear colleague  letter suggesting just that. As published in the Washington Post, it says: Please join a rapidly growing group of colleagues in cosponsoring H.R. 1987, the Oversight Commission on Presidential Capacity Act. It sets up and defines the Congressionally-appointed  body  called for by the 25th Amendment. Under Section 4 of the 25th Amendment, the Vice-President and a majority of the Cabinet or the Vice-President and a majority of  such other body as Congress may by law provide  can determine that the President is for reasons of physical or mental incapacity unable to discharge the powers and duties of his office. The 25th Amendment was added to the Constitution in 1967, but in the last 50 years Congress never created the  body  that its language contemplated. Perhaps it never occurred to prior Congresses that setting up this body was necessary. For obvious reasons, it is indeed necessary, and now is the time for us to do it. While the Republicans in the Cabinet and Congress may not yet be ready to take this step, it is out there.Featured image via Andrew Burton/Getty Images",
         "News",
         "December 7, 2017"
        ],
        [
         "32",
         " Trump Completely SCREWS The Middle East Peace Process, Just Another Wednesday For Him",
         "On Wednesday, Donald Trump took a step no previous president had ever dared to consider. He has declared that the United States now officially recognizes the city of Jerusalem as the capital of Israel, and announced plans to move the American embassy from Tel Aviv to the holy city.The only problem is, the city isn t just holy to the country of Israel.While Trump indicated that he wasn t  taking a position  on any contested land, that s really a misleading statement, since declaring Jerusalem as the capital of Israel in effect gives the city to the Israelis, a position that essentially declares the debate on who all of the land belongs to over.Saeb Erekat, the chief Palestinian negotiator in the peace process, was quick to respond, saying that Trump had  destroyed any possibility of peace  and that he was  pushing this region towards chaos [and] violence. Mustafa Marghouti, an independent Palestinian politician, told Al-Jazeera that: This is not a single act. This US administration that did not speak even once about a two-state solution. This American administration did not say or mention the words  Palestinian state  once. This American administration has failed to exercise any pressure on Israel on the issue of settlements, although Israel has enhanced settlement activities in the occupied territories by no less than 100 percent since President Trump was elected. Many expect to see outrage across the Middle East as news of the decision comes in.The European Union, for their part, insists that their position has not changed, and issued a statement almost immediately declaring that they intended to continue working toward recognizing Jerusalem as the capital of two distinct states   Israel AND Palestine.Just as he does here at home, Trump seems to be uniting people against him, even some that seem to be unlikely pairings. Both the President of Turkey, Recep Tayyip Erdogan, and King Abdullah II of Jordan warned that ignoring the Palestinian, Muslim, and Christian rights in Jerusalem will only fuel further extremism and undermine the war against terrorism. But the decision does make Trump s evangelical supporters in America happy. Their desire to hasten the end of days has been a constant source of bafflement for those seeking to understand the strange relationship between the Jewish state and evangelicalism. According to Christian traditions, the Jews will all die in the Apocalypse, as will everyone who doesn t share their specific beliefs.No wonder they re mostly Republicans.Watch Trump s announcement here:Featured image via Chip Somodevilla/Getty Images",
         "News",
         "December 6, 2017"
        ],
        [
         "33",
         " Trump Only Cares About Trump; Why He Is Recognizing Jerusalem Today",
         "President Donald Trump announced yesterday that he plans to formally recognize Jerusalem as the capital of Israel. While this is left most pundits perplexed, the reasoning is clear. Trump wants to divert attention from Robert Mueller s investigation. It is no coincidence that the day after the news broke that Deutsche Bank has received subpoenas for information on the Trump family s assets, that this Jerusalem decision was announced. What could be a bigger news story than getting this information? A blow up in the Middle East.Look at the reaction world leaders have had to this announcement. American allies throughout the Middle East and Europe have asked Trump not to do this and have stressed how dangerous a statement this is. US News and World Report put this out today: The mere consideration of Trump changing the status quo sparked a renewed U.S. security warning on Tuesday. America s consulate in Jerusalem ordered U.S. personnel and their families to avoid visiting Jerusalem s Old City or the West Bank, and urged American citizens in general to avoid places with increased police or military presence. It is worth noting that while Trump will formally announce that the U.S. will recognize Jerusalem as Israel s capital, there is no movement underway to relocate the embassy from Tel Aviv. In fact, he has signed an order to delay that decision for another six months. This move is necessary due to the 1995 Jerusalem Embassy Act, which mandated the embassy be moved. It also allowed the president to delay that by six months and every president since that act became law has done so this way.The Atlantic has even compared this decision to Trump  wagging the dog,  a reference to a movie where a U.S. president goes to war with Albania to take the public s attention away from his own scandals involving a mistress. The film was viewed as a parody of President Bill Clinton s military actions in Afghanistan and Sudan after he acknowledged an affair with Monica Lewinsky.While whether or not Clinton attacked other countries to distract the nation from his actions with Lewinsky may be a point that is up for debate, it is clear that Trump likes to do things to distract the public s attention. Catherine Rampell wrote about this tactic late last year in the Washington Post. She wrote: Welcome to 2017, the ouroboros of distractions, where every terrible thing is a head-fake for a ruse for a diversion for a misdirection from something else much, much worse. Trump makes announcements, sends tweets and says things without any thought to the real world consequences that follow. Experts in the Middle East fear that the Jerusalem announcement will lead to real deaths. Many people worry  that his thoughtless and impetuous tweets will lead to a nuclear war. His thoughtless comments confuse and enrage many.By making such a move, for such purely personal reasons, Trump is proving, once again, that he is not fit to be president of a condo association, much less of the United States.Featured image by Andrew Burton/Getty Images.",
         "News",
         "December 6, 2017"
        ],
        [
         "34",
         " Watch: Trump Supporting Coal CEO Upset Trump Is Wiping Out ‘Thousands’ Of Coal Mining Jobs",
         "While on the campaign trail, Donald Trump promised to revive the coal industry and after he took power, he signed an executive order rolling back a temporary ban on mining coal and a stream protection rule that was imposed by the Obama administration. Trump vowed to bring back thousands of mining jobs in struggling rural areas.  I made them this promise,  Trump said,  we will put our miners back to work. That was then and this is now.Coal CEO Robert Murray, a fierce supporter of Trump s, warns that if the Senate version of tax reform is enacted by the current occupant of the White House, he will be destroying thousands of coal mining jobs in the process.Murray said the Senate legislation will raise Murray Energy s taxes by $60 million a year,  notwithstanding the other so-called benefits the Senate has proposed,  CNBC reports. This means that very capital-intensive, highly leveraged employers, like coal-mining companies, will be forced out of business, with tragic consequences for our families and for many regions of our country,  Murray said. We won t have enough cash flow to exist. It wipes us out,  Murray told CNNMoney in an interview on Tuesday. This wipes out everything that President Trump has done for coal,  said Murray, the head of one of America s largest coal companies.CNN reports:Murray warned that a bankruptcy of his Ohio-based company would hurt its 5,500 employees along with their families. Asked if other coal mining companies could go out of business, he said:  Most certainly. Watch:Murray hosted a fundraiser for Trump during the campaign. And today, Murray warns that the GOP tax plan will  wipe out  coal mining jobs.Who saw this coming? Besides all of us. Trump supporters have been suckered.Image via screen capture. ",
         "News",
         "December 6, 2017"
        ],
        [
         "35",
         " Sitting GOP Senator Has Had ENOUGH, Donates To Alabama Democrat For Senate (IMAGE)",
         "Arizona Republican Senator Jeff Flake has never been a fan of Donald Trump or his incendiary, divisive brand of politics. Now, he is a leading GOP voice against electing Roy Moore (R-AL) to the United States Senate. Moore is an accused child molester, and has a lifetime history of making all kinds of bigoted and incendiary comments. He has said that homosexuality should be illegal, and that Muslims should not be allowed to serve in Congress. Moore was also removed twice from the Alabama Supreme Court for refusing to comply with higher court rulings. Well, Flake has finally had enough of his party enabling characters like Moore. He had already said that if he lived in Alabama, he d be voting for Democrat Doug Jones. Now, Flake  has taken his support of Jones even further, in the wake of the Republican National Committee s decision to support an accused child molester rather than a Democrat.Taking to Twitter, Senator Flake posted an image of a check   made out to Doug Jones  Senate campaign. Here is the tweet, captioned  Country over Party :Country over Party pic.twitter.com/JZMTaEYdxQ  Jeff Flake (@JeffFlake) December 5, 2017Now, I don t agree with Jeff Flake on anything politically, but I can say that he is trying to act with morality and decency here. One could argue that Flake s plans to retire from the Senate mean that he can do this without consequence, but at this point, that matters not. We do not need a pedophile in the United States Senate, and the GOP apparatus should be ashamed of themselves for trying to get Roy Moore elected. But, hey   better a pedophile than a Democrat, right?Featured image Drew Angerer/Getty Images",
         "News",
         "December 5, 2017"
        ],
        [
         "36",
         " Republican National Committee: Better A Pedophile Than A Democrat In The U.S. Senate",
         "By now, the whole world knows that Alabama Senate candidate Roy Moore (R-Of Course) was banned from an Alabama mall and the YMCA for creeping on little girls. He has been accused of molesting young girls as young as age fourteen. Of course, when the allegations first came out and the uproar and backlash began, everyone, regardless of politics, reacted with outrage. However, the GOP s outrage was often much more muted. Further, it took awhile for the Republican National Committee to pull their support for Moore, despite the deeply disturbing allegations of his being a pedophile. Well, now that the rage has died down, the RNC is back with a new message regarding this Senate race: Better a pedophile than a Democrat.Under cover of night, the RNC reinstated their support for Roy Moore, and an RNC official confirmed to The Hill that, quote, We can confirm our involvement in the Alabama Senate race. So, there you have it, folks. They literally want a child molester in the United States Senate rather than a Democrat. There are only a few voices from the right who are being brave on this one   and none of them are seeking re-election. Former Republican presidential nominee Mitt Romney tweeted that the GOP must not tolerate Moore:Roy Moore in the US Senate would be a stain on the GOP and on the nation. Leigh Corfman and other victims are courageous heroes. No vote, no majority is worth losing our honor, our integrity.  Mitt Romney (@MittRomney) December 4, 2017Outgoing Arizona GOP Senator Jeff Flake has actually said that he would vote for the Democratic candidate, Doug Jones, if he lived in Alabama, and former Jeb Bush adviser Tim Miller has actually endorsed and donated to Jones. Outgoing Pennsylvania moderate Republican Charlie Dent said he never supported Moore in the first place. Here s the video of Dent s takedown of Moore:There is also outspoken Trump critic and longtime GOP strategist Steve Schmidt, who went on national television and called Moore a pedophile:Other than that, though, it has been radio silence. After all, they need that vote. Besides, let s face it   the GOP writ large showed America and the world what they stand for when they elected Donald Trump.Featured image via Scott Olson/Getty Images",
         "News",
         "December 5, 2017"
        ],
        [
         "37",
         " Donald Trump’s Eating Habits Could Be Dramatically Affecting His Wellbeing And Our Safety",
         "We ve all heard the stories of Donald Trump preferring a well-done steak with ketchup and shunning any new delicacies, despite living a lifestyle that offers him all the luxuries one could ever desire, however, it s not just that the President has terrible gastronomical taste, a new memoir suggests that his diet is one of several poor lifestyle choices that could very well shorten his life.According to an excerpt from Let Trump be Trump, an upcoming book by Trump s former campaign manager Corey Lewandowski and aide David Bossie, we get to enter the inner circle where the President of the United States having a 2,400-calorie McDonald s dinner is par for the course. Trump s appetite seems to know no bounds when it comes to McDonald s, with a dinner order consisting of two Big Macs, two Filet-O-Fish, and a chocolate malted,  is just one of the claims made in the book. To put that meal in perspective, Trump s dinner contains 3,400 grams of sodium, despite the American Heart Foundation recommending just 1,500 grams per day, plus enough white bread to last most people a week. Remember, this is just one meal, but it only gets worse. On Trump Force One there were four major food groups: McDonald s, Kentucky Fried Chicken, pizza, and Diet Coke,  the authors write about traveling with Trump during the early days of his presidency, but there may be a valid reason for it   Not only is he a fan of manufacturing, Trump is also a renowned germaphobe who allegedly won t eat from a package that has already been opened, which would also explain the plane s cupboards being stacked with Vienna Fingers, potato chips, pretzels, and many packages of Oreos.  Those well-done steaks make a little more sense now, as well. But a little bit of bacteria is probably the least of the President s worries. This is a 71-year-old man who gets next to no exercise (it s hard to include his golf when he barely even walks while playing), gets very little sleep, and is constantly throwing tantrums, so add in that diet and you have the perfect recipe for a heart attack. The diet alone, especially the snacks, is almost an open-invite for diabetes, too.What makes this frightening for the rest of us is that this is a man who is currently responsible for a nuclear standoff with North Korea, as well as dealing with rapidly warming oceans and an ever-increasing tax bill. If he has this lack of concern for his own wellbeing, then what does it say of his risk-assessment abilities?Featured image via Win McNamee/Getty Images",
         "News",
         "December 5, 2017"
        ],
        [
         "38",
         " John McCain Wanted Another 74 Twitter Followers, But His Plan Backfired Miserably (TWEETS)",
         "All Senator John McCain wanted to achieve on the morning of Monday, December 4 was to hit that magic milestone of three million Twitter followers, a goal of which he was just 74 followers shy. So what was McCain s approach to gaining those new followers? Simple, he would go on Twitter and rely on word-of-mouth, how could that possibly fail?We're only 74 Twitter followers away from 3M   spread the word & help us reach this big milestone!  John McCain (@SenJohnMcCain) December 4, 2017There was just one little thing Senator McCain had forgotten to factor in   His significantly waning popularity since he voted for the Republican tax bill. Being the Republican Senator for Arizona, some may have seen this as him just batting for his own team, but let s not forget that John McCain was one of the few glimmers of hope as he was also one of the only Republicans that has been openly critical of President Trump and this is a terrible tax bill.Not only will the new tax measures raise taxes on those earning less than $75,000 per annum, it would also take healthcare from 13 million Americans and raise the national debt by almost $1.5 trillion dollars over the coming decade! To add insult to injury, the 479-page bill wasn t even completed when it was released on Friday night, with some pages crossed out and others with hand-written amendments in the margins. Furthermore, nobody even had a chance to read it when they were forced to vote on it, but that didn t sway McCain and the bill somehow managed to pass the Senate.UPDATE: Senate Republicans are so desperate to pass their tax bill tonight that they're now making handwritten changes to their already handwritten changes Seriously. pic.twitter.com/KQfW7bOyk1  Senator Dick Durbin (@SenatorDurbin) December 2, 2017Some people had grown to believe that Senator McCain wasn t too bad for a Republican, but when he shocked everyone and voted in favor of the new tax bill, one where 13 million taxpayers will lose their healthcare but still subsidize his treatment for brain cancer, he proved he was no different and people decided to revolt. So when McCain put out the plea for another 74 followers to reach the three million mark, Twitter-users instead instigated a massive unfollow campaign using the hashtag #UnfollowMcCain, costing him hundreds of followers every minute.Over 5,000 people have unfollowed you since you sent this this two hours ago.One reason is you because you   a man undergoing cancer treatment   voted to strip $25 BILLION dollars from the part of Medicare which pays for CANCER TREATMENT.#unfollowmccain https://t.co/gWl6KsAaLE  Mikel Jollett (@Mikel_Jollett) December 4, 2017I m happy to report that @SenJohnMcCain has lost more than 10,000 followers since I posted the below tweet. Please retweet to spread the word!! #UnfollowMcCain  https://t.co/TSb8B9Oj1B  Jon Cooper (@joncoopertweets) December 4, 2017Yeah, I'm a 'no' on that. You can have all the Twitter followers you want   AFTER you prove that you care more about this country than you do about the corrupt GOP & your stinking donors by voting *NO* on the #GOPTaxScam.Meantime: #UnfollowMcCain  jessica james (@MontaukBuzz) December 4, 2017His vote alone would've made it 50/50 giving time to fight/fix whatever,, he's the one who so openly said \"No\" gaining more trust & support from Dems. He blew it giving his family tax-free $. He also said yes to drilling in the Arctic reserve. #UnfollowMccain  Suomi_Tytt  (@musiikkia) December 4, 2017I am so disgusted in your #GOPTaxScam vote. Your legacy as an American Hero and a Maverick ended right there. Denying cancer treatment for Medicare/Medicaid patients gets you #UnfollowMcCain  JustDe  (@bobnde79) December 4, 2017So, how bad has the #UnfollowMcCain campaign been for the Arizona Senator? Well, at the time of writing this article he needed approximately another 30,000 followers to achieve his goal. Probably just should have kept quiet at 74 and hoped for things to improve organically.Featured image via William Thomas Cain/Getty Images",
         "News",
         "December 5, 2017"
        ],
        [
         "39",
         " This Sarah Huckabee Sanders Tweet About Attacking The FBI Hasn’t Aged Well",
         "Donald J. Trump spent a portion of his Sunday, presumably after church, lashing out at the world, including the FBI and its former Director James Comey. In an unprecedented fashion, Trump blasted his own Intelligence agency as the  worst in history  and claimed that it was in  tatters. After years of Comey, with the phony and dishonest Clinton investigation (and more), running the FBI, its reputation is in Tatters   worst in History!  President Exclamation Mark tweeted.  But fear not, we will bring it back to greatness. After years of Comey, with the phony and dishonest Clinton investigation (and more), running the FBI, its reputation is in Tatters   worst in History! But fear not, we will bring it back to greatness.  Donald J. Trump (@realDonaldTrump) December 3, 2017We do not know why he capitalized history and tatters, though.Trump also attacked former FBI Director James Comey to call him a liar.  I never asked Comey to stop investigating Flynn,  he tweeted.  Just more Fake News covering another Comey lie! I never asked Comey to stop investigating Flynn. Just more Fake News covering another Comey lie!  Donald J. Trump (@realDonaldTrump) December 3, 2017Trump sent out multiple tweets blasting his own agency, which resulted in FBI agencies firing back at his claims.It was just last year that Sarah Huckabee Sanders, now the White House press secretary, tweeted a response to Taegan Goddard, who wrote at the time,  Deep antipathy to Hillary Clinton exists within the FBI, multiple bureau sources have told the Guardian, spurring a rapid series of leaks damaging to her campaign just days before the election. When you re attacking FBI agents because you re under criminal investigation, you re losing,  Sanders tweeted in 2016 just before the election.When you're attacking FBI agents because you're under criminal investigation, you're losing https://t.co/SIoAxatCjp  Sarah Sanders (@SarahHuckabee) November 3, 2016Twitter users pounced.  that did age so well!! Time to eat some crow, Sarah!  Kalani (@kalani159) December 4, 2017 pic.twitter.com/Vu50IDUB3m  Carmine Davis (@Carmine761) December 4, 2017I don't think I've ever liked a @SarahHuckabee tweet before.  Backdoor Russian Overture (@BackdoorRussian) December 4, 2017I spit my coffee reading that and checked if it was the real account and then the date. Their twitter remarks always come back to bite them!  Carmine Davis (@Carmine761) December 4, 2017They have lied themselves in to a complete circle. pic.twitter.com/Ab8AMi0UxB  GammyGroot   (@capcara) December 4, 2017Trump told Russian officials in the Oval Office that firing  nut job  Comey eased pressure on him, according to the New York Times. I just fired the head of the F.B.I. He was crazy, a real nut job  I faced great pressure because of Russia,  he said in May. That s taken off.   I m not under investigation. The current occupant of the White House didn t just launch a war on U.S. Intelligence agencies, he launched a war on intelligence. In 2016, Sanders defended the FBI over Hillary Clinton. In 2017, she ll back up her boss s attack on the FBI because special counsel Robert Mueller is closing in on his administration. Because, it s not Hillary Clinton who will be locked up, after all.Photo by Mark Wilson/Getty Images.",
         "News",
         "December 4, 2017"
        ],
        [
         "40",
         " FBI Agents Destroy Donald Trump After He Attacks The Agency And James Comey",
         "Donald Trump went on quite a tweetstorm this morning, lashing out former Director of the FBI James Comey and the agency. Trump is losing his sh*t after his former national security adviser flipped in the investigation into any possible collusion between his campaign and Russia. On his former FBI Director, Trump called him a liar, writing,  I never asked Comey to stop investigating Flynn. Just more Fake News covering another Comey lie!  Then he claimed his FBI is the  worst in History!  and said it was in  tatters. After years of Comey, with the phony and dishonest Clinton investigation (and more), running the FBI, its reputation is in Tatters   worst in History!  he wrote.  But fear not, we will bring it back to greatness. After years of Comey, with the phony and dishonest Clinton investigation (and more), running the FBI, its reputation is in Tatters   worst in History! But fear not, we will bring it back to greatness.  Donald J. Trump (@realDonaldTrump) December 3, 2017That tweet prompted a statement from the President of the FBI Agents Association in a series of tweets. Every day, FBI Special Agents put their lives on the line to protect the American public from national security and criminal threats,  FBIAA President Thomas O Connor wrote.  Agents perform these duties with unwavering integrity and professionalism and a focus on complying with the law and the Constitution. This is why the FBI continues to be the premier law enforcement agency in the world,  he continued.  FBI Agents are dedicated to their mission; suggesting otherwise is simply false. James Comey also weighed in. I want the American people to know this truth: The FBI is honest. The FBI is strong. And the FBI is, and always will be, independent. Me (June 8, 2017) pic.twitter.com/OZ1ZiBrMNL  James Comey (@Comey) December 3, 2017Former President Barack Obama s Attorney General Eric Holder also took a shot at Trump s tweets. Nope. Not letting this go. The FBI s reputation is not in  tatters,  Holder tweeted.  It s composed of the same dedicated men and women who have always worked there and who do a great, apolitical job. You ll find integrity and honesty at FBI headquarters and not at 1600 Penn Ave right now. Nope. Not letting this go. The FBI s reputation is not in  tatters . It s composed of the same dedicated men and women who have always worked there and who do a great, apolitical job. You ll find integrity and honesty at FBI headquarters and not at 1600 Penn Ave right now  Eric Holder (@EricHolder) December 3, 2017What the FBI agents are saying is that Donald Trump is fake news.Photo by Tom Pennington/Getty Images.",
         "News",
         "December 3, 2017"
        ],
        [
         "41",
         " ‘Ghost Of Witness Flipped’: Hilarious SNL Skit Takes Trump Into His Own Private Holiday Hell (VIDEO)",
         "By now, everyone knows that disgraced National Security Adviser Michael Flynn has flipped on Donald Trump. Of course, the good folks at Saturday Night Live, who have been mocking Trump relentlessly, couldn t resist using this to needle the notoriously thin -skinned, sorry excuse for a  president.  It also helps that we are in the midst of the holiday season, which enabled SNL to use a seasonal classic, A Christmas Carol, to poke fun at Trump.Alec Baldwin took up the mantle to play Trump again, who is visited by a fictional Michael Flynn (Mikey Day) in chains, and seems positively terrified of the Ghost of Michael Flynn, who appears to tell Trump, it s time to come clean for the good of the country.  After that, the Ghosts of Christmas Past, Present, and Future line up to torture Trump in the Oval Office.The Ghost of Christmas Past is fired NBC host Billy Bush (Alex Moffat), of Trump s infamous  grab em by the pussy  tape. Then it was time for a shirtless Vladimir Putin (Beck Bennet) to arrive, to remind Trump of the fact that he wouldn t be president without help from the Russian government, and that he s about to have all of their efforts be for naught. The Ghost of Christmas Future is the best of all, with a positively wickedly delicious version of Hillary Clinton, played by Kate McKinnon, who gleefully says to Trump: You Donald, have given me the greatest Christmas gift of all! You have no idea how long I ve wanted to say this,  lock him up! Lock him up indeed. This entire criminal administration belongs in jail. It will go from Flynn, to Pence, to Trump Jr., and then to Trump himself   and then Hillary will really have the last laugh.",
         "News",
         "December 3, 2017"
        ],
        [
         "42",
         " Leaked Email Proves Trump Officials Aware Russia Had ‘Thrown The USA Election’ To Trump",
         "Donald Trump s current deputy national security adviser K.T. McFarland, a former Fox News personality, K. T. McFarland admitted in an email to a colleague during the 2016 presidential transition to Russia throwing the election to Trump. The leaked email was written just weeks before Trump s inauguration and it states that sanctions would make it difficult to ease relations with Russia,  which has just thrown the U.S.A. election to him. The New York Times reports:But emails among top transition officials, provided or described to The New York Times, suggest that Mr. Flynn was far from a rogue actor. In fact, the emails, coupled with interviews and court documents filed on Friday, showed that Mr. Flynn was in close touch with other senior members of the Trump transition team both before and after he spoke with the Russian ambassador, Sergey I. Kislyak, about American sanctions against Russia.A White House lawyer tried to explain McFarland s email to the The Times by saying that she was referring to the Democrats  portrayal of the election. That doesn t make any sense, by the way.McFarland wrote the email to Thomas P. Bossert, who currently serves as Trump s homeland security adviser, then he forwarded it to future National Security Advisor Michael Flynn (now indicted), future Chief of Staff Reince Priebus, future senior strategist Stephen Bannon, and future press secretary Sean Spicer, the Daily Beast reports.With all the pearl-clutching we witnessed from conservatives about Hillary Clinton s emails, you d think they wouldn t be sending messages about Russia throwing the election to Trump.This past March, John Oliver, the host of the HBO comedy show Last Week Tonight started a segment called  Stupid Watergate,  which he described as  a scandal with all the potential ramifications of Watergate, but where everyone involved is stupid and bad at everything. Nailed it!Photo by Chip Somodevilla/Getty Images.",
         "News",
         "December 2, 2017"
        ],
        [
         "43",
         " Trump Just Admitted He Knew Flynn Lied To The FBI Before He Asked Comey To Drop The Investigation",
         "Donald Trump really should have taken his staffers  advise and not tweeted about former national security adviser Michael Flynn because the former reality show star just implicated himself. I had to fire General Flynn because he lied to the Vice President and the FBI,  Trump tweeted.  He has pled guilty to those lies. It is a shame because his actions during the transition were lawful. There was nothing to hide! I had to fire General Flynn because he lied to the Vice President and the FBI. He has pled guilty to those lies. It is a shame because his actions during the transition were lawful. There was nothing to hide!  Donald J. Trump (@realDonaldTrump) December 2, 2017 Oh my god, he just admitted to obstruction of justice,  former Justice Department spokesman Matthew Miller tweeted.  If Trump knew Flynn lied to the FBI when he asked Comey to let it go, then there is your case. Oh my god, he just admitted to obstruction of justice. If Trump knew Flynn lied to the FBI when he asked Comey to let it go, then there is your case. https://t.co/c6Wtd0TfzW  Matthew Miller (@matthewamiller) December 2, 2017However, last February, then-White House press secretary Sean Spicer said Trump asked Flynn to resign from his position because of  eroding trust. There is not a legal issue but rather a trust issue,  he said at the time.After Flynn left, Trump defended him, calling the disgraced former national security adviser a  wonderful man. I think he s been treated very, very unfairly by the media   as I call it, the fake media, in many cases,  Trump said in February.  I think it s really a sad thing he was treated so badly. When Flynn resigned, he apologized for giving an inaccurate assessment of his conversation with Russian Ambassador Sergey Kislyak to Mike Pence, who, at the time, was the vice-president elect.Pence then said that Flynn had not discussed sanctions with Kislyak.The day after Flynn resigned, Trump, according to then-FBI Director James Comey, asked him to  let go  of an investigation into Flynn.Trump admitted that he knew Flynn lied to the FBI, then he asked Comey to drop the investigation. Shorter version: Trump just tripped over his own little d*ck and presented exhibit A for trial because he obstructed justice.Photo by Steve Pope/Getty Images.",
         "News",
         "December 2, 2017"
        ],
        [
         "44",
         " Watch This Awesome Mashup of Michael Flynn Leading The ‘Lock Her Up’ Chant As He Goes Off To Court (VIDEO)",
         "Donald Trump s disgraced National Security Adviser Michael Flynn has just plead guilty to lying to the FBI   a felony. He has also agreed to testify against Trump in exchange for leniency from Special Counsel Robert Mueller s team. The irony here is beyond delicious   especially since Flynn infamously led the  LOCK HER UP!  chants at the 2016 Republican National Convention, saying that Hillary Clinton was some kind of criminal, and that if Trump was elected they d be able to put her in jail, where many Trump supporters believe she belongs. Well, now the tables are turned, and it is Flynn who will be heading to jail, and the people who realize who the REAL criminals are have been having a field day. Perhaps one of the best pieces of Twitter schaudenfraude is this video of Flynn heading into court to plead guilty with the  Lock her up!  chant being played:I mashed up Michael Flynn s perp walk with audio of him leading a  lock her up  chant. pic.twitter.com/L1o5CjJXrQ  Adam Smith (@asmith83) December 1, 2017This is BEYOND awesome. These fools thought they d get a chance to put Hillary Clinton in jail as if we live in some kind of banana republic. Instead, they are all turning on each other in order to save their own asses in the best circular firing squad any of us ever could have imagined. Michael Flynn is going to sing like a canary so that he can keep himself and his equally criminal son out of federal prison   and railroad the entire Trump crime family into the slammer   just where they belong.The GOP made a deal with the devil when their ignorant, bigoted voters chose this unfit orange overlord to be their presidential nominee. Now, they are very likely to rue the day they ever heard the name Donald Trump.Featured image via Chip Somodevilla/Getty Images",
         "News",
         "December 1, 2017"
        ],
        [
         "45",
         " White House Panics Knowing Flynn Is Going To Take Them Down",
         "While Donald Trump has been taking vacations, special counsel Robert Mueller has been working hard on the Russia investigation. Instead of golfing this weekend, we suggest that the former reality show star huddle with his lawyers. Trump s former national security adviser Michael Flynn pleaded guilty to lying to the FBI about conversations with the Russian ambassador and he s fully cooperating with Mueller. As part of the plea deal, Flynn admitted that he was directed by a senior member of the Trump transition team to make contact with Russian officials in December. In addition, Flynn is prepared to testify that Trump as a candidate, ordered him to make contacts with the Russians.This marks the first instance of solid proof that there was collusion between team Trump and a hostile foreign government.On Friday, just after the news broke, the White House insisted that Flynn s guilty plea will not implicate Trump or anyone else in the White House.The White House said in a statement that Flynn was fired for making false statements to Trump officials, and that he worked for the administration for a short time   and that he was a former Obama administration official. The false statements involved mirror the false statements to White House officials which resulted in his resignation in February of this year,  said White House lawyer Ty Cobb.  Nothing about the guilty plea or the charge implicates anyone other than Mr. Flynn. The White House then referred to Flynn as the  former National Security Advisor at the White House for 25 days  as well as  a former Obama administration official. However, the White House left out a few important details. President Obama fired Flynn as head of the Defense Intelligence Agency and he also warned Trump about Flynn during a discussion two days after the election and emphasized that he had concerns about him joining the national security team for the new president.On top of that, just after Flynn was forced to resign, Trump called him a  wonderful man  who was treated unfairly by the media.Photo by David Becker/Getty Images.",
         "News",
         "December 1, 2017"
        ],
        [
         "46",
         " BREAKING: Michael Flynn CRACKS – Will Testify To Mueller Against Trump Himself",
         "Michael Flynn, Trump s embattled former national security adviser, has reportedly caved in and will testify to Robert Mueller and his team about Trump s collusion with Russia. According to an ABC News special report, Flynn has pleaded guilty to charges that include making false statements to the FBI. Most importantly, he admitted in his plea that officials on Trump s transition team directed his contacts with Russian officials.Furthermore, according to CNN s David Wright on Twitter, there s more to it than that. He s reporting that Brian Ross, who reported for ABC News, said that Flynn also says he s prepared to testify that Trump himself  ordered him, directed him, to make contact with the Russians, which contradicts all that Donald Trump has said at this point. .@BrianRoss reports Michael Flynn  is prepared to testify that President Trump as a candidate   Donald Trump   ordered him, directed him, to make contacts with the Russians, which contradicts all that Donald Trump has said at this point.  David Wright (@DavidWright_CNN) December 1, 2017.@BrianRoss:  As well, we re told that Flynn made the decision to cooperate only in the last 24 hours. That he is distraught about this decision, but feels he is doing the right thing for his country     David Wright (@DavidWright_CNN) December 1, 2017.@BrianRoss:   and that he is facing huge legal bills of more than a million dollars, and he said that finally he had to go and do this for that reason. He expects to put his house on the market. He is facing serious financial problems.  David Wright (@DavidWright_CNN) December 1, 2017For his part, Flynn issued a statement saying the following: Actions I acknowledged in court today are wrong, and through my faith in God, I am working to set things right. My guilty plea and agreement to cooperate with the Special Counsel s Office reflect a decision I made in the best interests of my family and of our country. I accept full responsibility for my actions. The White House has said that this is merely more of what got Flynn fired in the first place, and that this will have zero effect on Trump. Har de har har   don t make us laugh too hard. It hurts. Merry Christmas to Donald Trump and his entire treasonous family and administration! We hope you like orange jumpsuits!Featured image via Chip Somodevilla/Getty Images",
         "News",
         "December 1, 2017"
        ],
        [
         "47",
         " Trump Gets An Epic F**ck You From Britain Over His White Supremacist Retweets",
         "Donald Trump has a white supremacy problem, and now it is causing Great Britain, America s closest ally, to rebuke him in an historically public way. After Trump retweeted the leader of Britain First, a fascist white nationalist group, Prime Minister Theresa May decided she had had enough. She publicly criticized Trump, and made it clear that she in no way approved of his identifying with Britain First. May said of Trump s tweets: The fact that we work together does not mean that we re afraid to say when we think the United States has got it wrong, and be very clear with them. And I m very clear that retweeting from Britain First was the wrong thing to do. May went on to call Britain First a  hateful organization  that has caused division in her nation. Now, it seems that a so-called  working visit  that had been planned soon for Trump in Britain will now be cancelled.Trump, of course, instead of trying to patch things up in the  special relationship  that has always existed between the United States and Great Britain, decided to attack the Prime Minister of our closest and most important ally   again, of course, via Twitter:.@Theresa_May, don t focus on me, focus on the destructive Radical Islamic Terrorism that is taking place within the United Kingdom. We are doing just fine!  Donald J. Trump (@realDonaldTrump) November 30, 2017Donald Trump is an absolute disgrace. He is shredding America s international relationships, and painting us as a country full of bigoted, knuckle-dragging morons in front of the entire world. No matter who cancelled the visit to the UK for Trump, they were right to do so. The UK s citizens are right to be outraged that this buffoon was set to come to their great nation. Now, if only we Americans could get rid of him in the same way. We can hope.Featured image via Thomas Lohnes/Getty Images",
         "News",
         "December 1, 2017"
        ],
        [
         "48",
         " This Hilarious Campaign Ad Shows Voters How They Can Avoid Scandalous Elected Officials",
         "In Michigan, the upcoming election in 2018 presents voters with an interesting option: They could, for the first time, have an all-female  ticket  for every major office being contested. Senator Debbie Stabenow is up for re-election, and odds are good that the nominees for Governor, Attorney General, and Secretary of State will all be women.At least one of those candidates thinks that s a very good thing. Democratic candidate for AG Dana Nessel has produced a campaign ad that capitalizes on the benefits of being female when it comes to running for public office. Namely, the fact that she doesn t have a d*ck to wave at every passerby.With the wave of allegations over the last few weeks, beginning with the outing of movie mogul Harvey Weinstein as a total pervert and a sexual predator, it seems like everywhere you look there s someone else being ousted from their position or job for having at least acted like a pig   and in some cases the allegations are even worse.Of course, not everyone is suffering from the paradigm shift that has stoked bravery in women across America and around the world. The highest office in the country is, of course, occupied by a man who s been accused by at least 19 women of everything from sexual harassment to actual inappropriate physical touching. And the open US Senate seat in Alabama is currently being contested by, on the Democratic side, the guy who successfully prosecuted the 1963 bombing of the 16th Street Baptist Church in Birmingham that killed four young black girls, and on the Republican side, a guy who s accused of pursuing, dating, and touching teenage girls as young as 14 when he was an Assistant District Attorney in his 30 s.Dana Nessel wants to help you avoid all of that unseemly contact with potentially predatory men by simply not being one: [W]hen you re choosing Michigan s next attorney general, ask yourself this: Who can you trust most not to show you their penis in a professional setting? Is it the candidate who doesn t have a penis? I d say so. Watch the amazing ad here:Featured image via Bill Pugliano/Getty Images",
         "News",
         "November 30, 2017"
        ],
        [
         "49",
         " Joe Scarborough: It’s Not Our Imagination – Trump Really Is Losing His Mind (VIDEO)",
         "People have long speculated about Donald Trump s mental state. While it was once seen as unseemly to suggest that a public figure may be crazy, Trump s alarming behavior warrants an exception   especially since he has the nuclear codes. Well, it s not our imagination   and that s not just because we can see with every wild statement and unhinged Twitter rant that something is wrong with Trump. It s because, according to former Republican Congressman and current host of MSNBC s Morning Joe reported on Thursday that several of Trump s allies confided to him that Trump has dementia.Then, Scarborough went all in, and called for the use of the 25th Amendment to remove Trump, and in doing so, decided to list many of Trump s infamous incidences of con artistry in the process: If this is not what the 25th Amendment was drafted for, I would like the Cabinet members serving America   not the president   you serve America, and you know it. You know you don t serve Donald J. Trump. Scam developer, scam Trump University proprietor, reality TV show host. You don t represent him. You represent 320 million people whose lives are literally in your hands, and we are facing a showdown with a nuclear power. You have somebody inside the White House that the New York Daily News says is mentally unfit. That people close to him say is mentally unfit, that people close to him during the campaign told me had early stages of dementia. This is astounding. Joe Scarborough is no liberal. I disagree with a lot of what he says, but he s definitely putting his country before his party, and doing the right thing. It s time for Republicans to stop being cowards and remove Trump.Featured image via Win McNamee/Getty Images",
         "News",
         "November 30, 2017"
        ]
       ],
       "shape": {
        "columns": 4,
        "rows": 23481
       }
      },
      "text/html": [
       "<div>\n",
       "<style scoped>\n",
       "    .dataframe tbody tr th:only-of-type {\n",
       "        vertical-align: middle;\n",
       "    }\n",
       "\n",
       "    .dataframe tbody tr th {\n",
       "        vertical-align: top;\n",
       "    }\n",
       "\n",
       "    .dataframe thead th {\n",
       "        text-align: right;\n",
       "    }\n",
       "</style>\n",
       "<table border=\"1\" class=\"dataframe\">\n",
       "  <thead>\n",
       "    <tr style=\"text-align: right;\">\n",
       "      <th></th>\n",
       "      <th>title</th>\n",
       "      <th>text</th>\n",
       "      <th>subject</th>\n",
       "      <th>date</th>\n",
       "    </tr>\n",
       "  </thead>\n",
       "  <tbody>\n",
       "    <tr>\n",
       "      <th>0</th>\n",
       "      <td>Donald Trump Sends Out Embarrassing New Year’...</td>\n",
       "      <td>Donald Trump just couldn t wish all Americans ...</td>\n",
       "      <td>News</td>\n",
       "      <td>December 31, 2017</td>\n",
       "    </tr>\n",
       "    <tr>\n",
       "      <th>1</th>\n",
       "      <td>Drunk Bragging Trump Staffer Started Russian ...</td>\n",
       "      <td>House Intelligence Committee Chairman Devin Nu...</td>\n",
       "      <td>News</td>\n",
       "      <td>December 31, 2017</td>\n",
       "    </tr>\n",
       "    <tr>\n",
       "      <th>2</th>\n",
       "      <td>Sheriff David Clarke Becomes An Internet Joke...</td>\n",
       "      <td>On Friday, it was revealed that former Milwauk...</td>\n",
       "      <td>News</td>\n",
       "      <td>December 30, 2017</td>\n",
       "    </tr>\n",
       "    <tr>\n",
       "      <th>3</th>\n",
       "      <td>Trump Is So Obsessed He Even Has Obama’s Name...</td>\n",
       "      <td>On Christmas day, Donald Trump announced that ...</td>\n",
       "      <td>News</td>\n",
       "      <td>December 29, 2017</td>\n",
       "    </tr>\n",
       "    <tr>\n",
       "      <th>4</th>\n",
       "      <td>Pope Francis Just Called Out Donald Trump Dur...</td>\n",
       "      <td>Pope Francis used his annual Christmas Day mes...</td>\n",
       "      <td>News</td>\n",
       "      <td>December 25, 2017</td>\n",
       "    </tr>\n",
       "    <tr>\n",
       "      <th>...</th>\n",
       "      <td>...</td>\n",
       "      <td>...</td>\n",
       "      <td>...</td>\n",
       "      <td>...</td>\n",
       "    </tr>\n",
       "    <tr>\n",
       "      <th>23476</th>\n",
       "      <td>McPain: John McCain Furious That Iran Treated ...</td>\n",
       "      <td>21st Century Wire says As 21WIRE reported earl...</td>\n",
       "      <td>Middle-east</td>\n",
       "      <td>January 16, 2016</td>\n",
       "    </tr>\n",
       "    <tr>\n",
       "      <th>23477</th>\n",
       "      <td>JUSTICE? Yahoo Settles E-mail Privacy Class-ac...</td>\n",
       "      <td>21st Century Wire says It s a familiar theme. ...</td>\n",
       "      <td>Middle-east</td>\n",
       "      <td>January 16, 2016</td>\n",
       "    </tr>\n",
       "    <tr>\n",
       "      <th>23478</th>\n",
       "      <td>Sunnistan: US and Allied ‘Safe Zone’ Plan to T...</td>\n",
       "      <td>Patrick Henningsen  21st Century WireRemember ...</td>\n",
       "      <td>Middle-east</td>\n",
       "      <td>January 15, 2016</td>\n",
       "    </tr>\n",
       "    <tr>\n",
       "      <th>23479</th>\n",
       "      <td>How to Blow $700 Million: Al Jazeera America F...</td>\n",
       "      <td>21st Century Wire says Al Jazeera America will...</td>\n",
       "      <td>Middle-east</td>\n",
       "      <td>January 14, 2016</td>\n",
       "    </tr>\n",
       "    <tr>\n",
       "      <th>23480</th>\n",
       "      <td>10 U.S. Navy Sailors Held by Iranian Military ...</td>\n",
       "      <td>21st Century Wire says As 21WIRE predicted in ...</td>\n",
       "      <td>Middle-east</td>\n",
       "      <td>January 12, 2016</td>\n",
       "    </tr>\n",
       "  </tbody>\n",
       "</table>\n",
       "<p>23481 rows × 4 columns</p>\n",
       "</div>"
      ],
      "text/plain": [
       "                                                   title  \\\n",
       "0       Donald Trump Sends Out Embarrassing New Year’...   \n",
       "1       Drunk Bragging Trump Staffer Started Russian ...   \n",
       "2       Sheriff David Clarke Becomes An Internet Joke...   \n",
       "3       Trump Is So Obsessed He Even Has Obama’s Name...   \n",
       "4       Pope Francis Just Called Out Donald Trump Dur...   \n",
       "...                                                  ...   \n",
       "23476  McPain: John McCain Furious That Iran Treated ...   \n",
       "23477  JUSTICE? Yahoo Settles E-mail Privacy Class-ac...   \n",
       "23478  Sunnistan: US and Allied ‘Safe Zone’ Plan to T...   \n",
       "23479  How to Blow $700 Million: Al Jazeera America F...   \n",
       "23480  10 U.S. Navy Sailors Held by Iranian Military ...   \n",
       "\n",
       "                                                    text      subject  \\\n",
       "0      Donald Trump just couldn t wish all Americans ...         News   \n",
       "1      House Intelligence Committee Chairman Devin Nu...         News   \n",
       "2      On Friday, it was revealed that former Milwauk...         News   \n",
       "3      On Christmas day, Donald Trump announced that ...         News   \n",
       "4      Pope Francis used his annual Christmas Day mes...         News   \n",
       "...                                                  ...          ...   \n",
       "23476  21st Century Wire says As 21WIRE reported earl...  Middle-east   \n",
       "23477  21st Century Wire says It s a familiar theme. ...  Middle-east   \n",
       "23478  Patrick Henningsen  21st Century WireRemember ...  Middle-east   \n",
       "23479  21st Century Wire says Al Jazeera America will...  Middle-east   \n",
       "23480  21st Century Wire says As 21WIRE predicted in ...  Middle-east   \n",
       "\n",
       "                    date  \n",
       "0      December 31, 2017  \n",
       "1      December 31, 2017  \n",
       "2      December 30, 2017  \n",
       "3      December 29, 2017  \n",
       "4      December 25, 2017  \n",
       "...                  ...  \n",
       "23476   January 16, 2016  \n",
       "23477   January 16, 2016  \n",
       "23478   January 15, 2016  \n",
       "23479   January 14, 2016  \n",
       "23480   January 12, 2016  \n",
       "\n",
       "[23481 rows x 4 columns]"
      ]
     },
     "execution_count": 4,
     "metadata": {},
     "output_type": "execute_result"
    }
   ],
   "source": [
    "false_data = pd.read_csv(\"Fake.csv\")\n",
    "false_data"
   ]
  },
  {
   "cell_type": "markdown",
   "id": "7d11711d",
   "metadata": {},
   "source": [
    "# Data Cleaning and Normalization"
   ]
  },
  {
   "cell_type": "code",
   "execution_count": 5,
   "id": "cd0ba42c",
   "metadata": {},
   "outputs": [
    {
     "data": {
      "application/vnd.microsoft.datawrangler.viewer.v0+json": {
       "columns": [
        {
         "name": "index",
         "rawType": "int64",
         "type": "integer"
        },
        {
         "name": "title",
         "rawType": "object",
         "type": "string"
        },
        {
         "name": "text",
         "rawType": "object",
         "type": "string"
        },
        {
         "name": "subject",
         "rawType": "object",
         "type": "string"
        },
        {
         "name": "date",
         "rawType": "object",
         "type": "string"
        },
        {
         "name": "label",
         "rawType": "int64",
         "type": "integer"
        }
       ],
       "ref": "c4ef1d40-d6b5-4b89-8a82-5b0a9652b374",
       "rows": [
        [
         "0",
         " BREAKING: GOP Chairman Grassley Has Had Enough, DEMANDS Trump Jr. Testimony",
         "Donald Trump s White House is in chaos, and they are trying to cover it up. Their Russia problems are mounting by the hour, and they refuse to acknowledge that there are problems surrounding all of this. To them, it s  fake news,  or a  hoax.  However, the facts bear things out differently, and it seems that there are now cracks in the Congressional public leadership.Chuck Grassley (R-Iowa), who heads the Senate Judiciary Committee, is fed up. He is now demanding that Donald Trump, Jr. and former 2016 Trump Campaign Manager Paul Manafort testify before his committee regarding the now infamous shady meeting between Donald Trump and the shady Russian lawyer who promised dirt on 2016 Democratic Presidential nominee Hillary Clinton. In fact, this information is due, well, NOW. This demand sends a few signals to team Trump   most notably that they should not fire Special Counsel Robert Mueller under any circumstances, despite the fact that it seems that this seems to be what Trump s White House is laying the groundwork, so to speak, to do as we speak.Here is the tweet regarding Grassley s warning:Also, anyone who thinks that Senator Grassley and the rest of the Senate are not serious about this only needs to look at the warning that has already been given: Trump Jr. and Manafort will either follow orders, or be served with subpoenas that force them to comply. If they refuse, they will be held in contempt of Congress, which carries with it serious jail time.Even the cruel, craven creatures within the GOP are sick of Donald Trump s corruption and his scandal-ridden White House. They are angry that he staged a hostile takeover of their party, first with birtherism and giving them a permanently racist label all while decimating all efforts that were made to pretend the Republican Party isn t a hotbed of racism, and while turning their worlds upside down, and with it, the nation. It seems that old-timers like Grassley, who are clearly sick of Trump s bullshit, just might be the ones who could save the republic. All they need is a bit of courage.Featured image via Win McNamee/Getty Images",
         "News",
         "July 21, 2017",
         "1"
        ],
        [
         "1",
         " Failed GOP Candidates Remembered In Hilarious Mocking Eulogies (VIDEO)",
         "Now that Donald Trump is the presumptive GOP nominee, it s time to remember all those other candidates who tried so hard to beat him in the race to the White House. After all, how can we forget all the missteps, gaffes, weirdness, and sheer idiocies of such candidates as Jeb Bush, Marco Rubio, John Kasich, Ted Cruz, Ben Carson, and Carly Fiorina?There s a video making the rounds on Twitter that does just that, and eulogizes three of these failed candidates as though they re dead (and the GOP itself might as well be dead at this point anyway). Appropriately titled,  A Eulogy for the GOP,  people make short speeches about each of these candidates.Once past the man who actually says Jeb Bush was qualified to be president, there are fake tears, with journalist and comedienne Francesca Fiorentini saying: Dearly beloved, we re gathered here today to commemorate the candidates that are no longer with us. One man, speaking to an amusing, circus-y rendition of Chopin s Funeral March, remembers Jeb this way: Jeb, we hardly knew ye. It s too bad that your policies couldn t find their way out of the Republican morass. Indeed, it was like Jeb and his policies were invisible sometimes, although many felt that he would win the nomination early on. His best performances often came during debates, when he d get into out-and-out fights with Donald Trump over virtually everything under the sun. He also had a bad habit of defending his brother s actions in Iraq, memorably saying,  As it relates to my brother, there s one thing I know for sure: He kept us safe. Moving on to Marco Rubio, Fiorentini herself says: He was called so many things:  Young, charming, Lil  Marco.' That last nickname is, of course, a reference to Trump s penchant for name-calling. Then, a man speaking Spanish remembers Rubio this way: Marco, why aren t you a normal boy? Another said that his involvement in the Gang of Eight immigration bill killed him as a candidate, to which Fiorentini replies: Some people die of gang violence. He died of Gang of Eight violence. The makers of this video saved the absolute best for last, of course, which is Ben Carson. On our dear Dr. Carson, one of the speakers says: He would gently rock me to sleep with his monotone voice. Carson was especially well known for seemingly being asleep half the time. If we saw his eyes open wide, it was surprising, and likely because he was surprised himself. His voice is soft, his speech is slow, and it really can be hard to stay awake while he s talking. Imagine him giving a State of the Union address!To see the whole video, especially the spectacular ending after Carson s eulogy, watch below:Take a moment to say your g byes to these GOP candidates. ? https://t.co/6O70bl9zV8  AJ+ (@ajplus) May 7, 2016 Featured image via screen capture from embedded video",
         "News",
         "May 7, 2016",
         "1"
        ],
        [
         "2",
         " Mike Pence’s New DC Neighbors Are HILARIOUSLY Trolling Him For Being A Homophobic Bigot",
         "Mike Pence is a huge homophobe. He supports ex-gay conversion therapy, opposes hate crimes protections for LGBTQ people, is staunchly against marriage equality, and once said that he believes that same-sex couples will lead to  societal collapse.  To that end, the folks who are being forced to live near the now- vice president-elect near his newly rented house in Washington, DC are none too happy with their new neighbor. However, instead of protesting him with rallies in the streets, they ve decided to troll him instead.The residents in the Chevy Chase neighborhood are hanging large rainbow flags on their homes to send a signal to Mike Pence   that his homophobia is not welcome in their neck of the wood. According to local station WJLA: A respectful message showing, in my case, my disagreement with some of his thinking,  said Ilse Heintzen.The  he  Heintzen is referring to is Vice-President Elect Mike Pence. Pence moved into a house on Heintzen s block where he will stay on-and-off until he moves into the Vice-President s mansion on the grounds of the Naval Observatory next year.Neighbors started hanging the pride flags after the VP-Elect moved in because the LGBTQ community has criticized Pence s policies regarding LGBTQ rights.Here are a couple images of the collective rainbow F-YOU to Pence, via Twitter:#Pride flags sending message to @mike_pence outside temporary #DC home. Neighbors say more are coming. @NewsChannel8 @ABC7News #LGBTQ #LGBT pic.twitter.com/a2bfKfJ0yL  Tim Barber (@ABC7TimBarber) December 1, 2016Residents on NW Washington Street where VP Elect Pence is renting a house are sending him a symbolic message. More residents may hang flags pic.twitter.com/fldYsMoP6i  Suzanne Kennedy (@ABC7Suzanne) November 30, 2016There are more flags to come, too, according to locals. These people are doing a great thing by letting Pence know that his bigotry is not welcome, and that he d best not attempt to display it in their presence. On the other hand, this likely will cause another meltdown from Trump, who will undoubtedly accuse these people of  harassing  Pence for his bigoted views, just as happened with the Hamilton staff.Either way, this signals that there will be absolutely no tolerance for their bigotry, no matter how hard they push. Hopefully, their heads explode on this one before they even take office.Featured image via Chip Somodevilla/Getty Images",
         "News",
         "December 3, 2016",
         "1"
        ],
        [
         "3",
         "California AG pledges to defend birth control insurance coverage",
         "SAN FRANCISCO (Reuters) - California Attorney General Xavier Becerra said on Friday he was “prepared to take whatever action it takes” to defend the Obamacare mandate that health insurers provide birth control, now that the Trump administration has moved to circumvent it. The administration’s new contraception exemptions “are another example of the Trump administration trampling on people’s rights, but in this case only women,” Becerra told Reuters.  Becerra and other Democratic attorneys general have filed courtroom challenges to other Trump administration policies involving healthcare, immigration and the environment.  ",
         "politicsNews",
         "October 6, 2017 ",
         "0"
        ],
        [
         "4",
         "AZ RANCHERS Living On US-Mexico Border Destroy Nancy Pelosi’s Claim About Trump Being “Weak” For Wanting Border Wall [VIDEO]",
         "Twisted reasoning is all that comes from Pelosi these days especially when in 2006 most prominent Democrats voted to build a barrier at the border.Fred Davis and John Ladd are two Arizona ranchers who were guests on Fox and Friends this morning. As ranchers who are living and making a living on our US-Mexico border, they had a very different story to tell viewers. While laughing at claims made by Democrat House minority leader Nancy Pelosi, Ladd and Davis talked about how ridiculous her claims were and what the benefits of a real wall on our borders would mean to the actual residents living in the nightmare of illegal immigration.John Ladd was asked if he ever invited Pelosi to the border and he responded to Fox and Friends host Steve Doocy by saying,  Yes, but she never responded. ",
         "politics",
         "Apr 25, 2017",
         "1"
        ],
        [
         "5",
         "As private lawyer, Trump high court pick was friend to business",
         "WASHINGTON (Reuters) - As a lawyer in private practice for a decade, President Donald Trump’s U.S. Supreme Court nominee Neil Gorsuch often fought on behalf of business interests, including efforts to curb securities class action lawsuits, experience that could mould his thinking if he is confirmed as a justice. Gorsuch, a conservative federal appeals court judge from Colorado nominated by wealthy businessman Trump on Tuesday, could turn out to be a friend to business, having represented the U.S. Chamber of Commerce in fending off securities class actions, one of the most hotly contested areas of corporate law. The chamber is the largest U.S. business lobbying group. If confirmed, Gorsuch would be one of the only current justices with extensive experience on business issues in private practice.  Securities class action lawsuits are filed by investors who allege misconduct by a company whose stock price has tanked, hurting investors’ portfolios. These once-common lawsuits now face higher hurdles and are filed less often. Congress passed laws in 1995 and 1998 making it harder to bring securities class actions. Later court rulings, including one in which Gorsuch was involved, clarified the requirements under the laws. From 1995 to 2005, Gorsuch worked at boutique law firm Kellogg, Huber, Hansen, Todd, Evans & Figel in Washington, becoming a partner in 1998. He had a wide range of clients, including individuals and nonprofits, as well as various business interests. While there, he filed two briefs on behalf of the Chamber of Commerce seeking limits to securities class actions. One of Gorsuch’s briefs came in a securities fraud case called Dura Pharmaceuticals v. Broudo. The Supreme Court in 2005 ruled unanimously for the company, but did not issue the kind of broad ruling Gorsuch had sought, said Patrick Coughlin, the lawyer who argued the case on behalf of the investors who sued. Of Gorsuch’s role, Coughlin said representing the Chamber of Commerce is the epitome of corporate defense work for a lawyer. “The chamber had always been against us,” Coughlin said, referring to class action lawyers. “He’d always been on the other side of what we were doing, so it was not surprising he was selected by Trump.” Prior to the ruling, Gorsuch co-wrote an article in the Legal Times trade publication for lawyers in which he described some securities class actions as a “free ride to fast riches” for plaintiffs’ lawyers. He said the Dura case was a chance for the court to “curb frivolous fraud claims” in which plaintiffs cannot prove a stock price drop was caused by misrepresentations by a company. Gorsuch’s background promises to be valuable on the Supreme Court, which hears a significant number of business disputes among the roughly 70 cases considered each annual term.  Businesses have been trying with mixed success to get the Supreme Court to put new curbs on class action litigation beyond the securities context. Class actions can lead to huge jury awards against companies and is harder to defend against than lawsuits brought by individuals. If confirmed by the U.S. Senate in time, Gorsuch could play an immediate role in a major case on whether companies can head off costly class action lawsuits by forcing employees to give up their right to pursue work-related legal claims in court as a group. Paul Bland, executive director of consumer advocacy group Public Justice, said he hoped Gorsuch, if confirmed, would see that “most of what he saw as meritless cases in 2005 have been weeded out, and that the vast majority of the cases that remain raise substantial issues that protect investors.” Chamber of Commerce official Tom Collamore joined Trump at the White House on Wednesday for a meeting with advocacy groups touting Gorsuch’s pick, calling it “a fantastic nomination.” The chamber declined comment on Gorsuch’s work for the group. In a statement issued after the nomination was announced, chamber President Tom Donohue congratulated Trump on the selection. When Democratic President Barack Obama last March nominated appeals court judge Merrick Garland to fill the same vacant seat on the court, there was no press release from the chamber. Senate Republicans refused to act on Garland’s nomination, a move that paved the way for Trump to nominate Gorsuch to replace fellow conservative Antonin Scalia, who died in February 2016. Describing his career in private practice, Gorsuch said in his Senate questionnaire prior to his appointment by Republican President George W. Bush to the Denver-based 10th U.S. Circuit Court of Appeals in 2006 that he was “involved in matters large and small for clients ranging from individuals to nonprofits to corporations,” on such issues as racketeering, securities fraud and antitrust.  His former Washington law firm stressed in a statement that Gorsuch had a “wide variety” of clients and cited a case in which he represented people who had been targeted over payday loans. David Frederick, a lawyer at the firm, called Gorsuch “a dogged, very determined lawyer.” “He’s the kind of lawyer you would want to have representing you,” Frederick said. After leaving the firm, but before becoming a judge, he spent just over a year in Bush’s Justice Department. One of his roles was overseeing antitrust litigation involving the government. ",
         "politicsNews",
         "February 1, 2017 ",
         "0"
        ],
        [
         "6",
         "Yemeni Salafist imam killed in Aden: sources",
         "ADEN (Reuters) - A Salafist imam was shot dead by gunmen early on Saturday in Aden, southern Yemen, witnesses and local officials said, the third killing of a Salafist imam this month. Sheikh Adel Al Shehri, imam of a mosque in Inmaa district west of Aden, was shot while he was heading to the mosque for morning prayers. No one has claimed responsibility for the three killings and no motive has been made clear, but some of the ultra-conservative Salafists back secession for southern Yemen, and have been a major component of the breakaway southern army. A former Aden governor has declared a council that seeks secession for southern Yemen. A referendum on independence would be announced soon, he said. Aden is also dominated by local forces backed by the United Arab Emirates - a key member of the Saudi-led coalition that intervened in Yemen s civil war in 2015 to restore President Abd-Rabbu Mansour Hadi to power but which are hostile toward Islamists. ",
         "worldnews",
         "October 28, 2017 ",
         "0"
        ],
        [
         "7",
         "FBI says witnesses in U.S. probe into Malaysia's 1MDB fear for safety",
         "KUALA LUMPUR (Reuters) - Potential witnesses to the multi-billion dollar scandal at 1Malaysia Development Berhad (1MDB) are afraid to speak with U.S. investigators as they fear for their safety, the Federal Bureau of Investigation says. A total of $4.5 billion was misappropriated from 1MDB by high-level officials of the fund and their associates, according to dozens of civil lawsuits filed by the U.S Justice Department in the past two years. 1MDB is at the center of money-laundering probes in at least six countries, including the United States, Switzerland and Singapore. Malaysian Prime Minister Najib Razak set up 1MDB in 2009 and served as chairman of its advisory board until last year. He has denied any wrongdoing. The Prime Minister s office and 1MDB did not immediately respond to a request for comment on the FBI claims. In a federal court filing in Los Angeles, the FBI requested that the names of its informants in the case be kept secret, after many expressed concerns of retaliation if they were found to have been in contact with the U.S. government. Individuals otherwise willing to provide information on the case have also told investigators that they were afraid that they would  place the safety and security of both themselves and their families at serious risk , according to a declaration in the filing by FBI agent special agent Robert Heuchling. The agent said identifying witnesses could result in intimidation or threaten their safety, citing Malaysian news reports of local officials and politicians who have been arrested for purportedly disclosing information linked to 1MDB. The agent cited Malaysian press reports from Aug 30 that said the driver of former Malaysian Attorney-General Abdul Gani Patail was shot in public as a possible warning against assisting the U.S government in the case. Abdul Gani had led investigations on 1MDB until he was replaced in 2015. Last month, the U.S. Justice Department asked for a stay on its civil lawsuits seeking to seize more than $1 billion in assets allegedly bought with stolen 1MDB funds because it was conducting a related criminal probe. The lawsuits filed by the department allege that the funds were stolen in four phases. The lawsuits say those involved included Malaysian financier Low Taek Jho, also known as Jho Low, Najib s stepson Riza Aziz, and Khadem al Qubaisi, the former managing director of Abu Dhabi s International Petroleum Investment Co. The trusts holding the assets on behalf of Low, Aziz, al Qubaisi and their families have opposed the request to put the civil proceedings on hold. The Low trusts have asked the United States to provide the identities of witnesses, sources of evidence, and thousands of documents that are relevant to the criminal investigation, the FBI said. The Justice Department has sought to seize a total of about $1.7 billion in assets that it said were bought with misappropriated 1MDB funds. The lawsuits also claim that $681 million in 1MDB funds found its way into the personal accounts of so-called Malaysian Official 1, who Malaysian and U.S. officials have identified as Najib. He was cleared of any wrongdoing in a Malaysian investigation. Low did not immediately respond to a request for comment on the FBI filing and he has previously denied any wrongdoing in the 1MDB case, saying that the Justice Department s actions were  a further example of global overreach in pursuit of a deeply flawed case.  ",
         "worldnews",
         "September 6, 2017 ",
         "0"
        ],
        [
         "8",
         "An Easy To Read Chart Shows How Bernie Sanders’ Socialism Is Just A Stepping Stone To Communism",
         " The goal of socialism is communism.  -Vladimir Lenin, CommunistFor Bernie Sanders, Socialism is just a good place to start ",
         "politics",
         "Feb 24, 2016",
         "1"
        ],
        [
         "9",
         "MMA FIGHTER JAKE SHIELDS Embarrasses Cowards In Masks For Violent 20-on-1 Beating of Trump Supporter [VIDEO]: “I was in Berkeley and watched a man getting beat by a mob with no police help…I was the only person to jump in and help”",
         "Opposing views and beliefs has much of this country in a heated feud. With Donald Trump being recently inaugurated as the 45th President of the United States of America, citizens have been going to war with one another with their polar points of view.On Wednesday, Milo Yiannopoulos, a strong right-wing social figure, was scheduled to speak at UC Berkeley. However, protests that grew into violence between members of opposing sides broke out causing Yiannopoulos  speech to be canceled.In the midst of the violence being carried out in the area, Jake Shields was present and apparently helped a man from being severely beaten.  BjPennWatch MMA fighter Jason Shields embarrass the cowards with their faces covered who were part of the mob of 20 men from a domestic terror group, that identifies with an anti-fascist movement, severely beating an innocent man attending Milo Yiannopoulos  speech.Following Shield s brave act that could have saved the life of an innocent man being attacked by 20 cowards, one of the  anti-fascists  involved in beating walks up to Shields to ask if he s okay?Shields tells the cowards in the masks:  There s no f*cking reason (to have beaten this man). Dude, you guys have your faces covered, you re attacking people, you re being f**king fascists. Look at you guys. You re f*cking embarrassing. You don t let 20 people jump a man. It s not okay! The coward in the mask answers: There s a f*cking Nazi thing at the University, that why everybody s here. Shields responds:  What Nazi thing? Who s a Nazi? The Jew guy that was speaking? The gay Jew? Coward in mask responds:  He s not a Jew, he s Greek! what exactly did he say? Every kept saying he's a nazi but know knew why. They call everyone with a different opinion a nazi  Jake Shields (@jakeshieldsajj) February 2, 2017The idiocy of these violent people just looking for a fight can pretty much be summed up with that one completely uneducated sentence. These freaks are apparently there protesting a  Nazi,  yet have no idea what a Nazi is or that when you say someone is  Jewish,  you are speaking about their religion and not their nationality.Watch:The aftermath of me helping a guy after being jumped by thugs. The police and 100's of civilians stood and watched. pic.twitter.com/7hN2iJ4kkf  Jake Shields (@jakeshieldsajj) February 2, 2017I was in Berkeley and watched a man getting beat by a mob with no police help. I was the only person to jump in and help  Jake Shields (@jakeshieldsajj) February 2, 2017Shields tweeted,  it was sad to watch 20 people beat a man with no one helping. it was sad to watching 20 people beat a man with no one helping  Jake Shields (@jakeshieldsajj) February 2, 2017",
         "politics",
         "Feb 4, 2017",
         "1"
        ],
        [
         "10",
         " Tired Of Things Going Well, Marco Rubio Makes Promise To Destroy America Again (VIDEO)",
         "Listening to several of the Republican candidates for president, one could wonder if they ve been in a cryogenic sleep for the past seven years, and they re still talking about how badly George W. Bush screwed things up. However, no, they keep repeating the lie that the nation is so much worse now than it was at the brink of a recession before President Obama took over. Republican voters should honestly be insulted by this, being treated like idiots absent from reality. Although, maybe they are idiots absent to reality, and these Republican candidates are just being opportunistic.Repeating this lie of  seven disastrous years  of Obama, Marco Rubio took to the media branch of the GOP, Fox News, to give a quick campaign message and offer his well wishes for the new year. Hi, this is Marco Rubio, a senator from Florida, and a candidate for President of the United States. As we leave 2015 behind and look forward to 2016, with the elections that are coming up in November, this is the year where we re going to have a chance to turn America around. After seven disastrous years of the current president, we have a chance to reclaim the American dream, and that s why I m running for president. And my resolution for 2016 is to do everything I can to not just restore the American dream, but to expand it to reach more people and change more lives than ever before. So that this, the greatest country in the world, can be greater than it s ever been. So, what America does Rubio want to go back to, exactly? One where people are losing their homes? One where jobs are lost at a rate of 750,000 per month? One where people could be denied healthcare for a preexisting condition? One where the 14th amendment is ignored and marriage equality doesn t exist? One where Osama bin Laden is still alive? One where credit card companies can still screw customers over left and right?Honestly, what does Rubio want to do to  turn America around,  because it sure as hell looks as though we are headed in the right direction, and if anything could stand a candidate to continue Obama s progress and advance it further.Rubio apparently wants an America where Wall Street runs the show, people die or go bankrupt from lack of health coverage, and Americans aren t treated equally under the law. So, if that s the America Rubio wants   thanks, but no thanks. .@marcorubio:  This is the year where we re going to have a chance to turn America around.  #FoxNews2016 https://t.co/yvze0WpCKg  Fox News (@FoxNews) January 1, 2016 Video/Featured image: Twitter",
         "News",
         "January 1, 2016",
         "1"
        ],
        [
         "11",
         "Yemen air strike kills eight women, two children, say residents",
         "DUBAI (Reuters) - Eight women and two children from the same Yemeni family were killed when an air strike by forces of the Saudi-led coalition involved in the country s three-year-old war hit a wedding party, residents said on Monday. The 10 people were returning on Sunday evening from a wedding in Marib province, an area east of the capital Sanaa held by the Iran-allied Houthi group, when their vehicle was struck, the sources said. A spokesman for the coalition, which denies targeting civilians and says that every report of an attack is investigated, did not respond to an email requesting comment.  The residents said the victims, all female, were part of the same family, but gave no further details on their ages or if anyone else was traveling with them. The coalition has been conducting regular air strikes in Houthi-held areas as part of a campaign to restore President Abd-Rabbu Mansour Hadi to power. The United Nations says that more than 60,000 people have been killed or wounded in the conflict, which also displaced more than two million and triggered a cholera epidemic that has infected about one million people. ",
         "worldnews",
         "December 18, 2017 ",
         "0"
        ],
        [
         "12",
         "BREAKING: WDBJ KILLER WAS ANGRY BLACK DEMOCRAT…Reprimanded For Wearing Obama Sticker At Work",
         "An angry black, gay, racist, Democrat victim the poster child for today s progressive in America Gay Black reporter Vester Flanagan was an Angry Barack Obama Democrat. ** He was reprimanded for wearing a Barack Obama sticker at work. ** He had his racial suits tossed from court ** He was a  high paid companion  ** He attempted to subpoena personnel records on both of his victimsThen he shot them dead Killer Vester Flanagan was a big Obama supporter.The Huffington Post reported:Vester Lee Flanagan, the man suspected of killing two Virginia television reporters Wednesday morning, attempted to subpoena personnel records on both of those victims, as well as other staff members, as part of a lawsuit against the TV station.Flanagan s lawsuit, filed in the Roanoke City General District Court in March 2014, requested $25,000 from WDBJ, the station, which had terminated his employment the previous year. The suit cited wrongful termination, unpaid overtime wages, racial discrimination and sexual harassment for identifying as gay. The case was dismissed due to lack of evidence, although it s unclear whether a settlement was reached.According to an internal memo included in the court documents, after Flanagan was presented with a severance letter in February 2013, he said,  You better call police because I m going to make a big stink.  A newsroom employee called 911, and police officers arrived to physically escort Flanagan from the building.Memos indicate that Ward videotaped Flanagan as he was escorted out. Flanagan told Ward to  lose your big gut,  and flipped off the camera.WDBJ objected to Flanagan s request for employee documents, claiming the personnel records were proprietary information and irrelevant to his claims.The court filings also include Flanagan s application for employment at WDBJ and his resume, in which he reported graduating from San Francisco State University with a 3.7 grade point average and his affiliation with the National Association of Black Journalists.Flanagan was offered a position with WDBJ on March 6, 2012, as a multimedia journalist/general assignment reporter with an annual salary of $36,000. However, he quickly racked up a misconduct record during his year of employment.In a performance review in August 2012, Flanagan was given a  1,  the lowest rating, for being  respectful to coworkers at all times,  but a  4  for work diligence and attendance. He was written up in November 2012 for wearing a Barack Obama sticker.By the end of that year, his supervisor was expressing dissatisfaction with the quality of Flanagan s work, as well as his attitude towards his co-workers. Dan Dennison, the station s news director at the time, cited a story in which Flanagan reported on a local church s response to the mass shooting at Newtown, Connecticut. Via: Gateway Pundit",
         "politics",
         "Aug 26, 2015",
         "1"
        ],
        [
         "13",
         "LIST OF 22 TIMES OBAMA Called Phony Climate Change More Serious Than Terrorism",
         "Oh the irony of a terror attack by Muslims taking place on American soil on the heels of Obama s return from phony Climate Change Summit in Paris ISIS has taken responsibility for the horrifying attacks in Paris that have left more than 150 dead and hundreds wounded. French President Francois Hollande is calling for the closure of his country s borders. President Barack Obama didn t condemn Islamic radicals for the attacks, but he did call them  an outrageous attempt to terrorize innocent civilians  and  an attack on all of humanity and the universal values we share. Friday s deadly attacks thwarted Al Gore s long-planned Paris webcast and star-studded concert to promote climate change awareness. Out of solidarity with the French people and the City of Paris, we have decided to suspend our broadcast of 24 Hours of Reality and Live Earth,  the group said in an online statement.Coincidentally, in July 2008, Al Gore called climate change a more dangerous threat than terrorism.  I think that the climate crisis is, by far, the most serious threat we have ever faced,  Gore told ABC News.Below are 22 times Obama or his administration officials claimed climate change a greater threat than radical Islamic terrorism.In a January 15, 2008 presidential campaign speech on Iraq and Afghanistan, Barack Obama said the  immediate danger  of oil-backed terrorism  is eclipsed only by the long-term threat from climate change, which will lead to devastating weather patterns, terrible storms, drought, and famine. That means people competing for food and water in the next fifty years in the very places that have known horrific violence in the last fifty: Africa, the Middle East, and South Asia. Most disastrously, that could mean destructive storms on our shores, and the disappearance of our coastline. On January 26, 2009, Obama delivered remarks at the White House on the  dangers  of climate change:These urgent dangers to our national and economic security are compounded by the long-term threat of climate change, which, if left unchecked, could result in violent conflict, terrible storms, shrinking coastlines, and irreversible catastrophe.In May 2010, the Obama White House released it s national security strategy, which said,  At home and abroad, we are taking concerted action to confront the dangers posed by climate change and to strengthen our energy security.  The document declared climate change  an urgent and growing threat to our national security. On September 6, 2012, during his Democratic National Convention speech, Obama said,  Yes, my plan will continue to reduce the carbon pollution that is heating our planet, because climate change is not a hoax. More droughts and floods and wildfires are not a joke. They are a threat to our children s future.On January 23, 2013, in an address before the Senate Foreign Relations Committee, Secretary of State John Kerry declared climate change among the top threats facing the United States.February 16, 2014, Secretary of State John Kerry addressed students in Indonesia and said that global warming is now  perhaps the world s most fearsome weapon of mass destruction. In a June 2014 interview, Obama said:When you start seeing how these shifts can displace people entire countries can be finding themselves unable to feed themselves and the potential incidence of conflict that arises out of that that gets your attention. There s a reason why the quadrennial defense review which the secretary of defense and the Joints Chiefs of Staff work on identified climate change as one of our most significant national security problems. It s not just the actual disasters that might arise, it is the accumulating stresses that are placed on a lot of different countries and the possibility of war, conflict, refugees, displacement that arise from a changing climate.During a September 2014 meeting with foreign ministers, Secretary of State John Kerry called Climate change a threat as urgent as ISIS.On September 24 2014, the Obama USDA launched its Global Alliance for Climate Smart Agriculture. In a memo posted by Secretary of State John Kerry, among other Obama administration officials, read, From India to the United States, climate change poses drastic risks to every facet of our lives. On October 29, 2014, in an address to the Washington Ideas Forum, Obama s Defense Secretary Chuck Hagel said:From my perspective, within the portfolio that I have responsibility for security of this country climate change presents security issues for us. There s a security dynamic to that. As the oceans increase, it will affect our bases. It will affect islands. It will affect security across the world. Just from my narrow perspective, what I have responsibility for, that s happening now.During his 2015 State of the Union address, Obama said,  No challenge  poses a greater threat to future generations than climate change. In a February 2015 address to college students in Iowa, Vice President Joe Biden said  Global warming is the greatest threat to your generation of anything at all, across the board. On February 09, 2015, in an interview with Vox, Obama said he  absolutely  believes that the media  sometimes overstates the level of alarm people should have about terrorism  as opposed to  climate change. On February 10, 2015, when asked to confirm if this means Obama believes  the threat of climate change is greater than the threat of terrorism,  Earnest responded,  The point the president is making is that there are many more people on an annual basis who have to confront the impact, the direct impact on their lives, of climate change, or on the spread of a disease, than on terrorism. During his April 18, 2015 weekly address on climate change, Obama said,  Wednesday is Earth Day, a day to appreciate and protect this precious planet we call home. And today, there s no greater threat to our planet than climate change. In May 2015, the White House released a 1,300-page National Climate Assessment that declared climate change among the world s foremost threats.May 20, 2015 President Obama said in his keynote address to the U.S. Coast Guard Academy graduates:  Climate change, and especially rising seas, is a threat to our homeland security, our economic infrastructure, the safety and health of the American people. On July 13 2015, U.S. Environmental Protection Agency administrator Gina McCarthy and Obama s U.S. Ambassador to the Vatican Kenneth F. Hackett wrote in a joint blog post on the EPA website, praising Pope Francis for dedicating his second encyclical to urging swift action on global warming.McCarthy and Hackett wrote:As public servants working in both domestic policy and diplomacy, we understand the urgent need for global action. Climate impacts like extreme droughts, floods, fires, heat waves, and storms threaten people in every country and those who have the least suffer the most. No matter your beliefs or political views, we are all compelled to act on climate change to protect our health, our planet, and our fellow human beings.An Obama Defense Department report released on July 29, 2015 says climate change puts U.S. security at risk and threatens the global order:The report reinforces the fact that global climate change will have wide-ranging implications for U.S. national security interests over the foreseeable future because it will aggravate existing problems such as poverty, social tensions, environmental degradation, ineffectual leadership, and weak political institutions that threaten domestic stability in a number of countries.The report finds that climate change is a security risk because it degrades living conditions, human security, and the ability of governments to meet the basic needs of their populations. Communities and states that are already fragile and have limited resources are significantly more vulnerable to disruption and far less likely to respond effectively and be resilient to new challenges.In his August 28, 2015 weekly address, Obama said  This is all real. This is happening to our fellow Americans right now,  he said.  Think about that. If another country threatened to wipe out an American town, we d do everything in our power to protect ourselves. Climate change poses the same threat, right now. In a September address at the United Nations Climate Summit Obama said,  For all the immediate challenges that we gather to address this week terrorism, instability, inequality, disease   there s one issue that will define the contours of this century more dramatically than any other, and that is the urgent and growing threat of a changing climate. During a September 28 address at the United Nations, President Obama said that  We can roll back the pollution that we put in our skies,  adding that  No country can escape the ravages of climate change.  Via: Breitbart News",
         "politics",
         "Dec 3, 2015",
         "1"
        ],
        [
         "14",
         "Indo-Pacific? Not from where China is sitting...",
         "BEIJING/NEW DELHI (Reuters) - As U.S. President Donald Trump and some of America s democratic allies talk up a vision of  Indo-Pacific  cooperation, China is determined to ensure that the future belongs to  Asia .   The increasing use of the phrase  Indo-Pacific  by Trump and his team during their marathon Asian jaunt this week, instead of the  Asia-Pacific  term that has long been common in business and diplomacy, is being greeted with thinly-veiled sneers in Beijing.  Trump choosing to use the term and actually making it happen are two totally different things,  Diao Daming, an American studies expert at Renmin University in Beijing, told a forum on Friday.    The region is leading global development and Trump wants America to be first, so he could not ignore its existence. He had to say something to the region, so we have  Indo-Pacific . But as yet it s just a concept and we don t know what it means.  Beyond the wordplay lies both concern and scepticism in Beijing at U.S. attempts to complicate China s strategic domain, particularly by encouraging rival power India to work more closely militarily with Japan. Tokyo recently backed New Delhi during India s border stand-off with China.    Chinese Foreign Ministry spokeswoman Hua Chunying did not dignify  Indo-Pacific  by name in a statement this week, but noted that  this concept has been mentioned many times .    We hope that the Asia-Pacific region can become a stable, prosperous and orderly region....where we are capable of managing differences and have the wisdom to resolve the disputes,  she said.    Indo-Pacific  has grown in usage across diplomatic and security circles in Australia, India and Japan in recent years, shorthand for a broader and democratic-led region in place of the  Asia-Pacific , which to some places an authoritarian China too firmly at the center.   Trump and his team have given it fresh currency in recent days, starting in Seoul and Tokyo, building on the rhetoric of his secretary of state Rex Tillerson, who last month talked of the need to support a  free, open and thriving Indo-Pacific .   Describing the Indian and Pacific Oceans as a  single strategic arena , Tillerson went further as he described India and the United States as  bookends  within that region.    In concrete terms, it will lead to great co-ordination between the Indian, Japanese and American militaries including maritime domain awareness, anti-submarine warfare, amphibious warfare, and humanitarian assistance, disaster relief, and search and rescue,  he said.   Not all allies are convinced, however.   When Trump s White House issued a statement after the U.S.-South Korea summit on Wednesday describing the alliance as a  linchpin for stability, security and prosperity in the Indo-Pacific , South Korea s presidential Blue House issued a note of caution.   While the phrase  Indo-Pacific  matched some of South Korea s policies aimed at diversification,  we felt there was more discussion necessary to see whether it is an appropriate term to be used in our efforts toward...joint strategic goals , the Blue House statement said.   Welcoming the trend is Indian navy Captain Gurpreet Khurana, who was among the first to coin the Indo-Pacific concept in an academic paper back in 2007.   The rise of India as an economic power following its free market reforms and then its gradual military build-up was itself a key factor in the increasing significance of the Indian Ocean, he said.    India could no longer be excluded from any over-arching reckoning in the Asia-Pacific, be it economic or security related,  said Khurana, of the military-funded National Maritime Foundation. Chinese officials and experts have long bristled at any perceived attempt to contain a rising China.  But Trump s Indo-Pacific policy should not be underestimated by China, because India, Japan and Australia are united by being on the wrong side of China s development strategy for the region, according to Jia Wenshan, an expert on China s foreign policy at the Beijing-based Center for China and Globalization.  China needs to as soon as possible deal with the Indo-Pacific alliance, as it is absolutely in conflict with Belt and Road,  Jia said, referring to the Chinese president s signature initiative to re-establish trade and infrastructure ties between China and nations throughout Central and Southeast Asia.  Behind Indo-Pacific you have Japan s economic support, India s development speed and Australia s fears of China, these are all strategic realities.  ",
         "worldnews",
         "November 10, 2017 ",
         "0"
        ],
        [
         "15",
         "ART CONTEST WINNER Disqualified for Being a Trump Supporter…What Happened to the “Tolerant” and “Accepting” Left?",
         "So now if you enter a contest, you need to worry about your political affiliation if you re a Republican? The left continues to show that they are the most intolerant of anyone who s across the aisle from them. It s getting uglier and uglier out there. What happened to the  accepting  leftists who claim they re ok with all people? WE HAVE A SUGGESTION: Please message Gypsy on Twitter or Instagram   It might also be a good idea to contact Kat Von D Beauty. Light Up Social Media!The Wichita Eagle reported that Gypsy Freeman was declared the winner of a national art contest sponsored by Kat Von D Beauty and was set to receive a prize package worth about $2,100. That is, until an Instagram user found a post on her page supporting Donald Trump. Once that was made known to the company, Freeman reportedly received a message from Kat Von D s Instagram account informing her that she was disqualified.PLEASE SEND A MESSAGE OF ENCOURAGEMENT  TO GYPSY FREEMAN VIA TWITTERAccording to the Eagle:When Freeman was announced as the winner, curious Instagrammers went to her page and found a pro-Trump post from Election Day last year.That evening, she received a direct message from Kat Von D s personal Instagram account, telling her the celebrity had  drawn a personal line in the sand between myself and anyone who supports that man,  according to screenshots of the conversation. My launch party [and my brand] celebrates many things that Trump is against,  the celebrity went on to say, according to the screenshots.  And I just need you to know that I personally have a hard time with inviting anyone who would support such an anti-feminist, anti-homosexual/LGBT, anti-immigrant, and anti-climate change fascist such as Trump. According to the screenshots, Freeman replied:  I won t be upset with you if you can t have us there for these reasons, and I wish you the best. We would love to be there, of course, but I sincerely do understand if you decide to replace us with someone who supports the candidate you support. This woman is so talented! It should be about the work and not about politics. This is a shame but Gypsy will get much more publicity from this than she would have otherwise. Her website is amazing! The winning image is below:",
         "politics",
         "Jul 23, 2017",
         "1"
        ],
        [
         "16",
         "'Lips and teeth' no more as China's ties with North Korea fray",
         "BEIJING (Reuters) - When Kim Jong Un inherited power in North Korea in late 2011, then-Chinese president Hu Jintao was outwardly supportive of the untested young leader, predicting that  traditional friendly cooperation  between the countries would strengthen. Two years later, Kim ordered the execution of his uncle Jang Song Thaek, the country s chief interlocutor with China and a relatively reform-minded official in the hermetic state. Since then, ties between the allies have deteriorated so sharply that some diplomats and experts fear Beijing may become, like Washington, a target of its neighbor s ire.  While the United States and its allies - and many people in China - believe Beijing should do more to rein in Pyongyang, the acceleration of North Korea s nuclear and missile capabilities has coincided with a near-total breakdown of high-level diplomacy between the two. Before retiring this summer, China s long-time point man on North Korea, Wu Dawei, had not visited the country for over a year. His replacement, Kong Xuanyou, has yet to visit and is still carrying out duties from his previous Asian role, traveling to Pakistan in mid-August, diplomats say. The notion that mighty China wields diplomatic control over impoverished North Korea is mistaken, said Jin Canrong, an international relations professor at Beijing s Renmin University.  There has never existed a subordinate relationship between the two sides. Never. Especially after the end of the Cold War, the North Koreans fell into a difficult situation and could not get enough help from China, so they determined to help themselves.  A famine in the mid-1990s that claimed anywhere from 200,000 to three million North Koreans was a turning point for the economy, forcing private trade on the collectivized state. That allowed the North a degree of independence from outside aid and gave credence to the official  Juche  ideology of self-reliance.  China fought alongside North Korea during the 1950-53 Korean War, in which Chinese leader Mao Zedong lost his eldest son, and Beijing has long been Pyongyang s chief ally and primary trade partner. While their relationship has always been clouded by suspicion and mistrust, China grudgingly tolerated North Korea s provocations as preferable to the alternatives: chaotic collapse that spills across their border, and a Korean peninsula under the domain of a U.S.-backed Seoul government. That is also the reason China is reluctant to exert its considerable economic clout, worried that measures as drastic as the energy embargo proposed this week by Washington could lead to the North s collapse. Instead, China repeatedly calls for calm, restraint and a negotiated solution. The North Korean government does not provide foreign media with a contact point in Pyongyang for comment by email, fax or phone. The North Korean embassy in Beijing was not immediately available for comment. China s foreign ministry did not respond to a faxed request for comment. It has repeatedly spoken out against what it calls the  China responsibility theory  and insists the direct parties - North Korea, South Korea and the United States - hold the key to resolving tensions.  Until his death in 2011, North Korean leader Kim Jong Il made numerous entreaties to ensure China would back his preferred son as successor.  While then-President Hu reciprocated, the younger Kim, in his late 20s at the time, began to distance himself from his country s most powerful ally.  There s a lot of domestic politics in North Korea where this young leader who isn t well-known, he s not proven yet, especially has to show that he s not in the pocket of Beijing,  said John Delury of Seoul s Yonsei University.  I think he made the decision first to keep Hu Jintao and then (current President) Xi Jinping really at bay.  Within months of coming to power, Kim telegraphed North Korea s intentions by amending its constitution to proclaim itself a nuclear state. The execution of Jang in 2013 sealed Beijing s distrust of the young leader.  Of course the Chinese were not happy,  said a foreign diplomat in Beijing focused on North Korea.  Executing your uncle, that s from the feudal ages.  In an attempt to warm ties, Xi sent high-ranking Communist Party official Liu Yunshan to attend the North s October 2015 military parade marking the 70th anniversary of the founding of the Workers  Party of Korea. Liu hand-delivered a letter from Xi praising Kim s leadership and including congratulations not just from the Chinese Communist Party but Xi s personal  cordial wishes  in a powerful show of respect. Xi s overture has been repaid with increasingly brazen actions by Pyongyang, which many observers believe are timed for maximum embarrassment to Beijing. Sunday s nuclear test, for example, took place as China hosted a BRICS summit, while in May, the North launched a long-range missile just hours before the Belt and Road Forum, dedicated to Xi s signature foreign policy initiative. Mao Zedong s description of North Korea s relationship with China is typically mischaracterised as being as close as  lips and teeth . His words are better translated as:  If the lips are gone, the teeth will be cold,  a reference to the strategic importance of the North as a geographical security buffer. Despite its resentment at the pressure North Korea s actions have put it under, Beijing refrains from taking too hard a line. It said little when Kim Jong Un s half-brother was assassinated in February at Kuala Lumpur s airport. The half-brother, Kim Jong Nam, had been seen as a potential rival for power in Pyongyang and had lived for years in Beijing, then Macau. An editorial in China s influential Global Times warned after Pyongyang s latest nuclear test that cutting off North Korea s oil would redirect the conflict to one between North Korea and China. Zhao Tong, a North Korea expert at the Carnegie-Tsinghua Center in Beijing, said North Korea was deeply unhappy with China s backing of earlier UN sanctions.  If China supports more radical economic sanctions that directly threaten the stability of the regime, then it is possible that North Korea becomes as hostile to China as to the United States.  (This story has been refiled to remove reference to uncle in paragraph 18) ",
         "worldnews",
         "September 8, 2017 ",
         "0"
        ],
        [
         "17",
         "Factbox: Trump on Twitter (Sept 25) - NASCAR, NFL, John Kelly, Puerto Rico, John McCain, Alabama",
         "The following statements were posted to the verified Twitter accounts of U.S. President Donald Trump, @realDonaldTrump and @POTUS.  The opinions expressed are his own. Reuters has not edited the statements or confirmed their accuracy.  @realDonaldTrump : - So proud of NASCAR and its supporters and fans. They won’t put up with disrespecting our Country or our Flag - they said it loud and clear! [0725 EDT] - Many people booed the players who kneeled yesterday (which was a small percentage of total). These are fans who demand respect for our Flag! [0731 EDT] - The issue of kneeling has nothing to do with race. It is about respect for our Country, Flag and National Anthem. NFL must respect this! [0739 EDT] - The White House never looked more beautiful than it did returning last night. Important meetings taking place today. Big tax cuts & reform. [0744 EDT] - #StandForOurAnthem [0902 EDT] - @CNN is #FakeNews. Just reported COS (John Kelly) was opposed to my stance on NFL players disrespecting FLAG, ANTHEM, COUNTRY. Total lie! [1826 EDT] - General John Kelly totally agrees w/ my stance on NFL players and the fact that they should not be disrespecting our FLAG or GREAT COUNTRY! [1828 EDT] - Tremendous backlash against the NFL and its players for disrespect of our Country. #StandForOurAnthem [1829 EDT] - Texas & Florida are doing great but Puerto Rico, which was already suffering from broken infrastructure & massive debt, is in deep trouble.. [2045 EDT] - ...It’s old electrical grid, which was in terrible shape, was devastated. Much of the Island was destroyed, with billions of dollars.... [2050 EDT] - ...owed to Wall Street and the banks which, sadly, must be dealt with. Food, water and medical are top priorities - and doing well. #FEMA [2058 EDT] - A few of the many clips of John McCain talking about Repealing & Replacing O’Care. My oh my has he changed-complete turn from years of talk! [2124 EDT] - Big election tomorrow in the Great State of Alabama. Vote for Senator Luther Strange, tough on crime & border - will never let you down! [2150 EDT] -- Source link: (bit.ly/2jBh4LU) (bit.ly/2jpEXYR) ",
         "politicsNews",
         "September 26, 2017 ",
         "0"
        ],
        [
         "18",
         "Judge declines to dismiss bribery charges against U.S. Senator Menendez",
         "NEWARK, N.J. (Reuters) - The bribery case against U.S. Senator Bob Menendez survived a key test on Monday, as the federal judge overseeing his trial rejected a defense motion to throw out the most serious charges. U.S. District Judge William Walls in Newark, New Jersey, allowed the trial to proceed on all charges. He had suggested on Oct. 16 that he was inclined to dismiss the core of the case based on a U.S. Supreme Court decision last year that narrowed the legal definition of public corruption. ",
         "politicsNews",
         "October 16, 2017 ",
         "0"
        ],
        [
         "19",
         "FATHER OF BENGHAZI VICTIM TY WOODS SPEAKS UP AGAINST HILLARY: “My son would still be alive…” [Video]",
         " ",
         "politics",
         "Sep 10, 2016",
         "1"
        ],
        [
         "20",
         "Before debate, protesters build 'wall of taco trucks' outside Trump hotel",
         "LAS VEGAS - As Republican presidential nominee Donald Trump prepared to go head-to-head with Democratic rival Hillary Clinton in their third and final debate in Las Vegas on Wednesday, hundreds of hospitality workers and protesters gathered outside the hotel Trump co-owns near the Las Vegas Strip.  Demonstrators waved signs and banners next to what organizers called a “wall” of taco trucks. That was a reference to Trump’s proposal to build a wall on the U.S. border with Mexico, as well as a riff on comments by Trump supporter Marco Gutierrez who said that without action on immigration reform, “You’re going to have taco trucks on every corner.” “We have fought for our rights and we don’t want Donald Trump to take them away from us,” said Las Vegas resident Miguel Faria. “If this man gets the presidency then everything will be ruined.”  Several protesters wore sashes printed with the phrases “Miss Piggy” and “Miss Housekeeping,” using the names that Clinton has said Trump called a former beauty queen who had gained weight and who was Latina. The protest was organized by the Culinary Union, which represents about 57,000 workers in Nevada, the majority of whom are Latino. Luis Hernandez, a musician with the norteño band “Los Tigres del Norte,” encouraged Latino voters to head to the polls on Nov. 8.  “We can’t just go on hoping someone will vote on our behalf,” he told Reuters. “We need to go out and vote because the Hispanic vote is going to make the difference in these elections.” Among the speakers at the protest was civil rights leader the Rev. Jesse Jackson, who said he hoped the candidates would stick to policies at Wednesday’s debate, instead of attacking each other. “We all as Americans live under one big tent. Hillary represents that higher ground. I hope that tonight they will not wallow in snake politics but will fly like eagles and take us all to higher ground,” Jackson told Reuters.  According to Bethany Khan, the Culinary Union’s communications director, workers at the Trump International Hotel voted to unionize in December 2015 but still do not have a contract.  Some protesters blamed that on Trump, who owns 50 percent of the property.  “He says he’s the greatest negotiator but he’s not coming to the table to support the workers that give him money and make a profit for him,” said Maria Teresa Liedermann. ",
         "politicsNews",
         "October 19, 2016 ",
         "0"
        ],
        [
         "21",
         "Obama to call for increases in budget for SEC, CFTC: White House",
         "WASHINGTON (Reuters) - President Barack Obama’s fiscal 2017 budget will call for an 11 percent increase in funding for the Securities and Exchange Commission and a 32 percent increase for the Commodity Futures Trading Commission, a White House official said on Monday. Obama will propose that the SEC be given $1.8 billion and the CFTC $330 million in the budget, economic adviser Jeffrey Zients said in a blog post on the White House website. “Last year the Administration fought hard to keep Congressional Republicans from using must-pass budget legislation to roll back Wall Street Reform,” he wrote, referring to fiscal 2016. “We also fought to increase funding for financial regulators and to maintain their independence. But even these gains aren’t enough.” “And while the Administration is pushing for more funding for these regulators, we’ll also continue to oppose efforts to restrict the funding independence of the other financial regulators, including the Consumer Financial Protection Bureau,” he wrote.  The Republican-controlled Congress is likely to oppose these and many other proposals in Obama’s budget. In addition to the proposed increases from the previous fiscal year, the budget will offer support again for user fees to fund the CFTC in a similar way to other financial regulators, Zients said. “Fee funding would shift the costs of regulatory services provided by the CFTC from the taxpayer to the very firms that benefit from the CFTC’s oversight.  This is a commonsense change that is long overdue,” he said. The budget would also take steps to reduce risk in the financial sector by assessing a fee against large financial institutions based on their liabilities. “We learned the hard way in 2008 just how damaging risk and leverage in the financial system can be, and we’ve done a lot to curb excessive risk on Wall Street since,” Zients said, referring to the global financial crisis. “This fee is another way to further those reforms, ensuring that taxpayers aren’t on the hook for risky Wall Street gambles.” Federal fiscal 2017 begins on Oct. 1 of this year. ",
         "politicsNews",
         "February 8, 2016 ",
         "0"
        ],
        [
         "22",
         " Ammon Bundy Just Got Sweet Justice Handed To Him By A Federal Judge (VIDEO)",
         "Ammon Bundy and his armed ganged of militants have upset an entire nation over the last couple of weeks for their supposed special treatment by the police. While that did appear to be the case for the longest time, the raid was partially broken up by authorities after a shootout with one of Bundy s pals, LaVoy Finicum. Now, a federal court is refusing to give people that same impression   and they re sending the message loud and clear: There will be NO special treatment after laws have been broken, no matter who you think you are.On Friday, U.S. District Court judge Stacie Beckerman told Ammon Bundy and his brother that they would remain in jail and not be let out on bail pending their trial on federal conspiracy charges.If anyone knows anything about the court system, it s not a quick process. That means Ammon Bundy is going to be in jail for a long time. That should give him quite a long time to think about what he s done, and it should also discourage other so-called armed militants calling themselves  Federalists  out to protect peoples  rights from thinking they can get away with breaking the law, too.Pic via Twitter.The reason for the denial should come as no surprise, though: there are still four militants occupying the Malheur National Wildlife Refuge. If the judge released Bundy or any of the other perpetrators already arrested, they could simply return to the building. And   that s exactly what prosecutors communicated to the court before bail was denied. They also hilariously used the Bundys own words against them: This creates an inherent risk of flight. Moreover, [their] own statements demonstrate his unwillingness to comply with the terms of pretrial supervision.On August 16, 2015, Bundy posted on Facebook that  There is no justice in a federal court. The feds have used the courts to take rights, not protect them.' #breakingnews Read US Attorney s reason for wanting Ammon Bundy kept in jail #koin6news #Oregonstandoff pic.twitter.com/Yn6CZe5h8j  Dan Tilkin (@DanTilkinKOIN6) January 29, 2016We have a strange feeling Bundy didn t like the judge s decision. That s just a good guess.Meanwhile, the rest of the gang is refusing to standdown unless they re promised no charges will be made by the FBI. Take a look at the latest video posted below. These guys really do think they re special. Whenever their supplies and snacks run out, expect them to meet the same fate as Bundy.Featured image via screen capture.",
         "News",
         "January 30, 2016",
         "1"
        ],
        [
         "23",
         "CHARITY GETS MILLIONS From US To Train “Vulnerable Afghans”",
         " Stunning doesn t even come close to describing the Department of Labor s waste of the American taxpayer s money!WE VE BLOWN $113 BILLION (YES, THAT S BILLION WITH A B) TO REBUILD THE ISLAMIC COUNTRY OF AFGHANISTAN! Among the federal agencies that have disbursed huge sums to famously corrupt Afghanistan reconstruction causes is the U.S. Department of Labor (DOL), which has spent more than $11 million with the single biggest chunk of money going to a leftist charity whose president earns a stunning $600,000 a year.It s a tiny snippet of the $113 billion Uncle Sam has blown on wasteful projects presented to American taxpayers as necessary to rebuild the Islamic country renowned as a hotbed of terrorism.In the DOL s case, the cash is supposed to fund programs that provide Afghans with an education, work and life skills as well as well as job training. The biggest single portion of the DOL investment has gone to the New York-based International Rescue Committee (IRC) to provide  vocational training for vulnerable Afghans  and programs that increase wages and self-employment. The IRC claims that it responds to the world s worst humanitarian crises and helps restore health, safety, education, economic wellbeing and power to people devastated by conflict and disaster. Last year a British newspaper reported that the head of IRC, former British Foreign Secretary David Miliband, earns  a staggering $600,000 per year  at the nonprofit. That s nearly four times the salary of the nation s prime minister, the newspaper pointed out, and several hundred thousand more than the president of the United States.Americans have given the IRC $3.4 million, according to the Special Inspector General for Afghanistan Reconstruction (SIGAR) and the watchdog wants to know how the money is being spent and if program goals have been met. In a report issued this month SIGAR notes that, besides IRC, several other groups received lots of money without revealing how it was spent. UNICEF got $3 million to demobilize child soldiers and provide them with reintegration, psycho-social and medical support. The rest of the DOL money supposedly funded activities that included training Afghan women to produce school uniforms for Afghan girls, assisting the Ministry of Labor, Social Affairs, Martyrs and Disabled to improve protection of workers  rights and reforming labor laws and regulations in the country. Raising awareness of child labor is another popular cause that got generous funding.While the U.S. keeps the flood of cash flowing, there s no follow up to determine if the huge investment has been effective. As of the end of 2015, the U.S. has appropriated about $113 billion for relief and reconstruction in Afghanistan, the watchdog writes in its latest DOL report. The largest portion $96 billion has been managed by the Department of Defense (DOD), the State Department and the U.S. Agency for International Development (USAID).Judicial Watch has reported extensively on this in the last few years and the fact that there s virtually no oversight once the money has been doled out. The government does a pathetic job tracking programs  successes of failures and SIGAR has faced huge obstacles in the course of its probes even though it s supposed to be an independent watchdog with unlimited access to information necessary to expose government fraud or wrongdoing. When the watchdog launched an investigation into how Afghanistan reconstruction money is being spent agencies  provided disparate information,  the report states, which required  additional follow-up. READ MORE: JUDICIAL WATCH",
         "Government News",
         "May 20, 2016",
         "1"
        ],
        [
         "24",
         "LIVE FEED: INAUGURATION 2017!",
         " ",
         "politics",
         "Jan 20, 2017",
         "1"
        ],
        [
         "25",
         "Senate repeals Labor Dept. municipal retirement plan rule",
         "WASHINGTON (Reuters) - A divided U.S. Senate on Thursday killed a regulation that had exempted city-run retirement savings plans for low-income workers from strict pension protection laws. Utah Republican Orrin Hatch, the resolution’s sponsor, has said he expects the Senate to soon repeal a related rule on state-operated retirement plans.  That resolution may face a tougher time than the one on municipal plans, which barely passed in a 50-49 vote. States are farther along establishing retirement programs for people who do not have workplace savings plans, and Republicans who advocate for states’ rights are more skeptical of the resolution. The House of Representatives has already passed both resolutions. Thursday’s vote marked the 12th time the Republican-controlled Congress has successfully killed an Obama-era regulation through the use of an obscure 1996 law known as the Congressional Review Act. The law lets Congress repeal a newly minted rule through  simple majority votes in the House and Senate, and a signature from the president. A “substantially similar” rule can never be enacted in its place. The Labor Department rule was finalized after May 2016, putting it into the window of time set by the law when Congress can repeal it. Using the resolutions, Republicans have sent rules spanning a variety of areas to the chopping block in hopes of loosening regulation they say constricts economic growth.  Thursday’s resolution and its near-twin for state plans counters the trend by maintaining regulatory requirements. Toward the end of President Barack Obama’s tenure, his Labor Department exempted both state and city-run retirement plans from the 1974 Employee Retirement Income Security Act, or ERISA, a law designed to protect workers’ savings with detailed compliance requirements. Private-sector workers whose employers do not offer 401(k) or other retirement benefits, and who often have low incomes, are automatically enrolled in the plans being launched in states such as California, Illinois and Oregon.  States say the ERISA exemption lets employers pass workers’ money into plans without footing compliance costs. They also say Wall Street wants to block the plans because they create competition. But the Investment Company Institute, a mutual funds trade group, the U.S. Chamber of Commerce and others in financial services say the exemptions shortchange workers from important federal pension protections that other workers receive. ",
         "politicsNews",
         "March 30, 2017 ",
         "0"
        ],
        [
         "26",
         "Trump explained U.S. position on THAAD to Xi: South Korea",
         "SEOUL (Reuters) - U.S. President Donald Trump told South Korea on Saturday he had explained to China’s President Xi Jinping America’s position on the deployment of an anti-missile defense system to South Korea, according to a statement from South Korea’s acting leader. Trump informed South Korean Prime Minister Hwang Kyo-ahn in a Saturday telephone call of his summit discussion with Xi. China has opposed the deployment of the U.S.-supplied High Altitude Area Defense (THAAD) in South Korea, arguing it could threaten its security, but South Korea and the United States say it is aimed at countering North Korea’s missile threat.  China has increased pressure and imposed restrictions on some South Korean companies doing business in China, which led many in the South to believe Beijing was retaliating against the deployment of the missile system. “President Trump said he and President Xi held in-depth discussions on the seriousness of North Korea’s nuclear problem and how to respond to it, and also said he had conveyed the U.S. position on the THAAD deployment,” the statement said. Trump pressed Xi to do more to curb North Korea’s nuclear programme in their summit meeting at Trump’s Mar-a-Lago resort in Florida, U.S. Secretary of State Rex Tillerson said. The U.S. military began deployment of the THAAD system in March, a day after the North test-fired four ballistic missiles. China has not directly said it is targeting South Korean companies.  ",
         "politicsNews",
         "April 8, 2017 ",
         "0"
        ],
        [
         "27",
         "Kosovo war crimes court ready for first indictments: chief judge",
         "PRISTINA (Reuters) - A special court with international prosecutors and judges set up to tackle alleged war crimes by ethnic Albanians against Serbs during Kosovo s 1998-99 war is ready to proceed with its first indictments, its president said in an interview. The court, which could indict or call as witnesses current officials in Pristina s government, will function under Kosovo law but operate in the Netherlands to minimize the risk of witness intimidation and judicial corruption in Kosovo.  The Kosovo Specialist Chamber was set up in The Hague following U.S. and European Union pressure on the Kosovo government to confront allegations of atrocities against ethnic Serbs by Kosovo Liberation Army (KLA) guerrillas.  The KLA rose up against then-Serbian strongman President Slobodan Milosevic, eventually winning crucial NATO air support that halted the killing and expulsion of Kosovo Albanian civilians in a brutal counter-insurgency campaign. Kosovo, with a 90 percent ethnic Albanian majority, declared independence from Serbia in 2008 and has been recognized by over 110 states, but not by Serbia or Russia. The now-disbanded KLA, which counts among its former ranks much of Kosovo s current political elite, has been dogged for years by allegations that it sold organs removed from murdered Serb prisoners on the black market.  We are really fully operational,  Ekaterina Trendafilova, the Bulgarian court president, said, though she did not know when the first indictments would be filed.  Asked if anyone in Kosovo would have immunity, she said:  There is no immunity for anyone regardless of their position, and amnesty also cannot apply.   (We will be addressing) individual criminal responsibility not related to any organization, to any group or ethnicity.  Local media and analysts speculated that some of Kosovo s top officials who held commanding positions within the KLA could face indictments or be called as witnesses. A 2011 report for the Council of Europe linked leading Kosovo figures   notably President Hashim Thaci   to gruesome crimes against Serbs, including trade in organs harvested from prisoners of war. Thaci has denied any wrongdoing.   Another Hague-based court, the U.N. Criminal Tribunal for Former Yugoslavia (ICTY), will close down soon after delivering its last major verdict on Wednesday, convicting former Bosnian Serb military commander Ratko Mladic of genocide. The ICTY, which addressed crimes mainly in the former Yugoslav republics of Bosnia and Croatia, indicted 161 people in all - including Milosevic, who died in prison during his trial - and convicted 83, more than 60 of them ethnic Serbs. ",
         "worldnews",
         "November 24, 2017 ",
         "0"
        ],
        [
         "28",
         "WATCH: 40,000 BOY SCOUTS BOO Barack Obama…GO CRAZY…Chant “We Love Trump” During President Trump’s Visit To National Scout Jamboree",
         "President Trump stood in front 40,000 enthusiastic Boy Scouts in West Virginia, as the scouts proudly chanted  USA USA!  President Trump started out his speech to the Boy Scouts by remarking on the size of the crowd. Trump told the Boy Scouts that he estimated the crowd at about 45,000, but joked that the media will probably say there were about 200 scouts in the crowd.Standing on the stage with President Trump were former Scout and Health and Human Services Secretary Tom Price. It only seemed appropriate that Trump would bring his Secretary of Energy Rick Perry to West Virginia, where candidate Trump won the hearts and votes of coal miner s desperate for someone in Washington fight for their jobs.Watch President Trump enter the stage at the scout jamboree as the scouts go wild:President Donald J. Trump arrives at The Summit Bechtel Family National Scout Reserve and proceeds to main stage. #TeamTrumpBTS #MAGA #USAA post shared by President Donald J. Trump (@realdonaldtrump) on Jul 24, 2017 at 5:18pm PDTAs Trump entered the stage, the scouts went wild chanting,  We love Trump!  Trump paused for a moment and then asked the scouts,  By the way just a question:  Did President Obama ever come to a Jamboree?'  The crowd responded by booing the former president. President Trump then told them,  And we ll be back. We l be back. The answer is  no . But we ll be back.  The crowd went wild again!#BoyScouts chant \"WE LOVE TRUMP\" and appear to BOO Obama  pic.twitter.com/uBU7aPLh3S  RSBN TV (@RSBNetwork) July 24, 2017Here s the entire video of President Trump s speech to the Boy Scouts: ",
         "politics",
         "Jul 24, 2017",
         "1"
        ],
        [
         "29",
         "BREAKING: OBAMA-APPOINTED JUDGE ORDERS Vote Recount To Begin At Noon On Monday",
         "A federal judge has ordered Michigan election officials to begin a massive hand recount of 4.8 million ballots cast in the presidential election at noon Monday.U.S. District Judge Mark Goldsmith issued a ruling just after midnight Monday in favor of Green Party presidential candidate Jill Stein, who sought to let election officials bypass a two-business-day waiting period that would have delayed start of the recount until Wednesday morning.The manual recount process was scheduled to begin Wednesday as specified by state law, and in a rare Sunday hearing in federal court, Goldsmith questioned the harm posed by waiting.Stein s lawyer Mark Brewer argued the case was aimed at ensuring the integrity of Michigan s voting system and that the required waiting period violated Stein s rights to due process and equal protection. He pushed for the recount of 4.8 million ballots to start immediately, which he said would be Monday morning. There are questions raised throughout the country about the integrity of the election system,  Brewer told the judge in front of a courtroom filled with about two dozen people, including state Republican Party Chair Ronna Romney McDaniel.  It s not just rhetoric. The hearing ended Sunday afternoon, with a staffer for the judge saying Goldsmith would issue a written opinion but he did not give a timeline.The deadline to finalize the vote total for the Electoral College is Dec. 13. Chris Thomas, the state elections director, testified Sunday that he could not guarantee that the recount could be finished by that deadline, calling the task  doable but difficult.  Brewer called it  highly doubtful  that the state could finish by the deadline, and asserted the recount needed to start immediately.Read more: Detroit News",
         "left-news",
         "Dec 5, 2016",
         "1"
        ],
        [
         "30",
         "NEW YORK GOV CUOMO Thinks He’s The Boss of You: Bans Travel To Mississippi!",
         "NY Gov. Andrew Cuomo (D) thinks he s the boss of you! He banned all non-essential travel to Mississippi after the state passed a religious liberty bill that he called a  hateful injustice against the LGBT community.  Can you believe this guy?  The bill, known as House Bill 1523 or the  Protecting Freedom of Conscience from Government Discrimination Act,  was signed into law by Mississippi Gov. Phil Bryant (R) Tuesday and will go into effect July 1.The legislation guards against the discrimination of individuals, religious organizations and certain businesses who have  sincerely held religious beliefs or moral convictions  that marriage  should be recognized as the union of one man and one woman. Under the law, religious leaders can decline to  solemnize any marriage  or provide wedding-related services based on religious or moral objections. In addition, Mississippians can decided  whether or not to hire, terminate or discipline an individual whose conduct or religious beliefs are inconsistent  with their own ideals.After the passage of the new law, Cuomo issued an order Tuesday that  requires all New York State agencies, departments, boards and commissions to immediately review all requests for state funded or state sponsored travel  to Mississippi.Last month, Cuomo did the same thing for travel to North Carolina.Read more: The Blaze ",
         "Government News",
         "Apr 7, 2016",
         "1"
        ],
        [
         "31",
         "OBAMA AND VALERIE JARRETT Finalize Executive Action Gun Control Proposal",
         "It s almost as though we don t even have a Constitution Never let a crisis go to waste President Barack Obama s advisers are finalizing a proposal that would expand background checks on gun sales without congressional approval.White House adviser Valerie Jarrett says the president has asked his team to complete a proposal and submit it for his review  in short order.  She says the recommendations will include measures to expand background checks.Jarrett spoke Wednesday night at a vigil for the victims of the Newtown shooting, according to a summary provided by the White House.After the mass shooting in Roseburg, Oregon, Obama said his team was looking for ways to tighten gun laws without a vote in Congress. White House officials have said they re exploring closing the so-called  gun show loophole  that anti-gun advocates claim allows people to buy weapons at gun shows and online without a background check.The move comes following the deadly terrorist attack in San Bernardino, California, that left 14 people dead. All of the guns used in the massacre were purchased legally. Opponents of new gun control regulations have argued that the proposals being pushed by Obama would not have prevented the tragedy or recent mass shootings. Via: The Blaze",
         "politics",
         "Dec 11, 2015",
         "1"
        ],
        [
         "32",
         "Key U.S. House committee approves healthcare bill, vote set for Thursday",
         "WASHINGTON (Reuters) - The U.S. House Rules committee approved a Republican healthcare bill late on Wednesday night, a procedural hurdle cleared ahead of a planned vote on Thursday on the legislation by the entire chamber. The bill would roll back the 2010 Affordable Care Act, known as Obamacare, while keeping in place some key provisions and creating an $8 billion fund to cover costs for those with pre-existing conditions who would face higher costs under the new system.  ",
         "politicsNews",
         "May 4, 2017 ",
         "0"
        ],
        [
         "33",
         "Cambodia's Hun Sen urges arrests of opposition 'rebels in the city'",
         "PHNOM PENH (Reuters) - Cambodia could make more arrests of people linked to a plot to overthrow the government, Prime Minister Hun Sen said on Monday, attacking opposition figures as  rebels in the city  bent on staging a  color revolution , despite past failures. The comment is part of the strongman s widening crackdown on opposition politicians and independent media that critics and rights groups see as an effort to shore up his party s strength ahead of a general election next year. Last month, authorities arrested Kem Sokha, leader of the opposition Cambodia National Rescue Party (CNRP), and charged him with treason and espionage over an alleged plot to take power with help from the United States. The U.S. embassy has rejected any suggestion of interference in politics. The Sept. 3 arrest sparked condemnation from Western countries, and the CNRP has said about half its members of parliament have fled Cambodia fearing a crackdown by Hun Sen.  This isn t over yet with one arrest, I would like to send out a message,  Hun Sen, who has ruled Cambodia for more than 30 years, said at an opening ceremony for a hotel in Siem Reap province.  This set-up is a systematic activity,  he added, referring to the alleged opposition plot to overthrow his government.  The rebels in the city that do  color revolution  are absolutely rejected.  Hun Sen can claim support from his main ally, China, which has said it supports Cambodia s efforts to maintain its security. The government says a 2013 video in which Kem Sokha tells supporters he has help from unidentified Americans to gain power is evidence that he was colluding with the United States. The opposition argues the video is evidence of an election strategy, not a coup plot. ",
         "worldnews",
         "October 2, 2017 ",
         "0"
        ],
        [
         "34",
         " WATCH: Wolf Blitzer Makes Republican Throw Temper Tantrum Over Trump’s Nazi Problem",
         "The media needs to keep grilling Republicans over Donald Trump s flirtation with Nazis, because it s clearly a sore spot.When RNC communications director Sean Spicer appeared on CNN with Wolf Blitzer on Tuesday night, he was apparently hoping for a softball interview.But Blitzer had other ideas and soon called out Trump for being quick to whine and condemn the diverse cast of  Hamilton  while being very slow to condemn neo-Nazis and white supremacists.Blitzer wanted to know why Trump won t just deliver a speech openly condemning these deplorable groups. Spicer responded by saying that,  At some point, you ve gotta take his position and move on! Spicer said that Trump merely mentioning a disavowal should be enough and that he has  made his position clear,  but the problem is that Trump hasn t made it clear. Every time he claims to disavow these groups he ends up blowing them a kiss by sharing their tweets or supporting a policy that they support. In fact, these groups have become so emboldened by Trump that hate crimes have spiked since Election Day.Nazis and white supremacists are celebrating in the streets because they think Trump is the second coming of Hitler and that it will be open season on minorities across the country.Blitzer asked why these groups still support Trump even though he  disavowed  them, and Spicer threw a hissy fit. I don t know!  he snapped.  That s really not my focus, figuring out why certain groups support him! Blitzer pointed out that Trump has failed to condemn these groups unlike his consistent attacks on diverse groups like the cast of  Hamilton  for just merely passing on a message to Mike Pence.And Blitzer s persistence cause Spicer to lose his shit. You ve asked me eight times, the same question! I ve told you what his position is. That s not his focus! His focus is making this country better for all Americans, creating a better country, creating a better education system for all Americans, rebuilding our inner cities. That s what his focus is. So I get that you guys all want to ask the same question over and over again and make him denounce it eight ways to Sunday, but it s not what he wants to talk about! Here s the video via YouTube. The relevant remarks are at the 4:30 mark.The reason why these groups still support Trump is because his condemnation of them has been weak from the very beginning, so it seems like Trump is only saying the minimum to make it sound like he condemns them. What Trump needs to do is deliver a speech to the entire country making it clear once and for all that he strongly condemns these groups and that he does not share their views nor will he help them pursue their hateful agenda.Featured Image: Screenshot",
         "News",
         "November 23, 2016",
         "1"
        ],
        [
         "35",
         "RIP PROUD PATRIOT: MARINE Dies After Delivering Powerful Message To President Trump, Mike Pence, General Mattis: “Give ‘Em Hell…Semper Fi…God Bless” [VIDEO]",
         "Larry Lindsey fought hard for Trump in Colorado during the primaries. He passed away hours after recording his final goodbye.RIP patriot.  President Trump, Vice President Pence and General Mattis, I would like to say that the greatest honor of my life has been to wage this battle with you. I have been prouder of being a Marine than anything I have ever done in my life. Having a hand in some small way in fighting for my country has meant the world to me. There is no greater honor for me, to have great men like you leading this country back to its foundation and back to God. President Trump, I have no doubt in my heart and in my mind, that you will be perhaps the greatest President in the history of our country. Vice President Pence, I am so honored to call you my Vice President. You are an incredibly good man and probably the only Vice President in probably 150 years to have any brains, and I appreciate that from you. The candor and the honesty from both of you men is much needed at this day and time. General Mattis, sir, it appears that I am now out of ammunition, but I continue to fight with my last breath. I do not fear death, because I know where I m going and I m only going home for a rest. It s you people here, the good people of America for whom I cry, my loved ones and my friends and the sacrifices they must continue to make in this fight to restore our country. Dying is the easy part. Dying is the comforting part if you know who your God is and you know that he holds your hand, and I do. I praise God for a wonderful life, so many wonderful blessings that I have known and so many wonderfully kind and loving people in this country whom I have met during my fight for this country. I want you to know, each and every one of you that we have taken on a challenge that has only just begun. The real battle lies ahead. And General Mattis, I have only one request sir, and that is,  Give  em hell. Semper fi.God bless. Larry Lindsey fought hard for Trump in Colorado during the primaries. He passed away hours after recording his final goodbye.RIP patriot.   pic.twitter.com/mJB1bn1XZN  Alex   (@SoCal4Trump) December 18, 2016",
         "politics",
         "Dec 18, 2016",
         "1"
        ],
        [
         "36",
         " The Shocking Detail Trump Doesn’t Want You To Know About HIS MOTHER (VIDEO)",
         "A rather interesting detail has emerged about Donald Trump s mother that is threatening to derail part of Trump s campaign that he s heavily relied on to win over America s most racist voters.According to a recent report released by The National, Trump s mother, Mary Anne Macleod, was actually a poor Scottish immigrant that came to the United States to make a better life for herself   a realization that stands in stark contrast to the story the business mogul has been telling.It shouldn t come as a shock that The Donald would hide the fact that his mother came to America with nothing but $50 in her purse. Why wouldn t he want people to know that his mother came to the country dirt poor and became a multi-millionaire philanthropist, other than the fact that he has slammed immigrants all throughout his presidential campaign? After all, his website says this: The influx of foreign workers holds down salaries, keeps unemployment high, and makes it difficult for poor and working-class Americans   including immigrants themselves and their children   to earn a middle-class wage. Nearly half of all immigrants and their US-born children currently live in or near poverty, including more than 60 per cent of Hispanic immigrants.Every year, we voluntarily admit another two million new immigrants, guest workers, refugees, and dependents, growing our existing all-time historic record population of 42 million immigrants.We need to control the admission of new low-earning workers in order to: help wages grow, get teenagers back to work, aid minorities  rise into the middle class, help schools and communities falling behind, and to ensure our immigrant members of the national family become part of the American dream. The  low-earning worker  that Trump is trashing on his website is the very person his mother was when she left Scotland to come to America in 1930. Despite that he has his mother to thank for the opportunities he was given, Trump can still find it in himself to say foolish, hateful things like, We re building a wall. It s going to be a wall that is not   nobody s going through my wall. Trump builds walls. I build walls. The report by The National isn t the first time the fact that Trump is the son of an immigrant has threatened to ruin his hateful anti-immigrant rhetoric. Earlier this year, Trump s former GOP rival Ted Cruz called Trump out during a childish  birther  fight. Cruz said: The legal issue is quite straightforward, but I would note that the birther theories that Donald has been relying on, some of the more extreme ones insist that you must not only be born on U.S. soil, but have two parents born on U.S. soil. Under that theory, not only would I be disqualified, Marco Rubio would be disqualified, Bobby Jindal would be disqualified, and interestingly enough, Donald J. Trump would be disqualified because Donald s mother was born in Scotland, You can watch that moment below:But before Cruz, Real Time s Bill Baher did an even more amazing job at highlighting the hypocrisy in Trump s immigration stance   and it goes much deeper than his own mother. Laying into the presumptive Republican nominee, Maher pointed out that two out of three of Trump s wives have been immigrants. Maher said: Nobody brings this up about Donald Trump, who is always on about,  We can t have foreigners coming into this country!  His first wife is from Czechoslovakia. His current wife is from Slovenia. So, if you think crawling under a wall is the most disgusting way to become an American, somewhere there is a Panamanian woman hiding in a truck full of chickens with ten pounds of heroin-filled condoms in her stomach who s thinking,  Well, at least I didn t have to blow Donald Trump. Featured image via Tom Lynn / Getty Images",
         "News",
         "May 23, 2016",
         "1"
        ],
        [
         "37",
         "Irish border row thwarts May bid to clinch Brexit trade deal",
         "BRUSSELS (Reuters) - Prime Minister Theresa May failed to clinch a deal on Monday to open talks on post-Brexit free trade with the European Union after a tentative deal with Dublin to keep EU rules in Northern Ireland angered her allies in Belfast. The British leader had sat down to lunch with European Commission President Jean-Claude Juncker hoping that a last-minute offer to the Irish government of  regulatory alignment  on both sides of a new UK-EU land border would remove a last obstacle to the EU open talks next week on future trade. Yet as May and Juncker spoke in Brussels and the pound rose on prospects of free trade and perhaps a very  soft Brexit , Northern Ireland s Democratic Unionist Party (DUP) issued an uncompromising reiteration of its refusal to accept any  divergence  from rules on the British mainland. Irish Prime Minister Leo Varadkar cancelled a news conference and the pound fell back, losing a cent against the dollar, as May and Juncker emerged to say there was still not  sufficient progress  on divorce terms to move ahead. May agreed with Juncker that a deal could be reached in a few days before the EU summit on Dec. 14-15, but that promise did little to stem recriminations at home, where Brexit campaigners want Britain to become what one called a  free agent  and set its own rules. Varadkar shared the view of some officials in Brussels that it was an opportunity missed.  I m surprised and disappointed that the U.K. government appears not to be in a position to conclude what was agreed earlier today,  he told a news conference in Dublin.  I accept that the British prime minister has asked for more time and I know that she faces many challenges and I acknowledge that she is negotiating in good faith but my position and that of the Irish government is unequivocal.  The Irish border has emerged as a defining issue for Brexit, one of the thorniest of three main issues, which include how much Britain should pay to leave and protections for expatriate citizens rights, to be settled before moving talks forward. With time running down after Britain triggered the two-year divorce process in March, May is keen to push the talks to a discussion of future trade to try to offer nervous businesses some certainty over their investment decisions.      All sides say they want to avoid a return to a hard border between EU member Ireland and the British province of Northern Ireland, which might upset the peace established after decades of violence. But they have found it difficult to find the right wording on guaranteeing the unguarded border as set out in the 1998 Good Friday peace agreement that will suit all sides. Dependent on the support of lawmakers in the DUP for a majority in parliament, May must keep them on board and has repeated that she wants to maintain the economic integrity of the United Kingdom in any Brexit deal. By suggesting May would settle for continued regulatory alignment if there was no alternative way, some in the DUP and in her own party fear Northern Ireland could get a kind of special status that could draw it away from the mainland. A DUP source said the party s leader, Arlene Foster, had spoken to May while she was in Brussels. The phone call took place shortly after Foster told supporters she would not allow a Brexit deal that created  regulatory divergence . The leaders of Scotland and Wales, and the mayor of London, also announced that they would want to follow suit if special terms were agreed for Northern Ireland.  We haven t decided to dismantle the United Kingdom and give in to the demands of the Irish government,  said pro-Brexit lawmaker Jacob Rees-Mogg after a Conservative Party meeting in London. May s aides were sanguine, saying expectations had been too high for what some had billed as a crunch meeting in Brussels, and they played down any involvement of the DUP in sinking the deal. One EU official even said the last-minute hitch may have been stage-managed to give the British prime minister some scope for saying she had fought hard for her position with the EU. Juncker hailed May as a  tough negotiator . May added:  We will reconvene before the end of the week and I am also confident that we will conclude this positively.  But European Council President Donald Tusk, who met May and who will chair next week s summit in Brussels, said that he had been ready to send draft negotiating guidelines for a free trade pact to EU leaders on Tuesday.  It is now getting very tight but agreement at December (summit) is still possible,  Tusk tweeted. ",
         "worldnews",
         "December 3, 2017 ",
         "0"
        ],
        [
         "38",
         "Senate passes budget blueprint, key to Trump tax effort",
         "WASHINGTON (Reuters) - President Donald Trump’s drive to overhaul the U.S. tax code cleared a critical hurdle on Thursday when the Senate approved a budget blueprint for the 2018 fiscal year that will pave the way for Republicans to pursue a tax-cut package without Democratic support. By a 51-to-49 vote, the Republican-controlled Senate approved the budget measure, which would add up to $1.5 trillion to the federal deficit over the next decade in order to pay for proposed tax cuts. “With this budget, we’re on a path to deliver much-needed relief to American individuals and families who have borne the burden of an unfair tax code,” Senate Majority Leader Mitch McConnell said after it passed. “Great news on the 2018 budget @SenateMajLdr McConnell - first step toward delivering MASSIVE tax cuts for the American people!,” Trump tweeted early on Friday.   But Democrats are likely to oppose the Trump administration’s tax plan, which promises to deliver up to $6 trillion in tax cuts to businesses and individuals.  “This is not a bad budget bill, it is a horrific budget bill,” Senator Bernie Sanders, an independent who ran for the 2016 Democratic presidential nomination, said before the vote. “At a time of massive income inequality, this budget provides $1.9 trillion in tax breaks for the top 1 percent.” The resolution has to be reconciled with a markedly different version passed by the House of Representatives, where Republicans say negotiations on a unified measure could take up to two weeks. The House budget resolution calls for a revenue-neutral tax bill and would combine tax cuts in the same legislation as $203 billion in spending cuts to mandatory programs including food assistance for the poor. The Senate version instructs the Energy and Natural Resources Committee to save at least $1 billion over the next decade. It also contains a legislative tool called reconciliation, which would enable Republicans, who control the 100-seat Senate by a 52-48 margin, to move tax legislation through the Senate on a simple majority vote. Otherwise, tax reform would need 60 votes and would likely fail. After failing to approve Trump-backed legislation to overturn Obamacare, Senate Republicans are under intense pressure to succeed on tax reform. Although Democratic votes will likely not be needed to pass tax legislation, Trump sought the support of six Senate Democrats at a Wednesday meeting with Finance Committee members from both parties. Five of the six Democrats, whom the White House described as open to working with Trump on taxes, are up for reelection next year in states that Trump carried in the 2016 election.  The White House contends that the Republicans’ plan to slash the corporate income tax rate to 20 percent from 35 percent would create jobs and boost wages for blue-collar workers. But Senator Ron Wyden, the top Democrat on the tax-writing Finance Committee, who attended the White House meeting, said he made clear to Trump that Democrats believed his plan would benefit the wealthy, raise taxes on some middle-class Americans and increase the federal deficit.  ",
         "politicsNews",
         "October 19, 2017 ",
         "0"
        ],
        [
         "39",
         " White Nationalist Radio: Trump Gave Us A Press Pass And We Interviewed His Son",
         "The hosts of a racist, white nationalist radio show say that they were given official press credentials by Donald Trump s presidential campaign. Even worse, the show says that they were given access to Donald Trump, Jr. and recorded a 20 minute interview with him.The program is called  The Political Cesspool,  and has a considerable history and record of promoting white supremacist ideas and concepts.Political Cesspool radio host James Edwards wrote on his blog that he attended a Donald Trump rally in Memphis on Saturday night as a fully credentialed member of the media and enjoyed the unique experience of being able to air a live broadcast of The Political Cesspool Radio Program from inside the press pen while the event was in full swing. The host said that the interview with the younger Trump will be posted on their website on Saturday.He also bragged that Trump is the first Republican nominee he plans to vote for. After getting an official press pass, the white nationalists were given access to the press area of Trump s campaign rally. Edwards wrote,  After getting my start in politics with Pat Buchanan in 2000, Donald Trump will be the first Republican nominee that I have ever voted for. Buchanan was a man ahead of the times and Trump is his vindicator. Pat Buchanan is of course the former Nixon operative and NBC contributor who has written books excusing the Holocaust and praising Hitler.The Political Cesspool radio show has in the past argued that  interracial sex is white genocide  and  slavery is the greatest thing that ever happened to  black people.Trump recently triggered a national outcry by refusing to disavow or deny an endorsement from white nationalist and former Ku Klux Klansman David Duke in an interview with CNN host Jake Tapper. After being slammed for the failure to distance himself from a notorious racist, Trump concocted the claim that he was having problems with his earpiece and didn t hear the question.He made no such indication during the interview, and in fact repeated the terms  David Duke  and  white supremacist. Featured image via Flickr",
         "News",
         "March 1, 2016",
         "1"
        ],
        [
         "40",
         "‘Vaccine Choice’ Mom Gets Jail Time for Not Jabbing Her Kid",
         "21st Century Wire says We ve been covering the anti-vaccine movement (and the science) for quite some time. The dangers of aluminum and the neurotoxicity of vaccines are well-documented. Now, this debate has turned up in a court of law. Which prompts us to ask this question again: Should the government force parents to vaccinate their kids?Rebecca Bredow, a self-proclaimed  vaccine choice  mom from Detroit, has just been sentenced to seven days in jail for contempt, defying a court order that states she agreed with her ex-husband to vaccinate their 9-year-old son.The judge also ordered to have the child vaccinated within one week, while Bredow is serving her jail sentence. Attorneys for the anti-vaxxer mom, who refused to jab her son based on her personal and religious beliefs, have said they will be filing an appeal. I would rather sit behind bars standing up for what I believe in, than giving in to something I strongly don t believe in, Bredow said in her statement to the court.As WXYX-TV Detroit reports, the son s father must get the child vaccinated before his mother gets out of jail, or this story could take yet another controversial turn WATCH: READ MORE VACCINE NEWS AT: 21st Century Wire Vax FilesSUPPORT OUR WORK BY SUBSCRIBING & BECOMING A MEMBER @21WIRE.TV",
         "Middle-east",
         "October 7, 2017",
         "1"
        ],
        [
         "41",
         "Factbox: British business organizations react to Brexit talk progress",
         "LONDON (Reuters) - Britain and the European Union struck a divorce deal on Friday that paves the way for talks on trade, easing pressure on Prime Minister Theresa May and boosting hopes of an orderly Brexit. British business groups broadly welcomed the progress and urged swift progress toward a formal transition agreement that would preserve existing trading relations until a new deal is struck. BRITISH CHAMBERS OF COMMERCE DIRECTOR GENERAL ADAM MARSHALL  Businesses will be breathing a sigh of relief that  sufficient progress  has been achieved. After the noise and political brinksmanship of recent days, news of a breakthrough in the negotiations will be warmly welcomed by companies.  Business will particularly cheer the mutual commitment to a transition period to support business confidence and trade, and will want the details confirmed swiftly in the new year.   For business, a swift start to trade talks is crucial to upcoming investment and growth decisions. Companies all across the UK want absolute clarity on the long-term deal being sought, and want government to work closely with business experts to ensure that the details are right.   CONFEDERATION OF BRITISH INDUSTRY DEPUTY DIRECTOR GENERAL JOSH HARDIE  Today s announcement will lift spirits in the run-up to Christmas. Sufficient progress is a present (businesses) have spent months waiting for.  It s now time to focus on the true prize of a new relationship and a deal that starts from 40 years of economic integration.  There are two things that are top of the list. First is the final step for those EU citizens working here, and UK citizens abroad. It must be unequivocal that they are welcome, whatever the final deal. This cannot be their second Christmas where their rights are dependent on negotiations.   Next is transition. Concrete assurances will build confidence and help firms across the UK and Europe to pause their contingency planning.  TheCityUK FINANCIAL SERVICES TRADE BODY CEO MILES CELIC  This agreement in principle between the UK and the EU to move beyond phase one is a positive and encouraging step.  For the financial and related professional services industry, our critical issues must now be progressed.   The sand in the timer is running out - leave it too late and damage will be done to both the UK and the EU. European competitiveness will ultimately be weakened as functionality will likely leave Europe for other international financial centers.  Given the dominance of services to both the British and EU economies, it is essential that a Free Trade Agreement covers goods and services, and is based on mutual recognition and regulatory cooperation. This will be in the best interests of the UK, the EU27 and for global stability. It is also vital that existing services contracts can be grandfathered post-Brexit.  EEF MANUFACTURERS  ASSOCIATION CHIEF EXECUTIVE STEPHEN PHIPSON  This is one step forward in a complex and long process. So we need to pin down the transition arrangements, which will be in place after March 2019, to ensure it s business as usual for companies for as long as it takes until a final deal is reached. Until we get to that point, many businesses will need to prepare for any and every eventuality.   Many employers will be relieved that their EU employees have more certainty going forward, and government must now clarify the rights of EU citizens by Christmas so that they are not concerned about their future.  FEDERATION OF SMALL BUSINESSES NATIONAL CHAIRMAN MIKE CHERRY  The UK s millions of small businesses will be pleased to hear that finally it appears the Brexit talks are about to move onto the second stage.   The focus must now shift to the UK s future trading relationship with the EU. This should include by early next year a guarantee that there will be no cliff-edge moment on Brexit day, but instead an orderly, time-limited transition period so that small firms only have one set of rule changes. The final deal must have as few barriers to trade as possible.  ",
         "worldnews",
         "December 8, 2017 ",
         "0"
        ],
        [
         "42",
         "Iraqi Kurds face more sanctions after calling elections",
         "ERBIL, Iraq (Reuters) - Iraq s autonomous Kurdistan region announced on Tuesday it was calling presidential and parliamentary elections for Nov. 1 as the Kurdish leadership moved to capitalize on a referendum that delivered huge support for independence. The central government in Baghdad imposed further punitive measures in retaliation for the independence vote last month by slapping sanctions on Kurdish banks and halting foreign currency transfers to the Kurdish region.  The referendum in the country s Kurdish-held northern regions raised fears in Iraq and abroad of ethnic strains and a weakening of a U.S.-backed campaign against Islamic State. The elections would be calculated to reinforce the legitimacy of the Kurdish leadership before a drive for outright independence and any negotiations that might involve. Turkish President Tayyip Erdogan said on Tuesday that his country would impose further sanctions on northern Iraq over the referendum. Powerful neighbors Ankara and Tehran fear it could fuel Kurdish separatism within their own borders. The Kurdistan Regional Government (KRG) has not declared independence. The November polls are for the parliament and presidency of the region, not for an independent state. Baghdad retaliated against the referendum with an international flights ban on Kurdish airports, while Iran and Turkey launched joint military exercises with Iraqi troops at their borders with Iraqi Kurdistan. The Shi ite Arab-led Iraqi government has rejected a KRG offer to discuss independence. It demanded Kurdish leaders cancel the result of the referendum or face continued sanctions, international isolation and possible military intervention. On Tuesday, Iraq s central bank told the KRG that it would no longer sell dollars to four leading Kurdish banks and would stop all foreign currency transfers to the region, banking and government sources told Reuters. Businesses in need of foreign currency and foreign workers, whose salaries are usually paid in dollars, will be hardest hit by the measure. The Iraqi dinar is not accepted outside the country.  In a further attempt to assert Baghdad s authority, Iraqi Prime Minister Haider al-Abadi called for a  joint administration  in the multi-ethnic northern city of Kirkuk and other areas claimed by his both his government and the KRG, provided that Baghdad held the top role in such an arrangement.         Earlier, the federal parliament in Baghdad raised the threat of excluding Kurdish members who took part in the referendum, on the basis that it was unconstitutional.  The parliament decided to collect the names of those who voted in the referendum as a step towards their impeachment by the Higher Federal Court, Speaker Salim al-Jabouri told a news conference after the session, boycotted by most Kurdish MPs. Jabouri said he was willing to open a dialogue with the KRG to resolve disputes but ruled out talks on independence. Masoud Barzani, the heir of a dynasty which has led a Kurdish struggle for independence for over a century, has held the KRG presidency since its establishment in 2005, two years after a U.S.-led invasion toppled Iraqi dictator Saddam Hussein.  Barzani s tenure was extended beyond his second term in 2013 as fresh turmoil engulfed the region and Islamic State overran about a third of Iraq the following year, threatening the Kurdish region. It was unclear whether Barzani would or could stand in the November poll as Kurdish law says a president cannot stay in office for more than two terms. Campaigning for the two elections will start on Oct. 15, the Kurdish Rudaw TV channel quoted the High Elections and Referendum Commission chief Hendrean Mohammed as saying. Islamic State s self-declared  caliphate  effectively collapsed in July, when the group s stronghold in Mosul, west of the KRG capital Erbil, fell to a U.S.-backed Iraqi offensive with the participation of Kurdish Peshmerga fighters.The Kurds  push for independence is meant to capitalize on their contribution to the war on Islamic State.  The U.S. administration, which had strengthened its alliance with Iraq s Kurds, is taking Baghdad s side in the crisis by refusing to recognize the outcome of the referendum.  Iraqi and Kurdish media announced that former Iraqi president Jalal Talabani, a Kurd, had died on Tuesday in Germany at the age of 83. Talabani, a veteran leader of the Kurdish struggle for self-determination, stepped down as president in 2014, after a long period of treatment following a stroke in 2012. His wife and companion in political struggle, Hero, and his Patriotic Union of Kurdistan (PUK) party had voiced only lukewarm support for the referendum. ",
         "worldnews",
         "October 3, 2017 ",
         "0"
        ],
        [
         "43",
         "Cambodia marks independence from France with doves, balloons",
         "PHNOM PENH (Reuters) - Cambodians on Thursday marked the 64th anniversary of the country s independence from France by releasing doves and balloons into the sky at the Independence Monument in the capital Phnom Penh. Late King Norodom Sihanouk declared Cambodia s independence from France in 1953 after seizing power a year earlier in a bloodless coup, but maintained good relations with the European nation. Thursday s independence ceremony was attended by current King Norodom Sihamoni and Prime Minister Hun Sen, who has ruled Cambodia for more than 30 years, and was attended by thousands of school children, civil servants and foreign diplomats. Cambodia was under French rule for almost a century before its 1953 independence. Hun Sen in a Facebook post credited King Norodom Sihanouk with devoting his life to fight for the independence.  November 9 is the day that brought independence, territorial integrity, peace and development,  Hun Sen said. Hun Sen s ruling Cambodian People s Party has cracked down on the opposition in recent months in the lead up to a 2018 election. His government has asked the Supreme Court to dissolve the main opposition Cambodia National Rescue Party. A court ruling is expected to decide the matter next week. ",
         "worldnews",
         "November 9, 2017 ",
         "0"
        ],
        [
         "44",
         " Trump Staff Defends Shoving Breitbart Reporter By Saying They Thought She Was Liberal",
         "While most Republicans spend their time taking verbal jabs at  mainstream  reporters (read: not Fox News pundits) who dare to ask them tough questions, Donald Trump s campaign has taken to physically assaulting them. And it s getting worse by the day.In a glimpse of what Trump s presidency may look like should he win, his entourage refused to take responsibility for violently shoving a female reporter at a campaign rally because they thought she was part of the liberal media. They did, however, express remorse after learning she was from conservative website Breitbart. Apparently, violence against reporters is okay, but only if they aren t well-known Trump cheerleaders.Reporters identified Trump s campaign manager Corey Lewandowski after he grabbed Breitbart journalist Michelle Fields  arm and tried to throw her to the ground. According to her boyfriend and colleague Jamie Weinstein from the Daily Caller, Trump s  thugs  retaliated after Fields tried to ask Trump a  tough question. Trump always surrounds himself w thugs. Tonight thug Corey Lewandowski tried to pull my gf @MichelleFields to ground when she asked tough q  Jamie Weinstein (@Jamie_Weinstein) March 9, 2016Instead of apologizing, or better yet, resigning, Lewandowski excused his actions by saying he simply used violence against the wrong person.Lewandowski s explanation to Boyle, said these sources, was that he and Fields had never met before and that he didn t recognize her as a Breitbart reporter, instead mistaking her for an adversarial member of the mainstream media.The admission confirms what many on-lookers have known for quite some time: It s open season on people who speak out against Trump or his campaign. Recently, Trump s secret service detail, nicknamed by appalled critics as  Trump s SS,  choke-slammed a TIME magazine photographer when he stepped outside of the  pen  Trump keeps journalists in at his rally. (Yes, he really does this.) Trump has also made comments about opening up libel laws to go destroy journalists who write things that are negative about him.Adding some bitter irony to all of this is the fact that Breitbart has been a shameless promoter of Trump since the word  go.  At times there homepage is devoted solely to singing Trump s praises. So the question became, how would they respond to this flagrant act of violence towards one of their journalists?  The answer was: Throw Fields under the bus.Rather than stand up for one of their employees, the staff at Breitbart have at various times called into question the veracity of her claims. Breitbart writers went full-false flag on their own reporter. Here s Fields  colleague explicitly calling her a liar on Twitter.Indeed, Breitbart s CEO hinted that Fields was not telling the truth about their beloved candidate as well, saying only that  if  someone did grab her, then they should apologize. So much for standing up for your employees, huh? (UPDATE: After wide-spread condemnation from journalists standing in solidarity with Fields, Breitbart reportedly suspended Patrick Howley.)Breitbart readers, naturally, weren t much more sympathetic. After Fields penned a (very careful) essay on what happened to her, this sexist screed became the number one comment.Breitbart has made a name for itself for its use of bullying and mudslinging as a business model. They frequently post stories targeting non-public figures and use their frenzied hate mob readers as a personal army to attack liberals or critics. Fields certainly doesn t deserve the violence she experienced from Trump s staff, nor the ugly backlash she s getting from her own readers, but it s not surprising. She works for a company that routinely attacks female journalists, anti-Trump conservatives, and liberals of all stripes. Her audience is primed for this sort of hate-filled dog piling. The fact that Breitbart can t even stand up for one of their own speaks volumes.Featured image via Gage Skidmore/Flickr",
         "News",
         "March 10, 2016",
         "1"
        ],
        [
         "45",
         " AG Sessions Persuaded Trump To End DACA, Then Race-Baited His Way Through The Speech That Killed It",
         "It s certainly no secret that Jefferson Beauregard Sessions III, a man named after both the president of the Confederacy and the guy who actually started the Civil War, is an unholy racist. Like, he s so racist that the wife of Dr. Martin Luther King, Jr., actually delivered a letter to Congress pleading with them not to confirm him as a U.S. attorney 31 years ago.So it s no surprise to find out that Sessions was the driving force behind convincing Donald Trump to end DACA, the temporary deferment program for undocumented immigrants that protects them from deportation if they came here as children. Sessions sees no difference between an  illegal alien  who steals a car and one who may sit next to one of his 10 grandchildren in school one day.So imbued with the essence of Jeff Sessions was the Trump decision to boot nearly a million kids out of the country in less than a year s time that it was the AG himself who delivered the speech announcing it. And it was during that speech on Tuesday that the former senator from Alabama revealed the truth behind the decision to end DACA: That despite the fact that even many Republicans favor the basic protections that DACA affords, it is racism that serves as the foundation for undoing it. From the speech: The effect of this unilateral executive amnesty, among other things, contributed to a surge of unaccompanied minors on the southern border that yielded terrible humanitarian consequences. It also denied jobs to hundreds of thousands of Americans by allowing those same jobs to go to illegal aliens. This is a direct appeal to the racist tendencies of the Americans who put Donald Trump in office.Number one, the  surge of unaccompanied minors  that Sessions refers to began well before DACA was implemented. To suggest otherwise is a dog whistle to right-wing voters. A BBC report from 2012 showed that the number of unaccompanied minors who were apprehended near the border increased from October 2011 to March 2012 by 93% over the same period in the previous year. DACA was not implemented until June of 2012. Besides that, any who came after DACA was announced wouldn t have qualified in the first place. You had to have been in the United States at the time of implementation to benefit from the executive order.Number two, Sessions brings up the myth of the job-stealing immigrant. The theory, again an appeal to racists, is ridiculous from the start. Immigrants don t even look for the same jobs as native citizens. There is no evidence to support the claim that DACA has had any effect on jobs   other than as a boost to our economy. In fact, with the job losses that will come as DACA expires   something to the tune of 30,000 workers a month   employers stand to lose billions in training new employees, and the federal government will lose tens of billions in lost revenue and GDP.But those facts don t jibe with the Sessions narrative.Don t let the mini-quarrel that Trump and Sessions got into earlier this year fool you. They both have a racist agenda, and this is the first major step in implementing it.Featured image via Alex Wong/Getty Images",
         "News",
         "September 5, 2017",
         "1"
        ],
        [
         "46",
         "MEALS ON WHEELS Shuts the Lyin’ Lefties Up With Truth After MoveOn.org’s Fake News [Video]",
         "Below is the comment in red that MoveOn.org put up before the video. Notice how they say NOTHING about the budget but just state that the program helps people. They re clearly fear mongering with vague information and NO FACTS. If you would like to go to the post on Facebook and hammer them with the statement below that s DIRECTLY from Meals on Wheels, here s the link: MoveOn.org Facebook Post On Meals on Wheels Trump wants to cut Meals on Wheels   Meals on Wheels America is one program Donald J. Trump wants to cut in his federal budget plan. It s especially outrageous because according to one Meals on Wheels director,  we re delivering a meal but we re delivering a lot more because sometimes we re the only people that this person may see  Share the message. Notice how the people in the video just speak about how the program helps people BUT doesn t discuss budget? That s because they re only fear mongering and nothing else Shame on them!MEALS ON WHEELS CAME OUT WITH A STATEMENT TO CLEAR THINGS UP: The nationwide Meals on Wheels network, comprised of 5,000, local, community-based programs, receives 35% of its total funding for the provision of congregate and home-delivered meals from the federal government through the Older Americans Act, administered by the U. S. Department of Health and Human Services, Administration for Community Living. Other federal funding sources that support Meals on Wheels program operations may include the Community Development Block Grant, Community Services Block Grant or the Social Services Block Grant. In addition, programs rely on contributions from state or local governments, private donations and other resources to cover the rest, demonstrating one of the best examples of a successful public-private partnership. Meals on Wheels America, the largest and oldest national organization representing senior nutrition programs across the country, receives only 3% of its funding from the government, specifically to run the National Research Center on Nutrition and Aging. ",
         "Government News",
         "Mar 19, 2017",
         "1"
        ],
        [
         "47",
         "Sessions: 'no reason to doubt' Roy Moore's accusers",
         "WASHINGTON (Reuters) - U.S. Attorney General Jeff Sessions said on Tuesday he “has no reason to doubt” five women who have accused U.S. Senate candidate Roy Moore of sexual misconduct with them when they were in their teens. Moore, who is running for the Senate seat that Sessions vacated when he joined President Donald Trump’s administration, has denied the allegations. Sessions, who is the nation’s top law enforcement officer, said he would not comment on the campaign. Numerous other Republican figures have called on Moore to withdraw from the race. ",
         "politicsNews",
         "November 14, 2017 ",
         "0"
        ],
        [
         "48",
         " SICK: Republicans Write Letters Supporting Child Molester",
         "Former Speaker of the House Dennis Hastert, who molested children, received some support from his fellow Republicans as they submitted letters asking for leniency for Hastert after a recent conviction.Dennis Hastert s legal team filed dozens of letters in federal court in Chicago on Friday from individuals expressing support for the former House speaker in preparation for his sentencing on Wednesday.Rep. Tom DeLay, the former House majority whip who helped position Hastert for his role as speaker, wrote that he is a man of  strong faith  and  great integrity. Hastert pleaded guilty of setting up payments of at least $900,000 in order to silence a high school student he sexually abused while he worked as a wrestling coach in suburban Illinois. Two more students also allege that Hastert abused them, and the sister of a deceased student says Hastert abused her sibling as well.Hastert, a conservative Republican, served as Speaker of the House from 1999 to 2007. During that time he was part of the movement to impeach President Bill Clinton over an extramarital affair. Hastert had already committed his offenses by then.Former Majority Leader Tom DeLay, who was often the true muscle at Hastert s side during his time as second in line to the presidency, was not the only Republican who submitted letters asking for leniency for Hastert, due to his age and health problems.In addition to DeLay and members of Hastert s family, Hastert s former GOP colleagues Reps. Thomas Ewing, David Dreier, Porter Goss and John Doolittle also submitted letters of support. The letters were initially submitted under seal, but Durkin said they had to be filed publicly in order to be considered at Hastert s sentencing.In 2015, former Hastert student Steve Reinboldt s sister Jolene gave an interview to ABC News. She told them that her brother confessed to her that his first sexual experience was with Dennis Hastert, and that he never told anyone because he was afraid nobody would believe him. Her brother told her that Hastert abused him for all four years of high school because he served as equipment manager for the wrestling team and had easy access to him.During his time as Speaker of the House, Hastert reportedly worked with other Republicans to cover-up allegations that Rep. Mark Foley had engaged in inappropriate relationships with young Congressional pages.Featured image via Wikimedia",
         "News",
         "April 23, 2016",
         "1"
        ],
        [
         "49",
         "Episode #159 – SUNDAY WIRE: ‘Tick-Tock USA’ with guests Dr Marcus Papadopoulos, Basil Valentine",
         " Episode #159 of SUNDAY WIRE SHOW resumes this November 6, 2016 as host Patrick Henningsen brings a 3 HOURS special broadcast of LIVE power-packed talk radio on ACR LISTEN LIVE ON THIS PAGE AT THE FOLLOWING SCHEDULED SHOW TIMES:SUNDAYS   5pm-8pm UK Time | 12pm-3pm ET (US) | 9am-12pm PT (US)This week s edition of THE SUNDAY WIRE is on the road broadcasting LIVE from the Valley of the Sun. This week host Patrick Henningsen covers this week s top stories in the US and internationally. In the first hour we re joined by a very special guest, Dr Marcus Papadopoulos, founder & editor of UK-based publication Politics First to discuss the US Elections and an evaluation of Trump vs Clinton from an international and foreign policy perspective looking at big bigs like US-NATO and Russian relations as well as the Syrian situation, as well as get his take on the spiralling BREXIT issue currently gripping Great Britain. In the final hour of overdrive, we ll be rejoined by our esoteric bookmaker, Basil Valentine, for final thoughts on the US Elections, new odds, more voter fraud reports, and and time permitting, some more fun with the #HillaryBettingPool.SHOUT POLL: Which of these two US oligarch families is more corrupt (and why)?  SUPPORT 21WIRE   SUBSCRIBE & BECOME A MEMBER @21WIRE.TVStrap yourselves in and lower the blast shield   this is your brave new world  *NOTE: THIS EPISODE MAY CONTAIN STRONG LANGUAGE AND MATURE THEMES*Listen to  Sunday Wire EP #159    Tick-Tock USA  with guests Dr Marcus Papadopoulos, Basil Valentine  on Spreaker.Direct Download the Most Recent Episode// <![CDATA[ broadstreet.zone(46707); // ]]&gt;Sunday Wire Radio Show Archives   ",
         "US_News",
         "November 6, 2016",
         "1"
        ]
       ],
       "shape": {
        "columns": 5,
        "rows": 44898
       }
      },
      "text/html": [
       "<div>\n",
       "<style scoped>\n",
       "    .dataframe tbody tr th:only-of-type {\n",
       "        vertical-align: middle;\n",
       "    }\n",
       "\n",
       "    .dataframe tbody tr th {\n",
       "        vertical-align: top;\n",
       "    }\n",
       "\n",
       "    .dataframe thead th {\n",
       "        text-align: right;\n",
       "    }\n",
       "</style>\n",
       "<table border=\"1\" class=\"dataframe\">\n",
       "  <thead>\n",
       "    <tr style=\"text-align: right;\">\n",
       "      <th></th>\n",
       "      <th>title</th>\n",
       "      <th>text</th>\n",
       "      <th>subject</th>\n",
       "      <th>date</th>\n",
       "      <th>label</th>\n",
       "    </tr>\n",
       "  </thead>\n",
       "  <tbody>\n",
       "    <tr>\n",
       "      <th>0</th>\n",
       "      <td>BREAKING: GOP Chairman Grassley Has Had Enoug...</td>\n",
       "      <td>Donald Trump s White House is in chaos, and th...</td>\n",
       "      <td>News</td>\n",
       "      <td>July 21, 2017</td>\n",
       "      <td>1</td>\n",
       "    </tr>\n",
       "    <tr>\n",
       "      <th>1</th>\n",
       "      <td>Failed GOP Candidates Remembered In Hilarious...</td>\n",
       "      <td>Now that Donald Trump is the presumptive GOP n...</td>\n",
       "      <td>News</td>\n",
       "      <td>May 7, 2016</td>\n",
       "      <td>1</td>\n",
       "    </tr>\n",
       "    <tr>\n",
       "      <th>2</th>\n",
       "      <td>Mike Pence’s New DC Neighbors Are HILARIOUSLY...</td>\n",
       "      <td>Mike Pence is a huge homophobe. He supports ex...</td>\n",
       "      <td>News</td>\n",
       "      <td>December 3, 2016</td>\n",
       "      <td>1</td>\n",
       "    </tr>\n",
       "    <tr>\n",
       "      <th>3</th>\n",
       "      <td>California AG pledges to defend birth control ...</td>\n",
       "      <td>SAN FRANCISCO (Reuters) - California Attorney ...</td>\n",
       "      <td>politicsNews</td>\n",
       "      <td>October 6, 2017</td>\n",
       "      <td>0</td>\n",
       "    </tr>\n",
       "    <tr>\n",
       "      <th>4</th>\n",
       "      <td>AZ RANCHERS Living On US-Mexico Border Destroy...</td>\n",
       "      <td>Twisted reasoning is all that comes from Pelos...</td>\n",
       "      <td>politics</td>\n",
       "      <td>Apr 25, 2017</td>\n",
       "      <td>1</td>\n",
       "    </tr>\n",
       "    <tr>\n",
       "      <th>...</th>\n",
       "      <td>...</td>\n",
       "      <td>...</td>\n",
       "      <td>...</td>\n",
       "      <td>...</td>\n",
       "      <td>...</td>\n",
       "    </tr>\n",
       "    <tr>\n",
       "      <th>44893</th>\n",
       "      <td>Nigeria says U.S. agrees delayed $593 million ...</td>\n",
       "      <td>ABUJA (Reuters) - The United States has formal...</td>\n",
       "      <td>worldnews</td>\n",
       "      <td>December 27, 2017</td>\n",
       "      <td>0</td>\n",
       "    </tr>\n",
       "    <tr>\n",
       "      <th>44894</th>\n",
       "      <td>Boiler Room #62 – Fatal Illusions</td>\n",
       "      <td>Tune in to the Alternate Current Radio Network...</td>\n",
       "      <td>Middle-east</td>\n",
       "      <td>June 29, 2016</td>\n",
       "      <td>1</td>\n",
       "    </tr>\n",
       "    <tr>\n",
       "      <th>44895</th>\n",
       "      <td>ATHEISTS SUE GOVERNOR OF TEXAS Over Display on...</td>\n",
       "      <td>I m convinced the Freedom From Religion group...</td>\n",
       "      <td>Government News</td>\n",
       "      <td>Feb 27, 2016</td>\n",
       "      <td>1</td>\n",
       "    </tr>\n",
       "    <tr>\n",
       "      <th>44896</th>\n",
       "      <td>Republican tax plan would deal financial hit t...</td>\n",
       "      <td>WASHINGTON (Reuters) - The Republican tax plan...</td>\n",
       "      <td>politicsNews</td>\n",
       "      <td>November 2, 2017</td>\n",
       "      <td>0</td>\n",
       "    </tr>\n",
       "    <tr>\n",
       "      <th>44897</th>\n",
       "      <td>U.N. refugee commissioner says Australia must ...</td>\n",
       "      <td>SYDNEY (Reuters) - The U.N. High Commissioner ...</td>\n",
       "      <td>worldnews</td>\n",
       "      <td>November 1, 2017</td>\n",
       "      <td>0</td>\n",
       "    </tr>\n",
       "  </tbody>\n",
       "</table>\n",
       "<p>44898 rows × 5 columns</p>\n",
       "</div>"
      ],
      "text/plain": [
       "                                                   title  \\\n",
       "0       BREAKING: GOP Chairman Grassley Has Had Enoug...   \n",
       "1       Failed GOP Candidates Remembered In Hilarious...   \n",
       "2       Mike Pence’s New DC Neighbors Are HILARIOUSLY...   \n",
       "3      California AG pledges to defend birth control ...   \n",
       "4      AZ RANCHERS Living On US-Mexico Border Destroy...   \n",
       "...                                                  ...   \n",
       "44893  Nigeria says U.S. agrees delayed $593 million ...   \n",
       "44894                  Boiler Room #62 – Fatal Illusions   \n",
       "44895  ATHEISTS SUE GOVERNOR OF TEXAS Over Display on...   \n",
       "44896  Republican tax plan would deal financial hit t...   \n",
       "44897  U.N. refugee commissioner says Australia must ...   \n",
       "\n",
       "                                                    text          subject  \\\n",
       "0      Donald Trump s White House is in chaos, and th...             News   \n",
       "1      Now that Donald Trump is the presumptive GOP n...             News   \n",
       "2      Mike Pence is a huge homophobe. He supports ex...             News   \n",
       "3      SAN FRANCISCO (Reuters) - California Attorney ...     politicsNews   \n",
       "4      Twisted reasoning is all that comes from Pelos...         politics   \n",
       "...                                                  ...              ...   \n",
       "44893  ABUJA (Reuters) - The United States has formal...        worldnews   \n",
       "44894  Tune in to the Alternate Current Radio Network...      Middle-east   \n",
       "44895   I m convinced the Freedom From Religion group...  Government News   \n",
       "44896  WASHINGTON (Reuters) - The Republican tax plan...     politicsNews   \n",
       "44897  SYDNEY (Reuters) - The U.N. High Commissioner ...        worldnews   \n",
       "\n",
       "                     date  label  \n",
       "0           July 21, 2017      1  \n",
       "1             May 7, 2016      1  \n",
       "2        December 3, 2016      1  \n",
       "3        October 6, 2017       0  \n",
       "4            Apr 25, 2017      1  \n",
       "...                   ...    ...  \n",
       "44893  December 27, 2017       0  \n",
       "44894       June 29, 2016      1  \n",
       "44895        Feb 27, 2016      1  \n",
       "44896   November 2, 2017       0  \n",
       "44897   November 1, 2017       0  \n",
       "\n",
       "[44898 rows x 5 columns]"
      ]
     },
     "execution_count": 5,
     "metadata": {},
     "output_type": "execute_result"
    }
   ],
   "source": [
    "true_data['label'] = 0\n",
    "false_data['label'] = 1\n",
    "\n",
    "data = pd.concat([true_data, false_data], ignore_index=True)\n",
    "\n",
    "data = data.sample(frac=1, random_state=42).reset_index(drop=True)\n",
    "data"
   ]
  },
  {
   "cell_type": "code",
   "execution_count": 6,
   "id": "3118a3d3",
   "metadata": {},
   "outputs": [],
   "source": [
    "\n",
    "\n",
    "# data.iloc[2107]\n",
    "\n",
    "# data = data[~data['date'].str.contains('https://', na=False)]\n",
    "\n",
    "data[\"date\"] = pd.to_datetime(data[\"date\"], format=\"mixed\", errors='coerce')"
   ]
  },
  {
   "cell_type": "code",
   "execution_count": 7,
   "id": "23fd24d3",
   "metadata": {},
   "outputs": [],
   "source": [
    "data = data[~data[\"date\"].isna()]"
   ]
  },
  {
   "cell_type": "markdown",
   "id": "a1d86399",
   "metadata": {},
   "source": [
    "Found all non date values in the date column and dropped them"
   ]
  },
  {
   "cell_type": "code",
   "execution_count": 8,
   "id": "7890dabd",
   "metadata": {},
   "outputs": [
    {
     "data": {
      "application/vnd.microsoft.datawrangler.viewer.v0+json": {
       "columns": [
        {
         "name": "subject",
         "rawType": "object",
         "type": "string"
        },
        {
         "name": "count",
         "rawType": "int64",
         "type": "integer"
        }
       ],
       "ref": "d4f34bc0-2e89-4b83-b46c-cc80f652825a",
       "rows": [
        [
         "News",
         "9050"
        ],
        [
         "politics",
         "6841"
        ],
        [
         "left-news",
         "4459"
        ],
        [
         "Government News",
         "1570"
        ],
        [
         "US_News",
         "783"
        ],
        [
         "Middle-east",
         "778"
        ]
       ],
       "shape": {
        "columns": 1,
        "rows": 6
       }
      },
      "text/plain": [
       "subject\n",
       "News               9050\n",
       "politics           6841\n",
       "left-news          4459\n",
       "Government News    1570\n",
       "US_News             783\n",
       "Middle-east         778\n",
       "Name: count, dtype: int64"
      ]
     },
     "execution_count": 8,
     "metadata": {},
     "output_type": "execute_result"
    }
   ],
   "source": [
    "false_data[\"subject\"].value_counts()"
   ]
  },
  {
   "cell_type": "code",
   "execution_count": 9,
   "id": "880edb22",
   "metadata": {},
   "outputs": [],
   "source": [
    "data = data.drop(columns=[\"subject\", \"date\"])"
   ]
  },
  {
   "cell_type": "code",
   "execution_count": 10,
   "id": "4f1670c0",
   "metadata": {},
   "outputs": [
    {
     "data": {
      "text/plain": [
       "<Axes: xlabel='label', ylabel='count'>"
      ]
     },
     "execution_count": 10,
     "metadata": {},
     "output_type": "execute_result"
    },
    {
     "data": {
      "image/png": "[encoded data removed]",
      "text/plain": [
       "<Figure size 640x480 with 1 Axes>"
      ]
     },
     "metadata": {},
     "output_type": "display_data"
    }
   ],
   "source": [
    "sns.countplot(x=\"label\", data=data)"
   ]
  },
  {
   "cell_type": "code",
   "execution_count": 11,
   "id": "8ed02a61",
   "metadata": {},
   "outputs": [],
   "source": [
    "nlp = spacy.load(\"en_core_web_sm\", disable=[\"parser\", \"ner\"])"
   ]
  },
  {
   "cell_type": "code",
   "execution_count": 12,
   "id": "444aa1e6",
   "metadata": {},
   "outputs": [
    {
     "data": {
      "text/plain": [
       "'Punctuation to remove: !\"#$%&\\'()*+,-./:;<=>?@[\\\\]^_`{|}~'"
      ]
     },
     "execution_count": 12,
     "metadata": {},
     "output_type": "execute_result"
    }
   ],
   "source": [
    "f\"Punctuation to remove: {string.punctuation}\""
   ]
  },
  {
   "cell_type": "code",
   "execution_count": 13,
   "id": "fd85d179",
   "metadata": {},
   "outputs": [],
   "source": [
    "def preprocess_text(text):\n",
    "    \"\"\"\n",
    "    Takes a text string and returns a list of cleaned, lemmatized tokens.\n",
    "    \"\"\"\n",
    "    # Process the text with SpaCy\n",
    "    doc = nlp(text)\n",
    "    \n",
    "    # Lemmatize, lowercase, and remove stop words and punctuation\n",
    "    cleaned_tokens = []\n",
    "    for token in doc:\n",
    "        # Check if the token is not a stop word and not punctuation\n",
    "        if not token.is_stop and not token.is_punct:\n",
    "            # Lemmatize and convert to lower case\n",
    "            lemma = token.lemma_.lower().strip()\n",
    "            cleaned_tokens.append(lemma)\n",
    "            \n",
    "    # Join the tokens back into a single string, separated by spaces\n",
    "    return \" \".join(cleaned_tokens)"
   ]
  },
  {
   "cell_type": "code",
   "execution_count": 14,
   "id": "d6358487",
   "metadata": {},
   "outputs": [],
   "source": [
    "# def preprocess_text(series):\n",
    "#     \"\"\"\n",
    "#     Takes a text string and returns a list of cleaned, lemmatized tokens.\n",
    "#     \"\"\"\n",
    "\n",
    "#     for i in series:\n",
    "        \n",
    "#         doc = nlp(i)\n",
    "        \n",
    "#         cleaned_tokens = []\n",
    "\n",
    "#         for token in doc:\n",
    "#             if not token.is_stop and not token.is_punct:\n",
    "#                 lemma = token.lemma_.lower().strip()\n",
    "#                 cleaned_tokens.append(lemma)\n",
    "                \n",
    "        \n",
    "#         yield \" \".join(cleaned_tokens)\n",
    "        "
   ]
  },
  {
   "cell_type": "code",
   "execution_count": 15,
   "id": "6a4f1536",
   "metadata": {},
   "outputs": [],
   "source": [
    "data['processed_title'] = data['title'].apply(preprocess_text)"
   ]
  },
  {
   "cell_type": "code",
   "execution_count": 16,
   "id": "8485d1c2",
   "metadata": {},
   "outputs": [],
   "source": [
    "# data['processed_title'] = pd.Series(list(preprocess_text(data['title'])), name='proc_title')"
   ]
  },
  {
   "cell_type": "markdown",
   "id": "776d6a3f",
   "metadata": {},
   "source": [
    "# Tier One Model "
   ]
  },
  {
   "cell_type": "markdown",
   "id": "94ee6ab4",
   "metadata": {},
   "source": [
    "- **Goal:** Build a strong, simple, and interpretable baseline model.\n",
    "- **Features:** TF-IDF from the title only.\n",
    "- **Why?** This gives us a benchmark score. If this simple model already gets 95% accuracy, we know that adding more features will only give us marginal gains. It's fast and lets us build the end-to-end pipeline correctly."
   ]
  },
  {
   "cell_type": "code",
   "execution_count": 17,
   "id": "e2c9d982",
   "metadata": {},
   "outputs": [],
   "source": [
    "X = data[\"processed_title\"]\n",
    "y = data[\"label\"]"
   ]
  },
  {
   "cell_type": "code",
   "execution_count": 18,
   "id": "fa904b06",
   "metadata": {},
   "outputs": [],
   "source": [
    "X_train, X_test, y_train, y_test = train_test_split(X, y, test_size=0.2, random_state=42, stratify=y)"
   ]
  },
  {
   "cell_type": "code",
   "execution_count": 19,
   "id": "b1e7052d",
   "metadata": {},
   "outputs": [],
   "source": [
    "# --- Initialize and fit the TF-IDF Vectorizer ---\n",
    "vectorizer = TfidfVectorizer(max_features=5000)\n",
    "X_train_tfidf = vectorizer.fit_transform(X_train)\n",
    "X_test_tfidf = vectorizer.transform(X_test)"
   ]
  },
  {
   "cell_type": "code",
   "execution_count": 20,
   "id": "cc898b72",
   "metadata": {},
   "outputs": [
    {
     "name": "stdout",
     "output_type": "stream",
     "text": [
      "Shape of the TF-IDF training matrix: (35910, 5000)\n",
      "Shape of the TF-IDF testing matrix: (8978, 5000)\n"
     ]
    }
   ],
   "source": [
    "# --- Verification ---\n",
    "print(\"Shape of the TF-IDF training matrix:\", X_train_tfidf.shape)\n",
    "print(\"Shape of the TF-IDF testing matrix:\", X_test_tfidf.shape)"
   ]
  },
  {
   "cell_type": "markdown",
   "id": "acbdf1ec",
   "metadata": {},
   "source": [
    "### Training"
   ]
  },
  {
   "cell_type": "code",
   "execution_count": 21,
   "id": "7caee719",
   "metadata": {},
   "outputs": [
    {
     "data": {
      "text/html": [
       "<style>#sk-container-id-1 {\n",
       "  /* Definition of color scheme common for light and dark mode */\n",
       "  --sklearn-color-text: black;\n",
       "  --sklearn-color-line: gray;\n",
       "  /* Definition of color scheme for unfitted estimators */\n",
       "  --sklearn-color-unfitted-level-0: #fff5e6;\n",
       "  --sklearn-color-unfitted-level-1: #f6e4d2;\n",
       "  --sklearn-color-unfitted-level-2: #ffe0b3;\n",
       "  --sklearn-color-unfitted-level-3: chocolate;\n",
       "  /* Definition of color scheme for fitted estimators */\n",
       "  --sklearn-color-fitted-level-0: #f0f8ff;\n",
       "  --sklearn-color-fitted-level-1: #d4ebff;\n",
       "  --sklearn-color-fitted-level-2: #b3dbfd;\n",
       "  --sklearn-color-fitted-level-3: cornflowerblue;\n",
       "\n",
       "  /* Specific color for light theme */\n",
       "  --sklearn-color-text-on-default-background: var(--sg-text-color, var(--theme-code-foreground, var(--jp-content-font-color1, black)));\n",
       "  --sklearn-color-background: var(--sg-background-color, var(--theme-background, var(--jp-layout-color0, white)));\n",
       "  --sklearn-color-border-box: var(--sg-text-color, var(--theme-code-foreground, var(--jp-content-font-color1, black)));\n",
       "  --sklearn-color-icon: #696969;\n",
       "\n",
       "  @media (prefers-color-scheme: dark) {\n",
       "    /* Redefinition of color scheme for dark theme */\n",
       "    --sklearn-color-text-on-default-background: var(--sg-text-color, var(--theme-code-foreground, var(--jp-content-font-color1, white)));\n",
       "    --sklearn-color-background: var(--sg-background-color, var(--theme-background, var(--jp-layout-color0, #111)));\n",
       "    --sklearn-color-border-box: var(--sg-text-color, var(--theme-code-foreground, var(--jp-content-font-color1, white)));\n",
       "    --sklearn-color-icon: #878787;\n",
       "  }\n",
       "}\n",
       "\n",
       "#sk-container-id-1 {\n",
       "  color: var(--sklearn-color-text);\n",
       "}\n",
       "\n",
       "#sk-container-id-1 pre {\n",
       "  padding: 0;\n",
       "}\n",
       "\n",
       "#sk-container-id-1 input.sk-hidden--visually {\n",
       "  border: 0;\n",
       "  clip: rect(1px 1px 1px 1px);\n",
       "  clip: rect(1px, 1px, 1px, 1px);\n",
       "  height: 1px;\n",
       "  margin: -1px;\n",
       "  overflow: hidden;\n",
       "  padding: 0;\n",
       "  position: absolute;\n",
       "  width: 1px;\n",
       "}\n",
       "\n",
       "#sk-container-id-1 div.sk-dashed-wrapped {\n",
       "  border: 1px dashed var(--sklearn-color-line);\n",
       "  margin: 0 0.4em 0.5em 0.4em;\n",
       "  box-sizing: border-box;\n",
       "  padding-bottom: 0.4em;\n",
       "  background-color: var(--sklearn-color-background);\n",
       "}\n",
       "\n",
       "#sk-container-id-1 div.sk-container {\n",
       "  /* jupyter's `normalize.less` sets `[hidden] { display: none; }`\n",
       "     but bootstrap.min.css set `[hidden] { display: none !important; }`\n",
       "     so we also need the `!important` here to be able to override the\n",
       "     default hidden behavior on the sphinx rendered scikit-learn.org.\n",
       "     See: https://github.com/scikit-learn/scikit-learn/issues/21755 */\n",
       "  display: inline-block !important;\n",
       "  position: relative;\n",
       "}\n",
       "\n",
       "#sk-container-id-1 div.sk-text-repr-fallback {\n",
       "  display: none;\n",
       "}\n",
       "\n",
       "div.sk-parallel-item,\n",
       "div.sk-serial,\n",
       "div.sk-item {\n",
       "  /* draw centered vertical line to link estimators */\n",
       "  background-image: linear-gradient(var(--sklearn-color-text-on-default-background), var(--sklearn-color-text-on-default-background));\n",
       "  background-size: 2px 100%;\n",
       "  background-repeat: no-repeat;\n",
       "  background-position: center center;\n",
       "}\n",
       "\n",
       "/* Parallel-specific style estimator block */\n",
       "\n",
       "#sk-container-id-1 div.sk-parallel-item::after {\n",
       "  content: \"\";\n",
       "  width: 100%;\n",
       "  border-bottom: 2px solid var(--sklearn-color-text-on-default-background);\n",
       "  flex-grow: 1;\n",
       "}\n",
       "\n",
       "#sk-container-id-1 div.sk-parallel {\n",
       "  display: flex;\n",
       "  align-items: stretch;\n",
       "  justify-content: center;\n",
       "  background-color: var(--sklearn-color-background);\n",
       "  position: relative;\n",
       "}\n",
       "\n",
       "#sk-container-id-1 div.sk-parallel-item {\n",
       "  display: flex;\n",
       "  flex-direction: column;\n",
       "}\n",
       "\n",
       "#sk-container-id-1 div.sk-parallel-item:first-child::after {\n",
       "  align-self: flex-end;\n",
       "  width: 50%;\n",
       "}\n",
       "\n",
       "#sk-container-id-1 div.sk-parallel-item:last-child::after {\n",
       "  align-self: flex-start;\n",
       "  width: 50%;\n",
       "}\n",
       "\n",
       "#sk-container-id-1 div.sk-parallel-item:only-child::after {\n",
       "  width: 0;\n",
       "}\n",
       "\n",
       "/* Serial-specific style estimator block */\n",
       "\n",
       "#sk-container-id-1 div.sk-serial {\n",
       "  display: flex;\n",
       "  flex-direction: column;\n",
       "  align-items: center;\n",
       "  background-color: var(--sklearn-color-background);\n",
       "  padding-right: 1em;\n",
       "  padding-left: 1em;\n",
       "}\n",
       "\n",
       "\n",
       "/* Toggleable style: style used for estimator/Pipeline/ColumnTransformer box that is\n",
       "clickable and can be expanded/collapsed.\n",
       "- Pipeline and ColumnTransformer use this feature and define the default style\n",
       "- Estimators will overwrite some part of the style using the `sk-estimator` class\n",
       "*/\n",
       "\n",
       "/* Pipeline and ColumnTransformer style (default) */\n",
       "\n",
       "#sk-container-id-1 div.sk-toggleable {\n",
       "  /* Default theme specific background. It is overwritten whether we have a\n",
       "  specific estimator or a Pipeline/ColumnTransformer */\n",
       "  background-color: var(--sklearn-color-background);\n",
       "}\n",
       "\n",
       "/* Toggleable label */\n",
       "#sk-container-id-1 label.sk-toggleable__label {\n",
       "  cursor: pointer;\n",
       "  display: block;\n",
       "  width: 100%;\n",
       "  margin-bottom: 0;\n",
       "  padding: 0.5em;\n",
       "  box-sizing: border-box;\n",
       "  text-align: center;\n",
       "}\n",
       "\n",
       "#sk-container-id-1 label.sk-toggleable__label-arrow:before {\n",
       "  /* Arrow on the left of the label */\n",
       "  content: \"▸\";\n",
       "  float: left;\n",
       "  margin-right: 0.25em;\n",
       "  color: var(--sklearn-color-icon);\n",
       "}\n",
       "\n",
       "#sk-container-id-1 label.sk-toggleable__label-arrow:hover:before {\n",
       "  color: var(--sklearn-color-text);\n",
       "}\n",
       "\n",
       "/* Toggleable content - dropdown */\n",
       "\n",
       "#sk-container-id-1 div.sk-toggleable__content {\n",
       "  max-height: 0;\n",
       "  max-width: 0;\n",
       "  overflow: hidden;\n",
       "  text-align: left;\n",
       "  /* unfitted */\n",
       "  background-color: var(--sklearn-color-unfitted-level-0);\n",
       "}\n",
       "\n",
       "#sk-container-id-1 div.sk-toggleable__content.fitted {\n",
       "  /* fitted */\n",
       "  background-color: var(--sklearn-color-fitted-level-0);\n",
       "}\n",
       "\n",
       "#sk-container-id-1 div.sk-toggleable__content pre {\n",
       "  margin: 0.2em;\n",
       "  border-radius: 0.25em;\n",
       "  color: var(--sklearn-color-text);\n",
       "  /* unfitted */\n",
       "  background-color: var(--sklearn-color-unfitted-level-0);\n",
       "}\n",
       "\n",
       "#sk-container-id-1 div.sk-toggleable__content.fitted pre {\n",
       "  /* unfitted */\n",
       "  background-color: var(--sklearn-color-fitted-level-0);\n",
       "}\n",
       "\n",
       "#sk-container-id-1 input.sk-toggleable__control:checked~div.sk-toggleable__content {\n",
       "  /* Expand drop-down */\n",
       "  max-height: 200px;\n",
       "  max-width: 100%;\n",
       "  overflow: auto;\n",
       "}\n",
       "\n",
       "#sk-container-id-1 input.sk-toggleable__control:checked~label.sk-toggleable__label-arrow:before {\n",
       "  content: \"▾\";\n",
       "}\n",
       "\n",
       "/* Pipeline/ColumnTransformer-specific style */\n",
       "\n",
       "#sk-container-id-1 div.sk-label input.sk-toggleable__control:checked~label.sk-toggleable__label {\n",
       "  color: var(--sklearn-color-text);\n",
       "  background-color: var(--sklearn-color-unfitted-level-2);\n",
       "}\n",
       "\n",
       "#sk-container-id-1 div.sk-label.fitted input.sk-toggleable__control:checked~label.sk-toggleable__label {\n",
       "  background-color: var(--sklearn-color-fitted-level-2);\n",
       "}\n",
       "\n",
       "/* Estimator-specific style */\n",
       "\n",
       "/* Colorize estimator box */\n",
       "#sk-container-id-1 div.sk-estimator input.sk-toggleable__control:checked~label.sk-toggleable__label {\n",
       "  /* unfitted */\n",
       "  background-color: var(--sklearn-color-unfitted-level-2);\n",
       "}\n",
       "\n",
       "#sk-container-id-1 div.sk-estimator.fitted input.sk-toggleable__control:checked~label.sk-toggleable__label {\n",
       "  /* fitted */\n",
       "  background-color: var(--sklearn-color-fitted-level-2);\n",
       "}\n",
       "\n",
       "#sk-container-id-1 div.sk-label label.sk-toggleable__label,\n",
       "#sk-container-id-1 div.sk-label label {\n",
       "  /* The background is the default theme color */\n",
       "  color: var(--sklearn-color-text-on-default-background);\n",
       "}\n",
       "\n",
       "/* On hover, darken the color of the background */\n",
       "#sk-container-id-1 div.sk-label:hover label.sk-toggleable__label {\n",
       "  color: var(--sklearn-color-text);\n",
       "  background-color: var(--sklearn-color-unfitted-level-2);\n",
       "}\n",
       "\n",
       "/* Label box, darken color on hover, fitted */\n",
       "#sk-container-id-1 div.sk-label.fitted:hover label.sk-toggleable__label.fitted {\n",
       "  color: var(--sklearn-color-text);\n",
       "  background-color: var(--sklearn-color-fitted-level-2);\n",
       "}\n",
       "\n",
       "/* Estimator label */\n",
       "\n",
       "#sk-container-id-1 div.sk-label label {\n",
       "  font-family: monospace;\n",
       "  font-weight: bold;\n",
       "  display: inline-block;\n",
       "  line-height: 1.2em;\n",
       "}\n",
       "\n",
       "#sk-container-id-1 div.sk-label-container {\n",
       "  text-align: center;\n",
       "}\n",
       "\n",
       "/* Estimator-specific */\n",
       "#sk-container-id-1 div.sk-estimator {\n",
       "  font-family: monospace;\n",
       "  border: 1px dotted var(--sklearn-color-border-box);\n",
       "  border-radius: 0.25em;\n",
       "  box-sizing: border-box;\n",
       "  margin-bottom: 0.5em;\n",
       "  /* unfitted */\n",
       "  background-color: var(--sklearn-color-unfitted-level-0);\n",
       "}\n",
       "\n",
       "#sk-container-id-1 div.sk-estimator.fitted {\n",
       "  /* fitted */\n",
       "  background-color: var(--sklearn-color-fitted-level-0);\n",
       "}\n",
       "\n",
       "/* on hover */\n",
       "#sk-container-id-1 div.sk-estimator:hover {\n",
       "  /* unfitted */\n",
       "  background-color: var(--sklearn-color-unfitted-level-2);\n",
       "}\n",
       "\n",
       "#sk-container-id-1 div.sk-estimator.fitted:hover {\n",
       "  /* fitted */\n",
       "  background-color: var(--sklearn-color-fitted-level-2);\n",
       "}\n",
       "\n",
       "/* Specification for estimator info (e.g. \"i\" and \"?\") */\n",
       "\n",
       "/* Common style for \"i\" and \"?\" */\n",
       "\n",
       ".sk-estimator-doc-link,\n",
       "a:link.sk-estimator-doc-link,\n",
       "a:visited.sk-estimator-doc-link {\n",
       "  float: right;\n",
       "  font-size: smaller;\n",
       "  line-height: 1em;\n",
       "  font-family: monospace;\n",
       "  background-color: var(--sklearn-color-background);\n",
       "  border-radius: 1em;\n",
       "  height: 1em;\n",
       "  width: 1em;\n",
       "  text-decoration: none !important;\n",
       "  margin-left: 1ex;\n",
       "  /* unfitted */\n",
       "  border: var(--sklearn-color-unfitted-level-1) 1pt solid;\n",
       "  color: var(--sklearn-color-unfitted-level-1);\n",
       "}\n",
       "\n",
       ".sk-estimator-doc-link.fitted,\n",
       "a:link.sk-estimator-doc-link.fitted,\n",
       "a:visited.sk-estimator-doc-link.fitted {\n",
       "  /* fitted */\n",
       "  border: var(--sklearn-color-fitted-level-1) 1pt solid;\n",
       "  color: var(--sklearn-color-fitted-level-1);\n",
       "}\n",
       "\n",
       "/* On hover */\n",
       "div.sk-estimator:hover .sk-estimator-doc-link:hover,\n",
       ".sk-estimator-doc-link:hover,\n",
       "div.sk-label-container:hover .sk-estimator-doc-link:hover,\n",
       ".sk-estimator-doc-link:hover {\n",
       "  /* unfitted */\n",
       "  background-color: var(--sklearn-color-unfitted-level-3);\n",
       "  color: var(--sklearn-color-background);\n",
       "  text-decoration: none;\n",
       "}\n",
       "\n",
       "div.sk-estimator.fitted:hover .sk-estimator-doc-link.fitted:hover,\n",
       ".sk-estimator-doc-link.fitted:hover,\n",
       "div.sk-label-container:hover .sk-estimator-doc-link.fitted:hover,\n",
       ".sk-estimator-doc-link.fitted:hover {\n",
       "  /* fitted */\n",
       "  background-color: var(--sklearn-color-fitted-level-3);\n",
       "  color: var(--sklearn-color-background);\n",
       "  text-decoration: none;\n",
       "}\n",
       "\n",
       "/* Span, style for the box shown on hovering the info icon */\n",
       ".sk-estimator-doc-link span {\n",
       "  display: none;\n",
       "  z-index: 9999;\n",
       "  position: relative;\n",
       "  font-weight: normal;\n",
       "  right: .2ex;\n",
       "  padding: .5ex;\n",
       "  margin: .5ex;\n",
       "  width: min-content;\n",
       "  min-width: 20ex;\n",
       "  max-width: 50ex;\n",
       "  color: var(--sklearn-color-text);\n",
       "  box-shadow: 2pt 2pt 4pt #999;\n",
       "  /* unfitted */\n",
       "  background: var(--sklearn-color-unfitted-level-0);\n",
       "  border: .5pt solid var(--sklearn-color-unfitted-level-3);\n",
       "}\n",
       "\n",
       ".sk-estimator-doc-link.fitted span {\n",
       "  /* fitted */\n",
       "  background: var(--sklearn-color-fitted-level-0);\n",
       "  border: var(--sklearn-color-fitted-level-3);\n",
       "}\n",
       "\n",
       ".sk-estimator-doc-link:hover span {\n",
       "  display: block;\n",
       "}\n",
       "\n",
       "/* \"?\"-specific style due to the `<a>` HTML tag */\n",
       "\n",
       "#sk-container-id-1 a.estimator_doc_link {\n",
       "  float: right;\n",
       "  font-size: 1rem;\n",
       "  line-height: 1em;\n",
       "  font-family: monospace;\n",
       "  background-color: var(--sklearn-color-background);\n",
       "  border-radius: 1rem;\n",
       "  height: 1rem;\n",
       "  width: 1rem;\n",
       "  text-decoration: none;\n",
       "  /* unfitted */\n",
       "  color: var(--sklearn-color-unfitted-level-1);\n",
       "  border: var(--sklearn-color-unfitted-level-1) 1pt solid;\n",
       "}\n",
       "\n",
       "#sk-container-id-1 a.estimator_doc_link.fitted {\n",
       "  /* fitted */\n",
       "  border: var(--sklearn-color-fitted-level-1) 1pt solid;\n",
       "  color: var(--sklearn-color-fitted-level-1);\n",
       "}\n",
       "\n",
       "/* On hover */\n",
       "#sk-container-id-1 a.estimator_doc_link:hover {\n",
       "  /* unfitted */\n",
       "  background-color: var(--sklearn-color-unfitted-level-3);\n",
       "  color: var(--sklearn-color-background);\n",
       "  text-decoration: none;\n",
       "}\n",
       "\n",
       "#sk-container-id-1 a.estimator_doc_link.fitted:hover {\n",
       "  /* fitted */\n",
       "  background-color: var(--sklearn-color-fitted-level-3);\n",
       "}\n",
       "</style><div id=\"sk-container-id-1\" class=\"sk-top-container\"><div class=\"sk-text-repr-fallback\"><pre>LogisticRegression(random_state=42)</pre><b>In a Jupyter environment, please rerun this cell to show the HTML representation or trust the notebook. <br />On GitHub, the HTML representation is unable to render, please try loading this page with nbviewer.org.</b></div><div class=\"sk-container\" hidden><div class=\"sk-item\"><div class=\"sk-estimator fitted sk-toggleable\"><input class=\"sk-toggleable__control sk-hidden--visually\" id=\"sk-estimator-id-1\" type=\"checkbox\" checked><label for=\"sk-estimator-id-1\" class=\"sk-toggleable__label fitted sk-toggleable__label-arrow fitted\">&nbsp;&nbsp;LogisticRegression<a class=\"sk-estimator-doc-link fitted\" rel=\"noreferrer\" target=\"_blank\" href=\"https://scikit-learn.org/1.5/modules/generated/sklearn.linear_model.LogisticRegression.html\">?<span>Documentation for LogisticRegression</span></a><span class=\"sk-estimator-doc-link fitted\">i<span>Fitted</span></span></label><div class=\"sk-toggleable__content fitted\"><pre>LogisticRegression(random_state=42)</pre></div> </div></div></div></div>"
      ],
      "text/plain": [
       "LogisticRegression(random_state=42)"
      ]
     },
     "execution_count": 21,
     "metadata": {},
     "output_type": "execute_result"
    }
   ],
   "source": [
    "base_model = LogisticRegression(random_state=42)\n",
    "base_model.fit(X_train_tfidf, y_train)"
   ]
  },
  {
   "cell_type": "code",
   "execution_count": 22,
   "id": "a877c895",
   "metadata": {},
   "outputs": [],
   "source": [
    "y_pred = base_model.predict(X_test_tfidf)"
   ]
  },
  {
   "cell_type": "code",
   "execution_count": 23,
   "id": "b1699181",
   "metadata": {},
   "outputs": [
    {
     "name": "stdout",
     "output_type": "stream",
     "text": [
      "\n",
      "Model Accuracy: 94.25%\n"
     ]
    }
   ],
   "source": [
    "accuracy = accuracy_score(y_test, y_pred)\n",
    "print(f\"\\nModel Accuracy: {accuracy * 100:.2f}%\")"
   ]
  },
  {
   "cell_type": "code",
   "execution_count": 24,
   "id": "cbfbee6f",
   "metadata": {},
   "outputs": [
    {
     "name": "stdout",
     "output_type": "stream",
     "text": [
      "\n",
      "Classification Report:\n",
      "              precision    recall  f1-score   support\n",
      "\n",
      "    Real (0)       0.93      0.95      0.94      4284\n",
      "    Fake (1)       0.95      0.93      0.94      4694\n",
      "\n",
      "    accuracy                           0.94      8978\n",
      "   macro avg       0.94      0.94      0.94      8978\n",
      "weighted avg       0.94      0.94      0.94      8978\n",
      "\n"
     ]
    }
   ],
   "source": [
    "# --- 4. Display the Classification Report ---\n",
    "# This report gives us precision, recall, and f1-score for each class.\n",
    "print(\"\\nClassification Report:\")\n",
    "print(classification_report(y_test, y_pred, target_names=['Real (0)', 'Fake (1)']))"
   ]
  },
  {
   "cell_type": "code",
   "execution_count": 25,
   "id": "4139d16c",
   "metadata": {},
   "outputs": [
    {
     "data": {
      "image/png": "[encoded data removed]",
      "text/plain": [
       "<Figure size 600x400 with 2 Axes>"
      ]
     },
     "metadata": {},
     "output_type": "display_data"
    }
   ],
   "source": [
    "cm = confusion_matrix(y_test, y_pred)\n",
    "\n",
    "plt.figure(figsize=(6, 4))\n",
    "sns.heatmap(cm, annot=True, fmt='d', cmap='Blues', \n",
    "            xticklabels=['Real (0)', 'Fake (1)'], \n",
    "            yticklabels=['Real (0)', 'Fake (1)'])\n",
    "plt.xlabel('Predicted')\n",
    "plt.ylabel('Actual')\n",
    "plt.title('Confusion Matrix')\n",
    "plt.show()"
   ]
  },
  {
   "cell_type": "code",
   "execution_count": 26,
   "id": "6641dfd4",
   "metadata": {},
   "outputs": [],
   "source": [
    "def predict_headline(headline_text, model, vectorizer):\n",
    "    \"\"\"\n",
    "    Takes a raw headline string, processes it, and predicts if it's real or fake.\n",
    "    \"\"\"\n",
    "    # 1. Pre-process the input text\n",
    "    processed_text = preprocess_text(headline_text)\n",
    "    \n",
    "    # 2. Vectorize the processed text using the FITTED vectorizer\n",
    "    # Note: vectorizer.transform expects an iterable (like a list), so we pass [processed_text]\n",
    "    text_vector = vectorizer.transform([processed_text])\n",
    "    \n",
    "    # 3. Make a prediction\n",
    "    prediction = model.predict(text_vector)\n",
    "    \n",
    "    # 4. Get the prediction probability\n",
    "    # model.predict_proba returns probabilities for both classes [P(real), P(fake)]\n",
    "    prediction_proba = model.predict_proba(text_vector)\n",
    "    \n",
    "    # 5. Interpret the results\n",
    "    if prediction[0] == 0:\n",
    "        label = \"This looks like a REAL news headline.\"\n",
    "        confidence = prediction_proba[0][0]\n",
    "    else:\n",
    "        label = \"This looks like a FAKE news headline.\"\n",
    "        confidence = prediction_proba[0][1]\n",
    "        \n",
    "    print(label)\n",
    "    print(f\"Confidence: {confidence * 100:.2f}%\")"
   ]
  },
  {
   "cell_type": "code",
   "execution_count": 27,
   "id": "4fd74d5b",
   "metadata": {},
   "outputs": [
    {
     "name": "stdout",
     "output_type": "stream",
     "text": [
      "This looks like a FAKE news headline.\n",
      "Confidence: 55.95%\n"
     ]
    }
   ],
   "source": [
    "predict_headline(\"Women kidnapped by obsessive parents who wish to control their dogs\", base_model, vectorizer)"
   ]
  },
  {
   "cell_type": "markdown",
   "id": "d1e264f5",
   "metadata": {},
   "source": [
    "# Tier Two Model"
   ]
  },
  {
   "cell_type": "markdown",
   "id": "ab10662f",
   "metadata": {},
   "source": [
    "\n",
    "- **Goal:** Enhance the model with more text and simple metadata features.\n",
    "- **New Features:**\n",
    "- TF-IDF from the text column (combined with title TF-IDF).\n",
    "- Sentiment Scores (from title and text).\n",
    "- Readability Scores (from text).\n",
    "- Clickbait keywords (from title).\n",
    "- **Why?** These are the highest-impact and easiest-to-implement features from your list. "
   ]
  },
  {
   "cell_type": "code",
   "execution_count": 28,
   "id": "735a2865",
   "metadata": {},
   "outputs": [],
   "source": [
    "data_two = data[~data[\"text\"].str.strip().eq(\"\")]"
   ]
  },
  {
   "cell_type": "code",
   "execution_count": 29,
   "id": "542cc271",
   "metadata": {},
   "outputs": [],
   "source": [
    "def preprocess_text_improved(texts, chunk_size=2000, batch_size=500):\n",
    "    \"\"\"\n",
    "    Takes a list of text strings and returns a list of cleaned, lemmatized tokens.\n",
    "    Optimized for batch processing with progress tracking and chunked processing.\n",
    "    \"\"\"\n",
    "    all_processed_texts = []\n",
    "    \n",
    "    # Process texts in chunks\n",
    "    for i in tqdm(range(0, len(texts), chunk_size), desc=\"Processing chunks\"):\n",
    "        chunk = texts[i:i+chunk_size]\n",
    "        chunk_processed = []\n",
    "        \n",
    "        # Process current chunk with progress bar\n",
    "        with tqdm(total=len(chunk), desc=f\"Chunk {i//chunk_size + 1}\", leave=False) as pbar:\n",
    "            # Process texts in batches using SpaCy's pipe for efficiency\n",
    "            for doc in nlp.pipe(chunk, batch_size=batch_size):\n",
    "                # Lemmatize, lowercase, and remove stop words and punctuation\n",
    "                cleaned_tokens = []\n",
    "                for token in doc:\n",
    "                    # Check if the token is not a stop word and not punctuation\n",
    "                    if not token.is_stop and not token.is_punct:\n",
    "                        # Lemmatize and convert to lower case\n",
    "                        lemma = token.lemma_.lower().strip()\n",
    "                        if lemma:  # Only add non-empty tokens\n",
    "                            cleaned_tokens.append(lemma)\n",
    "                \n",
    "                # Join the tokens back into a single string, separated by spaces\n",
    "                chunk_processed.append(\" \".join(cleaned_tokens))\n",
    "                pbar.update(1)\n",
    "        \n",
    "        all_processed_texts.extend(chunk_processed)\n",
    "        print(f\"Completed {min(i+chunk_size, len(texts))}/{len(texts)} texts\")\n",
    "    \n",
    "    return all_processed_texts"
   ]
  },
  {
   "cell_type": "code",
   "execution_count": 30,
   "id": "64fab211",
   "metadata": {},
   "outputs": [
    {
     "name": "stdout",
     "output_type": "stream",
     "text": [
      "Starting text preprocessing...\n"
     ]
    },
    {
     "name": "stderr",
     "output_type": "stream",
     "text": [
      "Processing chunks:   4%|▍         | 1/23 [02:09<47:27, 129.45s/it]"
     ]
    },
    {
     "name": "stdout",
     "output_type": "stream",
     "text": [
      "Completed 2000/44257 texts\n"
     ]
    },
    {
     "name": "stderr",
     "output_type": "stream",
     "text": [
      "Processing chunks:   9%|▊         | 2/23 [03:52<39:49, 113.79s/it]"
     ]
    },
    {
     "name": "stdout",
     "output_type": "stream",
     "text": [
      "Completed 4000/44257 texts\n"
     ]
    },
    {
     "name": "stderr",
     "output_type": "stream",
     "text": [
      "Processing chunks:  13%|█▎        | 3/23 [05:43<37:31, 112.55s/it]"
     ]
    },
    {
     "name": "stdout",
     "output_type": "stream",
     "text": [
      "Completed 6000/44257 texts\n"
     ]
    },
    {
     "name": "stderr",
     "output_type": "stream",
     "text": [
      "Processing chunks:  17%|█▋        | 4/23 [07:53<37:53, 119.64s/it]"
     ]
    },
    {
     "name": "stdout",
     "output_type": "stream",
     "text": [
      "Completed 8000/44257 texts\n"
     ]
    },
    {
     "name": "stderr",
     "output_type": "stream",
     "text": [
      "Processing chunks:  22%|██▏       | 5/23 [09:42<34:45, 115.84s/it]"
     ]
    },
    {
     "name": "stdout",
     "output_type": "stream",
     "text": [
      "Completed 10000/44257 texts\n"
     ]
    },
    {
     "name": "stderr",
     "output_type": "stream",
     "text": [
      "Processing chunks:  26%|██▌       | 6/23 [11:40<33:01, 116.55s/it]"
     ]
    },
    {
     "name": "stdout",
     "output_type": "stream",
     "text": [
      "Completed 12000/44257 texts\n"
     ]
    },
    {
     "name": "stderr",
     "output_type": "stream",
     "text": [
      "Processing chunks:  30%|███       | 7/23 [14:00<33:07, 124.22s/it]"
     ]
    },
    {
     "name": "stdout",
     "output_type": "stream",
     "text": [
      "Completed 14000/44257 texts\n"
     ]
    },
    {
     "name": "stderr",
     "output_type": "stream",
     "text": [
      "Processing chunks:  35%|███▍      | 8/23 [16:02<30:51, 123.46s/it]"
     ]
    },
    {
     "name": "stdout",
     "output_type": "stream",
     "text": [
      "Completed 16000/44257 texts\n"
     ]
    },
    {
     "name": "stderr",
     "output_type": "stream",
     "text": [
      "Processing chunks:  39%|███▉      | 9/23 [17:51<27:44, 118.91s/it]"
     ]
    },
    {
     "name": "stdout",
     "output_type": "stream",
     "text": [
      "Completed 18000/44257 texts\n"
     ]
    },
    {
     "name": "stderr",
     "output_type": "stream",
     "text": [
      "Processing chunks:  43%|████▎     | 10/23 [20:38<28:57, 133.62s/it]"
     ]
    },
    {
     "name": "stdout",
     "output_type": "stream",
     "text": [
      "Completed 20000/44257 texts\n"
     ]
    },
    {
     "name": "stderr",
     "output_type": "stream",
     "text": [
      "Processing chunks:  48%|████▊     | 11/23 [24:03<31:05, 155.43s/it]"
     ]
    },
    {
     "name": "stdout",
     "output_type": "stream",
     "text": [
      "Completed 22000/44257 texts\n"
     ]
    },
    {
     "name": "stderr",
     "output_type": "stream",
     "text": [
      "Processing chunks:  52%|█████▏    | 12/23 [26:39<28:34, 155.85s/it]"
     ]
    },
    {
     "name": "stdout",
     "output_type": "stream",
     "text": [
      "Completed 24000/44257 texts\n"
     ]
    },
    {
     "name": "stderr",
     "output_type": "stream",
     "text": [
      "Processing chunks:  57%|█████▋    | 13/23 [29:10<25:42, 154.29s/it]"
     ]
    },
    {
     "name": "stdout",
     "output_type": "stream",
     "text": [
      "Completed 26000/44257 texts\n"
     ]
    },
    {
     "name": "stderr",
     "output_type": "stream",
     "text": [
      "Processing chunks:  61%|██████    | 14/23 [30:47<20:33, 137.02s/it]"
     ]
    },
    {
     "name": "stdout",
     "output_type": "stream",
     "text": [
      "Completed 28000/44257 texts\n"
     ]
    },
    {
     "name": "stderr",
     "output_type": "stream",
     "text": [
      "Processing chunks:  65%|██████▌   | 15/23 [32:21<16:31, 123.91s/it]"
     ]
    },
    {
     "name": "stdout",
     "output_type": "stream",
     "text": [
      "Completed 30000/44257 texts\n"
     ]
    },
    {
     "name": "stderr",
     "output_type": "stream",
     "text": [
      "Processing chunks:  70%|██████▉   | 16/23 [33:44<13:00, 111.56s/it]"
     ]
    },
    {
     "name": "stdout",
     "output_type": "stream",
     "text": [
      "Completed 32000/44257 texts\n"
     ]
    },
    {
     "name": "stderr",
     "output_type": "stream",
     "text": [
      "Processing chunks:  74%|███████▍  | 17/23 [34:58<10:01, 100.23s/it]"
     ]
    },
    {
     "name": "stdout",
     "output_type": "stream",
     "text": [
      "Completed 34000/44257 texts\n"
     ]
    },
    {
     "name": "stderr",
     "output_type": "stream",
     "text": [
      "Processing chunks:  78%|███████▊  | 18/23 [36:51<08:41, 104.22s/it]"
     ]
    },
    {
     "name": "stdout",
     "output_type": "stream",
     "text": [
      "Completed 36000/44257 texts\n"
     ]
    },
    {
     "name": "stderr",
     "output_type": "stream",
     "text": [
      "Processing chunks:  83%|████████▎ | 19/23 [38:27<06:46, 101.60s/it]"
     ]
    },
    {
     "name": "stdout",
     "output_type": "stream",
     "text": [
      "Completed 38000/44257 texts\n"
     ]
    },
    {
     "name": "stderr",
     "output_type": "stream",
     "text": [
      "Processing chunks:  87%|████████▋ | 20/23 [39:34<04:33, 91.33s/it] "
     ]
    },
    {
     "name": "stdout",
     "output_type": "stream",
     "text": [
      "Completed 40000/44257 texts\n"
     ]
    },
    {
     "name": "stderr",
     "output_type": "stream",
     "text": [
      "Processing chunks:  91%|█████████▏| 21/23 [40:42<02:48, 84.25s/it]"
     ]
    },
    {
     "name": "stdout",
     "output_type": "stream",
     "text": [
      "Completed 42000/44257 texts\n"
     ]
    },
    {
     "name": "stderr",
     "output_type": "stream",
     "text": [
      "Processing chunks:  96%|█████████▌| 22/23 [41:56<01:21, 81.33s/it]"
     ]
    },
    {
     "name": "stdout",
     "output_type": "stream",
     "text": [
      "Completed 44000/44257 texts\n"
     ]
    },
    {
     "name": "stderr",
     "output_type": "stream",
     "text": [
      "Processing chunks: 100%|██████████| 23/23 [42:10<00:00, 110.00s/it]\n"
     ]
    },
    {
     "name": "stdout",
     "output_type": "stream",
     "text": [
      "Completed 44257/44257 texts\n",
      "Preprocessing complete!\n"
     ]
    },
    {
     "name": "stderr",
     "output_type": "stream",
     "text": [
      "C:\\Users\\Kamiye\\AppData\\Local\\Temp\\ipykernel_44040\\2385197916.py:2: SettingWithCopyWarning: \n",
      "A value is trying to be set on a copy of a slice from a DataFrame.\n",
      "Try using .loc[row_indexer,col_indexer] = value instead\n",
      "\n",
      "See the caveats in the documentation: https://pandas.pydata.org/pandas-docs/stable/user_guide/indexing.html#returning-a-view-versus-a-copy\n",
      "  data_two[\"processed_text\"] = preprocess_text_improved(data_two[\"text\"].tolist())\n"
     ]
    }
   ],
   "source": [
    "print(\"Starting text preprocessing...\")\n",
    "data_two[\"processed_text\"] = preprocess_text_improved(data_two[\"text\"].tolist())\n",
    "print(\"Preprocessing complete!\")"
   ]
  },
  {
   "cell_type": "code",
   "execution_count": 31,
   "id": "279d5ed2",
   "metadata": {},
   "outputs": [],
   "source": [
    "X_title = data_two['processed_title']\n",
    "X_text = data_two['processed_text']\n",
    "y = data_two['label'] "
   ]
  },
  {
   "cell_type": "code",
   "execution_count": 32,
   "id": "87b768e6",
   "metadata": {},
   "outputs": [],
   "source": [
    "X_train_title, X_test_title, y_train, y_test = train_test_split(X_title, y, test_size=0.2, random_state=42, stratify=y)\n",
    "X_train_text, X_test_text, y_train, y_test = train_test_split(X_text, y, test_size=0.2, random_state=42, stratify=y)"
   ]
  },
  {
   "cell_type": "code",
   "execution_count": null,
   "id": "3215ddc9",
   "metadata": {},
   "outputs": [
    {
     "name": "stdout",
     "output_type": "stream",
     "text": [
      "Title TF-IDF matrix shape: (35405, 3000)\n",
      "Text TF-IDF matrix shape: (35405, 7000)\n"
     ]
    }
   ],
   "source": [
    "# Fit TWO separate TF-IDF Vectorizers \n",
    "# Vectorizer for titles\n",
    "\n",
    "title_vectorizer = TfidfVectorizer(max_features=3000)\n",
    "X_train_title_tfidf = title_vectorizer.fit_transform(X_train_title)\n",
    "X_test_title_tfidf = title_vectorizer.transform(X_test_title)\n",
    "print(f\"Title TF-IDF matrix shape: {X_train_title_tfidf.shape}\")\n",
    "\n",
    "# Vectorizer for text\n",
    "# We can use more features for the text since it's richer\n",
    "text_vectorizer = TfidfVectorizer(max_features=7000)\n",
    "X_train_text_tfidf = text_vectorizer.fit_transform(X_train_text)\n",
    "X_test_text_tfidf = text_vectorizer.transform(X_test_text)\n",
    "print(f\"Text TF-IDF matrix shape: {X_train_text_tfidf.shape}\")"
   ]
  },
  {
   "cell_type": "code",
   "execution_count": 34,
   "id": "773c1e31",
   "metadata": {},
   "outputs": [],
   "source": [
    "# --- Combine the training matrices ---\n",
    "# hstack stands for \"horizontal stack\". It places the matrices side-by-side.\n",
    "X_train_full = hstack([X_train_title_tfidf, X_train_text_tfidf])\n",
    "\n",
    "X_test_full = hstack([X_test_title_tfidf, X_test_text_tfidf])"
   ]
  },
  {
   "cell_type": "code",
   "execution_count": null,
   "id": "0a60de8e",
   "metadata": {},
   "outputs": [
    {
     "name": "stdout",
     "output_type": "stream",
     "text": [
      "Shape of the combined training matrix: (35405, 10000)\n",
      "Shape of the combined testing matrix: (8852, 10000)\n"
     ]
    }
   ],
   "source": [
    "# -- Verification ---\n",
    "print(\"Shape of the combined training matrix:\", X_train_full.shape)\n",
    "print(\"Shape of the combined testing matrix:\", X_test_full.shape)"
   ]
  },
  {
   "cell_type": "code",
   "execution_count": 36,
   "id": "a514a6da",
   "metadata": {},
   "outputs": [
    {
     "data": {
      "text/html": [
       "<style>#sk-container-id-2 {\n",
       "  /* Definition of color scheme common for light and dark mode */\n",
       "  --sklearn-color-text: black;\n",
       "  --sklearn-color-line: gray;\n",
       "  /* Definition of color scheme for unfitted estimators */\n",
       "  --sklearn-color-unfitted-level-0: #fff5e6;\n",
       "  --sklearn-color-unfitted-level-1: #f6e4d2;\n",
       "  --sklearn-color-unfitted-level-2: #ffe0b3;\n",
       "  --sklearn-color-unfitted-level-3: chocolate;\n",
       "  /* Definition of color scheme for fitted estimators */\n",
       "  --sklearn-color-fitted-level-0: #f0f8ff;\n",
       "  --sklearn-color-fitted-level-1: #d4ebff;\n",
       "  --sklearn-color-fitted-level-2: #b3dbfd;\n",
       "  --sklearn-color-fitted-level-3: cornflowerblue;\n",
       "\n",
       "  /* Specific color for light theme */\n",
       "  --sklearn-color-text-on-default-background: var(--sg-text-color, var(--theme-code-foreground, var(--jp-content-font-color1, black)));\n",
       "  --sklearn-color-background: var(--sg-background-color, var(--theme-background, var(--jp-layout-color0, white)));\n",
       "  --sklearn-color-border-box: var(--sg-text-color, var(--theme-code-foreground, var(--jp-content-font-color1, black)));\n",
       "  --sklearn-color-icon: #696969;\n",
       "\n",
       "  @media (prefers-color-scheme: dark) {\n",
       "    /* Redefinition of color scheme for dark theme */\n",
       "    --sklearn-color-text-on-default-background: var(--sg-text-color, var(--theme-code-foreground, var(--jp-content-font-color1, white)));\n",
       "    --sklearn-color-background: var(--sg-background-color, var(--theme-background, var(--jp-layout-color0, #111)));\n",
       "    --sklearn-color-border-box: var(--sg-text-color, var(--theme-code-foreground, var(--jp-content-font-color1, white)));\n",
       "    --sklearn-color-icon: #878787;\n",
       "  }\n",
       "}\n",
       "\n",
       "#sk-container-id-2 {\n",
       "  color: var(--sklearn-color-text);\n",
       "}\n",
       "\n",
       "#sk-container-id-2 pre {\n",
       "  padding: 0;\n",
       "}\n",
       "\n",
       "#sk-container-id-2 input.sk-hidden--visually {\n",
       "  border: 0;\n",
       "  clip: rect(1px 1px 1px 1px);\n",
       "  clip: rect(1px, 1px, 1px, 1px);\n",
       "  height: 1px;\n",
       "  margin: -1px;\n",
       "  overflow: hidden;\n",
       "  padding: 0;\n",
       "  position: absolute;\n",
       "  width: 1px;\n",
       "}\n",
       "\n",
       "#sk-container-id-2 div.sk-dashed-wrapped {\n",
       "  border: 1px dashed var(--sklearn-color-line);\n",
       "  margin: 0 0.4em 0.5em 0.4em;\n",
       "  box-sizing: border-box;\n",
       "  padding-bottom: 0.4em;\n",
       "  background-color: var(--sklearn-color-background);\n",
       "}\n",
       "\n",
       "#sk-container-id-2 div.sk-container {\n",
       "  /* jupyter's `normalize.less` sets `[hidden] { display: none; }`\n",
       "     but bootstrap.min.css set `[hidden] { display: none !important; }`\n",
       "     so we also need the `!important` here to be able to override the\n",
       "     default hidden behavior on the sphinx rendered scikit-learn.org.\n",
       "     See: https://github.com/scikit-learn/scikit-learn/issues/21755 */\n",
       "  display: inline-block !important;\n",
       "  position: relative;\n",
       "}\n",
       "\n",
       "#sk-container-id-2 div.sk-text-repr-fallback {\n",
       "  display: none;\n",
       "}\n",
       "\n",
       "div.sk-parallel-item,\n",
       "div.sk-serial,\n",
       "div.sk-item {\n",
       "  /* draw centered vertical line to link estimators */\n",
       "  background-image: linear-gradient(var(--sklearn-color-text-on-default-background), var(--sklearn-color-text-on-default-background));\n",
       "  background-size: 2px 100%;\n",
       "  background-repeat: no-repeat;\n",
       "  background-position: center center;\n",
       "}\n",
       "\n",
       "/* Parallel-specific style estimator block */\n",
       "\n",
       "#sk-container-id-2 div.sk-parallel-item::after {\n",
       "  content: \"\";\n",
       "  width: 100%;\n",
       "  border-bottom: 2px solid var(--sklearn-color-text-on-default-background);\n",
       "  flex-grow: 1;\n",
       "}\n",
       "\n",
       "#sk-container-id-2 div.sk-parallel {\n",
       "  display: flex;\n",
       "  align-items: stretch;\n",
       "  justify-content: center;\n",
       "  background-color: var(--sklearn-color-background);\n",
       "  position: relative;\n",
       "}\n",
       "\n",
       "#sk-container-id-2 div.sk-parallel-item {\n",
       "  display: flex;\n",
       "  flex-direction: column;\n",
       "}\n",
       "\n",
       "#sk-container-id-2 div.sk-parallel-item:first-child::after {\n",
       "  align-self: flex-end;\n",
       "  width: 50%;\n",
       "}\n",
       "\n",
       "#sk-container-id-2 div.sk-parallel-item:last-child::after {\n",
       "  align-self: flex-start;\n",
       "  width: 50%;\n",
       "}\n",
       "\n",
       "#sk-container-id-2 div.sk-parallel-item:only-child::after {\n",
       "  width: 0;\n",
       "}\n",
       "\n",
       "/* Serial-specific style estimator block */\n",
       "\n",
       "#sk-container-id-2 div.sk-serial {\n",
       "  display: flex;\n",
       "  flex-direction: column;\n",
       "  align-items: center;\n",
       "  background-color: var(--sklearn-color-background);\n",
       "  padding-right: 1em;\n",
       "  padding-left: 1em;\n",
       "}\n",
       "\n",
       "\n",
       "/* Toggleable style: style used for estimator/Pipeline/ColumnTransformer box that is\n",
       "clickable and can be expanded/collapsed.\n",
       "- Pipeline and ColumnTransformer use this feature and define the default style\n",
       "- Estimators will overwrite some part of the style using the `sk-estimator` class\n",
       "*/\n",
       "\n",
       "/* Pipeline and ColumnTransformer style (default) */\n",
       "\n",
       "#sk-container-id-2 div.sk-toggleable {\n",
       "  /* Default theme specific background. It is overwritten whether we have a\n",
       "  specific estimator or a Pipeline/ColumnTransformer */\n",
       "  background-color: var(--sklearn-color-background);\n",
       "}\n",
       "\n",
       "/* Toggleable label */\n",
       "#sk-container-id-2 label.sk-toggleable__label {\n",
       "  cursor: pointer;\n",
       "  display: block;\n",
       "  width: 100%;\n",
       "  margin-bottom: 0;\n",
       "  padding: 0.5em;\n",
       "  box-sizing: border-box;\n",
       "  text-align: center;\n",
       "}\n",
       "\n",
       "#sk-container-id-2 label.sk-toggleable__label-arrow:before {\n",
       "  /* Arrow on the left of the label */\n",
       "  content: \"▸\";\n",
       "  float: left;\n",
       "  margin-right: 0.25em;\n",
       "  color: var(--sklearn-color-icon);\n",
       "}\n",
       "\n",
       "#sk-container-id-2 label.sk-toggleable__label-arrow:hover:before {\n",
       "  color: var(--sklearn-color-text);\n",
       "}\n",
       "\n",
       "/* Toggleable content - dropdown */\n",
       "\n",
       "#sk-container-id-2 div.sk-toggleable__content {\n",
       "  max-height: 0;\n",
       "  max-width: 0;\n",
       "  overflow: hidden;\n",
       "  text-align: left;\n",
       "  /* unfitted */\n",
       "  background-color: var(--sklearn-color-unfitted-level-0);\n",
       "}\n",
       "\n",
       "#sk-container-id-2 div.sk-toggleable__content.fitted {\n",
       "  /* fitted */\n",
       "  background-color: var(--sklearn-color-fitted-level-0);\n",
       "}\n",
       "\n",
       "#sk-container-id-2 div.sk-toggleable__content pre {\n",
       "  margin: 0.2em;\n",
       "  border-radius: 0.25em;\n",
       "  color: var(--sklearn-color-text);\n",
       "  /* unfitted */\n",
       "  background-color: var(--sklearn-color-unfitted-level-0);\n",
       "}\n",
       "\n",
       "#sk-container-id-2 div.sk-toggleable__content.fitted pre {\n",
       "  /* unfitted */\n",
       "  background-color: var(--sklearn-color-fitted-level-0);\n",
       "}\n",
       "\n",
       "#sk-container-id-2 input.sk-toggleable__control:checked~div.sk-toggleable__content {\n",
       "  /* Expand drop-down */\n",
       "  max-height: 200px;\n",
       "  max-width: 100%;\n",
       "  overflow: auto;\n",
       "}\n",
       "\n",
       "#sk-container-id-2 input.sk-toggleable__control:checked~label.sk-toggleable__label-arrow:before {\n",
       "  content: \"▾\";\n",
       "}\n",
       "\n",
       "/* Pipeline/ColumnTransformer-specific style */\n",
       "\n",
       "#sk-container-id-2 div.sk-label input.sk-toggleable__control:checked~label.sk-toggleable__label {\n",
       "  color: var(--sklearn-color-text);\n",
       "  background-color: var(--sklearn-color-unfitted-level-2);\n",
       "}\n",
       "\n",
       "#sk-container-id-2 div.sk-label.fitted input.sk-toggleable__control:checked~label.sk-toggleable__label {\n",
       "  background-color: var(--sklearn-color-fitted-level-2);\n",
       "}\n",
       "\n",
       "/* Estimator-specific style */\n",
       "\n",
       "/* Colorize estimator box */\n",
       "#sk-container-id-2 div.sk-estimator input.sk-toggleable__control:checked~label.sk-toggleable__label {\n",
       "  /* unfitted */\n",
       "  background-color: var(--sklearn-color-unfitted-level-2);\n",
       "}\n",
       "\n",
       "#sk-container-id-2 div.sk-estimator.fitted input.sk-toggleable__control:checked~label.sk-toggleable__label {\n",
       "  /* fitted */\n",
       "  background-color: var(--sklearn-color-fitted-level-2);\n",
       "}\n",
       "\n",
       "#sk-container-id-2 div.sk-label label.sk-toggleable__label,\n",
       "#sk-container-id-2 div.sk-label label {\n",
       "  /* The background is the default theme color */\n",
       "  color: var(--sklearn-color-text-on-default-background);\n",
       "}\n",
       "\n",
       "/* On hover, darken the color of the background */\n",
       "#sk-container-id-2 div.sk-label:hover label.sk-toggleable__label {\n",
       "  color: var(--sklearn-color-text);\n",
       "  background-color: var(--sklearn-color-unfitted-level-2);\n",
       "}\n",
       "\n",
       "/* Label box, darken color on hover, fitted */\n",
       "#sk-container-id-2 div.sk-label.fitted:hover label.sk-toggleable__label.fitted {\n",
       "  color: var(--sklearn-color-text);\n",
       "  background-color: var(--sklearn-color-fitted-level-2);\n",
       "}\n",
       "\n",
       "/* Estimator label */\n",
       "\n",
       "#sk-container-id-2 div.sk-label label {\n",
       "  font-family: monospace;\n",
       "  font-weight: bold;\n",
       "  display: inline-block;\n",
       "  line-height: 1.2em;\n",
       "}\n",
       "\n",
       "#sk-container-id-2 div.sk-label-container {\n",
       "  text-align: center;\n",
       "}\n",
       "\n",
       "/* Estimator-specific */\n",
       "#sk-container-id-2 div.sk-estimator {\n",
       "  font-family: monospace;\n",
       "  border: 1px dotted var(--sklearn-color-border-box);\n",
       "  border-radius: 0.25em;\n",
       "  box-sizing: border-box;\n",
       "  margin-bottom: 0.5em;\n",
       "  /* unfitted */\n",
       "  background-color: var(--sklearn-color-unfitted-level-0);\n",
       "}\n",
       "\n",
       "#sk-container-id-2 div.sk-estimator.fitted {\n",
       "  /* fitted */\n",
       "  background-color: var(--sklearn-color-fitted-level-0);\n",
       "}\n",
       "\n",
       "/* on hover */\n",
       "#sk-container-id-2 div.sk-estimator:hover {\n",
       "  /* unfitted */\n",
       "  background-color: var(--sklearn-color-unfitted-level-2);\n",
       "}\n",
       "\n",
       "#sk-container-id-2 div.sk-estimator.fitted:hover {\n",
       "  /* fitted */\n",
       "  background-color: var(--sklearn-color-fitted-level-2);\n",
       "}\n",
       "\n",
       "/* Specification for estimator info (e.g. \"i\" and \"?\") */\n",
       "\n",
       "/* Common style for \"i\" and \"?\" */\n",
       "\n",
       ".sk-estimator-doc-link,\n",
       "a:link.sk-estimator-doc-link,\n",
       "a:visited.sk-estimator-doc-link {\n",
       "  float: right;\n",
       "  font-size: smaller;\n",
       "  line-height: 1em;\n",
       "  font-family: monospace;\n",
       "  background-color: var(--sklearn-color-background);\n",
       "  border-radius: 1em;\n",
       "  height: 1em;\n",
       "  width: 1em;\n",
       "  text-decoration: none !important;\n",
       "  margin-left: 1ex;\n",
       "  /* unfitted */\n",
       "  border: var(--sklearn-color-unfitted-level-1) 1pt solid;\n",
       "  color: var(--sklearn-color-unfitted-level-1);\n",
       "}\n",
       "\n",
       ".sk-estimator-doc-link.fitted,\n",
       "a:link.sk-estimator-doc-link.fitted,\n",
       "a:visited.sk-estimator-doc-link.fitted {\n",
       "  /* fitted */\n",
       "  border: var(--sklearn-color-fitted-level-1) 1pt solid;\n",
       "  color: var(--sklearn-color-fitted-level-1);\n",
       "}\n",
       "\n",
       "/* On hover */\n",
       "div.sk-estimator:hover .sk-estimator-doc-link:hover,\n",
       ".sk-estimator-doc-link:hover,\n",
       "div.sk-label-container:hover .sk-estimator-doc-link:hover,\n",
       ".sk-estimator-doc-link:hover {\n",
       "  /* unfitted */\n",
       "  background-color: var(--sklearn-color-unfitted-level-3);\n",
       "  color: var(--sklearn-color-background);\n",
       "  text-decoration: none;\n",
       "}\n",
       "\n",
       "div.sk-estimator.fitted:hover .sk-estimator-doc-link.fitted:hover,\n",
       ".sk-estimator-doc-link.fitted:hover,\n",
       "div.sk-label-container:hover .sk-estimator-doc-link.fitted:hover,\n",
       ".sk-estimator-doc-link.fitted:hover {\n",
       "  /* fitted */\n",
       "  background-color: var(--sklearn-color-fitted-level-3);\n",
       "  color: var(--sklearn-color-background);\n",
       "  text-decoration: none;\n",
       "}\n",
       "\n",
       "/* Span, style for the box shown on hovering the info icon */\n",
       ".sk-estimator-doc-link span {\n",
       "  display: none;\n",
       "  z-index: 9999;\n",
       "  position: relative;\n",
       "  font-weight: normal;\n",
       "  right: .2ex;\n",
       "  padding: .5ex;\n",
       "  margin: .5ex;\n",
       "  width: min-content;\n",
       "  min-width: 20ex;\n",
       "  max-width: 50ex;\n",
       "  color: var(--sklearn-color-text);\n",
       "  box-shadow: 2pt 2pt 4pt #999;\n",
       "  /* unfitted */\n",
       "  background: var(--sklearn-color-unfitted-level-0);\n",
       "  border: .5pt solid var(--sklearn-color-unfitted-level-3);\n",
       "}\n",
       "\n",
       ".sk-estimator-doc-link.fitted span {\n",
       "  /* fitted */\n",
       "  background: var(--sklearn-color-fitted-level-0);\n",
       "  border: var(--sklearn-color-fitted-level-3);\n",
       "}\n",
       "\n",
       ".sk-estimator-doc-link:hover span {\n",
       "  display: block;\n",
       "}\n",
       "\n",
       "/* \"?\"-specific style due to the `<a>` HTML tag */\n",
       "\n",
       "#sk-container-id-2 a.estimator_doc_link {\n",
       "  float: right;\n",
       "  font-size: 1rem;\n",
       "  line-height: 1em;\n",
       "  font-family: monospace;\n",
       "  background-color: var(--sklearn-color-background);\n",
       "  border-radius: 1rem;\n",
       "  height: 1rem;\n",
       "  width: 1rem;\n",
       "  text-decoration: none;\n",
       "  /* unfitted */\n",
       "  color: var(--sklearn-color-unfitted-level-1);\n",
       "  border: var(--sklearn-color-unfitted-level-1) 1pt solid;\n",
       "}\n",
       "\n",
       "#sk-container-id-2 a.estimator_doc_link.fitted {\n",
       "  /* fitted */\n",
       "  border: var(--sklearn-color-fitted-level-1) 1pt solid;\n",
       "  color: var(--sklearn-color-fitted-level-1);\n",
       "}\n",
       "\n",
       "/* On hover */\n",
       "#sk-container-id-2 a.estimator_doc_link:hover {\n",
       "  /* unfitted */\n",
       "  background-color: var(--sklearn-color-unfitted-level-3);\n",
       "  color: var(--sklearn-color-background);\n",
       "  text-decoration: none;\n",
       "}\n",
       "\n",
       "#sk-container-id-2 a.estimator_doc_link.fitted:hover {\n",
       "  /* fitted */\n",
       "  background-color: var(--sklearn-color-fitted-level-3);\n",
       "}\n",
       "</style><div id=\"sk-container-id-2\" class=\"sk-top-container\"><div class=\"sk-text-repr-fallback\"><pre>LogisticRegression(random_state=42)</pre><b>In a Jupyter environment, please rerun this cell to show the HTML representation or trust the notebook. <br />On GitHub, the HTML representation is unable to render, please try loading this page with nbviewer.org.</b></div><div class=\"sk-container\" hidden><div class=\"sk-item\"><div class=\"sk-estimator fitted sk-toggleable\"><input class=\"sk-toggleable__control sk-hidden--visually\" id=\"sk-estimator-id-2\" type=\"checkbox\" checked><label for=\"sk-estimator-id-2\" class=\"sk-toggleable__label fitted sk-toggleable__label-arrow fitted\">&nbsp;&nbsp;LogisticRegression<a class=\"sk-estimator-doc-link fitted\" rel=\"noreferrer\" target=\"_blank\" href=\"https://scikit-learn.org/1.5/modules/generated/sklearn.linear_model.LogisticRegression.html\">?<span>Documentation for LogisticRegression</span></a><span class=\"sk-estimator-doc-link fitted\">i<span>Fitted</span></span></label><div class=\"sk-toggleable__content fitted\"><pre>LogisticRegression(random_state=42)</pre></div> </div></div></div></div>"
      ],
      "text/plain": [
       "LogisticRegression(random_state=42)"
      ]
     },
     "execution_count": 36,
     "metadata": {},
     "output_type": "execute_result"
    }
   ],
   "source": [
    "model_v2 = LogisticRegression(random_state=42)\n",
    "\n",
    "model_v2.fit(X_train_full, y_train)"
   ]
  },
  {
   "cell_type": "code",
   "execution_count": null,
   "id": "d0d15b75",
   "metadata": {},
   "outputs": [
    {
     "name": "stdout",
     "output_type": "stream",
     "text": [
      "\n",
      "New Model (v2) Accuracy: 99.20%\n"
     ]
    }
   ],
   "source": [
    "# -- Calculate and display results ---\n",
    "\n",
    "y_pred_v2 = model_v2.predict(X_test_full)\n",
    "accuracy_v2 = accuracy_score(y_test, y_pred_v2)\n",
    "print(f\"\\nNew Model (v2) Accuracy: {accuracy_v2 * 100:.2f}%\")"
   ]
  },
  {
   "cell_type": "code",
   "execution_count": 38,
   "id": "fc753856",
   "metadata": {},
   "outputs": [
    {
     "data": {
      "image/png": "[encoded data removed]",
      "text/plain": [
       "<Figure size 600x400 with 2 Axes>"
      ]
     },
     "metadata": {},
     "output_type": "display_data"
    }
   ],
   "source": [
    "cm_v2 = confusion_matrix(y_test, y_pred_v2)\n",
    "plt.figure(figsize=(6, 4))\n",
    "sns.heatmap(cm_v2, annot=True, fmt='d', cmap='Blues', \n",
    "            xticklabels=['Real (0)', 'Fake (1)'], \n",
    "            yticklabels=['Real (0)', 'Fake (1)'])\n",
    "plt.xlabel('Predicted')\n",
    "plt.ylabel('Actual')\n",
    "plt.title('Confusion Matrix for Model v2')\n",
    "plt.show()"
   ]
  },
  {
   "cell_type": "code",
   "execution_count": 39,
   "id": "a52b908c",
   "metadata": {},
   "outputs": [
    {
     "name": "stdout",
     "output_type": "stream",
     "text": [
      "\n",
      "New Model (v2) Classification Report:\n",
      "              precision    recall  f1-score   support\n",
      "\n",
      "    Real (0)       0.99      0.99      0.99      4283\n",
      "    Fake (1)       0.99      0.99      0.99      4569\n",
      "\n",
      "    accuracy                           0.99      8852\n",
      "   macro avg       0.99      0.99      0.99      8852\n",
      "weighted avg       0.99      0.99      0.99      8852\n",
      "\n"
     ]
    }
   ],
   "source": [
    "print(\"\\nNew Model (v2) Classification Report:\")\n",
    "print(classification_report(y_test, y_pred_v2, target_names=['Real (0)', 'Fake (1)']))"
   ]
  },
  {
   "cell_type": "code",
   "execution_count": null,
   "id": "d5d49064",
   "metadata": {},
   "outputs": [],
   "source": [
    "def predict_full_article(title, text):\n",
    "    \"\"\"\n",
    "    Takes a raw title and article text, processes them, \n",
    "    and predicts if the article is real or fake using the v2 model.\n",
    "    \"\"\"\n",
    "    # 1. Pre-process both inputs\n",
    "    processed_title = preprocess_text(title)\n",
    "    processed_text = preprocess_text(text)\n",
    "    \n",
    "    # 2. Vectorize each part using the corresponding FITTED vectorizer\n",
    "    title_vec = title_vectorizer.transform([processed_title])\n",
    "    text_vec = text_vectorizer.transform([processed_text])\n",
    "    \n",
    "    # 3. Combine the vectors\n",
    "    full_vec = hstack([title_vec, text_vec])\n",
    "    \n",
    "    # 4. Make a prediction\n",
    "    prediction = model_v2.predict(full_vec)\n",
    "    \n",
    "    # 5. Get the prediction probability\n",
    "    prediction_proba = model_v2.predict_proba(full_vec)\n",
    "    \n",
    "    # 6. Interpret the results\n",
    "    if prediction[0] == 0:\n",
    "        label = \"This looks like a REAL news article.\"\n",
    "        confidence = prediction_proba[0][0]\n",
    "    else:\n",
    "        label = \"This looks like a FAKE news article.\"\n",
    "        confidence = prediction_proba[0][1]\n",
    "        \n",
    "    print(f\"Prediction: {label}\")\n",
    "    print(f\"Confidence: {confidence * 100:.2f}%\")"
   ]
  },
  {
   "cell_type": "code",
   "execution_count": null,
   "id": "c1b7f81c",
   "metadata": {},
   "outputs": [
    {
     "name": "stdout",
     "output_type": "stream",
     "text": [
      "Testing article:\n",
      "- Title: Trump signs 'big, beautiful' bill in sweeping victory for second term agenda, overcoming Dems and GOP rebels\n",
      "- Text: \n",
      "WASHINGTON (Reuters) - President Donald Trump on Friday signed into law a comprehensive legislative...\n",
      "------------------------------\n",
      "Prediction: This looks like a REAL news article.\n",
      "Confidence: 84.37%\n"
     ]
    }
   ],
   "source": [
    "test_title = \"Trump signs 'big, beautiful' bill in sweeping victory for second term agenda, overcoming Dems and GOP rebels\"\n",
    "\n",
    "test_text = \"\"\"\n",
    "WASHINGTON (Reuters) - President Donald Trump on Friday signed into law a comprehensive legislative package \n",
    "that overhauls the nation's tax code, marking a significant victory for his administration. \n",
    "The bill, passed by both the House and Senate earlier this week, delivers substantial tax cuts \n",
    "to corporations and individuals. The final vote was largely along party lines, with several \n",
    "moderate Republicans joining Democrats in opposition before the measure ultimately passed.\n",
    "\"\"\"\n",
    "\n",
    "print(f\"Testing article:\\n- Title: {test_title}\\n- Text: {test_text[:100]}...\") # Print first 100 chars of text\n",
    "print(\"-\" * 30)\n",
    "predict_full_article(test_title, test_text)"
   ]
  },
  {
   "cell_type": "code",
   "execution_count": 42,
   "id": "2e75176f",
   "metadata": {},
   "outputs": [
    {
     "name": "stdout",
     "output_type": "stream",
     "text": [
      "Prediction: This looks like a FAKE news article.\n",
      "Confidence: 63.22%\n"
     ]
    }
   ],
   "source": [
    "n_title = \"Mysterious 'Quantum Crystal' Discovered in Arctic Ice, Promises Unlimited Energy\"\n",
    "\n",
    "n_text = \"In a groundbreaking discovery that could reshape global energy markets, a team of Norwegian scientists has unearthed a previously unknown crystalline structure deep within the Arctic ice sheets. Dubbed the 'Quantum Crystal' by researchers at the University of Oslo, this luminescent material is said to generate energy through a process that defies conventional physics, potentially offering a limitless, clean power source.\"\n",
    "\n",
    "predict_full_article(n_title, n_text)"
   ]
  }
 ],
 "metadata": {
  "kernelspec": {
   "display_name": "base",
   "language": "python",
   "name": "python3"
  },
  "language_info": {
   "codemirror_mode": {
    "name": "ipython",
    "version": 3
   },
   "file_extension": ".py",
   "mimetype": "text/x-python",
   "name": "python",
   "nbconvert_exporter": "python",
   "pygments_lexer": "ipython3",
   "version": "3.12.3"
  }
 },
 "nbformat": 4,
 "nbformat_minor": 5
}
